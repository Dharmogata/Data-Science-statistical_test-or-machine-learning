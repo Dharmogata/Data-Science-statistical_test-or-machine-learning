{
 "cells": [
  {
   "cell_type": "code",
   "execution_count": 1,
   "metadata": {
    "collapsed": true
   },
   "outputs": [],
   "source": [
    "import pandas\n",
    "import numpy"
   ]
  },
  {
   "cell_type": "code",
   "execution_count": 2,
   "metadata": {
    "collapsed": false
   },
   "outputs": [
    {
     "data": {
      "text/plain": [
       "u'C:\\\\Users\\\\suh0902'"
      ]
     },
     "execution_count": 2,
     "metadata": {},
     "output_type": "execute_result"
    }
   ],
   "source": [
    "pwd\n"
   ]
  },
  {
   "cell_type": "code",
   "execution_count": 3,
   "metadata": {
    "collapsed": true
   },
   "outputs": [],
   "source": [
    "import os"
   ]
  },
  {
   "cell_type": "code",
   "execution_count": 4,
   "metadata": {
    "collapsed": false
   },
   "outputs": [
    {
     "data": {
      "text/plain": [
       "'C:\\\\Users\\\\suh0902'"
      ]
     },
     "execution_count": 4,
     "metadata": {},
     "output_type": "execute_result"
    }
   ],
   "source": [
    "os.getcwd()"
   ]
  },
  {
   "cell_type": "code",
   "execution_count": 5,
   "metadata": {
    "collapsed": true
   },
   "outputs": [],
   "source": [
    "os.chdir('C:\\Users\\suh0902\\Desktop\\CP\\dataset')"
   ]
  },
  {
   "cell_type": "code",
   "execution_count": 6,
   "metadata": {
    "collapsed": false
   },
   "outputs": [
    {
     "data": {
      "text/plain": [
       "u'C:\\\\Users\\\\suh0902\\\\Desktop\\\\CP\\\\dataset'"
      ]
     },
     "execution_count": 6,
     "metadata": {},
     "output_type": "execute_result"
    }
   ],
   "source": [
    "pwd\n"
   ]
  },
  {
   "cell_type": "code",
   "execution_count": 7,
   "metadata": {
    "collapsed": false
   },
   "outputs": [],
   "source": [
    "data = pandas.read_csv('nesarc_pds.csv', low_memory=False)"
   ]
  },
  {
   "cell_type": "code",
   "execution_count": 9,
   "metadata": {
    "collapsed": false
   },
   "outputs": [
    {
     "data": {
      "text/html": [
       "<div>\n",
       "<table border=\"1\" class=\"dataframe\">\n",
       "  <thead>\n",
       "    <tr style=\"text-align: right;\">\n",
       "      <th></th>\n",
       "      <th>ETHRACE2A</th>\n",
       "      <th>ETOTLCA2</th>\n",
       "      <th>IDNUM</th>\n",
       "      <th>PSU</th>\n",
       "      <th>STRATUM</th>\n",
       "      <th>WEIGHT</th>\n",
       "      <th>CDAY</th>\n",
       "      <th>CMON</th>\n",
       "      <th>CYEAR</th>\n",
       "      <th>REGION</th>\n",
       "      <th>...</th>\n",
       "      <th>SOL12ABDEP</th>\n",
       "      <th>SOLP12ABDEP</th>\n",
       "      <th>HAL12ABDEP</th>\n",
       "      <th>HALP12ABDEP</th>\n",
       "      <th>MAR12ABDEP</th>\n",
       "      <th>MARP12ABDEP</th>\n",
       "      <th>HER12ABDEP</th>\n",
       "      <th>HERP12ABDEP</th>\n",
       "      <th>OTHB12ABDEP</th>\n",
       "      <th>OTHBP12ABDEP</th>\n",
       "    </tr>\n",
       "  </thead>\n",
       "  <tbody>\n",
       "    <tr>\n",
       "      <th>0</th>\n",
       "      <td>5</td>\n",
       "      <td></td>\n",
       "      <td>1</td>\n",
       "      <td>4007</td>\n",
       "      <td>403</td>\n",
       "      <td>3928.613505</td>\n",
       "      <td>14</td>\n",
       "      <td>8</td>\n",
       "      <td>2001</td>\n",
       "      <td>4</td>\n",
       "      <td>...</td>\n",
       "      <td>0</td>\n",
       "      <td>0</td>\n",
       "      <td>0</td>\n",
       "      <td>0</td>\n",
       "      <td>0</td>\n",
       "      <td>0</td>\n",
       "      <td>0</td>\n",
       "      <td>0</td>\n",
       "      <td>0</td>\n",
       "      <td>0</td>\n",
       "    </tr>\n",
       "    <tr>\n",
       "      <th>1</th>\n",
       "      <td>5</td>\n",
       "      <td>0.0014</td>\n",
       "      <td>2</td>\n",
       "      <td>6045</td>\n",
       "      <td>604</td>\n",
       "      <td>3638.691845</td>\n",
       "      <td>12</td>\n",
       "      <td>1</td>\n",
       "      <td>2002</td>\n",
       "      <td>4</td>\n",
       "      <td>...</td>\n",
       "      <td>0</td>\n",
       "      <td>0</td>\n",
       "      <td>0</td>\n",
       "      <td>0</td>\n",
       "      <td>0</td>\n",
       "      <td>0</td>\n",
       "      <td>0</td>\n",
       "      <td>0</td>\n",
       "      <td>0</td>\n",
       "      <td>0</td>\n",
       "    </tr>\n",
       "    <tr>\n",
       "      <th>2</th>\n",
       "      <td>5</td>\n",
       "      <td></td>\n",
       "      <td>3</td>\n",
       "      <td>12042</td>\n",
       "      <td>1218</td>\n",
       "      <td>5779.032025</td>\n",
       "      <td>23</td>\n",
       "      <td>11</td>\n",
       "      <td>2001</td>\n",
       "      <td>3</td>\n",
       "      <td>...</td>\n",
       "      <td>0</td>\n",
       "      <td>0</td>\n",
       "      <td>0</td>\n",
       "      <td>0</td>\n",
       "      <td>0</td>\n",
       "      <td>0</td>\n",
       "      <td>0</td>\n",
       "      <td>0</td>\n",
       "      <td>0</td>\n",
       "      <td>0</td>\n",
       "    </tr>\n",
       "    <tr>\n",
       "      <th>3</th>\n",
       "      <td>5</td>\n",
       "      <td></td>\n",
       "      <td>4</td>\n",
       "      <td>17099</td>\n",
       "      <td>1704</td>\n",
       "      <td>1071.754303</td>\n",
       "      <td>9</td>\n",
       "      <td>9</td>\n",
       "      <td>2001</td>\n",
       "      <td>2</td>\n",
       "      <td>...</td>\n",
       "      <td>0</td>\n",
       "      <td>0</td>\n",
       "      <td>0</td>\n",
       "      <td>0</td>\n",
       "      <td>0</td>\n",
       "      <td>0</td>\n",
       "      <td>0</td>\n",
       "      <td>0</td>\n",
       "      <td>0</td>\n",
       "      <td>0</td>\n",
       "    </tr>\n",
       "    <tr>\n",
       "      <th>4</th>\n",
       "      <td>2</td>\n",
       "      <td></td>\n",
       "      <td>5</td>\n",
       "      <td>17099</td>\n",
       "      <td>1704</td>\n",
       "      <td>4986.952377</td>\n",
       "      <td>18</td>\n",
       "      <td>10</td>\n",
       "      <td>2001</td>\n",
       "      <td>2</td>\n",
       "      <td>...</td>\n",
       "      <td>0</td>\n",
       "      <td>0</td>\n",
       "      <td>0</td>\n",
       "      <td>0</td>\n",
       "      <td>0</td>\n",
       "      <td>0</td>\n",
       "      <td>0</td>\n",
       "      <td>0</td>\n",
       "      <td>0</td>\n",
       "      <td>0</td>\n",
       "    </tr>\n",
       "  </tbody>\n",
       "</table>\n",
       "<p>5 rows × 3008 columns</p>\n",
       "</div>"
      ],
      "text/plain": [
       "   ETHRACE2A ETOTLCA2  IDNUM    PSU  STRATUM       WEIGHT  CDAY  CMON  CYEAR  \\\n",
       "0          5               1   4007      403  3928.613505    14     8   2001   \n",
       "1          5   0.0014      2   6045      604  3638.691845    12     1   2002   \n",
       "2          5               3  12042     1218  5779.032025    23    11   2001   \n",
       "3          5               4  17099     1704  1071.754303     9     9   2001   \n",
       "4          2               5  17099     1704  4986.952377    18    10   2001   \n",
       "\n",
       "   REGION      ...       SOL12ABDEP  SOLP12ABDEP  HAL12ABDEP  HALP12ABDEP  \\\n",
       "0       4      ...                0            0           0            0   \n",
       "1       4      ...                0            0           0            0   \n",
       "2       3      ...                0            0           0            0   \n",
       "3       2      ...                0            0           0            0   \n",
       "4       2      ...                0            0           0            0   \n",
       "\n",
       "   MAR12ABDEP  MARP12ABDEP  HER12ABDEP  HERP12ABDEP  OTHB12ABDEP  OTHBP12ABDEP  \n",
       "0           0            0           0            0            0             0  \n",
       "1           0            0           0            0            0             0  \n",
       "2           0            0           0            0            0             0  \n",
       "3           0            0           0            0            0             0  \n",
       "4           0            0           0            0            0             0  \n",
       "\n",
       "[5 rows x 3008 columns]"
      ]
     },
     "execution_count": 9,
     "metadata": {},
     "output_type": "execute_result"
    }
   ],
   "source": [
    "data.head()\n"
   ]
  },
  {
   "cell_type": "code",
   "execution_count": 10,
   "metadata": {
    "collapsed": false
   },
   "outputs": [
    {
     "name": "stdout",
     "output_type": "stream",
     "text": [
      "3008\n"
     ]
    }
   ],
   "source": [
    "print (len(data.columns))"
   ]
  },
  {
   "cell_type": "code",
   "execution_count": 11,
   "metadata": {
    "collapsed": false
   },
   "outputs": [
    {
     "name": "stdout",
     "output_type": "stream",
     "text": [
      "   ETHRACE2A ETOTLCA2  IDNUM    PSU  STRATUM       WEIGHT  CDAY  CMON  CYEAR  \\\n",
      "0          5               1   4007      403  3928.613505    14     8   2001   \n",
      "1          5   0.0014      2   6045      604  3638.691845    12     1   2002   \n",
      "2          5               3  12042     1218  5779.032025    23    11   2001   \n",
      "3          5               4  17099     1704  1071.754303     9     9   2001   \n",
      "4          2               5  17099     1704  4986.952377    18    10   2001   \n",
      "5          2   0.0021      6  17099     1704  2596.886503     7     9   2001   \n",
      "6          2   0.0033      7  17099     1704  3303.735140     1     9   2001   \n",
      "7          1   0.0271      8  41097     4107  3598.027143    18     9   2001   \n",
      "8          1   0.0295      9  45098     4503  3897.065911     9     1   2002   \n",
      "9          5   0.1565     10   4013      404  3008.554718    16     8   2001   \n",
      "\n",
      "   REGION      ...       SOL12ABDEP  SOLP12ABDEP  HAL12ABDEP  HALP12ABDEP  \\\n",
      "0       4      ...                0            0           0            0   \n",
      "1       4      ...                0            0           0            0   \n",
      "2       3      ...                0            0           0            0   \n",
      "3       2      ...                0            0           0            0   \n",
      "4       2      ...                0            0           0            0   \n",
      "5       2      ...                0            0           0            0   \n",
      "6       2      ...                0            0           0            0   \n",
      "7       4      ...                0            0           0            0   \n",
      "8       3      ...                0            0           0            0   \n",
      "9       4      ...                0            0           0            0   \n",
      "\n",
      "   MAR12ABDEP  MARP12ABDEP  HER12ABDEP  HERP12ABDEP  OTHB12ABDEP  OTHBP12ABDEP  \n",
      "0           0            0           0            0            0             0  \n",
      "1           0            0           0            0            0             0  \n",
      "2           0            0           0            0            0             0  \n",
      "3           0            0           0            0            0             0  \n",
      "4           0            0           0            0            0             0  \n",
      "5           0            0           0            0            0             0  \n",
      "6           0            0           0            0            0             0  \n",
      "7           0            0           0            0            0             0  \n",
      "8           0            0           0            0            0             0  \n",
      "9           1            0           0            0            0             0  \n",
      "\n",
      "[10 rows x 3008 columns]\n"
     ]
    }
   ],
   "source": [
    "print data[:10]"
   ]
  },
  {
   "cell_type": "code",
   "execution_count": 12,
   "metadata": {
    "collapsed": false
   },
   "outputs": [
    {
     "name": "stdout",
     "output_type": "stream",
     "text": [
      "0        0\n",
      "1        0\n",
      "2        0\n",
      "3        0\n",
      "4        0\n",
      "5        0\n",
      "6        0\n",
      "7        0\n",
      "8        0\n",
      "9        0\n",
      "10       1\n",
      "11       0\n",
      "12       0\n",
      "13       0\n",
      "14       1\n",
      "15       0\n",
      "16       0\n",
      "17       1\n",
      "18       0\n",
      "19       0\n",
      "20       1\n",
      "21       0\n",
      "22       1\n",
      "23       0\n",
      "24       0\n",
      "25       0\n",
      "26       0\n",
      "27       0\n",
      "28       0\n",
      "29       0\n",
      "        ..\n",
      "43063    0\n",
      "43064    0\n",
      "43065    0\n",
      "43066    0\n",
      "43067    0\n",
      "43068    0\n",
      "43069    0\n",
      "43070    0\n",
      "43071    0\n",
      "43072    0\n",
      "43073    0\n",
      "43074    0\n",
      "43075    0\n",
      "43076    0\n",
      "43077    0\n",
      "43078    0\n",
      "43079    0\n",
      "43080    0\n",
      "43081    0\n",
      "43082    0\n",
      "43083    0\n",
      "43084    0\n",
      "43085    0\n",
      "43086    0\n",
      "43087    0\n",
      "43088    0\n",
      "43089    0\n",
      "43090    1\n",
      "43091    1\n",
      "43092    0\n",
      "Name: TAB12MDX, dtype: int64\n"
     ]
    }
   ],
   "source": [
    "print data['TAB12MDX']"
   ]
  },
  {
   "cell_type": "code",
   "execution_count": 13,
   "metadata": {
    "collapsed": false
   },
   "outputs": [
    {
     "data": {
      "text/plain": [
       "0        23\n",
       "1        28\n",
       "2        81\n",
       "3        18\n",
       "4        36\n",
       "5        34\n",
       "6        19\n",
       "7        84\n",
       "8        29\n",
       "9        18\n",
       "10       68\n",
       "11       48\n",
       "12       31\n",
       "13       55\n",
       "14       54\n",
       "15       51\n",
       "16       38\n",
       "17       40\n",
       "18       54\n",
       "19       21\n",
       "20       25\n",
       "21       22\n",
       "22       77\n",
       "23       34\n",
       "24       36\n",
       "25       41\n",
       "26       31\n",
       "27       33\n",
       "28       37\n",
       "29       57\n",
       "         ..\n",
       "43063    31\n",
       "43064    65\n",
       "43065    36\n",
       "43066    24\n",
       "43067    24\n",
       "43068    18\n",
       "43069    46\n",
       "43070    88\n",
       "43071    52\n",
       "43072    37\n",
       "43073    91\n",
       "43074    18\n",
       "43075    19\n",
       "43076    21\n",
       "43077    18\n",
       "43078    19\n",
       "43079    18\n",
       "43080    18\n",
       "43081    18\n",
       "43082    37\n",
       "43083    34\n",
       "43084    21\n",
       "43085    51\n",
       "43086    21\n",
       "43087    18\n",
       "43088    18\n",
       "43089    19\n",
       "43090    18\n",
       "43091    29\n",
       "43092    18\n",
       "Name: AGE, dtype: int64"
      ]
     },
     "execution_count": 13,
     "metadata": {},
     "output_type": "execute_result"
    }
   ],
   "source": [
    "data['AGE']"
   ]
  },
  {
   "cell_type": "code",
   "execution_count": 14,
   "metadata": {
    "collapsed": false
   },
   "outputs": [],
   "source": [
    "data['AGE']=data['AGE'].convert_objects(convert_numeric=True)"
   ]
  },
  {
   "cell_type": "code",
   "execution_count": 15,
   "metadata": {
    "collapsed": false
   },
   "outputs": [
    {
     "data": {
      "text/plain": [
       "0        23\n",
       "1        28\n",
       "2        81\n",
       "3        18\n",
       "4        36\n",
       "5        34\n",
       "6        19\n",
       "7        84\n",
       "8        29\n",
       "9        18\n",
       "10       68\n",
       "11       48\n",
       "12       31\n",
       "13       55\n",
       "14       54\n",
       "15       51\n",
       "16       38\n",
       "17       40\n",
       "18       54\n",
       "19       21\n",
       "20       25\n",
       "21       22\n",
       "22       77\n",
       "23       34\n",
       "24       36\n",
       "25       41\n",
       "26       31\n",
       "27       33\n",
       "28       37\n",
       "29       57\n",
       "         ..\n",
       "43063    31\n",
       "43064    65\n",
       "43065    36\n",
       "43066    24\n",
       "43067    24\n",
       "43068    18\n",
       "43069    46\n",
       "43070    88\n",
       "43071    52\n",
       "43072    37\n",
       "43073    91\n",
       "43074    18\n",
       "43075    19\n",
       "43076    21\n",
       "43077    18\n",
       "43078    19\n",
       "43079    18\n",
       "43080    18\n",
       "43081    18\n",
       "43082    37\n",
       "43083    34\n",
       "43084    21\n",
       "43085    51\n",
       "43086    21\n",
       "43087    18\n",
       "43088    18\n",
       "43089    19\n",
       "43090    18\n",
       "43091    29\n",
       "43092    18\n",
       "Name: AGE, dtype: int64"
      ]
     },
     "execution_count": 15,
     "metadata": {},
     "output_type": "execute_result"
    }
   ],
   "source": [
    "data['AGE']"
   ]
  },
  {
   "cell_type": "code",
   "execution_count": 16,
   "metadata": {
    "collapsed": false
   },
   "outputs": [],
   "source": [
    "data['TAB12MDX'] = data['TAB12MDX'].convert_objects(convert_numeric=True)\n",
    "data['CHECK321'] = data['CHECK321'].convert_objects(convert_numeric=True)\n",
    "data['S3AQ3B1'] = data['S3AQ3B1'].convert_objects(convert_numeric=True)\n",
    "data['S3AQ3C1'] = data['S3AQ3C1'].convert_objects(convert_numeric=True)\n",
    "data['AGE'] = data['AGE'].convert_objects(convert_numeric=True)\n"
   ]
  },
  {
   "cell_type": "code",
   "execution_count": 17,
   "metadata": {
    "collapsed": false
   },
   "outputs": [
    {
     "name": "stdout",
     "output_type": "stream",
     "text": [
      "0    38131\n",
      "1     4962\n",
      "dtype: int64\n"
     ]
    }
   ],
   "source": [
    "c1 = data['TAB12MDX'].value_counts(sort=False)\n",
    "print c1"
   ]
  },
  {
   "cell_type": "code",
   "execution_count": 18,
   "metadata": {
    "collapsed": false
   },
   "outputs": [],
   "source": [
    "p1 = data['TAB12MDX'].value_counts(sort=False, normalize=True)"
   ]
  },
  {
   "cell_type": "code",
   "execution_count": 19,
   "metadata": {
    "collapsed": false
   },
   "outputs": [
    {
     "name": "stdout",
     "output_type": "stream",
     "text": [
      "0    0.884854\n",
      "1    0.115146\n",
      "dtype: float64\n"
     ]
    }
   ],
   "source": [
    "print (p1)"
   ]
  },
  {
   "cell_type": "code",
   "execution_count": 20,
   "metadata": {
    "collapsed": false
   },
   "outputs": [
    {
     "data": {
      "text/plain": [
       "0        0\n",
       "1        0\n",
       "2        0\n",
       "3        0\n",
       "4        0\n",
       "5        0\n",
       "6        0\n",
       "7        0\n",
       "8        0\n",
       "9        0\n",
       "10       1\n",
       "11       0\n",
       "12       0\n",
       "13       0\n",
       "14       1\n",
       "15       0\n",
       "16       0\n",
       "17       1\n",
       "18       0\n",
       "19       0\n",
       "20       1\n",
       "21       0\n",
       "22       1\n",
       "23       0\n",
       "24       0\n",
       "25       0\n",
       "26       0\n",
       "27       0\n",
       "28       0\n",
       "29       0\n",
       "        ..\n",
       "43063    0\n",
       "43064    0\n",
       "43065    0\n",
       "43066    0\n",
       "43067    0\n",
       "43068    0\n",
       "43069    0\n",
       "43070    0\n",
       "43071    0\n",
       "43072    0\n",
       "43073    0\n",
       "43074    0\n",
       "43075    0\n",
       "43076    0\n",
       "43077    0\n",
       "43078    0\n",
       "43079    0\n",
       "43080    0\n",
       "43081    0\n",
       "43082    0\n",
       "43083    0\n",
       "43084    0\n",
       "43085    0\n",
       "43086    0\n",
       "43087    0\n",
       "43088    0\n",
       "43089    0\n",
       "43090    1\n",
       "43091    1\n",
       "43092    0\n",
       "Name: TAB12MDX, dtype: int64"
      ]
     },
     "execution_count": 20,
     "metadata": {},
     "output_type": "execute_result"
    }
   ],
   "source": [
    "data['TAB12MDX']\n"
   ]
  },
  {
   "cell_type": "code",
   "execution_count": 21,
   "metadata": {
    "collapsed": false
   },
   "outputs": [],
   "source": [
    "sub1 = data[(data['AGE']>=18) & (data['AGE']<=25)&(data['CHECK321']==1)]"
   ]
  },
  {
   "cell_type": "code",
   "execution_count": 22,
   "metadata": {
    "collapsed": false
   },
   "outputs": [],
   "source": [
    "sub2 = sub1.copy()"
   ]
  },
  {
   "cell_type": "code",
   "execution_count": 23,
   "metadata": {
    "collapsed": false
   },
   "outputs": [
    {
     "name": "stdout",
     "output_type": "stream",
     "text": [
      "counts for original S3AQ3B1\n",
      "1    1320\n",
      "2      68\n",
      "3      91\n",
      "4      88\n",
      "5      65\n",
      "6      71\n",
      "9       3\n",
      "dtype: int64\n"
     ]
    }
   ],
   "source": [
    "print('counts for original S3AQ3B1')\n",
    "c1 = sub2['S3AQ3B1'].value_counts(sort=False)\n",
    "print(c1)"
   ]
  },
  {
   "cell_type": "code",
   "execution_count": 24,
   "metadata": {
    "collapsed": false
   },
   "outputs": [],
   "source": [
    "sub2['S3AQ3B1'] = sub2['S3AQ3B1'].replace(9, numpy.nan)"
   ]
  },
  {
   "cell_type": "code",
   "execution_count": 25,
   "metadata": {
    "collapsed": false
   },
   "outputs": [
    {
     "data": {
      "text/plain": [
       "0       NaN\n",
       "1       NaN\n",
       "2       NaN\n",
       "3       NaN\n",
       "4       NaN\n",
       "5       NaN\n",
       "6       NaN\n",
       "7       NaN\n",
       "8       NaN\n",
       "9       NaN\n",
       "10       20\n",
       "11        5\n",
       "12      NaN\n",
       "13       20\n",
       "14       20\n",
       "15      NaN\n",
       "16        2\n",
       "17       20\n",
       "18       10\n",
       "19      NaN\n",
       "20        3\n",
       "21      NaN\n",
       "22       99\n",
       "23      NaN\n",
       "24      NaN\n",
       "25      NaN\n",
       "26      NaN\n",
       "27      NaN\n",
       "28      NaN\n",
       "29      NaN\n",
       "         ..\n",
       "43063   NaN\n",
       "43064   NaN\n",
       "43065   NaN\n",
       "43066   NaN\n",
       "43067   NaN\n",
       "43068   NaN\n",
       "43069   NaN\n",
       "43070    10\n",
       "43071   NaN\n",
       "43072   NaN\n",
       "43073    20\n",
       "43074   NaN\n",
       "43075   NaN\n",
       "43076   NaN\n",
       "43077   NaN\n",
       "43078   NaN\n",
       "43079   NaN\n",
       "43080   NaN\n",
       "43081   NaN\n",
       "43082   NaN\n",
       "43083    20\n",
       "43084   NaN\n",
       "43085   NaN\n",
       "43086   NaN\n",
       "43087     5\n",
       "43088   NaN\n",
       "43089   NaN\n",
       "43090     3\n",
       "43091    20\n",
       "43092   NaN\n",
       "Name: S3AQ3C1, dtype: float64"
      ]
     },
     "execution_count": 25,
     "metadata": {},
     "output_type": "execute_result"
    }
   ],
   "source": [
    "data['S3AQ3C1']"
   ]
  },
  {
   "cell_type": "code",
   "execution_count": 26,
   "metadata": {
    "collapsed": true
   },
   "outputs": [],
   "source": [
    "c2=data['S3AQ3C1'].value_counts(sort=False)"
   ]
  },
  {
   "cell_type": "code",
   "execution_count": 27,
   "metadata": {
    "collapsed": false
   },
   "outputs": [
    {
     "data": {
      "text/plain": [
       "1      934\n",
       "2      884\n",
       "3      923\n",
       "4      573\n",
       "5     1070\n",
       "6      463\n",
       "7      269\n",
       "8      299\n",
       "9       49\n",
       "10    3077\n",
       "11      23\n",
       "12     230\n",
       "13      34\n",
       "14      25\n",
       "15     851\n",
       "16      40\n",
       "17      22\n",
       "18      59\n",
       "19       5\n",
       "20    5366\n",
       "21       1\n",
       "22      10\n",
       "23       2\n",
       "24       7\n",
       "25     155\n",
       "27       2\n",
       "28       3\n",
       "29       3\n",
       "30     909\n",
       "33       1\n",
       "34       1\n",
       "35      30\n",
       "37       2\n",
       "39       1\n",
       "40     993\n",
       "45       8\n",
       "50     106\n",
       "55       2\n",
       "57       1\n",
       "60     241\n",
       "66       1\n",
       "70      12\n",
       "75       2\n",
       "80      47\n",
       "98      15\n",
       "99     262\n",
       "dtype: int64"
      ]
     },
     "execution_count": 27,
     "metadata": {},
     "output_type": "execute_result"
    }
   ],
   "source": [
    "c2"
   ]
  },
  {
   "cell_type": "code",
   "execution_count": 28,
   "metadata": {
    "collapsed": false
   },
   "outputs": [
    {
     "data": {
      "text/plain": [
       "20       1\n",
       "76       2\n",
       "102      1\n",
       "121      1\n",
       "135      1\n",
       "149      1\n",
       "154      1\n",
       "173      1\n",
       "177      1\n",
       "183      1\n",
       "187      4\n",
       "209      1\n",
       "219      3\n",
       "222      1\n",
       "278      1\n",
       "336      1\n",
       "363      1\n",
       "398      2\n",
       "412      1\n",
       "417      1\n",
       "508      1\n",
       "511      5\n",
       "519      1\n",
       "522      1\n",
       "529      1\n",
       "539      1\n",
       "541      1\n",
       "628      1\n",
       "681      4\n",
       "712      5\n",
       "        ..\n",
       "42365    1\n",
       "42367    6\n",
       "42372    1\n",
       "42399    6\n",
       "42410    5\n",
       "42420    1\n",
       "42427    6\n",
       "42429    1\n",
       "42432    3\n",
       "42440    1\n",
       "42447    1\n",
       "42484    1\n",
       "42563    1\n",
       "42574    1\n",
       "42627    1\n",
       "42630    4\n",
       "42642    1\n",
       "42644    1\n",
       "42676    1\n",
       "42732    1\n",
       "42734    1\n",
       "42753    1\n",
       "42778    1\n",
       "42784    1\n",
       "42850    1\n",
       "42940    1\n",
       "42989    4\n",
       "42997    1\n",
       "43087    1\n",
       "43090    6\n",
       "Name: S3AQ3B1, dtype: float64"
      ]
     },
     "execution_count": 28,
     "metadata": {},
     "output_type": "execute_result"
    }
   ],
   "source": [
    "sub2['S3AQ3B1']"
   ]
  },
  {
   "cell_type": "code",
   "execution_count": 29,
   "metadata": {
    "collapsed": false
   },
   "outputs": [
    {
     "name": "stdout",
     "output_type": "stream",
     "text": [
      "counts for original S3AQ3B1\n",
      "1    1320\n",
      "2      68\n",
      "3      91\n",
      "4      88\n",
      "5      65\n",
      "6      71\n",
      "dtype: int64\n"
     ]
    }
   ],
   "source": [
    "print('counts for original S3AQ3B1')\n",
    "c1 = sub2['S3AQ3B1'].value_counts(sort=False)\n",
    "print(c1)"
   ]
  },
  {
   "cell_type": "code",
   "execution_count": 30,
   "metadata": {
    "collapsed": true
   },
   "outputs": [],
   "source": [
    "data.loc[(data['S2AQ3']!=9) &(data['S2AQ8A'].isnull()), 'S2AQ8A']=11"
   ]
  },
  {
   "cell_type": "code",
   "execution_count": 31,
   "metadata": {
    "collapsed": true
   },
   "outputs": [],
   "source": [
    "recode1 = {1:6, 2:5, 3:4, 4:3, 5:2, 6:1}\n",
    "sub2['USFRQ']= sub2['S3AQ3B1'].map(recode1)"
   ]
  },
  {
   "cell_type": "code",
   "execution_count": 32,
   "metadata": {
    "collapsed": true
   },
   "outputs": [],
   "source": [
    "import statsmodels.formula.api as smf\n",
    "import statsmodels.stats.multicomp as multi"
   ]
  },
  {
   "cell_type": "markdown",
   "metadata": {},
   "source": [
    "## Setting variables you will be working with to numeric"
   ]
  },
  {
   "cell_type": "code",
   "execution_count": 33,
   "metadata": {
    "collapsed": false
   },
   "outputs": [
    {
     "data": {
      "text/plain": [
       "0       NaN\n",
       "1       NaN\n",
       "2       NaN\n",
       "3       NaN\n",
       "4       NaN\n",
       "5       NaN\n",
       "6       NaN\n",
       "7       NaN\n",
       "8       NaN\n",
       "9       NaN\n",
       "10        1\n",
       "11        1\n",
       "12      NaN\n",
       "13        1\n",
       "14        1\n",
       "15      NaN\n",
       "16        5\n",
       "17        1\n",
       "18        1\n",
       "19      NaN\n",
       "20        1\n",
       "21      NaN\n",
       "22        1\n",
       "23      NaN\n",
       "24      NaN\n",
       "25      NaN\n",
       "26      NaN\n",
       "27      NaN\n",
       "28      NaN\n",
       "29      NaN\n",
       "         ..\n",
       "43063   NaN\n",
       "43064   NaN\n",
       "43065   NaN\n",
       "43066   NaN\n",
       "43067   NaN\n",
       "43068   NaN\n",
       "43069   NaN\n",
       "43070     1\n",
       "43071   NaN\n",
       "43072   NaN\n",
       "43073     1\n",
       "43074   NaN\n",
       "43075   NaN\n",
       "43076   NaN\n",
       "43077   NaN\n",
       "43078   NaN\n",
       "43079   NaN\n",
       "43080   NaN\n",
       "43081   NaN\n",
       "43082   NaN\n",
       "43083     1\n",
       "43084   NaN\n",
       "43085   NaN\n",
       "43086   NaN\n",
       "43087     1\n",
       "43088   NaN\n",
       "43089   NaN\n",
       "43090     6\n",
       "43091     1\n",
       "43092   NaN\n",
       "Name: S3AQ3B1, dtype: float64"
      ]
     },
     "execution_count": 33,
     "metadata": {},
     "output_type": "execute_result"
    }
   ],
   "source": [
    "data['S3AQ3B1']"
   ]
  },
  {
   "cell_type": "code",
   "execution_count": 36,
   "metadata": {
    "collapsed": true
   },
   "outputs": [],
   "source": [
    "data['S3AQ3B1']= data['S3AQ3B1'].convert_objects(convert_numeric=True)\n",
    "data['S3AQ3C1'] = data['S3AQ3C1'].convert_objects(convert_numeric=True)\n",
    "data['CHECK321'] = data['CHECK321'].convert_objects(convert_numeric=True)"
   ]
  },
  {
   "cell_type": "markdown",
   "metadata": {},
   "source": [
    "## Subset data to young adults age 18 to 25 who have smoked in the past 12 months\n"
   ]
  },
  {
   "cell_type": "code",
   "execution_count": 40,
   "metadata": {
    "collapsed": false
   },
   "outputs": [],
   "source": [
    "sub1=data[(data['AGE']>=18) & (data['AGE']<=25) & (data['CHECK321']==1)]"
   ]
  },
  {
   "cell_type": "markdown",
   "metadata": {},
   "source": [
    "## Setting missing data"
   ]
  },
  {
   "cell_type": "code",
   "execution_count": 41,
   "metadata": {
    "collapsed": false
   },
   "outputs": [
    {
     "name": "stderr",
     "output_type": "stream",
     "text": [
      "C:\\Users\\suh0902\\Anaconda\\lib\\site-packages\\ipykernel\\__main__.py:1: SettingWithCopyWarning: \n",
      "A value is trying to be set on a copy of a slice from a DataFrame.\n",
      "Try using .loc[row_indexer,col_indexer] = value instead\n",
      "\n",
      "See the the caveats in the documentation: http://pandas.pydata.org/pandas-docs/stable/indexing.html#indexing-view-versus-copy\n",
      "  if __name__ == '__main__':\n"
     ]
    }
   ],
   "source": [
    "sub1['S3AQ3B1']= sub1['S3AQ3B1'].replace(9,numpy.nan)"
   ]
  },
  {
   "cell_type": "code",
   "execution_count": 42,
   "metadata": {
    "collapsed": false
   },
   "outputs": [
    {
     "data": {
      "text/plain": [
       "20       1\n",
       "76       2\n",
       "102      1\n",
       "121      1\n",
       "135      1\n",
       "149      1\n",
       "154      1\n",
       "173      1\n",
       "177      1\n",
       "183      1\n",
       "187      4\n",
       "209      1\n",
       "219      3\n",
       "222      1\n",
       "278      1\n",
       "336      1\n",
       "363      1\n",
       "398      2\n",
       "412      1\n",
       "417      1\n",
       "508      1\n",
       "511      5\n",
       "519      1\n",
       "522      1\n",
       "529      1\n",
       "539      1\n",
       "541      1\n",
       "628      1\n",
       "681      4\n",
       "712      5\n",
       "        ..\n",
       "42365    1\n",
       "42367    6\n",
       "42372    1\n",
       "42399    6\n",
       "42410    5\n",
       "42420    1\n",
       "42427    6\n",
       "42429    1\n",
       "42432    3\n",
       "42440    1\n",
       "42447    1\n",
       "42484    1\n",
       "42563    1\n",
       "42574    1\n",
       "42627    1\n",
       "42630    4\n",
       "42642    1\n",
       "42644    1\n",
       "42676    1\n",
       "42732    1\n",
       "42734    1\n",
       "42753    1\n",
       "42778    1\n",
       "42784    1\n",
       "42850    1\n",
       "42940    1\n",
       "42989    4\n",
       "42997    1\n",
       "43087    1\n",
       "43090    6\n",
       "Name: S3AQ3B1, dtype: float64"
      ]
     },
     "execution_count": 42,
     "metadata": {},
     "output_type": "execute_result"
    }
   ],
   "source": [
    "sub1['S3AQ3B1']"
   ]
  },
  {
   "cell_type": "code",
   "execution_count": 43,
   "metadata": {
    "collapsed": false
   },
   "outputs": [
    {
     "name": "stderr",
     "output_type": "stream",
     "text": [
      "C:\\Users\\suh0902\\Anaconda\\lib\\site-packages\\ipykernel\\__main__.py:1: SettingWithCopyWarning: \n",
      "A value is trying to be set on a copy of a slice from a DataFrame.\n",
      "Try using .loc[row_indexer,col_indexer] = value instead\n",
      "\n",
      "See the the caveats in the documentation: http://pandas.pydata.org/pandas-docs/stable/indexing.html#indexing-view-versus-copy\n",
      "  if __name__ == '__main__':\n"
     ]
    }
   ],
   "source": [
    "sub1['S3AQ3C1']=sub1['S3AQ3C1'].replace(99, numpy.nan)"
   ]
  },
  {
   "cell_type": "markdown",
   "metadata": {},
   "source": [
    "## Recoding number of days smoked in the past month"
   ]
  },
  {
   "cell_type": "code",
   "execution_count": 44,
   "metadata": {
    "collapsed": false
   },
   "outputs": [
    {
     "name": "stderr",
     "output_type": "stream",
     "text": [
      "C:\\Users\\suh0902\\Anaconda\\lib\\site-packages\\ipykernel\\__main__.py:2: SettingWithCopyWarning: \n",
      "A value is trying to be set on a copy of a slice from a DataFrame.\n",
      "Try using .loc[row_indexer,col_indexer] = value instead\n",
      "\n",
      "See the the caveats in the documentation: http://pandas.pydata.org/pandas-docs/stable/indexing.html#indexing-view-versus-copy\n",
      "  from ipykernel import kernelapp as app\n"
     ]
    }
   ],
   "source": [
    "recode1 = {1: 30, 2: 22, 3: 14, 4: 5, 5: 2.5, 6:1}\n",
    "sub1['USFREQMO'] = sub1['S3AQ3B1'].map(recode1)"
   ]
  },
  {
   "cell_type": "markdown",
   "metadata": {},
   "source": [
    "## Converting new variable USFREQMMO to numeric"
   ]
  },
  {
   "cell_type": "code",
   "execution_count": 45,
   "metadata": {
    "collapsed": false
   },
   "outputs": [
    {
     "name": "stderr",
     "output_type": "stream",
     "text": [
      "C:\\Users\\suh0902\\Anaconda\\lib\\site-packages\\ipykernel\\__main__.py:1: SettingWithCopyWarning: \n",
      "A value is trying to be set on a copy of a slice from a DataFrame.\n",
      "Try using .loc[row_indexer,col_indexer] = value instead\n",
      "\n",
      "See the the caveats in the documentation: http://pandas.pydata.org/pandas-docs/stable/indexing.html#indexing-view-versus-copy\n",
      "  if __name__ == '__main__':\n"
     ]
    }
   ],
   "source": [
    "sub1['USFREQMO']= sub1['USFREQMO'].convert_objects(convert_numeric=True)"
   ]
  },
  {
   "cell_type": "markdown",
   "metadata": {},
   "source": [
    "## Creating a secondary variable multiplying the days smoked/month and the number of cig/per day"
   ]
  },
  {
   "cell_type": "code",
   "execution_count": 46,
   "metadata": {
    "collapsed": false
   },
   "outputs": [
    {
     "name": "stderr",
     "output_type": "stream",
     "text": [
      "C:\\Users\\suh0902\\Anaconda\\lib\\site-packages\\ipykernel\\__main__.py:1: SettingWithCopyWarning: \n",
      "A value is trying to be set on a copy of a slice from a DataFrame.\n",
      "Try using .loc[row_indexer,col_indexer] = value instead\n",
      "\n",
      "See the the caveats in the documentation: http://pandas.pydata.org/pandas-docs/stable/indexing.html#indexing-view-versus-copy\n",
      "  if __name__ == '__main__':\n",
      "C:\\Users\\suh0902\\Anaconda\\lib\\site-packages\\ipykernel\\__main__.py:2: SettingWithCopyWarning: \n",
      "A value is trying to be set on a copy of a slice from a DataFrame.\n",
      "Try using .loc[row_indexer,col_indexer] = value instead\n",
      "\n",
      "See the the caveats in the documentation: http://pandas.pydata.org/pandas-docs/stable/indexing.html#indexing-view-versus-copy\n",
      "  from ipykernel import kernelapp as app\n"
     ]
    }
   ],
   "source": [
    "sub1['NUMCIGMO_EST']=sub1['USFREQMO'] * sub1['S3AQ3C1']\n",
    "sub1['NUMCIGMO_EST']= sub1['NUMCIGMO_EST'].convert_objects(convert_numeric=True)"
   ]
  },
  {
   "cell_type": "code",
   "execution_count": 47,
   "metadata": {
    "collapsed": false
   },
   "outputs": [
    {
     "name": "stdout",
     "output_type": "stream",
     "text": [
      "NUMCIGMO_EST\n",
      "1.0        29\n",
      "2.0        14\n",
      "2.5        11\n",
      "3.0        12\n",
      "4.0         2\n",
      "5.0        34\n",
      "6.0         1\n",
      "7.5        12\n",
      "8.0         1\n",
      "10.0       38\n",
      "12.5        9\n",
      "14.0        3\n",
      "15.0       14\n",
      "17.5        1\n",
      "20.0       13\n",
      "22.0        4\n",
      "24.0        1\n",
      "25.0       14\n",
      "28.0       17\n",
      "30.0       25\n",
      "35.0        2\n",
      "42.0       19\n",
      "44.0        9\n",
      "50.0        7\n",
      "56.0       15\n",
      "60.0       28\n",
      "66.0       14\n",
      "70.0       22\n",
      "84.0        3\n",
      "88.0        6\n",
      "         ... \n",
      "140.0      10\n",
      "150.0     108\n",
      "154.0       3\n",
      "176.0       3\n",
      "180.0      47\n",
      "210.0      39\n",
      "220.0      12\n",
      "240.0      36\n",
      "270.0       6\n",
      "280.0       1\n",
      "300.0     350\n",
      "330.0       4\n",
      "360.0      25\n",
      "390.0       7\n",
      "420.0       2\n",
      "450.0      97\n",
      "480.0       5\n",
      "510.0       2\n",
      "540.0       3\n",
      "570.0       1\n",
      "600.0     357\n",
      "750.0      13\n",
      "810.0       1\n",
      "840.0       1\n",
      "900.0      38\n",
      "1050.0      1\n",
      "1200.0     29\n",
      "1800.0      2\n",
      "2400.0      1\n",
      "2940.0      1\n",
      "dtype: int64\n"
     ]
    }
   ],
   "source": [
    "ct1 = sub1.groupby('NUMCIGMO_EST').size()\n",
    "print (ct1)"
   ]
  },
  {
   "cell_type": "markdown",
   "metadata": {},
   "source": [
    "## Using ols function for calculating the F-statistic and associated p value"
   ]
  },
  {
   "cell_type": "code",
   "execution_count": 50,
   "metadata": {
    "collapsed": false
   },
   "outputs": [
    {
     "name": "stdout",
     "output_type": "stream",
     "text": [
      "                            OLS Regression Results                            \n",
      "==============================================================================\n",
      "Dep. Variable:           NUMCIGMO_EST   R-squared:                       0.002\n",
      "Model:                            OLS   Adj. R-squared:                  0.002\n",
      "Method:                 Least Squares   F-statistic:                     3.550\n",
      "Date:                Sun, 08 Nov 2015   Prob (F-statistic):             0.0597\n",
      "Time:                        14:38:59   Log-Likelihood:                -11934.\n",
      "No. Observations:                1697   AIC:                         2.387e+04\n",
      "Df Residuals:                    1695   BIC:                         2.388e+04\n",
      "Df Model:                           1                                         \n",
      "Covariance Type:            nonrobust                                         \n",
      "========================================================================================\n",
      "                           coef    std err          t      P>|t|      [95.0% Conf. Int.]\n",
      "----------------------------------------------------------------------------------------\n",
      "Intercept              312.8380      7.747     40.381      0.000       297.643   328.033\n",
      "C(MAJORDEPLIFE)[T.1]    28.5370     15.146      1.884      0.060        -1.169    58.243\n",
      "==============================================================================\n",
      "Omnibus:                      673.875   Durbin-Watson:                   1.982\n",
      "Prob(Omnibus):                  0.000   Jarque-Bera (JB):             5043.141\n",
      "Skew:                           1.672   Prob(JB):                         0.00\n",
      "Kurtosis:                      10.755   Cond. No.                         2.46\n",
      "==============================================================================\n",
      "\n",
      "Warnings:\n",
      "[1] Standard Errors assume that the covariance matrix of the errors is correctly specified.\n"
     ]
    }
   ],
   "source": [
    "model1 = smf.ols(formula = 'NUMCIGMO_EST ~ C(MAJORDEPLIFE)', data = sub1)\n",
    "results1 = model1.fit()\n",
    "print (results1.summary())"
   ]
  },
  {
   "cell_type": "code",
   "execution_count": 52,
   "metadata": {
    "collapsed": false
   },
   "outputs": [],
   "source": [
    "sub2 = sub1[['NUMCIGMO_EST','MAJORDEPLIFE']].dropna()"
   ]
  },
  {
   "cell_type": "code",
   "execution_count": 53,
   "metadata": {
    "collapsed": false
   },
   "outputs": [
    {
     "name": "stdout",
     "output_type": "stream",
     "text": [
      "means for numcigmo_est by major depression status\n",
      "              NUMCIGMO_EST\n",
      "MAJORDEPLIFE              \n",
      "0               312.837989\n",
      "1               341.375000\n"
     ]
    }
   ],
   "source": [
    "print ('means for numcigmo_est by major depression status')\n",
    "m1 = sub2.groupby('MAJORDEPLIFE').mean()\n",
    "print (m1)\n",
    "       "
   ]
  },
  {
   "cell_type": "code",
   "execution_count": 54,
   "metadata": {
    "collapsed": false
   },
   "outputs": [
    {
     "name": "stdout",
     "output_type": "stream",
     "text": [
      "standard deviations for numcigmo_est by major depression status\n",
      "              NUMCIGMO_EST\n",
      "MAJORDEPLIFE              \n",
      "0               269.002344\n",
      "1               288.495118\n"
     ]
    }
   ],
   "source": [
    "print ('standard deviations for numcigmo_est by major depression status')\n",
    "sd1 = sub2.groupby('MAJORDEPLIFE').std()\n",
    "print (sd1)"
   ]
  },
  {
   "cell_type": "markdown",
   "metadata": {},
   "source": [
    "## i will call it sub3"
   ]
  },
  {
   "cell_type": "code",
   "execution_count": 55,
   "metadata": {
    "collapsed": true
   },
   "outputs": [],
   "source": [
    "sub3 = sub1[['NUMCIGMO_EST', 'ETHRACE2A']].dropna()"
   ]
  },
  {
   "cell_type": "code",
   "execution_count": 56,
   "metadata": {
    "collapsed": false
   },
   "outputs": [
    {
     "name": "stdout",
     "output_type": "stream",
     "text": [
      "                            OLS Regression Results                            \n",
      "==============================================================================\n",
      "Dep. Variable:           NUMCIGMO_EST   R-squared:                       0.055\n",
      "Model:                            OLS   Adj. R-squared:                  0.052\n",
      "Method:                 Least Squares   F-statistic:                     24.40\n",
      "Date:                Sun, 08 Nov 2015   Prob (F-statistic):           1.18e-19\n",
      "Time:                        15:29:36   Log-Likelihood:                -11888.\n",
      "No. Observations:                1697   AIC:                         2.379e+04\n",
      "Df Residuals:                    1692   BIC:                         2.381e+04\n",
      "Df Model:                           4                                         \n",
      "Covariance Type:            nonrobust                                         \n",
      "=====================================================================================\n",
      "                        coef    std err          t      P>|t|      [95.0% Conf. Int.]\n",
      "-------------------------------------------------------------------------------------\n",
      "Intercept           368.7865      8.229     44.814      0.000       352.646   384.927\n",
      "C(ETHRACE2A)[T.2]  -109.5127     20.189     -5.424      0.000      -149.111   -69.914\n",
      "C(ETHRACE2A)[T.3]   -57.7984     42.038     -1.375      0.169      -140.250    24.653\n",
      "C(ETHRACE2A)[T.4]  -124.5279     36.033     -3.456      0.001      -195.201   -53.854\n",
      "C(ETHRACE2A)[T.5]  -149.0283     16.795     -8.873      0.000      -181.969  -116.087\n",
      "==============================================================================\n",
      "Omnibus:                      712.397   Durbin-Watson:                   1.994\n",
      "Prob(Omnibus):                  0.000   Jarque-Bera (JB):             6548.614\n",
      "Skew:                           1.717   Prob(JB):                         0.00\n",
      "Kurtosis:                      11.990   Cond. No.                         6.72\n",
      "==============================================================================\n",
      "\n",
      "Warnings:\n",
      "[1] Standard Errors assume that the covariance matrix of the errors is correctly specified.\n"
     ]
    }
   ],
   "source": [
    "model2 = smf.ols(formula='NUMCIGMO_EST ~ C(ETHRACE2A)', data=sub3).fit()\n",
    "print (model2.summary())"
   ]
  },
  {
   "cell_type": "code",
   "execution_count": 57,
   "metadata": {
    "collapsed": false
   },
   "outputs": [
    {
     "name": "stdout",
     "output_type": "stream",
     "text": [
      "means for numcigmo_est by major depression status\n",
      "           NUMCIGMO_EST\n",
      "ETHRACE2A              \n",
      "1            368.786528\n",
      "2            259.273810\n",
      "3            310.988095\n",
      "4            244.258621\n",
      "5            219.758258\n"
     ]
    }
   ],
   "source": [
    "print ('means for numcigmo_est by major depression status')\n",
    "m2= sub3.groupby('ETHRACE2A').mean()\n",
    "print (m2)"
   ]
  },
  {
   "cell_type": "code",
   "execution_count": 58,
   "metadata": {
    "collapsed": false
   },
   "outputs": [
    {
     "name": "stdout",
     "output_type": "stream",
     "text": [
      "standard deviations for numcigmo_est by major depression status\n",
      "           NUMCIGMO_EST\n",
      "ETHRACE2A              \n",
      "1            281.430730\n",
      "2            278.677392\n",
      "3            260.116964\n",
      "4            195.076441\n",
      "5            220.859365\n"
     ]
    }
   ],
   "source": [
    "print ('standard deviations for numcigmo_est by major depression status')\n",
    "sd2 = sub3.groupby('ETHRACE2A').std()\n",
    "print (sd2)\n"
   ]
  },
  {
   "cell_type": "code",
   "execution_count": 59,
   "metadata": {
    "collapsed": false
   },
   "outputs": [
    {
     "name": "stdout",
     "output_type": "stream",
     "text": [
      "Multiple Comparison of Means - Tukey HSD,FWER=0.05\n",
      "==================================================\n",
      "group1 group2  meandiff   lower     upper   reject\n",
      "--------------------------------------------------\n",
      "  1      2    -109.5127 -164.6441  -54.3814  True \n",
      "  1      3     -57.7984 -172.5914  56.9945  False \n",
      "  1      4    -124.5279 -222.9229  -26.1329  True \n",
      "  1      5    -149.0283  -194.89  -103.1665  True \n",
      "  2      3     51.7143   -71.6021  175.0307 False \n",
      "  2      4     -15.0152  -123.233  93.2026  False \n",
      "  2      5     -39.5156 -103.8025  24.7714  False \n",
      "  3      4     -66.7295 -214.5437  81.0848  False \n",
      "  3      5     -91.2298 -210.6902  28.2305  False \n",
      "  4      5     -24.5004 -128.3027   79.302  False \n",
      "--------------------------------------------------\n"
     ]
    }
   ],
   "source": [
    "mc1 = multi.MultiComparison(sub3['NUMCIGMO_EST'], sub3['ETHRACE2A'])\n",
    "res1 = mc1.tukeyhsd()\n",
    "print(res1.summary())"
   ]
  },
  {
   "cell_type": "code",
   "execution_count": null,
   "metadata": {
    "collapsed": true
   },
   "outputs": [],
   "source": []
  }
 ],
 "metadata": {
  "kernelspec": {
   "display_name": "Python 2",
   "language": "python",
   "name": "python2"
  },
  "language_info": {
   "codemirror_mode": {
    "name": "ipython",
    "version": 2
   },
   "file_extension": ".py",
   "mimetype": "text/x-python",
   "name": "python",
   "nbconvert_exporter": "python",
   "pygments_lexer": "ipython2",
   "version": "2.7.10"
  }
 },
 "nbformat": 4,
 "nbformat_minor": 0
}
