{
 "cells": [
  {
   "cell_type": "markdown",
   "metadata": {},
   "source": [
    "## Fire up"
   ]
  },
  {
   "cell_type": "code",
   "execution_count": 41,
   "metadata": {
    "collapsed": true
   },
   "outputs": [],
   "source": [
    "import pandas\n",
    "import pandas as pd\n",
    "import numpy\n",
    "import scipy.stats\n",
    "import seaborn as sns\n",
    "import matplotlib.pyplot as plt\n",
    "%matplotlib inline"
   ]
  },
  {
   "cell_type": "code",
   "execution_count": 11,
   "metadata": {
    "collapsed": true
   },
   "outputs": [],
   "source": [
    "import os\n",
    "os.chdir('C:\\Users\\suh0902\\Desktop\\CP\\dataset')"
   ]
  },
  {
   "cell_type": "markdown",
   "metadata": {},
   "source": [
    "## Load some data with panda frame"
   ]
  },
  {
   "cell_type": "code",
   "execution_count": 12,
   "metadata": {
    "collapsed": false
   },
   "outputs": [],
   "source": [
    "data = pandas.read_csv('nesarc_pds.csv', low_memory=False)"
   ]
  },
  {
   "cell_type": "code",
   "execution_count": 13,
   "metadata": {
    "collapsed": false
   },
   "outputs": [
    {
     "data": {
      "text/html": [
       "<div>\n",
       "<table border=\"1\" class=\"dataframe\">\n",
       "  <thead>\n",
       "    <tr style=\"text-align: right;\">\n",
       "      <th></th>\n",
       "      <th>ETHRACE2A</th>\n",
       "      <th>IDNUM</th>\n",
       "      <th>PSU</th>\n",
       "      <th>STRATUM</th>\n",
       "      <th>WEIGHT</th>\n",
       "      <th>CDAY</th>\n",
       "      <th>CMON</th>\n",
       "      <th>CYEAR</th>\n",
       "      <th>REGION</th>\n",
       "      <th>CENDIV</th>\n",
       "      <th>...</th>\n",
       "      <th>SOL12ABDEP</th>\n",
       "      <th>SOLP12ABDEP</th>\n",
       "      <th>HAL12ABDEP</th>\n",
       "      <th>HALP12ABDEP</th>\n",
       "      <th>MAR12ABDEP</th>\n",
       "      <th>MARP12ABDEP</th>\n",
       "      <th>HER12ABDEP</th>\n",
       "      <th>HERP12ABDEP</th>\n",
       "      <th>OTHB12ABDEP</th>\n",
       "      <th>OTHBP12ABDEP</th>\n",
       "    </tr>\n",
       "  </thead>\n",
       "  <tbody>\n",
       "    <tr>\n",
       "      <th>count</th>\n",
       "      <td>43093.000000</td>\n",
       "      <td>43093.000000</td>\n",
       "      <td>43093.000000</td>\n",
       "      <td>43093.000000</td>\n",
       "      <td>43093.000000</td>\n",
       "      <td>43093.000000</td>\n",
       "      <td>43093.000000</td>\n",
       "      <td>43093.000000</td>\n",
       "      <td>43093.000000</td>\n",
       "      <td>43093.000000</td>\n",
       "      <td>...</td>\n",
       "      <td>43093.000000</td>\n",
       "      <td>43093.000000</td>\n",
       "      <td>43093.000000</td>\n",
       "      <td>43093.000000</td>\n",
       "      <td>43093.000000</td>\n",
       "      <td>43093.000000</td>\n",
       "      <td>43093.000000</td>\n",
       "      <td>43093.000000</td>\n",
       "      <td>43093.000000</td>\n",
       "      <td>43093.000000</td>\n",
       "    </tr>\n",
       "    <tr>\n",
       "      <th>mean</th>\n",
       "      <td>2.087764</td>\n",
       "      <td>21547.000000</td>\n",
       "      <td>27312.909544</td>\n",
       "      <td>2726.858747</td>\n",
       "      <td>4823.981575</td>\n",
       "      <td>16.146195</td>\n",
       "      <td>8.589632</td>\n",
       "      <td>2001.141578</td>\n",
       "      <td>2.636321</td>\n",
       "      <td>5.142993</td>\n",
       "      <td>...</td>\n",
       "      <td>0.000255</td>\n",
       "      <td>0.003922</td>\n",
       "      <td>0.001532</td>\n",
       "      <td>0.017776</td>\n",
       "      <td>0.018634</td>\n",
       "      <td>0.095027</td>\n",
       "      <td>0.000348</td>\n",
       "      <td>0.004618</td>\n",
       "      <td>0.000093</td>\n",
       "      <td>0.001230</td>\n",
       "    </tr>\n",
       "    <tr>\n",
       "      <th>std</th>\n",
       "      <td>1.560799</td>\n",
       "      <td>12440.021912</td>\n",
       "      <td>16019.733641</td>\n",
       "      <td>1595.979984</td>\n",
       "      <td>3485.046966</td>\n",
       "      <td>8.801055</td>\n",
       "      <td>3.051984</td>\n",
       "      <td>0.348620</td>\n",
       "      <td>1.031667</td>\n",
       "      <td>2.511825</td>\n",
       "      <td>...</td>\n",
       "      <td>0.018655</td>\n",
       "      <td>0.079789</td>\n",
       "      <td>0.050501</td>\n",
       "      <td>0.169523</td>\n",
       "      <td>0.186201</td>\n",
       "      <td>0.383204</td>\n",
       "      <td>0.030082</td>\n",
       "      <td>0.106426</td>\n",
       "      <td>0.015233</td>\n",
       "      <td>0.047429</td>\n",
       "    </tr>\n",
       "    <tr>\n",
       "      <th>min</th>\n",
       "      <td>1.000000</td>\n",
       "      <td>1.000000</td>\n",
       "      <td>1001.000000</td>\n",
       "      <td>101.000000</td>\n",
       "      <td>398.037382</td>\n",
       "      <td>1.000000</td>\n",
       "      <td>1.000000</td>\n",
       "      <td>2001.000000</td>\n",
       "      <td>1.000000</td>\n",
       "      <td>1.000000</td>\n",
       "      <td>...</td>\n",
       "      <td>0.000000</td>\n",
       "      <td>0.000000</td>\n",
       "      <td>0.000000</td>\n",
       "      <td>0.000000</td>\n",
       "      <td>0.000000</td>\n",
       "      <td>0.000000</td>\n",
       "      <td>0.000000</td>\n",
       "      <td>0.000000</td>\n",
       "      <td>0.000000</td>\n",
       "      <td>0.000000</td>\n",
       "    </tr>\n",
       "    <tr>\n",
       "      <th>25%</th>\n",
       "      <td>1.000000</td>\n",
       "      <td>10774.000000</td>\n",
       "      <td>12044.000000</td>\n",
       "      <td>1209.000000</td>\n",
       "      <td>2240.897957</td>\n",
       "      <td>8.000000</td>\n",
       "      <td>8.000000</td>\n",
       "      <td>2001.000000</td>\n",
       "      <td>2.000000</td>\n",
       "      <td>3.000000</td>\n",
       "      <td>...</td>\n",
       "      <td>0.000000</td>\n",
       "      <td>0.000000</td>\n",
       "      <td>0.000000</td>\n",
       "      <td>0.000000</td>\n",
       "      <td>0.000000</td>\n",
       "      <td>0.000000</td>\n",
       "      <td>0.000000</td>\n",
       "      <td>0.000000</td>\n",
       "      <td>0.000000</td>\n",
       "      <td>0.000000</td>\n",
       "    </tr>\n",
       "    <tr>\n",
       "      <th>50%</th>\n",
       "      <td>1.000000</td>\n",
       "      <td>21547.000000</td>\n",
       "      <td>27018.000000</td>\n",
       "      <td>2701.000000</td>\n",
       "      <td>3723.955061</td>\n",
       "      <td>16.000000</td>\n",
       "      <td>9.000000</td>\n",
       "      <td>2001.000000</td>\n",
       "      <td>3.000000</td>\n",
       "      <td>5.000000</td>\n",
       "      <td>...</td>\n",
       "      <td>0.000000</td>\n",
       "      <td>0.000000</td>\n",
       "      <td>0.000000</td>\n",
       "      <td>0.000000</td>\n",
       "      <td>0.000000</td>\n",
       "      <td>0.000000</td>\n",
       "      <td>0.000000</td>\n",
       "      <td>0.000000</td>\n",
       "      <td>0.000000</td>\n",
       "      <td>0.000000</td>\n",
       "    </tr>\n",
       "    <tr>\n",
       "      <th>75%</th>\n",
       "      <td>2.000000</td>\n",
       "      <td>32320.000000</td>\n",
       "      <td>40019.000000</td>\n",
       "      <td>4004.000000</td>\n",
       "      <td>7013.033942</td>\n",
       "      <td>24.000000</td>\n",
       "      <td>10.000000</td>\n",
       "      <td>2001.000000</td>\n",
       "      <td>3.000000</td>\n",
       "      <td>7.000000</td>\n",
       "      <td>...</td>\n",
       "      <td>0.000000</td>\n",
       "      <td>0.000000</td>\n",
       "      <td>0.000000</td>\n",
       "      <td>0.000000</td>\n",
       "      <td>0.000000</td>\n",
       "      <td>0.000000</td>\n",
       "      <td>0.000000</td>\n",
       "      <td>0.000000</td>\n",
       "      <td>0.000000</td>\n",
       "      <td>0.000000</td>\n",
       "    </tr>\n",
       "    <tr>\n",
       "      <th>max</th>\n",
       "      <td>5.000000</td>\n",
       "      <td>43093.000000</td>\n",
       "      <td>56017.000000</td>\n",
       "      <td>5605.000000</td>\n",
       "      <td>57902.204790</td>\n",
       "      <td>31.000000</td>\n",
       "      <td>12.000000</td>\n",
       "      <td>2002.000000</td>\n",
       "      <td>4.000000</td>\n",
       "      <td>9.000000</td>\n",
       "      <td>...</td>\n",
       "      <td>2.000000</td>\n",
       "      <td>3.000000</td>\n",
       "      <td>3.000000</td>\n",
       "      <td>3.000000</td>\n",
       "      <td>3.000000</td>\n",
       "      <td>3.000000</td>\n",
       "      <td>3.000000</td>\n",
       "      <td>3.000000</td>\n",
       "      <td>3.000000</td>\n",
       "      <td>3.000000</td>\n",
       "    </tr>\n",
       "  </tbody>\n",
       "</table>\n",
       "<p>8 rows × 665 columns</p>\n",
       "</div>"
      ],
      "text/plain": [
       "          ETHRACE2A         IDNUM           PSU       STRATUM        WEIGHT  \\\n",
       "count  43093.000000  43093.000000  43093.000000  43093.000000  43093.000000   \n",
       "mean       2.087764  21547.000000  27312.909544   2726.858747   4823.981575   \n",
       "std        1.560799  12440.021912  16019.733641   1595.979984   3485.046966   \n",
       "min        1.000000      1.000000   1001.000000    101.000000    398.037382   \n",
       "25%        1.000000  10774.000000  12044.000000   1209.000000   2240.897957   \n",
       "50%        1.000000  21547.000000  27018.000000   2701.000000   3723.955061   \n",
       "75%        2.000000  32320.000000  40019.000000   4004.000000   7013.033942   \n",
       "max        5.000000  43093.000000  56017.000000   5605.000000  57902.204790   \n",
       "\n",
       "               CDAY          CMON         CYEAR        REGION        CENDIV  \\\n",
       "count  43093.000000  43093.000000  43093.000000  43093.000000  43093.000000   \n",
       "mean      16.146195      8.589632   2001.141578      2.636321      5.142993   \n",
       "std        8.801055      3.051984      0.348620      1.031667      2.511825   \n",
       "min        1.000000      1.000000   2001.000000      1.000000      1.000000   \n",
       "25%        8.000000      8.000000   2001.000000      2.000000      3.000000   \n",
       "50%       16.000000      9.000000   2001.000000      3.000000      5.000000   \n",
       "75%       24.000000     10.000000   2001.000000      3.000000      7.000000   \n",
       "max       31.000000     12.000000   2002.000000      4.000000      9.000000   \n",
       "\n",
       "           ...         SOL12ABDEP   SOLP12ABDEP    HAL12ABDEP   HALP12ABDEP  \\\n",
       "count      ...       43093.000000  43093.000000  43093.000000  43093.000000   \n",
       "mean       ...           0.000255      0.003922      0.001532      0.017776   \n",
       "std        ...           0.018655      0.079789      0.050501      0.169523   \n",
       "min        ...           0.000000      0.000000      0.000000      0.000000   \n",
       "25%        ...           0.000000      0.000000      0.000000      0.000000   \n",
       "50%        ...           0.000000      0.000000      0.000000      0.000000   \n",
       "75%        ...           0.000000      0.000000      0.000000      0.000000   \n",
       "max        ...           2.000000      3.000000      3.000000      3.000000   \n",
       "\n",
       "         MAR12ABDEP   MARP12ABDEP    HER12ABDEP   HERP12ABDEP   OTHB12ABDEP  \\\n",
       "count  43093.000000  43093.000000  43093.000000  43093.000000  43093.000000   \n",
       "mean       0.018634      0.095027      0.000348      0.004618      0.000093   \n",
       "std        0.186201      0.383204      0.030082      0.106426      0.015233   \n",
       "min        0.000000      0.000000      0.000000      0.000000      0.000000   \n",
       "25%        0.000000      0.000000      0.000000      0.000000      0.000000   \n",
       "50%        0.000000      0.000000      0.000000      0.000000      0.000000   \n",
       "75%        0.000000      0.000000      0.000000      0.000000      0.000000   \n",
       "max        3.000000      3.000000      3.000000      3.000000      3.000000   \n",
       "\n",
       "       OTHBP12ABDEP  \n",
       "count  43093.000000  \n",
       "mean       0.001230  \n",
       "std        0.047429  \n",
       "min        0.000000  \n",
       "25%        0.000000  \n",
       "50%        0.000000  \n",
       "75%        0.000000  \n",
       "max        3.000000  \n",
       "\n",
       "[8 rows x 665 columns]"
      ]
     },
     "execution_count": 13,
     "metadata": {},
     "output_type": "execute_result"
    }
   ],
   "source": [
    "data.describe()"
   ]
  },
  {
   "cell_type": "code",
   "execution_count": 14,
   "metadata": {
    "collapsed": false
   },
   "outputs": [
    {
     "data": {
      "text/html": [
       "<div>\n",
       "<table border=\"1\" class=\"dataframe\">\n",
       "  <thead>\n",
       "    <tr style=\"text-align: right;\">\n",
       "      <th></th>\n",
       "      <th>ETHRACE2A</th>\n",
       "      <th>ETOTLCA2</th>\n",
       "      <th>IDNUM</th>\n",
       "      <th>PSU</th>\n",
       "      <th>STRATUM</th>\n",
       "      <th>WEIGHT</th>\n",
       "      <th>CDAY</th>\n",
       "      <th>CMON</th>\n",
       "      <th>CYEAR</th>\n",
       "      <th>REGION</th>\n",
       "      <th>...</th>\n",
       "      <th>SOL12ABDEP</th>\n",
       "      <th>SOLP12ABDEP</th>\n",
       "      <th>HAL12ABDEP</th>\n",
       "      <th>HALP12ABDEP</th>\n",
       "      <th>MAR12ABDEP</th>\n",
       "      <th>MARP12ABDEP</th>\n",
       "      <th>HER12ABDEP</th>\n",
       "      <th>HERP12ABDEP</th>\n",
       "      <th>OTHB12ABDEP</th>\n",
       "      <th>OTHBP12ABDEP</th>\n",
       "    </tr>\n",
       "  </thead>\n",
       "  <tbody>\n",
       "    <tr>\n",
       "      <th>0</th>\n",
       "      <td>5</td>\n",
       "      <td></td>\n",
       "      <td>1</td>\n",
       "      <td>4007</td>\n",
       "      <td>403</td>\n",
       "      <td>3928.613505</td>\n",
       "      <td>14</td>\n",
       "      <td>8</td>\n",
       "      <td>2001</td>\n",
       "      <td>4</td>\n",
       "      <td>...</td>\n",
       "      <td>0</td>\n",
       "      <td>0</td>\n",
       "      <td>0</td>\n",
       "      <td>0</td>\n",
       "      <td>0</td>\n",
       "      <td>0</td>\n",
       "      <td>0</td>\n",
       "      <td>0</td>\n",
       "      <td>0</td>\n",
       "      <td>0</td>\n",
       "    </tr>\n",
       "    <tr>\n",
       "      <th>1</th>\n",
       "      <td>5</td>\n",
       "      <td>0.0014</td>\n",
       "      <td>2</td>\n",
       "      <td>6045</td>\n",
       "      <td>604</td>\n",
       "      <td>3638.691845</td>\n",
       "      <td>12</td>\n",
       "      <td>1</td>\n",
       "      <td>2002</td>\n",
       "      <td>4</td>\n",
       "      <td>...</td>\n",
       "      <td>0</td>\n",
       "      <td>0</td>\n",
       "      <td>0</td>\n",
       "      <td>0</td>\n",
       "      <td>0</td>\n",
       "      <td>0</td>\n",
       "      <td>0</td>\n",
       "      <td>0</td>\n",
       "      <td>0</td>\n",
       "      <td>0</td>\n",
       "    </tr>\n",
       "    <tr>\n",
       "      <th>2</th>\n",
       "      <td>5</td>\n",
       "      <td></td>\n",
       "      <td>3</td>\n",
       "      <td>12042</td>\n",
       "      <td>1218</td>\n",
       "      <td>5779.032025</td>\n",
       "      <td>23</td>\n",
       "      <td>11</td>\n",
       "      <td>2001</td>\n",
       "      <td>3</td>\n",
       "      <td>...</td>\n",
       "      <td>0</td>\n",
       "      <td>0</td>\n",
       "      <td>0</td>\n",
       "      <td>0</td>\n",
       "      <td>0</td>\n",
       "      <td>0</td>\n",
       "      <td>0</td>\n",
       "      <td>0</td>\n",
       "      <td>0</td>\n",
       "      <td>0</td>\n",
       "    </tr>\n",
       "    <tr>\n",
       "      <th>3</th>\n",
       "      <td>5</td>\n",
       "      <td></td>\n",
       "      <td>4</td>\n",
       "      <td>17099</td>\n",
       "      <td>1704</td>\n",
       "      <td>1071.754303</td>\n",
       "      <td>9</td>\n",
       "      <td>9</td>\n",
       "      <td>2001</td>\n",
       "      <td>2</td>\n",
       "      <td>...</td>\n",
       "      <td>0</td>\n",
       "      <td>0</td>\n",
       "      <td>0</td>\n",
       "      <td>0</td>\n",
       "      <td>0</td>\n",
       "      <td>0</td>\n",
       "      <td>0</td>\n",
       "      <td>0</td>\n",
       "      <td>0</td>\n",
       "      <td>0</td>\n",
       "    </tr>\n",
       "    <tr>\n",
       "      <th>4</th>\n",
       "      <td>2</td>\n",
       "      <td></td>\n",
       "      <td>5</td>\n",
       "      <td>17099</td>\n",
       "      <td>1704</td>\n",
       "      <td>4986.952377</td>\n",
       "      <td>18</td>\n",
       "      <td>10</td>\n",
       "      <td>2001</td>\n",
       "      <td>2</td>\n",
       "      <td>...</td>\n",
       "      <td>0</td>\n",
       "      <td>0</td>\n",
       "      <td>0</td>\n",
       "      <td>0</td>\n",
       "      <td>0</td>\n",
       "      <td>0</td>\n",
       "      <td>0</td>\n",
       "      <td>0</td>\n",
       "      <td>0</td>\n",
       "      <td>0</td>\n",
       "    </tr>\n",
       "  </tbody>\n",
       "</table>\n",
       "<p>5 rows × 3008 columns</p>\n",
       "</div>"
      ],
      "text/plain": [
       "   ETHRACE2A ETOTLCA2  IDNUM    PSU  STRATUM       WEIGHT  CDAY  CMON  CYEAR  \\\n",
       "0          5               1   4007      403  3928.613505    14     8   2001   \n",
       "1          5   0.0014      2   6045      604  3638.691845    12     1   2002   \n",
       "2          5               3  12042     1218  5779.032025    23    11   2001   \n",
       "3          5               4  17099     1704  1071.754303     9     9   2001   \n",
       "4          2               5  17099     1704  4986.952377    18    10   2001   \n",
       "\n",
       "   REGION      ...       SOL12ABDEP  SOLP12ABDEP  HAL12ABDEP  HALP12ABDEP  \\\n",
       "0       4      ...                0            0           0            0   \n",
       "1       4      ...                0            0           0            0   \n",
       "2       3      ...                0            0           0            0   \n",
       "3       2      ...                0            0           0            0   \n",
       "4       2      ...                0            0           0            0   \n",
       "\n",
       "   MAR12ABDEP  MARP12ABDEP  HER12ABDEP  HERP12ABDEP  OTHB12ABDEP  OTHBP12ABDEP  \n",
       "0           0            0           0            0            0             0  \n",
       "1           0            0           0            0            0             0  \n",
       "2           0            0           0            0            0             0  \n",
       "3           0            0           0            0            0             0  \n",
       "4           0            0           0            0            0             0  \n",
       "\n",
       "[5 rows x 3008 columns]"
      ]
     },
     "execution_count": 14,
     "metadata": {},
     "output_type": "execute_result"
    }
   ],
   "source": [
    "data.head()"
   ]
  },
  {
   "cell_type": "code",
   "execution_count": 15,
   "metadata": {
    "collapsed": false
   },
   "outputs": [
    {
     "data": {
      "text/html": [
       "<div>\n",
       "<table border=\"1\" class=\"dataframe\">\n",
       "  <thead>\n",
       "    <tr style=\"text-align: right;\">\n",
       "      <th></th>\n",
       "      <th>ETHRACE2A</th>\n",
       "      <th>ETOTLCA2</th>\n",
       "      <th>IDNUM</th>\n",
       "      <th>PSU</th>\n",
       "      <th>STRATUM</th>\n",
       "      <th>WEIGHT</th>\n",
       "      <th>CDAY</th>\n",
       "      <th>CMON</th>\n",
       "      <th>CYEAR</th>\n",
       "      <th>REGION</th>\n",
       "      <th>...</th>\n",
       "      <th>SOL12ABDEP</th>\n",
       "      <th>SOLP12ABDEP</th>\n",
       "      <th>HAL12ABDEP</th>\n",
       "      <th>HALP12ABDEP</th>\n",
       "      <th>MAR12ABDEP</th>\n",
       "      <th>MARP12ABDEP</th>\n",
       "      <th>HER12ABDEP</th>\n",
       "      <th>HERP12ABDEP</th>\n",
       "      <th>OTHB12ABDEP</th>\n",
       "      <th>OTHBP12ABDEP</th>\n",
       "    </tr>\n",
       "  </thead>\n",
       "  <tbody>\n",
       "    <tr>\n",
       "      <th>43088</th>\n",
       "      <td>1</td>\n",
       "      <td></td>\n",
       "      <td>43089</td>\n",
       "      <td>12010</td>\n",
       "      <td>1208</td>\n",
       "      <td>10477.240840</td>\n",
       "      <td>27</td>\n",
       "      <td>11</td>\n",
       "      <td>2001</td>\n",
       "      <td>3</td>\n",
       "      <td>...</td>\n",
       "      <td>0</td>\n",
       "      <td>0</td>\n",
       "      <td>0</td>\n",
       "      <td>0</td>\n",
       "      <td>0</td>\n",
       "      <td>0</td>\n",
       "      <td>0</td>\n",
       "      <td>0</td>\n",
       "      <td>0</td>\n",
       "      <td>0</td>\n",
       "    </tr>\n",
       "    <tr>\n",
       "      <th>43089</th>\n",
       "      <td>1</td>\n",
       "      <td>0.2237</td>\n",
       "      <td>43090</td>\n",
       "      <td>17099</td>\n",
       "      <td>1704</td>\n",
       "      <td>9014.746280</td>\n",
       "      <td>30</td>\n",
       "      <td>10</td>\n",
       "      <td>2001</td>\n",
       "      <td>2</td>\n",
       "      <td>...</td>\n",
       "      <td>0</td>\n",
       "      <td>0</td>\n",
       "      <td>0</td>\n",
       "      <td>0</td>\n",
       "      <td>0</td>\n",
       "      <td>0</td>\n",
       "      <td>0</td>\n",
       "      <td>0</td>\n",
       "      <td>0</td>\n",
       "      <td>0</td>\n",
       "    </tr>\n",
       "    <tr>\n",
       "      <th>43090</th>\n",
       "      <td>1</td>\n",
       "      <td>0.3785</td>\n",
       "      <td>43091</td>\n",
       "      <td>18094</td>\n",
       "      <td>1802</td>\n",
       "      <td>8079.917091</td>\n",
       "      <td>16</td>\n",
       "      <td>10</td>\n",
       "      <td>2001</td>\n",
       "      <td>2</td>\n",
       "      <td>...</td>\n",
       "      <td>0</td>\n",
       "      <td>0</td>\n",
       "      <td>0</td>\n",
       "      <td>0</td>\n",
       "      <td>0</td>\n",
       "      <td>0</td>\n",
       "      <td>0</td>\n",
       "      <td>0</td>\n",
       "      <td>0</td>\n",
       "      <td>0</td>\n",
       "    </tr>\n",
       "    <tr>\n",
       "      <th>43091</th>\n",
       "      <td>1</td>\n",
       "      <td>14.0831</td>\n",
       "      <td>43092</td>\n",
       "      <td>31035</td>\n",
       "      <td>3104</td>\n",
       "      <td>10367.259020</td>\n",
       "      <td>26</td>\n",
       "      <td>9</td>\n",
       "      <td>2001</td>\n",
       "      <td>2</td>\n",
       "      <td>...</td>\n",
       "      <td>0</td>\n",
       "      <td>3</td>\n",
       "      <td>0</td>\n",
       "      <td>3</td>\n",
       "      <td>0</td>\n",
       "      <td>3</td>\n",
       "      <td>0</td>\n",
       "      <td>0</td>\n",
       "      <td>0</td>\n",
       "      <td>0</td>\n",
       "    </tr>\n",
       "    <tr>\n",
       "      <th>43092</th>\n",
       "      <td>1</td>\n",
       "      <td></td>\n",
       "      <td>43093</td>\n",
       "      <td>17099</td>\n",
       "      <td>1704</td>\n",
       "      <td>9014.746280</td>\n",
       "      <td>1</td>\n",
       "      <td>11</td>\n",
       "      <td>2001</td>\n",
       "      <td>2</td>\n",
       "      <td>...</td>\n",
       "      <td>0</td>\n",
       "      <td>0</td>\n",
       "      <td>0</td>\n",
       "      <td>0</td>\n",
       "      <td>1</td>\n",
       "      <td>1</td>\n",
       "      <td>0</td>\n",
       "      <td>0</td>\n",
       "      <td>0</td>\n",
       "      <td>0</td>\n",
       "    </tr>\n",
       "  </tbody>\n",
       "</table>\n",
       "<p>5 rows × 3008 columns</p>\n",
       "</div>"
      ],
      "text/plain": [
       "       ETHRACE2A ETOTLCA2  IDNUM    PSU  STRATUM        WEIGHT  CDAY  CMON  \\\n",
       "43088          1           43089  12010     1208  10477.240840    27    11   \n",
       "43089          1   0.2237  43090  17099     1704   9014.746280    30    10   \n",
       "43090          1   0.3785  43091  18094     1802   8079.917091    16    10   \n",
       "43091          1  14.0831  43092  31035     3104  10367.259020    26     9   \n",
       "43092          1           43093  17099     1704   9014.746280     1    11   \n",
       "\n",
       "       CYEAR  REGION      ...       SOL12ABDEP  SOLP12ABDEP  HAL12ABDEP  \\\n",
       "43088   2001       3      ...                0            0           0   \n",
       "43089   2001       2      ...                0            0           0   \n",
       "43090   2001       2      ...                0            0           0   \n",
       "43091   2001       2      ...                0            3           0   \n",
       "43092   2001       2      ...                0            0           0   \n",
       "\n",
       "       HALP12ABDEP  MAR12ABDEP  MARP12ABDEP  HER12ABDEP  HERP12ABDEP  \\\n",
       "43088            0           0            0           0            0   \n",
       "43089            0           0            0           0            0   \n",
       "43090            0           0            0           0            0   \n",
       "43091            3           0            3           0            0   \n",
       "43092            0           1            1           0            0   \n",
       "\n",
       "       OTHB12ABDEP  OTHBP12ABDEP  \n",
       "43088            0             0  \n",
       "43089            0             0  \n",
       "43090            0             0  \n",
       "43091            0             0  \n",
       "43092            0             0  \n",
       "\n",
       "[5 rows x 3008 columns]"
      ]
     },
     "execution_count": 15,
     "metadata": {},
     "output_type": "execute_result"
    }
   ],
   "source": [
    "data.tail()"
   ]
  },
  {
   "cell_type": "markdown",
   "metadata": {},
   "source": [
    "## Setting variables "
   ]
  },
  {
   "cell_type": "code",
   "execution_count": 20,
   "metadata": {
    "collapsed": false
   },
   "outputs": [],
   "source": [
    "data['TAB12MDX'] = data['TAB12MDX'].convert_objects(convert_numeric=True)\n",
    "data['CHECK321'] = data['CHECK321'].convert_objects(convert_numeric=True)\n",
    "data['S3AQ3B1'] = data['S3AQ3B1'].convert_objects(convert_numeric=True)\n",
    "data['S3AQ3C1'] = data['S3AQ3C1'].convert_objects(convert_numeric=True)\n",
    "data['AGE'] = data['AGE'].convert_objects(convert_numeric=True)"
   ]
  },
  {
   "cell_type": "markdown",
   "metadata": {},
   "source": [
    "## Subset data to young adults age 18 to 25 who have smoked in the past 12 months"
   ]
  },
  {
   "cell_type": "code",
   "execution_count": 21,
   "metadata": {
    "collapsed": true
   },
   "outputs": [],
   "source": [
    "sub1=data[(data['AGE']>=18) & (data['AGE']<=25) & (data['CHECK321']==1)]"
   ]
  },
  {
   "cell_type": "markdown",
   "metadata": {},
   "source": [
    "## Making a copy of my new subsetted data"
   ]
  },
  {
   "cell_type": "code",
   "execution_count": 22,
   "metadata": {
    "collapsed": true
   },
   "outputs": [],
   "source": [
    "sub2 = sub1.copy()"
   ]
  },
  {
   "cell_type": "markdown",
   "metadata": {},
   "source": [
    "## Recoding missing values to python missing (NaN)"
   ]
  },
  {
   "cell_type": "code",
   "execution_count": 23,
   "metadata": {
    "collapsed": true
   },
   "outputs": [],
   "source": [
    "sub2['S3AQ3B1']=sub2['S3AQ3B1'].replace(9, numpy.nan)\n",
    "sub2['S3AQ3C1']=sub2['S3AQ3C1'].replace(99, numpy.nan)"
   ]
  },
  {
   "cell_type": "markdown",
   "metadata": {},
   "source": [
    "## Recoding values for S3AQ3B1 into a new variable, USFREQMO"
   ]
  },
  {
   "cell_type": "code",
   "execution_count": 24,
   "metadata": {
    "collapsed": true
   },
   "outputs": [],
   "source": [
    "recode1 = {1: 30, 2: 22, 3: 14, 4: 6, 5: 2.5, 6: 1}\n",
    "sub2['USFREQMO']= sub2['S3AQ3B1'].map(recode1)\n"
   ]
  },
  {
   "cell_type": "markdown",
   "metadata": {},
   "source": [
    "## Contingency table of observed counts"
   ]
  },
  {
   "cell_type": "code",
   "execution_count": 27,
   "metadata": {
    "collapsed": false
   },
   "outputs": [],
   "source": [
    "ct1=pandas.crosstab(sub2['TAB12MDX'], sub2['USFREQMO'])"
   ]
  },
  {
   "cell_type": "code",
   "execution_count": 28,
   "metadata": {
    "collapsed": false
   },
   "outputs": [
    {
     "name": "stdout",
     "output_type": "stream",
     "text": [
      "USFREQMO  1.0   2.5   6.0   14.0  22.0  30.0\n",
      "TAB12MDX                                    \n",
      "0           64    53    69    59    41   521\n",
      "1            7    12    19    32    27   799\n"
     ]
    }
   ],
   "source": [
    "print (ct1)"
   ]
  },
  {
   "cell_type": "markdown",
   "metadata": {},
   "source": [
    "## Contingency table of observed counts"
   ]
  },
  {
   "cell_type": "code",
   "execution_count": 30,
   "metadata": {
    "collapsed": false
   },
   "outputs": [
    {
     "name": "stdout",
     "output_type": "stream",
     "text": [
      "USFREQMO      1.0       2.5       6.0       14.0      22.0      30.0\n",
      "TAB12MDX                                                            \n",
      "0         0.901408  0.815385  0.784091  0.648352  0.602941  0.394697\n",
      "1         0.098592  0.184615  0.215909  0.351648  0.397059  0.605303\n"
     ]
    }
   ],
   "source": [
    "colsum = ct1.sum(axis=0)\n",
    "colpct = ct1/colsum\n",
    "print(colpct)"
   ]
  },
  {
   "cell_type": "markdown",
   "metadata": {},
   "source": [
    "## Selecting statistical test \n",
    "## Bivariate Statistical Tools:\n",
    "ANOVA - Analysis of Variance\n",
    "x2 - Chi-square Test of Independence\n",
    "r - Correlation Coefficient\n",
    "## If both explanatory variable and response variable are categorical, it would use a chi-square Test as inferential test.  In this case, Explanatory variable is categorical with 6 levels, while response variable is categorical with 2levels. So, chi_square test would be the best choice.\n"
   ]
  },
  {
   "cell_type": "markdown",
   "metadata": {},
   "source": [
    "## chi-square-test"
   ]
  },
  {
   "cell_type": "code",
   "execution_count": 33,
   "metadata": {
    "collapsed": false
   },
   "outputs": [
    {
     "name": "stdout",
     "output_type": "stream",
     "text": [
      "chi-square value, p value, expected counts\n",
      "(165.27320708055845, 7.4363642083905987e-34, 5L, array([[  33.64474457,   30.80152672,   41.70052848,   43.1221374 ,\n",
      "          32.22313564,  625.50792719],\n",
      "       [  37.35525543,   34.19847328,   46.29947152,   47.8778626 ,\n",
      "          35.77686436,  694.49207281]]))\n"
     ]
    }
   ],
   "source": [
    "print ('chi-square value, p value, expected counts')\n",
    "cs1= scipy.stats.chi2_contingency(ct1)\n",
    "print (cs1)"
   ]
  },
  {
   "cell_type": "markdown",
   "metadata": {},
   "source": [
    "## Setting variable types\n"
   ]
  },
  {
   "cell_type": "code",
   "execution_count": 35,
   "metadata": {
    "collapsed": true
   },
   "outputs": [],
   "source": [
    "sub2[\"USFREQMO\"] = sub2[\"USFREQMO\"].astype('category')\n",
    "sub2['TAB12MDX'] = sub2['TAB12MDX'].convert_objects(convert_numeric=True)"
   ]
  },
  {
   "cell_type": "markdown",
   "metadata": {},
   "source": [
    "## Some visualization-graph percent with nicotine dependence within each smoking frequency group "
   ]
  },
  {
   "cell_type": "code",
   "execution_count": 42,
   "metadata": {
    "collapsed": false
   },
   "outputs": [
    {
     "data": {
      "text/plain": [
       "<matplotlib.text.Text at 0x33906240>"
      ]
     },
     "execution_count": 42,
     "metadata": {},
     "output_type": "execute_result"
    },
    {
     "data": {
      "image/png": "[encoded data removed]",
      "text/plain": [
       "<matplotlib.figure.Figure at 0x4260e7f0>"
      ]
     },
     "metadata": {},
     "output_type": "display_data"
    }
   ],
   "source": [
    "sns.factorplot(x=\"USFREQMO\", y=\"TAB12MDX\", data=sub2, kind=\"bar\", ci=None)\n",
    "plt.xlabel('Days smoked per month')\n",
    "plt.ylabel('Proportion Nicotine Dependent')"
   ]
  },
  {
   "cell_type": "code",
   "execution_count": null,
   "metadata": {
    "collapsed": true
   },
   "outputs": [],
   "source": []
  }
 ],
 "metadata": {
  "kernelspec": {
   "display_name": "Python 2",
   "language": "python",
   "name": "python2"
  },
  "language_info": {
   "codemirror_mode": {
    "name": "ipython",
    "version": 2
   },
   "file_extension": ".py",
   "mimetype": "text/x-python",
   "name": "python",
   "nbconvert_exporter": "python",
   "pygments_lexer": "ipython2",
   "version": "2.7.10"
  }
 },
 "nbformat": 4,
 "nbformat_minor": 0
}
