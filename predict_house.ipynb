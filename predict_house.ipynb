{
 "cells": [
  {
   "cell_type": "markdown",
   "metadata": {},
   "source": [
    "# Part 1. Fire up via  graphlab create"
   ]
  },
  {
   "cell_type": "code",
   "execution_count": 6,
   "metadata": {
    "collapsed": false
   },
   "outputs": [],
   "source": [
    "import graphlab \n",
    "import os\n",
    "os.chdir('C:\\Users\\suh0902\\Desktop\\CP\\dataset')"
   ]
  },
  {
   "cell_type": "markdown",
   "metadata": {},
   "source": [
    "# Load some house sale data"
   ]
  },
  {
   "cell_type": "code",
   "execution_count": 7,
   "metadata": {
    "collapsed": false
   },
   "outputs": [
    {
     "name": "stderr",
     "output_type": "stream",
     "text": [
      "[INFO] This non-commercial license of GraphLab Create is assigned to spectacle2002@gmail.comand will expire on September 22, 2016. For commercial licensing options, visit https://dato.com/buy/.\n",
      "\n",
      "[INFO] Start server at: ipc:///tmp/graphlab_server-2544 - Server binary: c:\\users\\suh0902\\appdata\\local\\dato\\dato launcher\\lib\\site-packages\\graphlab\\unity_server.exe - Server log: C:\\Users\\suh0902\\AppData\\Local\\Temp\\graphlab_server_1446174996.log.0\n",
      "[INFO] GraphLab Server Version: 1.6.1\n"
     ]
    }
   ],
   "source": [
    "import os\n",
    "os.chdir('C:\\Users\\suh0902\\Desktop\\CP\\dataset')\n",
    "sales = graphlab.SFrame('home_data.gl/')"
   ]
  },
  {
   "cell_type": "code",
   "execution_count": 3,
   "metadata": {
    "collapsed": false
   },
   "outputs": [
    {
     "data": {
      "text/html": [
       "<div style=\"max-height:1000px;max-width:1500px;overflow:auto;\"><table frame=\"box\" rules=\"cols\">\n",
       "    <tr>\n",
       "        <th style=\"padding-left: 1em; padding-right: 1em; text-align: center\">id</th>\n",
       "        <th style=\"padding-left: 1em; padding-right: 1em; text-align: center\">date</th>\n",
       "        <th style=\"padding-left: 1em; padding-right: 1em; text-align: center\">price</th>\n",
       "        <th style=\"padding-left: 1em; padding-right: 1em; text-align: center\">bedrooms</th>\n",
       "        <th style=\"padding-left: 1em; padding-right: 1em; text-align: center\">bathrooms</th>\n",
       "        <th style=\"padding-left: 1em; padding-right: 1em; text-align: center\">sqft_living</th>\n",
       "        <th style=\"padding-left: 1em; padding-right: 1em; text-align: center\">sqft_lot</th>\n",
       "        <th style=\"padding-left: 1em; padding-right: 1em; text-align: center\">floors</th>\n",
       "        <th style=\"padding-left: 1em; padding-right: 1em; text-align: center\">waterfront</th>\n",
       "    </tr>\n",
       "    <tr>\n",
       "        <td style=\"padding-left: 1em; padding-right: 1em; text-align: center; vertical-align: top\">7129300520</td>\n",
       "        <td style=\"padding-left: 1em; padding-right: 1em; text-align: center; vertical-align: top\">2014-10-13 00:00:00+00:00</td>\n",
       "        <td style=\"padding-left: 1em; padding-right: 1em; text-align: center; vertical-align: top\">221900</td>\n",
       "        <td style=\"padding-left: 1em; padding-right: 1em; text-align: center; vertical-align: top\">3</td>\n",
       "        <td style=\"padding-left: 1em; padding-right: 1em; text-align: center; vertical-align: top\">1</td>\n",
       "        <td style=\"padding-left: 1em; padding-right: 1em; text-align: center; vertical-align: top\">1180</td>\n",
       "        <td style=\"padding-left: 1em; padding-right: 1em; text-align: center; vertical-align: top\">5650</td>\n",
       "        <td style=\"padding-left: 1em; padding-right: 1em; text-align: center; vertical-align: top\">1</td>\n",
       "        <td style=\"padding-left: 1em; padding-right: 1em; text-align: center; vertical-align: top\">0</td>\n",
       "    </tr>\n",
       "    <tr>\n",
       "        <td style=\"padding-left: 1em; padding-right: 1em; text-align: center; vertical-align: top\">6414100192</td>\n",
       "        <td style=\"padding-left: 1em; padding-right: 1em; text-align: center; vertical-align: top\">2014-12-09 00:00:00+00:00</td>\n",
       "        <td style=\"padding-left: 1em; padding-right: 1em; text-align: center; vertical-align: top\">538000</td>\n",
       "        <td style=\"padding-left: 1em; padding-right: 1em; text-align: center; vertical-align: top\">3</td>\n",
       "        <td style=\"padding-left: 1em; padding-right: 1em; text-align: center; vertical-align: top\">2.25</td>\n",
       "        <td style=\"padding-left: 1em; padding-right: 1em; text-align: center; vertical-align: top\">2570</td>\n",
       "        <td style=\"padding-left: 1em; padding-right: 1em; text-align: center; vertical-align: top\">7242</td>\n",
       "        <td style=\"padding-left: 1em; padding-right: 1em; text-align: center; vertical-align: top\">2</td>\n",
       "        <td style=\"padding-left: 1em; padding-right: 1em; text-align: center; vertical-align: top\">0</td>\n",
       "    </tr>\n",
       "    <tr>\n",
       "        <td style=\"padding-left: 1em; padding-right: 1em; text-align: center; vertical-align: top\">5631500400</td>\n",
       "        <td style=\"padding-left: 1em; padding-right: 1em; text-align: center; vertical-align: top\">2015-02-25 00:00:00+00:00</td>\n",
       "        <td style=\"padding-left: 1em; padding-right: 1em; text-align: center; vertical-align: top\">180000</td>\n",
       "        <td style=\"padding-left: 1em; padding-right: 1em; text-align: center; vertical-align: top\">2</td>\n",
       "        <td style=\"padding-left: 1em; padding-right: 1em; text-align: center; vertical-align: top\">1</td>\n",
       "        <td style=\"padding-left: 1em; padding-right: 1em; text-align: center; vertical-align: top\">770</td>\n",
       "        <td style=\"padding-left: 1em; padding-right: 1em; text-align: center; vertical-align: top\">10000</td>\n",
       "        <td style=\"padding-left: 1em; padding-right: 1em; text-align: center; vertical-align: top\">1</td>\n",
       "        <td style=\"padding-left: 1em; padding-right: 1em; text-align: center; vertical-align: top\">0</td>\n",
       "    </tr>\n",
       "    <tr>\n",
       "        <td style=\"padding-left: 1em; padding-right: 1em; text-align: center; vertical-align: top\">2487200875</td>\n",
       "        <td style=\"padding-left: 1em; padding-right: 1em; text-align: center; vertical-align: top\">2014-12-09 00:00:00+00:00</td>\n",
       "        <td style=\"padding-left: 1em; padding-right: 1em; text-align: center; vertical-align: top\">604000</td>\n",
       "        <td style=\"padding-left: 1em; padding-right: 1em; text-align: center; vertical-align: top\">4</td>\n",
       "        <td style=\"padding-left: 1em; padding-right: 1em; text-align: center; vertical-align: top\">3</td>\n",
       "        <td style=\"padding-left: 1em; padding-right: 1em; text-align: center; vertical-align: top\">1960</td>\n",
       "        <td style=\"padding-left: 1em; padding-right: 1em; text-align: center; vertical-align: top\">5000</td>\n",
       "        <td style=\"padding-left: 1em; padding-right: 1em; text-align: center; vertical-align: top\">1</td>\n",
       "        <td style=\"padding-left: 1em; padding-right: 1em; text-align: center; vertical-align: top\">0</td>\n",
       "    </tr>\n",
       "    <tr>\n",
       "        <td style=\"padding-left: 1em; padding-right: 1em; text-align: center; vertical-align: top\">1954400510</td>\n",
       "        <td style=\"padding-left: 1em; padding-right: 1em; text-align: center; vertical-align: top\">2015-02-18 00:00:00+00:00</td>\n",
       "        <td style=\"padding-left: 1em; padding-right: 1em; text-align: center; vertical-align: top\">510000</td>\n",
       "        <td style=\"padding-left: 1em; padding-right: 1em; text-align: center; vertical-align: top\">3</td>\n",
       "        <td style=\"padding-left: 1em; padding-right: 1em; text-align: center; vertical-align: top\">2</td>\n",
       "        <td style=\"padding-left: 1em; padding-right: 1em; text-align: center; vertical-align: top\">1680</td>\n",
       "        <td style=\"padding-left: 1em; padding-right: 1em; text-align: center; vertical-align: top\">8080</td>\n",
       "        <td style=\"padding-left: 1em; padding-right: 1em; text-align: center; vertical-align: top\">1</td>\n",
       "        <td style=\"padding-left: 1em; padding-right: 1em; text-align: center; vertical-align: top\">0</td>\n",
       "    </tr>\n",
       "    <tr>\n",
       "        <td style=\"padding-left: 1em; padding-right: 1em; text-align: center; vertical-align: top\">7237550310</td>\n",
       "        <td style=\"padding-left: 1em; padding-right: 1em; text-align: center; vertical-align: top\">2014-05-12 00:00:00+00:00</td>\n",
       "        <td style=\"padding-left: 1em; padding-right: 1em; text-align: center; vertical-align: top\">1225000</td>\n",
       "        <td style=\"padding-left: 1em; padding-right: 1em; text-align: center; vertical-align: top\">4</td>\n",
       "        <td style=\"padding-left: 1em; padding-right: 1em; text-align: center; vertical-align: top\">4.5</td>\n",
       "        <td style=\"padding-left: 1em; padding-right: 1em; text-align: center; vertical-align: top\">5420</td>\n",
       "        <td style=\"padding-left: 1em; padding-right: 1em; text-align: center; vertical-align: top\">101930</td>\n",
       "        <td style=\"padding-left: 1em; padding-right: 1em; text-align: center; vertical-align: top\">1</td>\n",
       "        <td style=\"padding-left: 1em; padding-right: 1em; text-align: center; vertical-align: top\">0</td>\n",
       "    </tr>\n",
       "    <tr>\n",
       "        <td style=\"padding-left: 1em; padding-right: 1em; text-align: center; vertical-align: top\">1321400060</td>\n",
       "        <td style=\"padding-left: 1em; padding-right: 1em; text-align: center; vertical-align: top\">2014-06-27 00:00:00+00:00</td>\n",
       "        <td style=\"padding-left: 1em; padding-right: 1em; text-align: center; vertical-align: top\">257500</td>\n",
       "        <td style=\"padding-left: 1em; padding-right: 1em; text-align: center; vertical-align: top\">3</td>\n",
       "        <td style=\"padding-left: 1em; padding-right: 1em; text-align: center; vertical-align: top\">2.25</td>\n",
       "        <td style=\"padding-left: 1em; padding-right: 1em; text-align: center; vertical-align: top\">1715</td>\n",
       "        <td style=\"padding-left: 1em; padding-right: 1em; text-align: center; vertical-align: top\">6819</td>\n",
       "        <td style=\"padding-left: 1em; padding-right: 1em; text-align: center; vertical-align: top\">2</td>\n",
       "        <td style=\"padding-left: 1em; padding-right: 1em; text-align: center; vertical-align: top\">0</td>\n",
       "    </tr>\n",
       "    <tr>\n",
       "        <td style=\"padding-left: 1em; padding-right: 1em; text-align: center; vertical-align: top\">2008000270</td>\n",
       "        <td style=\"padding-left: 1em; padding-right: 1em; text-align: center; vertical-align: top\">2015-01-15 00:00:00+00:00</td>\n",
       "        <td style=\"padding-left: 1em; padding-right: 1em; text-align: center; vertical-align: top\">291850</td>\n",
       "        <td style=\"padding-left: 1em; padding-right: 1em; text-align: center; vertical-align: top\">3</td>\n",
       "        <td style=\"padding-left: 1em; padding-right: 1em; text-align: center; vertical-align: top\">1.5</td>\n",
       "        <td style=\"padding-left: 1em; padding-right: 1em; text-align: center; vertical-align: top\">1060</td>\n",
       "        <td style=\"padding-left: 1em; padding-right: 1em; text-align: center; vertical-align: top\">9711</td>\n",
       "        <td style=\"padding-left: 1em; padding-right: 1em; text-align: center; vertical-align: top\">1</td>\n",
       "        <td style=\"padding-left: 1em; padding-right: 1em; text-align: center; vertical-align: top\">0</td>\n",
       "    </tr>\n",
       "    <tr>\n",
       "        <td style=\"padding-left: 1em; padding-right: 1em; text-align: center; vertical-align: top\">2414600126</td>\n",
       "        <td style=\"padding-left: 1em; padding-right: 1em; text-align: center; vertical-align: top\">2015-04-15 00:00:00+00:00</td>\n",
       "        <td style=\"padding-left: 1em; padding-right: 1em; text-align: center; vertical-align: top\">229500</td>\n",
       "        <td style=\"padding-left: 1em; padding-right: 1em; text-align: center; vertical-align: top\">3</td>\n",
       "        <td style=\"padding-left: 1em; padding-right: 1em; text-align: center; vertical-align: top\">1</td>\n",
       "        <td style=\"padding-left: 1em; padding-right: 1em; text-align: center; vertical-align: top\">1780</td>\n",
       "        <td style=\"padding-left: 1em; padding-right: 1em; text-align: center; vertical-align: top\">7470</td>\n",
       "        <td style=\"padding-left: 1em; padding-right: 1em; text-align: center; vertical-align: top\">1</td>\n",
       "        <td style=\"padding-left: 1em; padding-right: 1em; text-align: center; vertical-align: top\">0</td>\n",
       "    </tr>\n",
       "    <tr>\n",
       "        <td style=\"padding-left: 1em; padding-right: 1em; text-align: center; vertical-align: top\">3793500160</td>\n",
       "        <td style=\"padding-left: 1em; padding-right: 1em; text-align: center; vertical-align: top\">2015-03-12 00:00:00+00:00</td>\n",
       "        <td style=\"padding-left: 1em; padding-right: 1em; text-align: center; vertical-align: top\">323000</td>\n",
       "        <td style=\"padding-left: 1em; padding-right: 1em; text-align: center; vertical-align: top\">3</td>\n",
       "        <td style=\"padding-left: 1em; padding-right: 1em; text-align: center; vertical-align: top\">2.5</td>\n",
       "        <td style=\"padding-left: 1em; padding-right: 1em; text-align: center; vertical-align: top\">1890</td>\n",
       "        <td style=\"padding-left: 1em; padding-right: 1em; text-align: center; vertical-align: top\">6560</td>\n",
       "        <td style=\"padding-left: 1em; padding-right: 1em; text-align: center; vertical-align: top\">2</td>\n",
       "        <td style=\"padding-left: 1em; padding-right: 1em; text-align: center; vertical-align: top\">0</td>\n",
       "    </tr>\n",
       "</table>\n",
       "<table frame=\"box\" rules=\"cols\">\n",
       "    <tr>\n",
       "        <th style=\"padding-left: 1em; padding-right: 1em; text-align: center\">view</th>\n",
       "        <th style=\"padding-left: 1em; padding-right: 1em; text-align: center\">condition</th>\n",
       "        <th style=\"padding-left: 1em; padding-right: 1em; text-align: center\">grade</th>\n",
       "        <th style=\"padding-left: 1em; padding-right: 1em; text-align: center\">sqft_above</th>\n",
       "        <th style=\"padding-left: 1em; padding-right: 1em; text-align: center\">sqft_basement</th>\n",
       "        <th style=\"padding-left: 1em; padding-right: 1em; text-align: center\">yr_built</th>\n",
       "        <th style=\"padding-left: 1em; padding-right: 1em; text-align: center\">yr_renovated</th>\n",
       "        <th style=\"padding-left: 1em; padding-right: 1em; text-align: center\">zipcode</th>\n",
       "        <th style=\"padding-left: 1em; padding-right: 1em; text-align: center\">lat</th>\n",
       "    </tr>\n",
       "    <tr>\n",
       "        <td style=\"padding-left: 1em; padding-right: 1em; text-align: center; vertical-align: top\">0</td>\n",
       "        <td style=\"padding-left: 1em; padding-right: 1em; text-align: center; vertical-align: top\">3</td>\n",
       "        <td style=\"padding-left: 1em; padding-right: 1em; text-align: center; vertical-align: top\">7</td>\n",
       "        <td style=\"padding-left: 1em; padding-right: 1em; text-align: center; vertical-align: top\">1180</td>\n",
       "        <td style=\"padding-left: 1em; padding-right: 1em; text-align: center; vertical-align: top\">0</td>\n",
       "        <td style=\"padding-left: 1em; padding-right: 1em; text-align: center; vertical-align: top\">1955</td>\n",
       "        <td style=\"padding-left: 1em; padding-right: 1em; text-align: center; vertical-align: top\">0</td>\n",
       "        <td style=\"padding-left: 1em; padding-right: 1em; text-align: center; vertical-align: top\">98178</td>\n",
       "        <td style=\"padding-left: 1em; padding-right: 1em; text-align: center; vertical-align: top\">47.51123398</td>\n",
       "    </tr>\n",
       "    <tr>\n",
       "        <td style=\"padding-left: 1em; padding-right: 1em; text-align: center; vertical-align: top\">0</td>\n",
       "        <td style=\"padding-left: 1em; padding-right: 1em; text-align: center; vertical-align: top\">3</td>\n",
       "        <td style=\"padding-left: 1em; padding-right: 1em; text-align: center; vertical-align: top\">7</td>\n",
       "        <td style=\"padding-left: 1em; padding-right: 1em; text-align: center; vertical-align: top\">2170</td>\n",
       "        <td style=\"padding-left: 1em; padding-right: 1em; text-align: center; vertical-align: top\">400</td>\n",
       "        <td style=\"padding-left: 1em; padding-right: 1em; text-align: center; vertical-align: top\">1951</td>\n",
       "        <td style=\"padding-left: 1em; padding-right: 1em; text-align: center; vertical-align: top\">1991</td>\n",
       "        <td style=\"padding-left: 1em; padding-right: 1em; text-align: center; vertical-align: top\">98125</td>\n",
       "        <td style=\"padding-left: 1em; padding-right: 1em; text-align: center; vertical-align: top\">47.72102274</td>\n",
       "    </tr>\n",
       "    <tr>\n",
       "        <td style=\"padding-left: 1em; padding-right: 1em; text-align: center; vertical-align: top\">0</td>\n",
       "        <td style=\"padding-left: 1em; padding-right: 1em; text-align: center; vertical-align: top\">3</td>\n",
       "        <td style=\"padding-left: 1em; padding-right: 1em; text-align: center; vertical-align: top\">6</td>\n",
       "        <td style=\"padding-left: 1em; padding-right: 1em; text-align: center; vertical-align: top\">770</td>\n",
       "        <td style=\"padding-left: 1em; padding-right: 1em; text-align: center; vertical-align: top\">0</td>\n",
       "        <td style=\"padding-left: 1em; padding-right: 1em; text-align: center; vertical-align: top\">1933</td>\n",
       "        <td style=\"padding-left: 1em; padding-right: 1em; text-align: center; vertical-align: top\">0</td>\n",
       "        <td style=\"padding-left: 1em; padding-right: 1em; text-align: center; vertical-align: top\">98028</td>\n",
       "        <td style=\"padding-left: 1em; padding-right: 1em; text-align: center; vertical-align: top\">47.73792661</td>\n",
       "    </tr>\n",
       "    <tr>\n",
       "        <td style=\"padding-left: 1em; padding-right: 1em; text-align: center; vertical-align: top\">0</td>\n",
       "        <td style=\"padding-left: 1em; padding-right: 1em; text-align: center; vertical-align: top\">5</td>\n",
       "        <td style=\"padding-left: 1em; padding-right: 1em; text-align: center; vertical-align: top\">7</td>\n",
       "        <td style=\"padding-left: 1em; padding-right: 1em; text-align: center; vertical-align: top\">1050</td>\n",
       "        <td style=\"padding-left: 1em; padding-right: 1em; text-align: center; vertical-align: top\">910</td>\n",
       "        <td style=\"padding-left: 1em; padding-right: 1em; text-align: center; vertical-align: top\">1965</td>\n",
       "        <td style=\"padding-left: 1em; padding-right: 1em; text-align: center; vertical-align: top\">0</td>\n",
       "        <td style=\"padding-left: 1em; padding-right: 1em; text-align: center; vertical-align: top\">98136</td>\n",
       "        <td style=\"padding-left: 1em; padding-right: 1em; text-align: center; vertical-align: top\">47.52082</td>\n",
       "    </tr>\n",
       "    <tr>\n",
       "        <td style=\"padding-left: 1em; padding-right: 1em; text-align: center; vertical-align: top\">0</td>\n",
       "        <td style=\"padding-left: 1em; padding-right: 1em; text-align: center; vertical-align: top\">3</td>\n",
       "        <td style=\"padding-left: 1em; padding-right: 1em; text-align: center; vertical-align: top\">8</td>\n",
       "        <td style=\"padding-left: 1em; padding-right: 1em; text-align: center; vertical-align: top\">1680</td>\n",
       "        <td style=\"padding-left: 1em; padding-right: 1em; text-align: center; vertical-align: top\">0</td>\n",
       "        <td style=\"padding-left: 1em; padding-right: 1em; text-align: center; vertical-align: top\">1987</td>\n",
       "        <td style=\"padding-left: 1em; padding-right: 1em; text-align: center; vertical-align: top\">0</td>\n",
       "        <td style=\"padding-left: 1em; padding-right: 1em; text-align: center; vertical-align: top\">98074</td>\n",
       "        <td style=\"padding-left: 1em; padding-right: 1em; text-align: center; vertical-align: top\">47.61681228</td>\n",
       "    </tr>\n",
       "    <tr>\n",
       "        <td style=\"padding-left: 1em; padding-right: 1em; text-align: center; vertical-align: top\">0</td>\n",
       "        <td style=\"padding-left: 1em; padding-right: 1em; text-align: center; vertical-align: top\">3</td>\n",
       "        <td style=\"padding-left: 1em; padding-right: 1em; text-align: center; vertical-align: top\">11</td>\n",
       "        <td style=\"padding-left: 1em; padding-right: 1em; text-align: center; vertical-align: top\">3890</td>\n",
       "        <td style=\"padding-left: 1em; padding-right: 1em; text-align: center; vertical-align: top\">1530</td>\n",
       "        <td style=\"padding-left: 1em; padding-right: 1em; text-align: center; vertical-align: top\">2001</td>\n",
       "        <td style=\"padding-left: 1em; padding-right: 1em; text-align: center; vertical-align: top\">0</td>\n",
       "        <td style=\"padding-left: 1em; padding-right: 1em; text-align: center; vertical-align: top\">98053</td>\n",
       "        <td style=\"padding-left: 1em; padding-right: 1em; text-align: center; vertical-align: top\">47.65611835</td>\n",
       "    </tr>\n",
       "    <tr>\n",
       "        <td style=\"padding-left: 1em; padding-right: 1em; text-align: center; vertical-align: top\">0</td>\n",
       "        <td style=\"padding-left: 1em; padding-right: 1em; text-align: center; vertical-align: top\">3</td>\n",
       "        <td style=\"padding-left: 1em; padding-right: 1em; text-align: center; vertical-align: top\">7</td>\n",
       "        <td style=\"padding-left: 1em; padding-right: 1em; text-align: center; vertical-align: top\">1715</td>\n",
       "        <td style=\"padding-left: 1em; padding-right: 1em; text-align: center; vertical-align: top\">0</td>\n",
       "        <td style=\"padding-left: 1em; padding-right: 1em; text-align: center; vertical-align: top\">1995</td>\n",
       "        <td style=\"padding-left: 1em; padding-right: 1em; text-align: center; vertical-align: top\">0</td>\n",
       "        <td style=\"padding-left: 1em; padding-right: 1em; text-align: center; vertical-align: top\">98003</td>\n",
       "        <td style=\"padding-left: 1em; padding-right: 1em; text-align: center; vertical-align: top\">47.30972002</td>\n",
       "    </tr>\n",
       "    <tr>\n",
       "        <td style=\"padding-left: 1em; padding-right: 1em; text-align: center; vertical-align: top\">0</td>\n",
       "        <td style=\"padding-left: 1em; padding-right: 1em; text-align: center; vertical-align: top\">3</td>\n",
       "        <td style=\"padding-left: 1em; padding-right: 1em; text-align: center; vertical-align: top\">7</td>\n",
       "        <td style=\"padding-left: 1em; padding-right: 1em; text-align: center; vertical-align: top\">1060</td>\n",
       "        <td style=\"padding-left: 1em; padding-right: 1em; text-align: center; vertical-align: top\">0</td>\n",
       "        <td style=\"padding-left: 1em; padding-right: 1em; text-align: center; vertical-align: top\">1963</td>\n",
       "        <td style=\"padding-left: 1em; padding-right: 1em; text-align: center; vertical-align: top\">0</td>\n",
       "        <td style=\"padding-left: 1em; padding-right: 1em; text-align: center; vertical-align: top\">98198</td>\n",
       "        <td style=\"padding-left: 1em; padding-right: 1em; text-align: center; vertical-align: top\">47.40949984</td>\n",
       "    </tr>\n",
       "    <tr>\n",
       "        <td style=\"padding-left: 1em; padding-right: 1em; text-align: center; vertical-align: top\">0</td>\n",
       "        <td style=\"padding-left: 1em; padding-right: 1em; text-align: center; vertical-align: top\">3</td>\n",
       "        <td style=\"padding-left: 1em; padding-right: 1em; text-align: center; vertical-align: top\">7</td>\n",
       "        <td style=\"padding-left: 1em; padding-right: 1em; text-align: center; vertical-align: top\">1050</td>\n",
       "        <td style=\"padding-left: 1em; padding-right: 1em; text-align: center; vertical-align: top\">730</td>\n",
       "        <td style=\"padding-left: 1em; padding-right: 1em; text-align: center; vertical-align: top\">1960</td>\n",
       "        <td style=\"padding-left: 1em; padding-right: 1em; text-align: center; vertical-align: top\">0</td>\n",
       "        <td style=\"padding-left: 1em; padding-right: 1em; text-align: center; vertical-align: top\">98146</td>\n",
       "        <td style=\"padding-left: 1em; padding-right: 1em; text-align: center; vertical-align: top\">47.51229381</td>\n",
       "    </tr>\n",
       "    <tr>\n",
       "        <td style=\"padding-left: 1em; padding-right: 1em; text-align: center; vertical-align: top\">0</td>\n",
       "        <td style=\"padding-left: 1em; padding-right: 1em; text-align: center; vertical-align: top\">3</td>\n",
       "        <td style=\"padding-left: 1em; padding-right: 1em; text-align: center; vertical-align: top\">7</td>\n",
       "        <td style=\"padding-left: 1em; padding-right: 1em; text-align: center; vertical-align: top\">1890</td>\n",
       "        <td style=\"padding-left: 1em; padding-right: 1em; text-align: center; vertical-align: top\">0</td>\n",
       "        <td style=\"padding-left: 1em; padding-right: 1em; text-align: center; vertical-align: top\">2003</td>\n",
       "        <td style=\"padding-left: 1em; padding-right: 1em; text-align: center; vertical-align: top\">0</td>\n",
       "        <td style=\"padding-left: 1em; padding-right: 1em; text-align: center; vertical-align: top\">98038</td>\n",
       "        <td style=\"padding-left: 1em; padding-right: 1em; text-align: center; vertical-align: top\">47.36840673</td>\n",
       "    </tr>\n",
       "</table>\n",
       "<table frame=\"box\" rules=\"cols\">\n",
       "    <tr>\n",
       "        <th style=\"padding-left: 1em; padding-right: 1em; text-align: center\">long</th>\n",
       "        <th style=\"padding-left: 1em; padding-right: 1em; text-align: center\">sqft_living15</th>\n",
       "        <th style=\"padding-left: 1em; padding-right: 1em; text-align: center\">sqft_lot15</th>\n",
       "    </tr>\n",
       "    <tr>\n",
       "        <td style=\"padding-left: 1em; padding-right: 1em; text-align: center; vertical-align: top\">-122.25677536</td>\n",
       "        <td style=\"padding-left: 1em; padding-right: 1em; text-align: center; vertical-align: top\">1340.0</td>\n",
       "        <td style=\"padding-left: 1em; padding-right: 1em; text-align: center; vertical-align: top\">5650.0</td>\n",
       "    </tr>\n",
       "    <tr>\n",
       "        <td style=\"padding-left: 1em; padding-right: 1em; text-align: center; vertical-align: top\">-122.3188624</td>\n",
       "        <td style=\"padding-left: 1em; padding-right: 1em; text-align: center; vertical-align: top\">1690.0</td>\n",
       "        <td style=\"padding-left: 1em; padding-right: 1em; text-align: center; vertical-align: top\">7639.0</td>\n",
       "    </tr>\n",
       "    <tr>\n",
       "        <td style=\"padding-left: 1em; padding-right: 1em; text-align: center; vertical-align: top\">-122.23319601</td>\n",
       "        <td style=\"padding-left: 1em; padding-right: 1em; text-align: center; vertical-align: top\">2720.0</td>\n",
       "        <td style=\"padding-left: 1em; padding-right: 1em; text-align: center; vertical-align: top\">8062.0</td>\n",
       "    </tr>\n",
       "    <tr>\n",
       "        <td style=\"padding-left: 1em; padding-right: 1em; text-align: center; vertical-align: top\">-122.39318505</td>\n",
       "        <td style=\"padding-left: 1em; padding-right: 1em; text-align: center; vertical-align: top\">1360.0</td>\n",
       "        <td style=\"padding-left: 1em; padding-right: 1em; text-align: center; vertical-align: top\">5000.0</td>\n",
       "    </tr>\n",
       "    <tr>\n",
       "        <td style=\"padding-left: 1em; padding-right: 1em; text-align: center; vertical-align: top\">-122.04490059</td>\n",
       "        <td style=\"padding-left: 1em; padding-right: 1em; text-align: center; vertical-align: top\">1800.0</td>\n",
       "        <td style=\"padding-left: 1em; padding-right: 1em; text-align: center; vertical-align: top\">7503.0</td>\n",
       "    </tr>\n",
       "    <tr>\n",
       "        <td style=\"padding-left: 1em; padding-right: 1em; text-align: center; vertical-align: top\">-122.00528655</td>\n",
       "        <td style=\"padding-left: 1em; padding-right: 1em; text-align: center; vertical-align: top\">4760.0</td>\n",
       "        <td style=\"padding-left: 1em; padding-right: 1em; text-align: center; vertical-align: top\">101930.0</td>\n",
       "    </tr>\n",
       "    <tr>\n",
       "        <td style=\"padding-left: 1em; padding-right: 1em; text-align: center; vertical-align: top\">-122.32704857</td>\n",
       "        <td style=\"padding-left: 1em; padding-right: 1em; text-align: center; vertical-align: top\">2238.0</td>\n",
       "        <td style=\"padding-left: 1em; padding-right: 1em; text-align: center; vertical-align: top\">6819.0</td>\n",
       "    </tr>\n",
       "    <tr>\n",
       "        <td style=\"padding-left: 1em; padding-right: 1em; text-align: center; vertical-align: top\">-122.31457273</td>\n",
       "        <td style=\"padding-left: 1em; padding-right: 1em; text-align: center; vertical-align: top\">1650.0</td>\n",
       "        <td style=\"padding-left: 1em; padding-right: 1em; text-align: center; vertical-align: top\">9711.0</td>\n",
       "    </tr>\n",
       "    <tr>\n",
       "        <td style=\"padding-left: 1em; padding-right: 1em; text-align: center; vertical-align: top\">-122.33659507</td>\n",
       "        <td style=\"padding-left: 1em; padding-right: 1em; text-align: center; vertical-align: top\">1780.0</td>\n",
       "        <td style=\"padding-left: 1em; padding-right: 1em; text-align: center; vertical-align: top\">8113.0</td>\n",
       "    </tr>\n",
       "    <tr>\n",
       "        <td style=\"padding-left: 1em; padding-right: 1em; text-align: center; vertical-align: top\">-122.0308176</td>\n",
       "        <td style=\"padding-left: 1em; padding-right: 1em; text-align: center; vertical-align: top\">2390.0</td>\n",
       "        <td style=\"padding-left: 1em; padding-right: 1em; text-align: center; vertical-align: top\">7570.0</td>\n",
       "    </tr>\n",
       "</table>\n",
       "[21613 rows x 21 columns]<br/>Note: Only the head of the SFrame is printed.<br/>You can use print_rows(num_rows=m, num_columns=n) to print more rows and columns.\n",
       "</div>"
      ],
      "text/plain": [
       "Columns:\n",
       "\tid\tstr\n",
       "\tdate\tdatetime\n",
       "\tprice\tint\n",
       "\tbedrooms\tstr\n",
       "\tbathrooms\tstr\n",
       "\tsqft_living\tint\n",
       "\tsqft_lot\tint\n",
       "\tfloors\tstr\n",
       "\twaterfront\tint\n",
       "\tview\tint\n",
       "\tcondition\tint\n",
       "\tgrade\tint\n",
       "\tsqft_above\tint\n",
       "\tsqft_basement\tint\n",
       "\tyr_built\tint\n",
       "\tyr_renovated\tint\n",
       "\tzipcode\tstr\n",
       "\tlat\tfloat\n",
       "\tlong\tfloat\n",
       "\tsqft_living15\tfloat\n",
       "\tsqft_lot15\tfloat\n",
       "\n",
       "Rows: 21613\n",
       "\n",
       "Data:\n",
       "+------------+---------------------------+---------+----------+-----------+-------------+\n",
       "|     id     |            date           |  price  | bedrooms | bathrooms | sqft_living |\n",
       "+------------+---------------------------+---------+----------+-----------+-------------+\n",
       "| 7129300520 | 2014-10-13 00:00:00+00:00 |  221900 |    3     |     1     |     1180    |\n",
       "| 6414100192 | 2014-12-09 00:00:00+00:00 |  538000 |    3     |    2.25   |     2570    |\n",
       "| 5631500400 | 2015-02-25 00:00:00+00:00 |  180000 |    2     |     1     |     770     |\n",
       "| 2487200875 | 2014-12-09 00:00:00+00:00 |  604000 |    4     |     3     |     1960    |\n",
       "| 1954400510 | 2015-02-18 00:00:00+00:00 |  510000 |    3     |     2     |     1680    |\n",
       "| 7237550310 | 2014-05-12 00:00:00+00:00 | 1225000 |    4     |    4.5    |     5420    |\n",
       "| 1321400060 | 2014-06-27 00:00:00+00:00 |  257500 |    3     |    2.25   |     1715    |\n",
       "| 2008000270 | 2015-01-15 00:00:00+00:00 |  291850 |    3     |    1.5    |     1060    |\n",
       "| 2414600126 | 2015-04-15 00:00:00+00:00 |  229500 |    3     |     1     |     1780    |\n",
       "| 3793500160 | 2015-03-12 00:00:00+00:00 |  323000 |    3     |    2.5    |     1890    |\n",
       "+------------+---------------------------+---------+----------+-----------+-------------+\n",
       "+----------+--------+------------+------+-----------+-------+------------+---------------+\n",
       "| sqft_lot | floors | waterfront | view | condition | grade | sqft_above | sqft_basement |\n",
       "+----------+--------+------------+------+-----------+-------+------------+---------------+\n",
       "|   5650   |   1    |     0      |  0   |     3     |   7   |    1180    |       0       |\n",
       "|   7242   |   2    |     0      |  0   |     3     |   7   |    2170    |      400      |\n",
       "|  10000   |   1    |     0      |  0   |     3     |   6   |    770     |       0       |\n",
       "|   5000   |   1    |     0      |  0   |     5     |   7   |    1050    |      910      |\n",
       "|   8080   |   1    |     0      |  0   |     3     |   8   |    1680    |       0       |\n",
       "|  101930  |   1    |     0      |  0   |     3     |   11  |    3890    |      1530     |\n",
       "|   6819   |   2    |     0      |  0   |     3     |   7   |    1715    |       0       |\n",
       "|   9711   |   1    |     0      |  0   |     3     |   7   |    1060    |       0       |\n",
       "|   7470   |   1    |     0      |  0   |     3     |   7   |    1050    |      730      |\n",
       "|   6560   |   2    |     0      |  0   |     3     |   7   |    1890    |       0       |\n",
       "+----------+--------+------------+------+-----------+-------+------------+---------------+\n",
       "+----------+--------------+---------+-------------+---------------+---------------+-----+\n",
       "| yr_built | yr_renovated | zipcode |     lat     |      long     | sqft_living15 | ... |\n",
       "+----------+--------------+---------+-------------+---------------+---------------+-----+\n",
       "|   1955   |      0       |  98178  | 47.51123398 | -122.25677536 |     1340.0    | ... |\n",
       "|   1951   |     1991     |  98125  | 47.72102274 |  -122.3188624 |     1690.0    | ... |\n",
       "|   1933   |      0       |  98028  | 47.73792661 | -122.23319601 |     2720.0    | ... |\n",
       "|   1965   |      0       |  98136  |   47.52082  | -122.39318505 |     1360.0    | ... |\n",
       "|   1987   |      0       |  98074  | 47.61681228 | -122.04490059 |     1800.0    | ... |\n",
       "|   2001   |      0       |  98053  | 47.65611835 | -122.00528655 |     4760.0    | ... |\n",
       "|   1995   |      0       |  98003  | 47.30972002 | -122.32704857 |     2238.0    | ... |\n",
       "|   1963   |      0       |  98198  | 47.40949984 | -122.31457273 |     1650.0    | ... |\n",
       "|   1960   |      0       |  98146  | 47.51229381 | -122.33659507 |     1780.0    | ... |\n",
       "|   2003   |      0       |  98038  | 47.36840673 |  -122.0308176 |     2390.0    | ... |\n",
       "+----------+--------------+---------+-------------+---------------+---------------+-----+\n",
       "[21613 rows x 21 columns]\n",
       "Note: Only the head of the SFrame is printed.\n",
       "You can use print_rows(num_rows=m, num_columns=n) to print more rows and columns."
      ]
     },
     "execution_count": 3,
     "metadata": {},
     "output_type": "execute_result"
    }
   ],
   "source": [
    "sales\n"
   ]
  },
  {
   "cell_type": "markdown",
   "metadata": {},
   "source": [
    "#Exploring the data for housing"
   ]
  },
  {
   "cell_type": "markdown",
   "metadata": {},
   "source": [
    "graphlab.canvas.set_target('ipynb')\n",
    "sales.show(view=\"Scatter Plot\",x= \"sqft_living\", y= \"price\")"
   ]
  },
  {
   "cell_type": "markdown",
   "metadata": {},
   "source": [
    "#Create a simple regression model of sqft_living to price"
   ]
  },
  {
   "cell_type": "code",
   "execution_count": 4,
   "metadata": {
    "collapsed": true
   },
   "outputs": [],
   "source": [
    "train_data, test_data = sales.random_split(.8,seed=0)"
   ]
  },
  {
   "cell_type": "markdown",
   "metadata": {},
   "source": [
    "#Build the regression model"
   ]
  },
  {
   "cell_type": "code",
   "execution_count": 5,
   "metadata": {
    "collapsed": false
   },
   "outputs": [
    {
     "name": "stdout",
     "output_type": "stream",
     "text": [
      "PROGRESS: Creating a validation set from 5 percent of training data. This may take a while.\n",
      "          You can set ``validation_set=None`` to disable validation tracking.\n",
      "\n",
      "PROGRESS: Linear regression:\n",
      "PROGRESS: --------------------------------------------------------\n",
      "PROGRESS: Number of examples          : 16470\n",
      "PROGRESS: Number of features          : 1\n",
      "PROGRESS: Number of unpacked features : 1\n",
      "PROGRESS: Number of coefficients    : 2\n",
      "PROGRESS: Starting Newton Method\n",
      "PROGRESS: --------------------------------------------------------\n",
      "PROGRESS: +-----------+----------+--------------+--------------------+----------------------+---------------+-----------------+\n",
      "PROGRESS: | Iteration | Passes   | Elapsed Time | Training-max_error | Validation-max_error | Training-rmse | Validation-rmse |\n",
      "PROGRESS: +-----------+----------+--------------+--------------------+----------------------+---------------+-----------------+\n",
      "PROGRESS: | 1         | 2        | 1.287684     | 4346748.921290     | 1894096.994858       | 263578.568469 | 251229.558463   |\n",
      "PROGRESS: +-----------+----------+--------------+--------------------+----------------------+---------------+-----------------+\n"
     ]
    }
   ],
   "source": [
    "sqft_model = graphlab.linear_regression.create(train_data, target='price', features=['sqft_living'])"
   ]
  },
  {
   "cell_type": "code",
   "execution_count": 22,
   "metadata": {
    "collapsed": false
   },
   "outputs": [
    {
     "name": "stdout",
     "output_type": "stream",
     "text": [
      "543054.042563\n"
     ]
    }
   ],
   "source": [
    "print test_data['price'].mean()"
   ]
  },
  {
   "cell_type": "code",
   "execution_count": 24,
   "metadata": {
    "collapsed": false
   },
   "outputs": [
    {
     "name": "stdout",
     "output_type": "stream",
     "text": [
      "539366.628221\n"
     ]
    }
   ],
   "source": [
    "print train_data['price'].mean()"
   ]
  },
  {
   "cell_type": "markdown",
   "metadata": {},
   "source": [
    "# Let's show what our prediction look like\n"
   ]
  },
  {
   "cell_type": "code",
   "execution_count": 26,
   "metadata": {
    "collapsed": true
   },
   "outputs": [],
   "source": [
    "import matplotlib.pyplot as plt\n",
    "%matplotlib inline"
   ]
  },
  {
   "cell_type": "code",
   "execution_count": 30,
   "metadata": {
    "collapsed": false
   },
   "outputs": [
    {
     "data": {
      "text/plain": [
       "[<matplotlib.lines.Line2D at 0x1ab467f0>,\n",
       " <matplotlib.lines.Line2D at 0x1ab46a20>]"
      ]
     },
     "execution_count": 30,
     "metadata": {},
     "output_type": "execute_result"
    },
    {
     "data": {
      "image/png": "[encoded data removed]",
      "text/plain": [
       "<matplotlib.figure.Figure at 0x208e8c18>"
      ]
     },
     "metadata": {},
     "output_type": "display_data"
    }
   ],
   "source": [
    "plt.plot(test_data['sqft_living'],test_data['price'],'.',\n",
    "        test_data['sqft_living'],sqft_model.predict(test_data),'-')"
   ]
  },
  {
   "cell_type": "code",
   "execution_count": 33,
   "metadata": {
    "collapsed": false
   },
   "outputs": [
    {
     "name": "stdout",
     "output_type": "stream",
     "text": [
      "{'max_error': 4146275.2353560636, 'rmse': 255180.28021985982}\n"
     ]
    }
   ],
   "source": [
    "print sqft_model.evaluate(test_data)"
   ]
  },
  {
   "cell_type": "code",
   "execution_count": 13,
   "metadata": {
    "collapsed": true
   },
   "outputs": [],
   "source": [
    "my_features = ['bedrooms','bathrooms','sqft_living','sqft_lot','floors','zipcode']"
   ]
  },
  {
   "cell_type": "code",
   "execution_count": 18,
   "metadata": {
    "collapsed": false
   },
   "outputs": [
    {
     "data": {
      "application/javascript": [
       "$(\"head\").append($(\"<link/>\").attr({\n",
       "  rel:  \"stylesheet\",\n",
       "  type: \"text/css\",\n",
       "  href: \"//cdnjs.cloudflare.com/ajax/libs/font-awesome/4.1.0/css/font-awesome.min.css\"\n",
       "}));\n",
       "$(\"head\").append($(\"<link/>\").attr({\n",
       "  rel:  \"stylesheet\",\n",
       "  type: \"text/css\",\n",
       "  href: \"//dato.com/files/canvas/1.6/css/canvas.css\"\n",
       "}));\n",
       "\n",
       "            (function(){\n",
       "\n",
       "                var e = null;\n",
       "                if (typeof element == 'undefined') {\n",
       "                    var scripts = document.getElementsByTagName('script');\n",
       "                    var thisScriptTag = scripts[scripts.length-1];\n",
       "                    var parentDiv = thisScriptTag.parentNode;\n",
       "                    e = document.createElement('div');\n",
       "                    parentDiv.appendChild(e);\n",
       "                } else {\n",
       "                    e = element[0];\n",
       "                }\n",
       "\n",
       "                if (typeof requirejs !== 'undefined') {\n",
       "                    // disable load timeout; ipython_app.js is large and can take a while to load.\n",
       "                    requirejs.config({waitSeconds: 0});\n",
       "                }\n",
       "\n",
       "                require(['//dato.com/files/canvas/1.6/js/ipython_app.js'], function(IPythonApp){\n",
       "                    var app = new IPythonApp();\n",
       "                    app.attachView('sframe','Summary', {\"ipython\": true, \"sketch\": {\"bathrooms\": {\"complete\": true, \"numeric\": false, \"num_unique\": 30, \"num_undefined\": 0, \"progress\": 1.0, \"frequent_items\": {\"1.5\": {\"frequency\": 1446, \"value\": \"1.5\"}, \"3.75\": {\"frequency\": 155, \"value\": \"3.75\"}, \"0.5\": {\"frequency\": 4, \"value\": \"0.5\"}, \"5.25\": {\"frequency\": 13, \"value\": \"5.25\"}, \"3.5\": {\"frequency\": 731, \"value\": \"3.5\"}, \"7.5\": {\"frequency\": 1, \"value\": \"7.5\"}, \"2.5\": {\"frequency\": 5380, \"value\": \"2.5\"}, \"4.5\": {\"frequency\": 100, \"value\": \"4.5\"}, \"5.5\": {\"frequency\": 10, \"value\": \"5.5\"}, \"1.75\": {\"frequency\": 3048, \"value\": \"1.75\"}, \"2.75\": {\"frequency\": 1185, \"value\": \"2.75\"}, \"5.75\": {\"frequency\": 4, \"value\": \"5.75\"}, \"1\": {\"frequency\": 3852, \"value\": \"1\"}, \"0\": {\"frequency\": 10, \"value\": \"0\"}, \"3\": {\"frequency\": 753, \"value\": \"3\"}, \"2\": {\"frequency\": 1930, \"value\": \"2\"}, \"3.25\": {\"frequency\": 589, \"value\": \"3.25\"}, \"4\": {\"frequency\": 136, \"value\": \"4\"}, \"6\": {\"frequency\": 6, \"value\": \"6\"}, \"5\": {\"frequency\": 21, \"value\": \"5\"}, \"6.25\": {\"frequency\": 2, \"value\": \"6.25\"}, \"6.75\": {\"frequency\": 2, \"value\": \"6.75\"}, \"0.75\": {\"frequency\": 72, \"value\": \"0.75\"}, \"8\": {\"frequency\": 2, \"value\": \"8\"}, \"4.25\": {\"frequency\": 79, \"value\": \"4.25\"}, \"4.75\": {\"frequency\": 23, \"value\": \"4.75\"}, \"6.5\": {\"frequency\": 2, \"value\": \"6.5\"}, \"7.75\": {\"frequency\": 1, \"value\": \"7.75\"}, \"1.25\": {\"frequency\": 9, \"value\": \"1.25\"}, \"2.25\": {\"frequency\": 2047, \"value\": \"2.25\"}}, \"size\": 21613}, \"bedrooms\": {\"complete\": true, \"numeric\": false, \"num_unique\": 13, \"num_undefined\": 0, \"progress\": 1.0, \"frequent_items\": {\"11\": {\"frequency\": 1, \"value\": \"11\"}, \"10\": {\"frequency\": 3, \"value\": \"10\"}, \"33\": {\"frequency\": 1, \"value\": \"33\"}, \"1\": {\"frequency\": 199, \"value\": \"1\"}, \"0\": {\"frequency\": 13, \"value\": \"0\"}, \"3\": {\"frequency\": 9824, \"value\": \"3\"}, \"2\": {\"frequency\": 2760, \"value\": \"2\"}, \"5\": {\"frequency\": 1601, \"value\": \"5\"}, \"4\": {\"frequency\": 6882, \"value\": \"4\"}, \"7\": {\"frequency\": 38, \"value\": \"7\"}, \"6\": {\"frequency\": 272, \"value\": \"6\"}, \"9\": {\"frequency\": 6, \"value\": \"9\"}, \"8\": {\"frequency\": 13, \"value\": \"8\"}}, \"size\": 21613}, \"zipcode\": {\"complete\": true, \"numeric\": false, \"num_unique\": 70, \"num_undefined\": 0, \"progress\": 1.0, \"frequent_items\": {\"98019\": {\"frequency\": 190, \"value\": \"98019\"}, \"98039\": {\"frequency\": 50, \"value\": \"98039\"}, \"98038\": {\"frequency\": 590, \"value\": \"98038\"}, \"98118\": {\"frequency\": 508, \"value\": \"98118\"}, \"98119\": {\"frequency\": 184, \"value\": \"98119\"}, \"98116\": {\"frequency\": 330, \"value\": \"98116\"}, \"98117\": {\"frequency\": 553, \"value\": \"98117\"}, \"98011\": {\"frequency\": 195, \"value\": \"98011\"}, \"98115\": {\"frequency\": 583, \"value\": \"98115\"}, \"98112\": {\"frequency\": 269, \"value\": \"98112\"}, \"98030\": {\"frequency\": 256, \"value\": \"98030\"}, \"98033\": {\"frequency\": 432, \"value\": \"98033\"}, \"98032\": {\"frequency\": 125, \"value\": \"98032\"}, \"98092\": {\"frequency\": 351, \"value\": \"98092\"}, \"98058\": {\"frequency\": 455, \"value\": \"98058\"}, \"98003\": {\"frequency\": 280, \"value\": \"98003\"}, \"98198\": {\"frequency\": 280, \"value\": \"98198\"}, \"98199\": {\"frequency\": 317, \"value\": \"98199\"}, \"98077\": {\"frequency\": 198, \"value\": \"98077\"}, \"98004\": {\"frequency\": 317, \"value\": \"98004\"}, \"98005\": {\"frequency\": 168, \"value\": \"98005\"}, \"98006\": {\"frequency\": 498, \"value\": \"98006\"}, \"98007\": {\"frequency\": 141, \"value\": \"98007\"}, \"98001\": {\"frequency\": 362, \"value\": \"98001\"}, \"98002\": {\"frequency\": 199, \"value\": \"98002\"}, \"98065\": {\"frequency\": 310, \"value\": \"98065\"}, \"98040\": {\"frequency\": 282, \"value\": \"98040\"}, \"98166\": {\"frequency\": 254, \"value\": \"98166\"}, \"98042\": {\"frequency\": 548, \"value\": \"98042\"}, \"98008\": {\"frequency\": 283, \"value\": \"98008\"}, \"98045\": {\"frequency\": 221, \"value\": \"98045\"}, \"98144\": {\"frequency\": 343, \"value\": \"98144\"}, \"98027\": {\"frequency\": 412, \"value\": \"98027\"}, \"98010\": {\"frequency\": 100, \"value\": \"98010\"}, \"98109\": {\"frequency\": 109, \"value\": \"98109\"}, \"98108\": {\"frequency\": 186, \"value\": \"98108\"}, \"98028\": {\"frequency\": 283, \"value\": \"98028\"}, \"98029\": {\"frequency\": 321, \"value\": \"98029\"}, \"98105\": {\"frequency\": 229, \"value\": \"98105\"}, \"98122\": {\"frequency\": 290, \"value\": \"98122\"}, \"98024\": {\"frequency\": 81, \"value\": \"98024\"}, \"98146\": {\"frequency\": 288, \"value\": \"98146\"}, \"98022\": {\"frequency\": 234, \"value\": \"98022\"}, \"98126\": {\"frequency\": 354, \"value\": \"98126\"}, \"98103\": {\"frequency\": 602, \"value\": \"98103\"}, \"98023\": {\"frequency\": 499, \"value\": \"98023\"}, \"98125\": {\"frequency\": 410, \"value\": \"98125\"}, \"98148\": {\"frequency\": 57, \"value\": \"98148\"}, \"98031\": {\"frequency\": 274, \"value\": \"98031\"}, \"98102\": {\"frequency\": 105, \"value\": \"98102\"}, \"98188\": {\"frequency\": 136, \"value\": \"98188\"}, \"98034\": {\"frequency\": 545, \"value\": \"98034\"}, \"98106\": {\"frequency\": 335, \"value\": \"98106\"}, \"98014\": {\"frequency\": 124, \"value\": \"98014\"}, \"98107\": {\"frequency\": 266, \"value\": \"98107\"}, \"98155\": {\"frequency\": 446, \"value\": \"98155\"}, \"98052\": {\"frequency\": 574, \"value\": \"98052\"}, \"98178\": {\"frequency\": 262, \"value\": \"98178\"}, \"98070\": {\"frequency\": 118, \"value\": \"98070\"}, \"98136\": {\"frequency\": 263, \"value\": \"98136\"}, \"98072\": {\"frequency\": 273, \"value\": \"98072\"}, \"98075\": {\"frequency\": 359, \"value\": \"98075\"}, \"98074\": {\"frequency\": 441, \"value\": \"98074\"}, \"98059\": {\"frequency\": 468, \"value\": \"98059\"}, \"98133\": {\"frequency\": 494, \"value\": \"98133\"}, \"98056\": {\"frequency\": 406, \"value\": \"98056\"}, \"98055\": {\"frequency\": 268, \"value\": \"98055\"}, \"98053\": {\"frequency\": 405, \"value\": \"98053\"}, \"98168\": {\"frequency\": 269, \"value\": \"98168\"}, \"98177\": {\"frequency\": 255, \"value\": \"98177\"}}, \"size\": 21613}, \"sqft_living\": {\"std\": 918.4196493828822, \"complete\": true, \"min\": 290.0, \"max\": 13540.0, \"quantile\": [290.0, 720.0, 790.0, 840.0, 890.0, 930.0, 970.0, 1010.0, 1030.0, 1060.0, 1090.0, 1120.0, 1150.0, 1170.0, 1200.0, 1220.0, 1240.0, 1260.0, 1280.0, 1300.0, 1320.0, 1340.0, 1365.0, 1390.0, 1400.0, 1430.0, 1440.0, 1460.0, 1480.0, 1500.0, 1520.0, 1540.0, 1560.0, 1580.0, 1600.0, 1610.0, 1640.0, 1654.0, 1670.0, 1690.0, 1710.0, 1730.0, 1750.0, 1770.0, 1790.0, 1810.0, 1830.0, 1850.0, 1870.0, 1890.0, 1910.0, 1940.0, 1960.0, 1980.0, 2000.0, 2020.0, 2050.0, 2070.0, 2090.0, 2110.0, 2130.0, 2160.0, 2180.0, 2210.0, 2230.0, 2260.0, 2290.0, 2310.0, 2340.0, 2370.0, 2400.0, 2420.0, 2450.0, 2490.0, 2514.0, 2550.0, 2580.0, 2620.0, 2650.0, 2690.0, 2730.0, 2770.0, 2810.0, 2860.0, 2910.0, 2970.0, 3010.0, 3070.0, 3130.0, 3190.0, 3250.0, 3330.0, 3420.0, 3520.0, 3640.0, 3770.0, 3930.0, 4150.0, 4420.0, 5020.0, 13540.0], \"median\": 1910.0, \"numeric\": true, \"num_unique\": 1036, \"num_undefined\": 0, \"var\": 843494.6523725762, \"progress\": 1.0, \"size\": 21613, \"frequent_items\": {\"2050\": {\"frequency\": 83, \"value\": 2050}, \"4100\": {\"frequency\": 5, \"value\": 4100}, \"2056\": {\"frequency\": 2, \"value\": 2056}, \"2732\": {\"frequency\": 2, \"value\": 2732}, \"2060\": {\"frequency\": 100, \"value\": 2060}, \"4110\": {\"frequency\": 10, \"value\": 4110}, \"2064\": {\"frequency\": 1, \"value\": 2064}, \"4115\": {\"frequency\": 1, \"value\": 4115}, \"2068\": {\"frequency\": 1, \"value\": 2068}, \"2070\": {\"frequency\": 92, \"value\": 2070}, \"4120\": {\"frequency\": 9, \"value\": 4120}, \"2052\": {\"frequency\": 1, \"value\": 2052}, \"2074\": {\"frequency\": 1, \"value\": 2074}, \"2075\": {\"frequency\": 2, \"value\": 2075}, \"2080\": {\"frequency\": 98, \"value\": 2080}, \"4130\": {\"frequency\": 8, \"value\": 4130}, \"2085\": {\"frequency\": 1, \"value\": 2085}, \"2090\": {\"frequency\": 95, \"value\": 2090}, \"4140\": {\"frequency\": 12, \"value\": 4140}, \"2093\": {\"frequency\": 1, \"value\": 2093}, \"2095\": {\"frequency\": 3, \"value\": 2095}, \"2099\": {\"frequency\": 1, \"value\": 2099}, \"2100\": {\"frequency\": 116, \"value\": 2100}, \"4150\": {\"frequency\": 10, \"value\": 4150}, \"6200\": {\"frequency\": 2, \"value\": 6200}, \"2105\": {\"frequency\": 1, \"value\": 2105}, \"2110\": {\"frequency\": 82, \"value\": 2110}, \"4160\": {\"frequency\": 7, \"value\": 4160}, \"6210\": {\"frequency\": 1, \"value\": 6210}, \"2115\": {\"frequency\": 1, \"value\": 2115}, \"2120\": {\"frequency\": 111, \"value\": 2120}, \"4170\": {\"frequency\": 6, \"value\": 4170}, \"2744\": {\"frequency\": 1, \"value\": 2744}, \"2130\": {\"frequency\": 94, \"value\": 2130}, \"4180\": {\"frequency\": 7, \"value\": 4180}, \"2134\": {\"frequency\": 1, \"value\": 2134}, \"2140\": {\"frequency\": 78, \"value\": 2140}, \"4190\": {\"frequency\": 6, \"value\": 4190}, \"6240\": {\"frequency\": 1, \"value\": 6240}, \"2145\": {\"frequency\": 1, \"value\": 2145}, \"2150\": {\"frequency\": 85, \"value\": 2150}, \"4200\": {\"frequency\": 6, \"value\": 4200}, \"2153\": {\"frequency\": 1, \"value\": 2153}, \"2154\": {\"frequency\": 2, \"value\": 2154}, \"2155\": {\"frequency\": 1, \"value\": 2155}, \"2156\": {\"frequency\": 1, \"value\": 2156}, \"2160\": {\"frequency\": 96, \"value\": 2160}, \"5480\": {\"frequency\": 4, \"value\": 5480}, \"4210\": {\"frequency\": 7, \"value\": 4210}, \"2163\": {\"frequency\": 2, \"value\": 2163}, \"6260\": {\"frequency\": 1, \"value\": 6260}, \"2166\": {\"frequency\": 1, \"value\": 2166}, \"2168\": {\"frequency\": 2, \"value\": 2168}, \"2170\": {\"frequency\": 80, \"value\": 2170}, \"4220\": {\"frequency\": 8, \"value\": 4220}, \"4225\": {\"frequency\": 1, \"value\": 4225}, \"2180\": {\"frequency\": 89, \"value\": 2180}, \"2181\": {\"frequency\": 1, \"value\": 2181}, \"4230\": {\"frequency\": 11, \"value\": 4230}, \"2185\": {\"frequency\": 1, \"value\": 2185}, \"2190\": {\"frequency\": 92, \"value\": 2190}, \"4240\": {\"frequency\": 7, \"value\": 4240}, \"3960\": {\"frequency\": 11, \"value\": 3960}, \"2195\": {\"frequency\": 1, \"value\": 2195}, \"2196\": {\"frequency\": 1, \"value\": 2196}, \"2414\": {\"frequency\": 1, \"value\": 2414}, \"2198\": {\"frequency\": 1, \"value\": 2198}, \"2200\": {\"frequency\": 93, \"value\": 2200}, \"2201\": {\"frequency\": 1, \"value\": 2201}, \"4250\": {\"frequency\": 10, \"value\": 4250}, \"6300\": {\"frequency\": 1, \"value\": 6300}, \"2206\": {\"frequency\": 1, \"value\": 2206}, \"2208\": {\"frequency\": 1, \"value\": 2208}, \"1392\": {\"frequency\": 1, \"value\": 1392}, \"2210\": {\"frequency\": 74, \"value\": 2210}, \"4260\": {\"frequency\": 6, \"value\": 4260}, \"2216\": {\"frequency\": 1, \"value\": 2216}, \"2217\": {\"frequency\": 1, \"value\": 2217}, \"2220\": {\"frequency\": 75, \"value\": 2220}, \"4270\": {\"frequency\": 11, \"value\": 4270}, \"2223\": {\"frequency\": 1, \"value\": 2223}, \"2229\": {\"frequency\": 1, \"value\": 2229}, \"2230\": {\"frequency\": 82, \"value\": 2230}, \"4280\": {\"frequency\": 9, \"value\": 4280}, \"2233\": {\"frequency\": 1, \"value\": 2233}, \"6330\": {\"frequency\": 1, \"value\": 6330}, \"2235\": {\"frequency\": 1, \"value\": 2235}, \"4285\": {\"frequency\": 2, \"value\": 4285}, \"2238\": {\"frequency\": 1, \"value\": 2238}, \"2240\": {\"frequency\": 101, \"value\": 2240}, \"4290\": {\"frequency\": 7, \"value\": 4290}, \"2244\": {\"frequency\": 1, \"value\": 2244}, \"2245\": {\"frequency\": 2, \"value\": 2245}, \"2250\": {\"frequency\": 68, \"value\": 2250}, \"2251\": {\"frequency\": 1, \"value\": 2251}, \"4300\": {\"frequency\": 8, \"value\": 4300}, \"2253\": {\"frequency\": 1, \"value\": 2253}, \"1741\": {\"frequency\": 2, \"value\": 1741}, \"2257\": {\"frequency\": 1, \"value\": 2257}, \"2259\": {\"frequency\": 1, \"value\": 2259}, \"2260\": {\"frequency\": 79, \"value\": 2260}, \"4310\": {\"frequency\": 5, \"value\": 4310}, \"2267\": {\"frequency\": 1, \"value\": 2267}, \"2270\": {\"frequency\": 62, \"value\": 2270}, \"4133\": {\"frequency\": 1, \"value\": 4133}, \"4320\": {\"frequency\": 9, \"value\": 4320}, \"6370\": {\"frequency\": 1, \"value\": 6370}, \"2280\": {\"frequency\": 81, \"value\": 2280}, \"4330\": {\"frequency\": 4, \"value\": 4330}, \"2283\": {\"frequency\": 1, \"value\": 2283}, \"6380\": {\"frequency\": 1, \"value\": 6380}, \"2286\": {\"frequency\": 1, \"value\": 2286}, \"2290\": {\"frequency\": 80, \"value\": 2290}, \"4340\": {\"frequency\": 8, \"value\": 4340}, \"6390\": {\"frequency\": 1, \"value\": 6390}, \"4168\": {\"frequency\": 1, \"value\": 4168}, \"2298\": {\"frequency\": 1, \"value\": 2298}, \"2300\": {\"frequency\": 84, \"value\": 2300}, \"2301\": {\"frequency\": 1, \"value\": 2301}, \"4350\": {\"frequency\": 7, \"value\": 4350}, \"2303\": {\"frequency\": 3, \"value\": 2303}, \"6400\": {\"frequency\": 1, \"value\": 6400}, \"2305\": {\"frequency\": 1, \"value\": 2305}, \"2310\": {\"frequency\": 59, \"value\": 2310}, \"2311\": {\"frequency\": 1, \"value\": 2311}, \"4360\": {\"frequency\": 9, \"value\": 4360}, \"2092\": {\"frequency\": 1, \"value\": 2092}, \"6410\": {\"frequency\": 1, \"value\": 6410}, \"6530\": {\"frequency\": 1, \"value\": 6530}, \"2320\": {\"frequency\": 90, \"value\": 2320}, \"1752\": {\"frequency\": 1, \"value\": 1752}, \"4370\": {\"frequency\": 8, \"value\": 4370}, \"3118\": {\"frequency\": 1, \"value\": 3118}, \"2329\": {\"frequency\": 2, \"value\": 2329}, \"2330\": {\"frequency\": 76, \"value\": 2330}, \"2331\": {\"frequency\": 1, \"value\": 2331}, \"4380\": {\"frequency\": 7, \"value\": 4380}, \"6430\": {\"frequency\": 1, \"value\": 6430}, \"1072\": {\"frequency\": 1, \"value\": 1072}, \"4386\": {\"frequency\": 1, \"value\": 4386}, \"2340\": {\"frequency\": 80, \"value\": 2340}, \"2341\": {\"frequency\": 1, \"value\": 2341}, \"4390\": {\"frequency\": 7, \"value\": 4390}, \"2344\": {\"frequency\": 2, \"value\": 2344}, \"2350\": {\"frequency\": 74, \"value\": 2350}, \"4400\": {\"frequency\": 5, \"value\": 4400}, \"3488\": {\"frequency\": 1, \"value\": 3488}, \"2738\": {\"frequency\": 1, \"value\": 2738}, \"2360\": {\"frequency\": 75, \"value\": 2360}, \"1076\": {\"frequency\": 1, \"value\": 1076}, \"4410\": {\"frequency\": 12, \"value\": 4410}, \"2370\": {\"frequency\": 75, \"value\": 2370}, \"4420\": {\"frequency\": 9, \"value\": 4420}, \"2375\": {\"frequency\": 1, \"value\": 2375}, \"2380\": {\"frequency\": 64, \"value\": 2380}, \"4430\": {\"frequency\": 6, \"value\": 4430}, \"3470\": {\"frequency\": 21, \"value\": 3470}, \"2390\": {\"frequency\": 85, \"value\": 2390}, \"4440\": {\"frequency\": 7, \"value\": 4440}, \"2393\": {\"frequency\": 1, \"value\": 2393}, \"6490\": {\"frequency\": 1, \"value\": 6490}, \"2395\": {\"frequency\": 1, \"value\": 2395}, \"2398\": {\"frequency\": 1, \"value\": 2398}, \"2400\": {\"frequency\": 84, \"value\": 2400}, \"4450\": {\"frequency\": 2, \"value\": 4450}, \"2403\": {\"frequency\": 1, \"value\": 2403}, \"6500\": {\"frequency\": 1, \"value\": 6500}, \"2406\": {\"frequency\": 1, \"value\": 2406}, \"1084\": {\"frequency\": 1, \"value\": 1084}, \"2410\": {\"frequency\": 57, \"value\": 2410}, \"4460\": {\"frequency\": 9, \"value\": 4460}, \"2413\": {\"frequency\": 1, \"value\": 2413}, \"6510\": {\"frequency\": 1, \"value\": 6510}, \"2415\": {\"frequency\": 1, \"value\": 2415}, \"370\": {\"frequency\": 1, \"value\": 370}, \"2420\": {\"frequency\": 88, \"value\": 2420}, \"4470\": {\"frequency\": 7, \"value\": 4470}, \"2423\": {\"frequency\": 1, \"value\": 2423}, \"2424\": {\"frequency\": 2, \"value\": 2424}, \"2425\": {\"frequency\": 1, \"value\": 2425}, \"4475\": {\"frequency\": 2, \"value\": 4475}, \"380\": {\"frequency\": 1, \"value\": 380}, \"2430\": {\"frequency\": 70, \"value\": 2430}, \"2432\": {\"frequency\": 1, \"value\": 2432}, \"3136\": {\"frequency\": 1, \"value\": 3136}, \"2434\": {\"frequency\": 1, \"value\": 2434}, \"2437\": {\"frequency\": 1, \"value\": 2437}, \"390\": {\"frequency\": 2, \"value\": 390}, \"2440\": {\"frequency\": 87, \"value\": 2440}, \"2441\": {\"frequency\": 1, \"value\": 2441}, \"4490\": {\"frequency\": 8, \"value\": 4490}, \"4495\": {\"frequency\": 1, \"value\": 4495}, \"2448\": {\"frequency\": 1, \"value\": 2448}, \"2450\": {\"frequency\": 52, \"value\": 2450}, \"4500\": {\"frequency\": 8, \"value\": 4500}, \"2798\": {\"frequency\": 2, \"value\": 2798}, \"6550\": {\"frequency\": 1, \"value\": 6550}, \"5810\": {\"frequency\": 1, \"value\": 5810}, \"2456\": {\"frequency\": 1, \"value\": 2456}, \"1092\": {\"frequency\": 1, \"value\": 1092}, \"410\": {\"frequency\": 1, \"value\": 410}, \"2460\": {\"frequency\": 66, \"value\": 2460}, \"4510\": {\"frequency\": 4, \"value\": 4510}, \"6563\": {\"frequency\": 1, \"value\": 6563}, \"420\": {\"frequency\": 2, \"value\": 420}, \"2470\": {\"frequency\": 52, \"value\": 2470}, \"4520\": {\"frequency\": 2, \"value\": 4520}, \"2473\": {\"frequency\": 1, \"value\": 2473}, \"2475\": {\"frequency\": 4, \"value\": 2475}, \"430\": {\"frequency\": 1, \"value\": 430}, \"2480\": {\"frequency\": 65, \"value\": 2480}, \"2481\": {\"frequency\": 1, \"value\": 2481}, \"4530\": {\"frequency\": 2, \"value\": 4530}, \"2483\": {\"frequency\": 2, \"value\": 2483}, \"440\": {\"frequency\": 1, \"value\": 440}, \"3828\": {\"frequency\": 1, \"value\": 3828}, \"2490\": {\"frequency\": 58, \"value\": 2490}, \"4540\": {\"frequency\": 1, \"value\": 4540}, \"2495\": {\"frequency\": 3, \"value\": 2495}, \"2496\": {\"frequency\": 1, \"value\": 2496}, \"2497\": {\"frequency\": 1, \"value\": 2497}, \"2500\": {\"frequency\": 90, \"value\": 2500}, \"1782\": {\"frequency\": 1, \"value\": 1782}, \"4550\": {\"frequency\": 2, \"value\": 4550}, \"3148\": {\"frequency\": 1, \"value\": 3148}, \"2506\": {\"frequency\": 2, \"value\": 2506}, \"2507\": {\"frequency\": 1, \"value\": 2507}, \"460\": {\"frequency\": 1, \"value\": 460}, \"2510\": {\"frequency\": 70, \"value\": 2510}, \"4560\": {\"frequency\": 8, \"value\": 4560}, \"2514\": {\"frequency\": 1, \"value\": 2514}, \"2517\": {\"frequency\": 1, \"value\": 2517}, \"2518\": {\"frequency\": 1, \"value\": 2518}, \"2519\": {\"frequency\": 1, \"value\": 2519}, \"2520\": {\"frequency\": 71, \"value\": 2520}, \"1444\": {\"frequency\": 1, \"value\": 1444}, \"4570\": {\"frequency\": 6, \"value\": 4570}, \"8670\": {\"frequency\": 1, \"value\": 8670}, \"4575\": {\"frequency\": 1, \"value\": 4575}, \"480\": {\"frequency\": 2, \"value\": 480}, \"2529\": {\"frequency\": 1, \"value\": 2529}, \"2530\": {\"frequency\": 48, \"value\": 2530}, \"2531\": {\"frequency\": 1, \"value\": 2531}, \"4580\": {\"frequency\": 2, \"value\": 4580}, \"6630\": {\"frequency\": 1, \"value\": 6630}, \"490\": {\"frequency\": 1, \"value\": 490}, \"2540\": {\"frequency\": 61, \"value\": 2540}, \"4590\": {\"frequency\": 7, \"value\": 4590}, \"6640\": {\"frequency\": 2, \"value\": 6640}, \"2547\": {\"frequency\": 1, \"value\": 2547}, \"500\": {\"frequency\": 1, \"value\": 500}, \"2550\": {\"frequency\": 74, \"value\": 2550}, \"4600\": {\"frequency\": 6, \"value\": 4600}, \"2555\": {\"frequency\": 1, \"value\": 2555}, \"2557\": {\"frequency\": 1, \"value\": 2557}, \"2560\": {\"frequency\": 58, \"value\": 2560}, \"4610\": {\"frequency\": 7, \"value\": 4610}, \"520\": {\"frequency\": 6, \"value\": 520}, \"2570\": {\"frequency\": 62, \"value\": 2570}, \"4620\": {\"frequency\": 3, \"value\": 4620}, \"6670\": {\"frequency\": 1, \"value\": 6670}, \"2575\": {\"frequency\": 1, \"value\": 2575}, \"2577\": {\"frequency\": 1, \"value\": 2577}, \"2578\": {\"frequency\": 1, \"value\": 2578}, \"2580\": {\"frequency\": 51, \"value\": 2580}, \"2478\": {\"frequency\": 1, \"value\": 2478}, \"4630\": {\"frequency\": 2, \"value\": 4630}, \"2584\": {\"frequency\": 1, \"value\": 2584}, \"540\": {\"frequency\": 2, \"value\": 540}, \"2590\": {\"frequency\": 55, \"value\": 2590}, \"4640\": {\"frequency\": 4, \"value\": 4640}, \"2594\": {\"frequency\": 1, \"value\": 2594}, \"4645\": {\"frequency\": 1, \"value\": 4645}, \"550\": {\"frequency\": 4, \"value\": 550}, \"2600\": {\"frequency\": 68, \"value\": 2600}, \"2601\": {\"frequency\": 1, \"value\": 2601}, \"4650\": {\"frequency\": 2, \"value\": 4650}, \"2605\": {\"frequency\": 3, \"value\": 2605}, \"560\": {\"frequency\": 4, \"value\": 560}, \"2610\": {\"frequency\": 51, \"value\": 2610}, \"4660\": {\"frequency\": 6, \"value\": 4660}, \"570\": {\"frequency\": 3, \"value\": 570}, \"2620\": {\"frequency\": 73, \"value\": 2620}, \"1802\": {\"frequency\": 1, \"value\": 1802}, \"4670\": {\"frequency\": 5, \"value\": 4670}, \"2623\": {\"frequency\": 1, \"value\": 2623}, \"580\": {\"frequency\": 5, \"value\": 580}, \"2630\": {\"frequency\": 53, \"value\": 2630}, \"2632\": {\"frequency\": 2, \"value\": 2632}, \"2828\": {\"frequency\": 1, \"value\": 2828}, \"1122\": {\"frequency\": 2, \"value\": 1122}, \"590\": {\"frequency\": 5, \"value\": 590}, \"2640\": {\"frequency\": 50, \"value\": 2640}, \"2641\": {\"frequency\": 2, \"value\": 2641}, \"4690\": {\"frequency\": 5, \"value\": 4690}, \"2643\": {\"frequency\": 1, \"value\": 2643}, \"600\": {\"frequency\": 7, \"value\": 600}, \"3172\": {\"frequency\": 1, \"value\": 3172}, \"2650\": {\"frequency\": 60, \"value\": 2650}, \"4700\": {\"frequency\": 8, \"value\": 4700}, \"2653\": {\"frequency\": 1, \"value\": 2653}, \"2655\": {\"frequency\": 1, \"value\": 2655}, \"2656\": {\"frequency\": 1, \"value\": 2656}, \"610\": {\"frequency\": 4, \"value\": 610}, \"2660\": {\"frequency\": 62, \"value\": 2660}, \"4710\": {\"frequency\": 1, \"value\": 4710}, \"2665\": {\"frequency\": 1, \"value\": 2665}, \"3362\": {\"frequency\": 1, \"value\": 3362}, \"620\": {\"frequency\": 12, \"value\": 620}, \"2669\": {\"frequency\": 1, \"value\": 2669}, \"2670\": {\"frequency\": 46, \"value\": 2670}, \"4720\": {\"frequency\": 4, \"value\": 4720}, \"2675\": {\"frequency\": 1, \"value\": 2675}, \"630\": {\"frequency\": 5, \"value\": 630}, \"2680\": {\"frequency\": 64, \"value\": 2680}, \"1812\": {\"frequency\": 1, \"value\": 1812}, \"4730\": {\"frequency\": 2, \"value\": 4730}, \"2683\": {\"frequency\": 1, \"value\": 2683}, \"640\": {\"frequency\": 5, \"value\": 640}, \"2689\": {\"frequency\": 2, \"value\": 2689}, \"2690\": {\"frequency\": 42, \"value\": 2690}, \"4740\": {\"frequency\": 5, \"value\": 4740}, \"1934\": {\"frequency\": 1, \"value\": 1934}, \"650\": {\"frequency\": 3, \"value\": 650}, \"2700\": {\"frequency\": 58, \"value\": 2700}, \"2701\": {\"frequency\": 2, \"value\": 2701}, \"4750\": {\"frequency\": 5, \"value\": 4750}, \"660\": {\"frequency\": 6, \"value\": 660}, \"2710\": {\"frequency\": 51, \"value\": 2710}, \"4760\": {\"frequency\": 1, \"value\": 4760}, \"2714\": {\"frequency\": 2, \"value\": 2714}, \"2716\": {\"frequency\": 1, \"value\": 2716}, \"2717\": {\"frequency\": 1, \"value\": 2717}, \"670\": {\"frequency\": 25, \"value\": 670}, \"2720\": {\"frequency\": 58, \"value\": 2720}, \"4770\": {\"frequency\": 2, \"value\": 4770}, \"2502\": {\"frequency\": 1, \"value\": 2502}, \"6160\": {\"frequency\": 1, \"value\": 6160}, \"680\": {\"frequency\": 13, \"value\": 680}, \"2730\": {\"frequency\": 48, \"value\": 2730}, \"4780\": {\"frequency\": 2, \"value\": 4780}, \"2734\": {\"frequency\": 1, \"value\": 2734}, \"690\": {\"frequency\": 8, \"value\": 690}, \"2740\": {\"frequency\": 53, \"value\": 2740}, \"4790\": {\"frequency\": 2, \"value\": 4790}, \"6840\": {\"frequency\": 1, \"value\": 6840}, \"700\": {\"frequency\": 36, \"value\": 700}, \"2750\": {\"frequency\": 40, \"value\": 2750}, \"4800\": {\"frequency\": 3, \"value\": 4800}, \"2753\": {\"frequency\": 1, \"value\": 2753}, \"2755\": {\"frequency\": 2, \"value\": 2755}, \"710\": {\"frequency\": 27, \"value\": 710}, \"2760\": {\"frequency\": 43, \"value\": 2760}, \"4810\": {\"frequency\": 2, \"value\": 4810}, \"720\": {\"frequency\": 49, \"value\": 720}, \"3192\": {\"frequency\": 1, \"value\": 3192}, \"2770\": {\"frequency\": 56, \"value\": 2770}, \"4820\": {\"frequency\": 1, \"value\": 4820}, \"730\": {\"frequency\": 14, \"value\": 730}, \"2780\": {\"frequency\": 47, \"value\": 2780}, \"4830\": {\"frequency\": 4, \"value\": 4830}, \"2783\": {\"frequency\": 1, \"value\": 2783}, \"6880\": {\"frequency\": 1, \"value\": 6880}, \"740\": {\"frequency\": 22, \"value\": 740}, \"2789\": {\"frequency\": 1, \"value\": 2789}, \"2790\": {\"frequency\": 52, \"value\": 2790}, \"2793\": {\"frequency\": 1, \"value\": 2793}, \"2795\": {\"frequency\": 1, \"value\": 2795}, \"2796\": {\"frequency\": 1, \"value\": 2796}, \"750\": {\"frequency\": 27, \"value\": 750}, \"2800\": {\"frequency\": 54, \"value\": 2800}, \"4850\": {\"frequency\": 4, \"value\": 4850}, \"2803\": {\"frequency\": 1, \"value\": 2803}, \"6900\": {\"frequency\": 1, \"value\": 6900}, \"2807\": {\"frequency\": 1, \"value\": 2807}, \"760\": {\"frequency\": 25, \"value\": 760}, \"2810\": {\"frequency\": 46, \"value\": 2810}, \"2811\": {\"frequency\": 1, \"value\": 2811}, \"4860\": {\"frequency\": 5, \"value\": 4860}, \"1834\": {\"frequency\": 1, \"value\": 1834}, \"2815\": {\"frequency\": 2, \"value\": 2815}, \"770\": {\"frequency\": 42, \"value\": 770}, \"2820\": {\"frequency\": 54, \"value\": 2820}, \"470\": {\"frequency\": 2, \"value\": 470}, \"4870\": {\"frequency\": 3, \"value\": 4870}, \"780\": {\"frequency\": 26, \"value\": 780}, \"3202\": {\"frequency\": 1, \"value\": 3202}, \"2830\": {\"frequency\": 46, \"value\": 2830}, \"6930\": {\"frequency\": 1, \"value\": 6930}, \"4883\": {\"frequency\": 1, \"value\": 4883}, \"790\": {\"frequency\": 38, \"value\": 790}, \"2840\": {\"frequency\": 49, \"value\": 2840}, \"4890\": {\"frequency\": 3, \"value\": 4890}, \"2844\": {\"frequency\": 1, \"value\": 2844}, \"2846\": {\"frequency\": 1, \"value\": 2846}, \"800\": {\"frequency\": 47, \"value\": 800}, \"2849\": {\"frequency\": 1, \"value\": 2849}, \"2850\": {\"frequency\": 38, \"value\": 2850}, \"809\": {\"frequency\": 1, \"value\": 809}, \"810\": {\"frequency\": 27, \"value\": 810}, \"2860\": {\"frequency\": 39, \"value\": 2860}, \"4910\": {\"frequency\": 4, \"value\": 4910}, \"2864\": {\"frequency\": 1, \"value\": 2864}, \"820\": {\"frequency\": 40, \"value\": 820}, \"1502\": {\"frequency\": 1, \"value\": 1502}, \"2870\": {\"frequency\": 38, \"value\": 2870}, \"4920\": {\"frequency\": 3, \"value\": 4920}, \"828\": {\"frequency\": 1, \"value\": 828}, \"830\": {\"frequency\": 36, \"value\": 830}, \"2880\": {\"frequency\": 46, \"value\": 2880}, \"833\": {\"frequency\": 1, \"value\": 833}, \"4930\": {\"frequency\": 4, \"value\": 4930}, \"6980\": {\"frequency\": 1, \"value\": 6980}, \"2885\": {\"frequency\": 1, \"value\": 2885}, \"840\": {\"frequency\": 56, \"value\": 840}, \"2890\": {\"frequency\": 34, \"value\": 2890}, \"2891\": {\"frequency\": 1, \"value\": 2891}, \"4940\": {\"frequency\": 1, \"value\": 4940}, \"850\": {\"frequency\": 26, \"value\": 850}, \"2900\": {\"frequency\": 35, \"value\": 2900}, \"7000\": {\"frequency\": 1, \"value\": 7000}, \"2905\": {\"frequency\": 1, \"value\": 2905}, \"2906\": {\"frequency\": 1, \"value\": 2906}, \"860\": {\"frequency\": 57, \"value\": 860}, \"2910\": {\"frequency\": 57, \"value\": 2910}, \"4960\": {\"frequency\": 2, \"value\": 4960}, \"2192\": {\"frequency\": 1, \"value\": 2192}, \"1510\": {\"frequency\": 114, \"value\": 1510}, \"870\": {\"frequency\": 36, \"value\": 870}, \"2920\": {\"frequency\": 43, \"value\": 2920}, \"2876\": {\"frequency\": 2, \"value\": 2876}, \"4970\": {\"frequency\": 1, \"value\": 4970}, \"2927\": {\"frequency\": 2, \"value\": 2927}, \"880\": {\"frequency\": 54, \"value\": 880}, \"2930\": {\"frequency\": 37, \"value\": 2930}, \"4980\": {\"frequency\": 2, \"value\": 4980}, \"3030\": {\"frequency\": 45, \"value\": 3030}, \"890\": {\"frequency\": 33, \"value\": 890}, \"2940\": {\"frequency\": 34, \"value\": 2940}, \"2538\": {\"frequency\": 1, \"value\": 2538}, \"894\": {\"frequency\": 1, \"value\": 894}, \"900\": {\"frequency\": 53, \"value\": 900}, \"901\": {\"frequency\": 1, \"value\": 901}, \"2950\": {\"frequency\": 32, \"value\": 2950}, \"5000\": {\"frequency\": 4, \"value\": 5000}, \"7050\": {\"frequency\": 1, \"value\": 7050}, \"3223\": {\"frequency\": 2, \"value\": 3223}, \"910\": {\"frequency\": 60, \"value\": 910}, \"2960\": {\"frequency\": 37, \"value\": 2960}, \"2961\": {\"frequency\": 1, \"value\": 2961}, \"5010\": {\"frequency\": 3, \"value\": 5010}, \"2963\": {\"frequency\": 1, \"value\": 2963}, \"2542\": {\"frequency\": 1, \"value\": 2542}, \"920\": {\"frequency\": 51, \"value\": 920}, \"2970\": {\"frequency\": 29, \"value\": 2970}, \"5020\": {\"frequency\": 3, \"value\": 5020}, \"2544\": {\"frequency\": 1, \"value\": 2544}, \"930\": {\"frequency\": 43, \"value\": 930}, \"2979\": {\"frequency\": 1, \"value\": 2979}, \"2980\": {\"frequency\": 57, \"value\": 2980}, \"5030\": {\"frequency\": 1, \"value\": 5030}, \"7080\": {\"frequency\": 1, \"value\": 7080}, \"940\": {\"frequency\": 62, \"value\": 940}, \"1522\": {\"frequency\": 1, \"value\": 1522}, \"2990\": {\"frequency\": 48, \"value\": 2990}, \"5040\": {\"frequency\": 3, \"value\": 5040}, \"2993\": {\"frequency\": 1, \"value\": 2993}, \"950\": {\"frequency\": 46, \"value\": 950}, \"3000\": {\"frequency\": 40, \"value\": 3000}, \"3001\": {\"frequency\": 1, \"value\": 3001}, \"5050\": {\"frequency\": 4, \"value\": 5050}, \"7100\": {\"frequency\": 1, \"value\": 7100}, \"960\": {\"frequency\": 82, \"value\": 960}, \"3010\": {\"frequency\": 48, \"value\": 3010}, \"1867\": {\"frequency\": 1, \"value\": 1867}, \"5060\": {\"frequency\": 1, \"value\": 5060}, \"844\": {\"frequency\": 1, \"value\": 844}, \"970\": {\"frequency\": 49, \"value\": 970}, \"5067\": {\"frequency\": 1, \"value\": 5067}, \"3020\": {\"frequency\": 41, \"value\": 3020}, \"5070\": {\"frequency\": 1, \"value\": 5070}, \"7120\": {\"frequency\": 1, \"value\": 7120}, \"980\": {\"frequency\": 53, \"value\": 980}, \"982\": {\"frequency\": 1, \"value\": 982}, \"5080\": {\"frequency\": 1, \"value\": 5080}, \"988\": {\"frequency\": 1, \"value\": 988}, \"990\": {\"frequency\": 53, \"value\": 990}, \"3040\": {\"frequency\": 45, \"value\": 3040}, \"5090\": {\"frequency\": 2, \"value\": 5090}, \"3238\": {\"frequency\": 1, \"value\": 3238}, \"998\": {\"frequency\": 2, \"value\": 998}, \"1000\": {\"frequency\": 73, \"value\": 1000}, \"3050\": {\"frequency\": 25, \"value\": 3050}, \"3052\": {\"frequency\": 1, \"value\": 3052}, \"1008\": {\"frequency\": 1, \"value\": 1008}, \"1010\": {\"frequency\": 129, \"value\": 1010}, \"3060\": {\"frequency\": 34, \"value\": 3060}, \"5110\": {\"frequency\": 2, \"value\": 5110}, \"3064\": {\"frequency\": 1, \"value\": 3064}, \"1876\": {\"frequency\": 1, \"value\": 1876}, \"1020\": {\"frequency\": 73, \"value\": 1020}, \"3070\": {\"frequency\": 36, \"value\": 3070}, \"5120\": {\"frequency\": 2, \"value\": 5120}, \"1030\": {\"frequency\": 57, \"value\": 1030}, \"3080\": {\"frequency\": 36, \"value\": 3080}, \"3444\": {\"frequency\": 1, \"value\": 3444}, \"5130\": {\"frequency\": 1, \"value\": 5130}, \"3085\": {\"frequency\": 1, \"value\": 3085}, \"12050\": {\"frequency\": 1, \"value\": 12050}, \"3087\": {\"frequency\": 1, \"value\": 3087}, \"1040\": {\"frequency\": 78, \"value\": 1040}, \"3090\": {\"frequency\": 38, \"value\": 3090}, \"1048\": {\"frequency\": 1, \"value\": 1048}, \"1050\": {\"frequency\": 68, \"value\": 1050}, \"3100\": {\"frequency\": 34, \"value\": 3100}, \"5150\": {\"frequency\": 3, \"value\": 5150}, \"1060\": {\"frequency\": 94, \"value\": 1060}, \"1061\": {\"frequency\": 1, \"value\": 1061}, \"3110\": {\"frequency\": 35, \"value\": 3110}, \"5160\": {\"frequency\": 1, \"value\": 5160}, \"1068\": {\"frequency\": 3, \"value\": 1068}, \"1070\": {\"frequency\": 76, \"value\": 1070}, \"3120\": {\"frequency\": 24, \"value\": 3120}, \"2568\": {\"frequency\": 1, \"value\": 2568}, \"5170\": {\"frequency\": 1, \"value\": 5170}, \"7220\": {\"frequency\": 1, \"value\": 7220}, \"1078\": {\"frequency\": 1, \"value\": 1078}, \"1080\": {\"frequency\": 50, \"value\": 1080}, \"3130\": {\"frequency\": 35, \"value\": 3130}, \"5180\": {\"frequency\": 5, \"value\": 5180}, \"3133\": {\"frequency\": 1, \"value\": 3133}, \"3135\": {\"frequency\": 1, \"value\": 3135}, \"1088\": {\"frequency\": 2, \"value\": 1088}, \"1090\": {\"frequency\": 69, \"value\": 1090}, \"3140\": {\"frequency\": 32, \"value\": 3140}, \"5190\": {\"frequency\": 3, \"value\": 5190}, \"1095\": {\"frequency\": 1, \"value\": 1095}, \"1100\": {\"frequency\": 79, \"value\": 1100}, \"3150\": {\"frequency\": 36, \"value\": 3150}, \"1108\": {\"frequency\": 1, \"value\": 1108}, \"1110\": {\"frequency\": 48, \"value\": 1110}, \"3160\": {\"frequency\": 49, \"value\": 3160}, \"5210\": {\"frequency\": 1, \"value\": 5210}, \"1120\": {\"frequency\": 86, \"value\": 1120}, \"1552\": {\"frequency\": 2, \"value\": 1552}, \"3170\": {\"frequency\": 22, \"value\": 3170}, \"5220\": {\"frequency\": 2, \"value\": 5220}, \"1894\": {\"frequency\": 1, \"value\": 1894}, \"7270\": {\"frequency\": 1, \"value\": 7270}, \"3176\": {\"frequency\": 1, \"value\": 3176}, \"1129\": {\"frequency\": 1, \"value\": 1129}, \"1130\": {\"frequency\": 56, \"value\": 1130}, \"1131\": {\"frequency\": 1, \"value\": 1131}, \"3180\": {\"frequency\": 41, \"value\": 3180}, \"3181\": {\"frequency\": 1, \"value\": 3181}, \"5230\": {\"frequency\": 3, \"value\": 5230}, \"1140\": {\"frequency\": 100, \"value\": 1140}, \"3190\": {\"frequency\": 47, \"value\": 3190}, \"5240\": {\"frequency\": 1, \"value\": 5240}, \"2708\": {\"frequency\": 1, \"value\": 2708}, \"1150\": {\"frequency\": 98, \"value\": 1150}, \"3200\": {\"frequency\": 36, \"value\": 3200}, \"5250\": {\"frequency\": 1, \"value\": 5250}, \"3206\": {\"frequency\": 1, \"value\": 3206}, \"1159\": {\"frequency\": 1, \"value\": 1159}, \"1160\": {\"frequency\": 91, \"value\": 1160}, \"3210\": {\"frequency\": 18, \"value\": 3210}, \"2242\": {\"frequency\": 5, \"value\": 2242}, \"3216\": {\"frequency\": 1, \"value\": 3216}, \"3217\": {\"frequency\": 1, \"value\": 3217}, \"1170\": {\"frequency\": 78, \"value\": 1170}, \"3220\": {\"frequency\": 40, \"value\": 3220}, \"5270\": {\"frequency\": 3, \"value\": 5270}, \"1175\": {\"frequency\": 2, \"value\": 1175}, \"7320\": {\"frequency\": 1, \"value\": 7320}, \"1180\": {\"frequency\": 89, \"value\": 1180}, \"3028\": {\"frequency\": 1, \"value\": 3028}, \"3230\": {\"frequency\": 36, \"value\": 3230}, \"5280\": {\"frequency\": 1, \"value\": 5280}, \"3236\": {\"frequency\": 1, \"value\": 3236}, \"1190\": {\"frequency\": 67, \"value\": 1190}, \"3240\": {\"frequency\": 31, \"value\": 3240}, \"2588\": {\"frequency\": 2, \"value\": 2588}, \"5290\": {\"frequency\": 2, \"value\": 5290}, \"1200\": {\"frequency\": 118, \"value\": 1200}, \"3250\": {\"frequency\": 28, \"value\": 3250}, \"5300\": {\"frequency\": 2, \"value\": 5300}, \"7350\": {\"frequency\": 1, \"value\": 7350}, \"5305\": {\"frequency\": 1, \"value\": 5305}, \"1210\": {\"frequency\": 88, \"value\": 1210}, \"3260\": {\"frequency\": 20, \"value\": 3260}, \"5310\": {\"frequency\": 4, \"value\": 5310}, \"3266\": {\"frequency\": 2, \"value\": 3266}, \"1220\": {\"frequency\": 92, \"value\": 1220}, \"3270\": {\"frequency\": 23, \"value\": 3270}, \"5320\": {\"frequency\": 1, \"value\": 5320}, \"3273\": {\"frequency\": 1, \"value\": 3273}, \"3274\": {\"frequency\": 1, \"value\": 3274}, \"3276\": {\"frequency\": 1, \"value\": 3276}, \"1230\": {\"frequency\": 82, \"value\": 1230}, \"3280\": {\"frequency\": 29, \"value\": 3280}, \"1233\": {\"frequency\": 1, \"value\": 1233}, \"5330\": {\"frequency\": 2, \"value\": 5330}, \"3284\": {\"frequency\": 1, \"value\": 3284}, \"1239\": {\"frequency\": 1, \"value\": 1239}, \"1240\": {\"frequency\": 112, \"value\": 1240}, \"1572\": {\"frequency\": 1, \"value\": 1572}, \"3290\": {\"frequency\": 29, \"value\": 3290}, \"5340\": {\"frequency\": 1, \"value\": 5340}, \"7390\": {\"frequency\": 1, \"value\": 7390}, \"1232\": {\"frequency\": 1, \"value\": 1232}, \"1250\": {\"frequency\": 120, \"value\": 1250}, \"13540\": {\"frequency\": 1, \"value\": 13540}, \"2598\": {\"frequency\": 1, \"value\": 2598}, \"5350\": {\"frequency\": 2, \"value\": 5350}, \"1255\": {\"frequency\": 2, \"value\": 1255}, \"1256\": {\"frequency\": 1, \"value\": 1256}, \"3305\": {\"frequency\": 1, \"value\": 3305}, \"1260\": {\"frequency\": 113, \"value\": 1260}, \"3310\": {\"frequency\": 23, \"value\": 3310}, \"893\": {\"frequency\": 1, \"value\": 893}, \"5360\": {\"frequency\": 1, \"value\": 5360}, \"3316\": {\"frequency\": 1, \"value\": 3316}, \"1270\": {\"frequency\": 102, \"value\": 1270}, \"3320\": {\"frequency\": 36, \"value\": 3320}, \"5370\": {\"frequency\": 5, \"value\": 5370}, \"1275\": {\"frequency\": 1, \"value\": 1275}, \"7420\": {\"frequency\": 1, \"value\": 7420}, \"1278\": {\"frequency\": 1, \"value\": 1278}, \"1280\": {\"frequency\": 100, \"value\": 1280}, \"3330\": {\"frequency\": 21, \"value\": 3330}, \"1290\": {\"frequency\": 74, \"value\": 1290}, \"3340\": {\"frequency\": 22, \"value\": 3340}, \"1295\": {\"frequency\": 1, \"value\": 1295}, \"7440\": {\"frequency\": 1, \"value\": 7440}, \"384\": {\"frequency\": 1, \"value\": 384}, \"1300\": {\"frequency\": 138, \"value\": 1300}, \"3350\": {\"frequency\": 22, \"value\": 3350}, \"5400\": {\"frequency\": 1, \"value\": 5400}, \"5403\": {\"frequency\": 1, \"value\": 5403}, \"1310\": {\"frequency\": 81, \"value\": 1310}, \"3360\": {\"frequency\": 22, \"value\": 3360}, \"3361\": {\"frequency\": 2, \"value\": 3361}, \"5410\": {\"frequency\": 1, \"value\": 5410}, \"1315\": {\"frequency\": 1, \"value\": 1315}, \"902\": {\"frequency\": 1, \"value\": 902}, \"3366\": {\"frequency\": 1, \"value\": 3366}, \"1320\": {\"frequency\": 122, \"value\": 1320}, \"3370\": {\"frequency\": 39, \"value\": 3370}, \"5420\": {\"frequency\": 1, \"value\": 5420}, \"7730\": {\"frequency\": 1, \"value\": 7730}, \"1330\": {\"frequency\": 89, \"value\": 1330}, \"3380\": {\"frequency\": 17, \"value\": 3380}, \"1333\": {\"frequency\": 1, \"value\": 1333}, \"5430\": {\"frequency\": 2, \"value\": 5430}, \"7480\": {\"frequency\": 1, \"value\": 7480}, \"2612\": {\"frequency\": 1, \"value\": 2612}, \"1340\": {\"frequency\": 113, \"value\": 1340}, \"3390\": {\"frequency\": 16, \"value\": 3390}, \"5440\": {\"frequency\": 2, \"value\": 5440}, \"1347\": {\"frequency\": 1, \"value\": 1347}, \"1350\": {\"frequency\": 95, \"value\": 1350}, \"3400\": {\"frequency\": 30, \"value\": 3400}, \"3402\": {\"frequency\": 1, \"value\": 3402}, \"1358\": {\"frequency\": 3, \"value\": 1358}, \"5860\": {\"frequency\": 3, \"value\": 5860}, \"1360\": {\"frequency\": 96, \"value\": 1360}, \"3410\": {\"frequency\": 24, \"value\": 3410}, \"5461\": {\"frequency\": 1, \"value\": 5461}, \"3300\": {\"frequency\": 24, \"value\": 3300}, \"1370\": {\"frequency\": 118, \"value\": 1370}, \"3420\": {\"frequency\": 32, \"value\": 3420}, \"5470\": {\"frequency\": 2, \"value\": 5470}, \"1380\": {\"frequency\": 85, \"value\": 1380}, \"1381\": {\"frequency\": 1, \"value\": 1381}, \"3430\": {\"frequency\": 20, \"value\": 3430}, \"1384\": {\"frequency\": 3, \"value\": 1384}, \"1390\": {\"frequency\": 89, \"value\": 1390}, \"3440\": {\"frequency\": 27, \"value\": 3440}, \"7400\": {\"frequency\": 1, \"value\": 7400}, \"5490\": {\"frequency\": 2, \"value\": 5490}, \"1396\": {\"frequency\": 1, \"value\": 1396}, \"1397\": {\"frequency\": 1, \"value\": 1397}, \"1400\": {\"frequency\": 135, \"value\": 1400}, \"3450\": {\"frequency\": 24, \"value\": 3450}, \"1405\": {\"frequency\": 1, \"value\": 1405}, \"1408\": {\"frequency\": 1, \"value\": 1408}, \"1410\": {\"frequency\": 109, \"value\": 1410}, \"3460\": {\"frequency\": 14, \"value\": 3460}, \"1413\": {\"frequency\": 2, \"value\": 1413}, \"3078\": {\"frequency\": 1, \"value\": 3078}, \"1420\": {\"frequency\": 92, \"value\": 1420}, \"1422\": {\"frequency\": 1, \"value\": 1422}, \"5520\": {\"frequency\": 1, \"value\": 5520}, \"1425\": {\"frequency\": 1, \"value\": 1425}, \"4480\": {\"frequency\": 3, \"value\": 4480}, \"1427\": {\"frequency\": 1, \"value\": 1427}, \"1430\": {\"frequency\": 116, \"value\": 1430}, \"3480\": {\"frequency\": 21, \"value\": 3480}, \"2628\": {\"frequency\": 1, \"value\": 2628}, \"5530\": {\"frequency\": 1, \"value\": 5530}, \"1435\": {\"frequency\": 1, \"value\": 1435}, \"1440\": {\"frequency\": 133, \"value\": 1440}, \"1264\": {\"frequency\": 1, \"value\": 1264}, \"3490\": {\"frequency\": 26, \"value\": 3490}, \"5540\": {\"frequency\": 2, \"value\": 5540}, \"1445\": {\"frequency\": 5, \"value\": 1445}, \"9640\": {\"frequency\": 1, \"value\": 9640}, \"5545\": {\"frequency\": 1, \"value\": 5545}, \"1450\": {\"frequency\": 91, \"value\": 1450}, \"1451\": {\"frequency\": 1, \"value\": 1451}, \"3500\": {\"frequency\": 29, \"value\": 3500}, \"1453\": {\"frequency\": 1, \"value\": 1453}, \"5550\": {\"frequency\": 4, \"value\": 5550}, \"3504\": {\"frequency\": 1, \"value\": 3504}, \"4680\": {\"frequency\": 2, \"value\": 4680}, \"1458\": {\"frequency\": 1, \"value\": 1458}, \"1460\": {\"frequency\": 116, \"value\": 1460}, \"3510\": {\"frequency\": 21, \"value\": 3510}, \"1463\": {\"frequency\": 1, \"value\": 1463}, \"1465\": {\"frequency\": 1, \"value\": 1465}, \"1470\": {\"frequency\": 112, \"value\": 1470}, \"3520\": {\"frequency\": 21, \"value\": 3520}, \"1952\": {\"frequency\": 1, \"value\": 1952}, \"5570\": {\"frequency\": 1, \"value\": 5570}, \"7620\": {\"frequency\": 1, \"value\": 7620}, \"3526\": {\"frequency\": 1, \"value\": 3526}, \"3527\": {\"frequency\": 1, \"value\": 3527}, \"1480\": {\"frequency\": 125, \"value\": 1480}, \"1481\": {\"frequency\": 2, \"value\": 1481}, \"3530\": {\"frequency\": 21, \"value\": 3530}, \"1484\": {\"frequency\": 1, \"value\": 1484}, \"1954\": {\"frequency\": 2, \"value\": 1954}, \"5584\": {\"frequency\": 1, \"value\": 5584}, \"1489\": {\"frequency\": 3, \"value\": 1489}, \"1490\": {\"frequency\": 99, \"value\": 1490}, \"3540\": {\"frequency\": 14, \"value\": 3540}, \"1494\": {\"frequency\": 2, \"value\": 1494}, \"1495\": {\"frequency\": 1, \"value\": 1495}, \"1496\": {\"frequency\": 1, \"value\": 1496}, \"3545\": {\"frequency\": 1, \"value\": 3545}, \"1500\": {\"frequency\": 112, \"value\": 1500}, \"3550\": {\"frequency\": 20, \"value\": 3550}, \"5600\": {\"frequency\": 1, \"value\": 5600}, \"3555\": {\"frequency\": 1, \"value\": 3555}, \"1509\": {\"frequency\": 3, \"value\": 1509}, \"1414\": {\"frequency\": 1, \"value\": 1414}, \"3560\": {\"frequency\": 28, \"value\": 3560}, \"5610\": {\"frequency\": 2, \"value\": 5610}, \"1516\": {\"frequency\": 1, \"value\": 1516}, \"1520\": {\"frequency\": 102, \"value\": 1520}, \"3569\": {\"frequency\": 1, \"value\": 3569}, \"3570\": {\"frequency\": 16, \"value\": 3570}, \"5620\": {\"frequency\": 2, \"value\": 5620}, \"1528\": {\"frequency\": 1, \"value\": 1528}, \"1530\": {\"frequency\": 109, \"value\": 1530}, \"3580\": {\"frequency\": 14, \"value\": 3580}, \"5635\": {\"frequency\": 1, \"value\": 5635}, \"1540\": {\"frequency\": 124, \"value\": 1540}, \"3590\": {\"frequency\": 7, \"value\": 3590}, \"5640\": {\"frequency\": 1, \"value\": 5640}, \"3595\": {\"frequency\": 1, \"value\": 3595}, \"3596\": {\"frequency\": 1, \"value\": 3596}, \"3597\": {\"frequency\": 1, \"value\": 3597}, \"1550\": {\"frequency\": 96, \"value\": 1550}, \"3600\": {\"frequency\": 25, \"value\": 3600}, \"1553\": {\"frequency\": 2, \"value\": 1553}, \"1556\": {\"frequency\": 1, \"value\": 1556}, \"1560\": {\"frequency\": 124, \"value\": 1560}, \"3610\": {\"frequency\": 19, \"value\": 3610}, \"5660\": {\"frequency\": 1, \"value\": 5660}, \"1626\": {\"frequency\": 1, \"value\": 1626}, \"7710\": {\"frequency\": 1, \"value\": 7710}, \"1570\": {\"frequency\": 100, \"value\": 1570}, \"1571\": {\"frequency\": 1, \"value\": 1571}, \"3620\": {\"frequency\": 17, \"value\": 3620}, \"5670\": {\"frequency\": 1, \"value\": 5670}, \"1578\": {\"frequency\": 1, \"value\": 1578}, \"1580\": {\"frequency\": 119, \"value\": 1580}, \"3630\": {\"frequency\": 13, \"value\": 3630}, \"1584\": {\"frequency\": 3, \"value\": 1584}, \"530\": {\"frequency\": 3, \"value\": 530}, \"1212\": {\"frequency\": 1, \"value\": 1212}, \"1590\": {\"frequency\": 104, \"value\": 1590}, \"2313\": {\"frequency\": 1, \"value\": 2313}, \"3640\": {\"frequency\": 13, \"value\": 3640}, \"1594\": {\"frequency\": 1, \"value\": 1594}, \"1600\": {\"frequency\": 109, \"value\": 1600}, \"1601\": {\"frequency\": 1, \"value\": 1601}, \"3650\": {\"frequency\": 19, \"value\": 3650}, \"5700\": {\"frequency\": 1, \"value\": 5700}, \"1606\": {\"frequency\": 1, \"value\": 1606}, \"3655\": {\"frequency\": 1, \"value\": 3655}, \"1608\": {\"frequency\": 3, \"value\": 1608}, \"1610\": {\"frequency\": 112, \"value\": 1610}, \"1611\": {\"frequency\": 1, \"value\": 1611}, \"3660\": {\"frequency\": 10, \"value\": 3660}, \"1613\": {\"frequency\": 1, \"value\": 1613}, \"5710\": {\"frequency\": 1, \"value\": 5710}, \"1615\": {\"frequency\": 1, \"value\": 1615}, \"1620\": {\"frequency\": 99, \"value\": 1620}, \"2452\": {\"frequency\": 1, \"value\": 2452}, \"3670\": {\"frequency\": 15, \"value\": 3670}, \"3672\": {\"frequency\": 1, \"value\": 3672}, \"3674\": {\"frequency\": 1, \"value\": 3674}, \"1628\": {\"frequency\": 1, \"value\": 1628}, \"3002\": {\"frequency\": 1, \"value\": 3002}, \"1630\": {\"frequency\": 94, \"value\": 1630}, \"3680\": {\"frequency\": 21, \"value\": 3680}, \"1296\": {\"frequency\": 1, \"value\": 1296}, \"5730\": {\"frequency\": 1, \"value\": 5730}, \"1852\": {\"frequency\": 2, \"value\": 1852}, \"5510\": {\"frequency\": 1, \"value\": 5510}, \"1639\": {\"frequency\": 1, \"value\": 1639}, \"1640\": {\"frequency\": 112, \"value\": 1640}, \"3004\": {\"frequency\": 1, \"value\": 3004}, \"3690\": {\"frequency\": 12, \"value\": 3690}, \"1643\": {\"frequency\": 1, \"value\": 1643}, \"5740\": {\"frequency\": 1, \"value\": 5740}, \"1646\": {\"frequency\": 3, \"value\": 1646}, \"3695\": {\"frequency\": 1, \"value\": 3695}, \"1650\": {\"frequency\": 117, \"value\": 1650}, \"1651\": {\"frequency\": 2, \"value\": 1651}, \"3700\": {\"frequency\": 18, \"value\": 3700}, \"1982\": {\"frequency\": 1, \"value\": 1982}, \"1654\": {\"frequency\": 2, \"value\": 1654}, \"1656\": {\"frequency\": 1, \"value\": 1656}, \"1657\": {\"frequency\": 1, \"value\": 1657}, \"1658\": {\"frequency\": 1, \"value\": 1658}, \"1252\": {\"frequency\": 1, \"value\": 1252}, \"1660\": {\"frequency\": 129, \"value\": 1660}, \"3710\": {\"frequency\": 10, \"value\": 3710}, \"5760\": {\"frequency\": 1, \"value\": 5760}, \"3691\": {\"frequency\": 1, \"value\": 3691}, \"3056\": {\"frequency\": 1, \"value\": 3056}, \"1670\": {\"frequency\": 109, \"value\": 1670}, \"3720\": {\"frequency\": 23, \"value\": 3720}, \"5770\": {\"frequency\": 3, \"value\": 5770}, \"1676\": {\"frequency\": 1, \"value\": 1676}, \"962\": {\"frequency\": 1, \"value\": 962}, \"5774\": {\"frequency\": 1, \"value\": 5774}, \"1679\": {\"frequency\": 1, \"value\": 1679}, \"1680\": {\"frequency\": 116, \"value\": 1680}, \"3730\": {\"frequency\": 16, \"value\": 3730}, \"5780\": {\"frequency\": 2, \"value\": 5780}, \"1689\": {\"frequency\": 1, \"value\": 1689}, \"1690\": {\"frequency\": 110, \"value\": 1690}, \"3740\": {\"frequency\": 17, \"value\": 3740}, \"5790\": {\"frequency\": 2, \"value\": 5790}, \"2672\": {\"frequency\": 1, \"value\": 2672}, \"9890\": {\"frequency\": 1, \"value\": 9890}, \"1700\": {\"frequency\": 108, \"value\": 1700}, \"3750\": {\"frequency\": 10, \"value\": 3750}, \"3753\": {\"frequency\": 1, \"value\": 3753}, \"7850\": {\"frequency\": 1, \"value\": 7850}, \"1710\": {\"frequency\": 93, \"value\": 1710}, \"3760\": {\"frequency\": 18, \"value\": 3760}, \"1992\": {\"frequency\": 1, \"value\": 1992}, \"1714\": {\"frequency\": 3, \"value\": 1714}, \"1715\": {\"frequency\": 1, \"value\": 1715}, \"1720\": {\"frequency\": 125, \"value\": 1720}, \"3770\": {\"frequency\": 13, \"value\": 3770}, \"5820\": {\"frequency\": 1, \"value\": 5820}, \"1726\": {\"frequency\": 1, \"value\": 1726}, \"1728\": {\"frequency\": 1, \"value\": 1728}, \"1730\": {\"frequency\": 100, \"value\": 1730}, \"3780\": {\"frequency\": 14, \"value\": 3780}, \"2678\": {\"frequency\": 1, \"value\": 2678}, \"5830\": {\"frequency\": 1, \"value\": 5830}, \"1313\": {\"frequency\": 1, \"value\": 1313}, \"7880\": {\"frequency\": 1, \"value\": 7880}, \"3786\": {\"frequency\": 1, \"value\": 3786}, \"1740\": {\"frequency\": 115, \"value\": 1740}, \"290\": {\"frequency\": 1, \"value\": 290}, \"3790\": {\"frequency\": 9, \"value\": 3790}, \"5840\": {\"frequency\": 2, \"value\": 5840}, \"1747\": {\"frequency\": 1, \"value\": 1747}, \"5844\": {\"frequency\": 1, \"value\": 5844}, \"1750\": {\"frequency\": 83, \"value\": 1750}, \"3800\": {\"frequency\": 10, \"value\": 3800}, \"5850\": {\"frequency\": 2, \"value\": 5850}, \"1757\": {\"frequency\": 1, \"value\": 1757}, \"1760\": {\"frequency\": 104, \"value\": 1760}, \"3810\": {\"frequency\": 13, \"value\": 3810}, \"1763\": {\"frequency\": 1, \"value\": 1763}, \"1764\": {\"frequency\": 1, \"value\": 1764}, \"1765\": {\"frequency\": 1, \"value\": 1765}, \"1767\": {\"frequency\": 1, \"value\": 1767}, \"1769\": {\"frequency\": 2, \"value\": 1769}, \"1770\": {\"frequency\": 98, \"value\": 1770}, \"3820\": {\"frequency\": 13, \"value\": 3820}, \"3281\": {\"frequency\": 1, \"value\": 3281}, \"1776\": {\"frequency\": 1, \"value\": 1776}, \"1778\": {\"frequency\": 1, \"value\": 1778}, \"1780\": {\"frequency\": 117, \"value\": 1780}, \"3830\": {\"frequency\": 20, \"value\": 3830}, \"3831\": {\"frequency\": 1, \"value\": 3831}, \"1785\": {\"frequency\": 2, \"value\": 1785}, \"2835\": {\"frequency\": 1, \"value\": 2835}, \"1788\": {\"frequency\": 1, \"value\": 1788}, \"1322\": {\"frequency\": 2, \"value\": 1322}, \"1790\": {\"frequency\": 110, \"value\": 1790}, \"3840\": {\"frequency\": 14, \"value\": 3840}, \"1794\": {\"frequency\": 1, \"value\": 1794}, \"3845\": {\"frequency\": 1, \"value\": 3845}, \"1798\": {\"frequency\": 1, \"value\": 1798}, \"3847\": {\"frequency\": 1, \"value\": 3847}, \"1800\": {\"frequency\": 129, \"value\": 1800}, \"3850\": {\"frequency\": 8, \"value\": 3850}, \"1805\": {\"frequency\": 1, \"value\": 1805}, \"1808\": {\"frequency\": 1, \"value\": 1808}, \"1810\": {\"frequency\": 98, \"value\": 1810}, \"1811\": {\"frequency\": 1, \"value\": 1811}, \"3860\": {\"frequency\": 15, \"value\": 3860}, \"1814\": {\"frequency\": 1, \"value\": 1814}, \"2692\": {\"frequency\": 2, \"value\": 2692}, \"1820\": {\"frequency\": 128, \"value\": 1820}, \"3870\": {\"frequency\": 12, \"value\": 3870}, \"1824\": {\"frequency\": 1, \"value\": 1824}, \"1830\": {\"frequency\": 114, \"value\": 1830}, \"3880\": {\"frequency\": 13, \"value\": 3880}, \"1833\": {\"frequency\": 1, \"value\": 1833}, \"5930\": {\"frequency\": 1, \"value\": 5930}, \"2658\": {\"frequency\": 1, \"value\": 2658}, \"1840\": {\"frequency\": 101, \"value\": 1840}, \"3890\": {\"frequency\": 14, \"value\": 3890}, \"5940\": {\"frequency\": 1, \"value\": 5940}, \"1845\": {\"frequency\": 1, \"value\": 1845}, \"1847\": {\"frequency\": 2, \"value\": 1847}, \"10040\": {\"frequency\": 1, \"value\": 10040}, \"1850\": {\"frequency\": 100, \"value\": 1850}, \"3900\": {\"frequency\": 10, \"value\": 3900}, \"3902\": {\"frequency\": 1, \"value\": 3902}, \"8000\": {\"frequency\": 1, \"value\": 8000}, \"3906\": {\"frequency\": 1, \"value\": 3906}, \"1860\": {\"frequency\": 91, \"value\": 1860}, \"1861\": {\"frequency\": 1, \"value\": 1861}, \"3910\": {\"frequency\": 13, \"value\": 3910}, \"1864\": {\"frequency\": 1, \"value\": 1864}, \"8010\": {\"frequency\": 1, \"value\": 8010}, \"3915\": {\"frequency\": 1, \"value\": 3915}, \"1870\": {\"frequency\": 96, \"value\": 1870}, \"1677\": {\"frequency\": 2, \"value\": 1677}, \"3920\": {\"frequency\": 17, \"value\": 3920}, \"6110\": {\"frequency\": 1, \"value\": 6110}, \"8020\": {\"frequency\": 1, \"value\": 8020}, \"1678\": {\"frequency\": 1, \"value\": 1678}, \"1880\": {\"frequency\": 90, \"value\": 1880}, \"3930\": {\"frequency\": 11, \"value\": 3930}, \"3931\": {\"frequency\": 1, \"value\": 3931}, \"5450\": {\"frequency\": 2, \"value\": 5450}, \"3045\": {\"frequency\": 1, \"value\": 3045}, \"1889\": {\"frequency\": 1, \"value\": 1889}, \"1890\": {\"frequency\": 98, \"value\": 1890}, \"3940\": {\"frequency\": 8, \"value\": 3940}, \"5990\": {\"frequency\": 2, \"value\": 5990}, \"1899\": {\"frequency\": 1, \"value\": 1899}, \"1900\": {\"frequency\": 117, \"value\": 1900}, \"3950\": {\"frequency\": 13, \"value\": 3950}, \"1904\": {\"frequency\": 1, \"value\": 1904}, \"2382\": {\"frequency\": 1, \"value\": 2382}, \"1909\": {\"frequency\": 1, \"value\": 1909}, \"1910\": {\"frequency\": 81, \"value\": 1910}, \"4073\": {\"frequency\": 1, \"value\": 4073}, \"1912\": {\"frequency\": 1, \"value\": 1912}, \"3732\": {\"frequency\": 1, \"value\": 3732}, \"1914\": {\"frequency\": 2, \"value\": 1914}, \"1920\": {\"frequency\": 94, \"value\": 1920}, \"1921\": {\"frequency\": 1, \"value\": 1921}, \"3970\": {\"frequency\": 8, \"value\": 3970}, \"5100\": {\"frequency\": 1, \"value\": 5100}, \"1930\": {\"frequency\": 88, \"value\": 1930}, \"3980\": {\"frequency\": 6, \"value\": 3980}, \"6030\": {\"frequency\": 1, \"value\": 6030}, \"1936\": {\"frequency\": 2, \"value\": 1936}, \"3065\": {\"frequency\": 1, \"value\": 3065}, \"1940\": {\"frequency\": 101, \"value\": 1940}, \"3990\": {\"frequency\": 16, \"value\": 3990}, \"6040\": {\"frequency\": 1, \"value\": 6040}, \"1946\": {\"frequency\": 1, \"value\": 1946}, \"6810\": {\"frequency\": 1, \"value\": 6810}, \"1950\": {\"frequency\": 92, \"value\": 1950}, \"4000\": {\"frequency\": 7, \"value\": 4000}, \"9200\": {\"frequency\": 1, \"value\": 9200}, \"6050\": {\"frequency\": 2, \"value\": 6050}, \"6055\": {\"frequency\": 1, \"value\": 6055}, \"1960\": {\"frequency\": 110, \"value\": 1960}, \"1961\": {\"frequency\": 1, \"value\": 1961}, \"4010\": {\"frequency\": 12, \"value\": 4010}, \"1964\": {\"frequency\": 1, \"value\": 1964}, \"1352\": {\"frequency\": 1, \"value\": 1352}, \"1970\": {\"frequency\": 84, \"value\": 1970}, \"4020\": {\"frequency\": 9, \"value\": 4020}, \"2718\": {\"frequency\": 1, \"value\": 2718}, \"6070\": {\"frequency\": 2, \"value\": 6070}, \"1975\": {\"frequency\": 1, \"value\": 1975}, \"1979\": {\"frequency\": 1, \"value\": 1979}, \"1980\": {\"frequency\": 105, \"value\": 1980}, \"1981\": {\"frequency\": 2, \"value\": 1981}, \"4030\": {\"frequency\": 11, \"value\": 4030}, \"1983\": {\"frequency\": 1, \"value\": 1983}, \"1984\": {\"frequency\": 3, \"value\": 1984}, \"1986\": {\"frequency\": 1, \"value\": 1986}, \"1987\": {\"frequency\": 1, \"value\": 1987}, \"6085\": {\"frequency\": 1, \"value\": 6085}, \"1990\": {\"frequency\": 85, \"value\": 1990}, \"4040\": {\"frequency\": 14, \"value\": 4040}, \"1995\": {\"frequency\": 4, \"value\": 1995}, \"1996\": {\"frequency\": 1, \"value\": 1996}, \"5960\": {\"frequency\": 2, \"value\": 5960}, \"2000\": {\"frequency\": 103, \"value\": 2000}, \"4050\": {\"frequency\": 8, \"value\": 4050}, \"2005\": {\"frequency\": 1, \"value\": 2005}, \"2007\": {\"frequency\": 1, \"value\": 2007}, \"2008\": {\"frequency\": 1, \"value\": 2008}, \"2009\": {\"frequency\": 2, \"value\": 2009}, \"2010\": {\"frequency\": 77, \"value\": 2010}, \"4060\": {\"frequency\": 13, \"value\": 4060}, \"2014\": {\"frequency\": 1, \"value\": 2014}, \"2015\": {\"frequency\": 1, \"value\": 2015}, \"4065\": {\"frequency\": 1, \"value\": 4065}, \"2019\": {\"frequency\": 1, \"value\": 2019}, \"2020\": {\"frequency\": 104, \"value\": 2020}, \"4070\": {\"frequency\": 10, \"value\": 4070}, \"5720\": {\"frequency\": 1, \"value\": 5720}, \"2025\": {\"frequency\": 1, \"value\": 2025}, \"2026\": {\"frequency\": 1, \"value\": 2026}, \"2029\": {\"frequency\": 1, \"value\": 2029}, \"2030\": {\"frequency\": 78, \"value\": 2030}, \"2031\": {\"frequency\": 1, \"value\": 2031}, \"4080\": {\"frequency\": 7, \"value\": 4080}, \"2034\": {\"frequency\": 1, \"value\": 2034}, \"4083\": {\"frequency\": 1, \"value\": 4083}, \"2038\": {\"frequency\": 1, \"value\": 2038}, \"2040\": {\"frequency\": 104, \"value\": 2040}, \"4090\": {\"frequency\": 8, \"value\": 4090}, \"2044\": {\"frequency\": 1, \"value\": 2044}, \"1365\": {\"frequency\": 1, \"value\": 1365}}, \"mean\": 2079.8997362698346}, \"floors\": {\"complete\": true, \"numeric\": false, \"num_unique\": 6, \"num_undefined\": 0, \"progress\": 1.0, \"frequent_items\": {\"1.5\": {\"frequency\": 1910, \"value\": \"1.5\"}, \"1\": {\"frequency\": 10680, \"value\": \"1\"}, \"3\": {\"frequency\": 613, \"value\": \"3\"}, \"2\": {\"frequency\": 8241, \"value\": \"2\"}, \"3.5\": {\"frequency\": 8, \"value\": \"3.5\"}, \"2.5\": {\"frequency\": 161, \"value\": \"2.5\"}}, \"size\": 21613}, \"sqft_lot\": {\"std\": 41419.55327262768, \"complete\": true, \"min\": 520.0, \"max\": 1651359.0, \"quantile\": [520.0, 1007.0, 1180.0, 1302.0, 1486.0, 1799.0, 2166.0, 2513.0, 2867.0, 3075.0, 3330.0, 3568.0, 3717.0, 3852.0, 4000.0, 4023.0, 4125.0, 4269.0, 4411.0, 4506.0, 4650.0, 4800.0, 4876.0, 5000.0, 5000.0, 5043.0, 5120.0, 5225.0, 5375.0, 5500.0, 5612.0, 5750.0, 5866.0, 6000.0, 6000.0, 6120.0, 6250.0, 6360.0, 6498.0, 6603.0, 6744.0, 6886.0, 7000.0, 7132.0, 7200.0, 7214.0, 7280.0, 7350.0, 7470.0, 7524.0, 7617.0, 7700.0, 7797.0, 7880.0, 7992.0, 8069.0, 8144.0, 8250.0, 8364.0, 8424.0, 8521.0, 8640.0, 8775.0, 8913.0, 9015.0, 9168.0, 9337.0, 9497.0, 9600.0, 9684.0, 9800.0, 9950.0, 10089.0, 10246.0, 10450.0, 10677.0, 10900.0, 11210.0, 11502.0, 11894.0, 12184.0, 12558.0, 13044.0, 13503.0, 14197.0, 15000.0, 15704.0, 16643.0, 17986.0, 19501.0, 21340.0, 24054.0, 28300.0, 35000.0, 38009.0, 43560.0, 51354.0, 68257.0, 108366.0, 213879.0, 1651359.0], \"median\": 7617.0, \"numeric\": true, \"num_unique\": 9747, \"num_undefined\": 0, \"var\": 1715579393.3040423, \"progress\": 1.0, \"size\": 21613, \"frequent_items\": {\"32772\": {\"frequency\": 1, \"value\": 32772}, \"32780\": {\"frequency\": 1, \"value\": 32780}, \"131115\": {\"frequency\": 1, \"value\": 131115}, \"131116\": {\"frequency\": 1, \"value\": 131116}, \"213008\": {\"frequency\": 6, \"value\": 213008}, \"98445\": {\"frequency\": 4, \"value\": 98445}, \"5490\": {\"frequency\": 4, \"value\": 5490}, \"65775\": {\"frequency\": 1, \"value\": 65775}, \"33080\": {\"frequency\": 1, \"value\": 33080}, \"33132\": {\"frequency\": 1, \"value\": 33132}, \"49222\": {\"frequency\": 4, \"value\": 49222}, \"33206\": {\"frequency\": 1, \"value\": 33206}, \"33278\": {\"frequency\": 1, \"value\": 33278}, \"262666\": {\"frequency\": 1, \"value\": 262666}, \"572\": {\"frequency\": 1, \"value\": 572}, \"98881\": {\"frequency\": 2, \"value\": 98881}, \"609\": {\"frequency\": 1, \"value\": 609}, \"649\": {\"frequency\": 2, \"value\": 649}, \"66211\": {\"frequency\": 2, \"value\": 66211}, \"33460\": {\"frequency\": 1, \"value\": 33460}, \"704\": {\"frequency\": 1, \"value\": 704}, \"705\": {\"frequency\": 2, \"value\": 705}, \"33474\": {\"frequency\": 1, \"value\": 33474}, \"711\": {\"frequency\": 2, \"value\": 711}, \"131790\": {\"frequency\": 1, \"value\": 131790}, \"745\": {\"frequency\": 2, \"value\": 745}, \"747\": {\"frequency\": 2, \"value\": 747}, \"750\": {\"frequency\": 2, \"value\": 750}, \"762\": {\"frequency\": 1, \"value\": 762}, \"779\": {\"frequency\": 2, \"value\": 779}, \"780\": {\"frequency\": 1, \"value\": 780}, \"798\": {\"frequency\": 1, \"value\": 798}, \"800\": {\"frequency\": 3, \"value\": 800}, \"825\": {\"frequency\": 2, \"value\": 825}, \"833\": {\"frequency\": 1, \"value\": 833}, \"857\": {\"frequency\": 1, \"value\": 857}, \"33630\": {\"frequency\": 1, \"value\": 33630}, \"864\": {\"frequency\": 1, \"value\": 864}, \"865\": {\"frequency\": 3, \"value\": 865}, \"99170\": {\"frequency\": 1, \"value\": 99170}, \"867\": {\"frequency\": 1, \"value\": 867}, \"874\": {\"frequency\": 2, \"value\": 874}, \"877\": {\"frequency\": 2, \"value\": 877}, \"881\": {\"frequency\": 1, \"value\": 881}, \"43838\": {\"frequency\": 1, \"value\": 43838}, \"889\": {\"frequency\": 3, \"value\": 889}, \"890\": {\"frequency\": 1, \"value\": 890}, \"900\": {\"frequency\": 2, \"value\": 900}, \"902\": {\"frequency\": 1, \"value\": 902}, \"904\": {\"frequency\": 2, \"value\": 904}, \"905\": {\"frequency\": 3, \"value\": 905}, \"912\": {\"frequency\": 2, \"value\": 912}, \"915\": {\"frequency\": 3, \"value\": 915}, \"920\": {\"frequency\": 2, \"value\": 920}, \"923\": {\"frequency\": 2, \"value\": 923}, \"926\": {\"frequency\": 2, \"value\": 926}, \"934\": {\"frequency\": 3, \"value\": 934}, \"936\": {\"frequency\": 3, \"value\": 936}, \"940\": {\"frequency\": 2, \"value\": 940}, \"941\": {\"frequency\": 3, \"value\": 941}, \"942\": {\"frequency\": 3, \"value\": 942}, \"951\": {\"frequency\": 2, \"value\": 951}, \"958\": {\"frequency\": 2, \"value\": 958}, \"960\": {\"frequency\": 2, \"value\": 960}, \"965\": {\"frequency\": 2, \"value\": 965}, \"972\": {\"frequency\": 2, \"value\": 972}, \"977\": {\"frequency\": 2, \"value\": 977}, \"979\": {\"frequency\": 2, \"value\": 979}, \"980\": {\"frequency\": 1, \"value\": 980}, \"982\": {\"frequency\": 1, \"value\": 982}, \"983\": {\"frequency\": 4, \"value\": 983}, \"987\": {\"frequency\": 2, \"value\": 987}, \"989\": {\"frequency\": 3, \"value\": 989}, \"997\": {\"frequency\": 2, \"value\": 997}, \"998\": {\"frequency\": 2, \"value\": 998}, \"1005\": {\"frequency\": 3, \"value\": 1005}, \"1010\": {\"frequency\": 2, \"value\": 1010}, \"1016\": {\"frequency\": 1, \"value\": 1016}, \"1017\": {\"frequency\": 1, \"value\": 1017}, \"1020\": {\"frequency\": 4, \"value\": 1020}, \"1021\": {\"frequency\": 3, \"value\": 1021}, \"1032\": {\"frequency\": 3, \"value\": 1032}, \"33801\": {\"frequency\": 1, \"value\": 33801}, \"1034\": {\"frequency\": 3, \"value\": 1034}, \"1036\": {\"frequency\": 2, \"value\": 1036}, \"1040\": {\"frequency\": 1, \"value\": 1040}, \"1044\": {\"frequency\": 1, \"value\": 1044}, \"1050\": {\"frequency\": 2, \"value\": 1050}, \"1051\": {\"frequency\": 2, \"value\": 1051}, \"1058\": {\"frequency\": 4, \"value\": 1058}, \"1060\": {\"frequency\": 4, \"value\": 1060}, \"1062\": {\"frequency\": 2, \"value\": 1062}, \"1066\": {\"frequency\": 1, \"value\": 1066}, \"1073\": {\"frequency\": 4, \"value\": 1073}, \"1075\": {\"frequency\": 2, \"value\": 1075}, \"1078\": {\"frequency\": 2, \"value\": 1078}, \"1080\": {\"frequency\": 3, \"value\": 1080}, \"1081\": {\"frequency\": 1, \"value\": 1081}, \"1086\": {\"frequency\": 2, \"value\": 1086}, \"1091\": {\"frequency\": 3, \"value\": 1091}, \"1092\": {\"frequency\": 3, \"value\": 1092}, \"1093\": {\"frequency\": 1, \"value\": 1093}, \"1100\": {\"frequency\": 2, \"value\": 1100}, \"1101\": {\"frequency\": 2, \"value\": 1101}, \"1102\": {\"frequency\": 3, \"value\": 1102}, \"1103\": {\"frequency\": 2, \"value\": 1103}, \"1107\": {\"frequency\": 3, \"value\": 1107}, \"1110\": {\"frequency\": 2, \"value\": 1110}, \"1113\": {\"frequency\": 2, \"value\": 1113}, \"1114\": {\"frequency\": 3, \"value\": 1114}, \"1115\": {\"frequency\": 1, \"value\": 1115}, \"1118\": {\"frequency\": 2, \"value\": 1118}, \"1119\": {\"frequency\": 2, \"value\": 1119}, \"33888\": {\"frequency\": 1, \"value\": 33888}, \"1125\": {\"frequency\": 4, \"value\": 1125}, \"1131\": {\"frequency\": 4, \"value\": 1131}, \"1133\": {\"frequency\": 2, \"value\": 1133}, \"1136\": {\"frequency\": 1, \"value\": 1136}, \"1137\": {\"frequency\": 3, \"value\": 1137}, \"1140\": {\"frequency\": 3, \"value\": 1140}, \"1149\": {\"frequency\": 2, \"value\": 1149}, \"33919\": {\"frequency\": 2, \"value\": 33919}, \"33920\": {\"frequency\": 1, \"value\": 33920}, \"1155\": {\"frequency\": 2, \"value\": 1155}, \"1156\": {\"frequency\": 2, \"value\": 1156}, \"1157\": {\"frequency\": 5, \"value\": 1157}, \"1159\": {\"frequency\": 1, \"value\": 1159}, \"1161\": {\"frequency\": 3, \"value\": 1161}, \"1165\": {\"frequency\": 3, \"value\": 1165}, \"1171\": {\"frequency\": 2, \"value\": 1171}, \"1172\": {\"frequency\": 1, \"value\": 1172}, \"1173\": {\"frequency\": 4, \"value\": 1173}, \"1174\": {\"frequency\": 4, \"value\": 1174}, \"1175\": {\"frequency\": 1, \"value\": 1175}, \"1179\": {\"frequency\": 2, \"value\": 1179}, \"1180\": {\"frequency\": 6, \"value\": 1180}, \"1181\": {\"frequency\": 1, \"value\": 1181}, \"1182\": {\"frequency\": 2, \"value\": 1182}, \"1184\": {\"frequency\": 2, \"value\": 1184}, \"1186\": {\"frequency\": 2, \"value\": 1186}, \"1189\": {\"frequency\": 5, \"value\": 1189}, \"1192\": {\"frequency\": 2, \"value\": 1192}, \"1193\": {\"frequency\": 3, \"value\": 1193}, \"1194\": {\"frequency\": 4, \"value\": 1194}, \"1196\": {\"frequency\": 2, \"value\": 1196}, \"1200\": {\"frequency\": 9, \"value\": 1200}, \"1201\": {\"frequency\": 4, \"value\": 1201}, \"1202\": {\"frequency\": 1, \"value\": 1202}, \"1204\": {\"frequency\": 4, \"value\": 1204}, \"1208\": {\"frequency\": 2, \"value\": 1208}, \"1209\": {\"frequency\": 2, \"value\": 1209}, \"1210\": {\"frequency\": 2, \"value\": 1210}, \"33981\": {\"frequency\": 1, \"value\": 33981}, \"1217\": {\"frequency\": 1, \"value\": 1217}, \"1219\": {\"frequency\": 2, \"value\": 1219}, \"1221\": {\"frequency\": 4, \"value\": 1221}, \"1222\": {\"frequency\": 3, \"value\": 1222}, \"1228\": {\"frequency\": 2, \"value\": 1228}, \"1229\": {\"frequency\": 2, \"value\": 1229}, \"1230\": {\"frequency\": 3, \"value\": 1230}, \"1234\": {\"frequency\": 2, \"value\": 1234}, \"1235\": {\"frequency\": 2, \"value\": 1235}, \"1236\": {\"frequency\": 4, \"value\": 1236}, \"1237\": {\"frequency\": 3, \"value\": 1237}, \"1238\": {\"frequency\": 2, \"value\": 1238}, \"1240\": {\"frequency\": 4, \"value\": 1240}, \"1241\": {\"frequency\": 2, \"value\": 1241}, \"1242\": {\"frequency\": 1, \"value\": 1242}, \"1243\": {\"frequency\": 1, \"value\": 1243}, \"1245\": {\"frequency\": 4, \"value\": 1245}, \"1246\": {\"frequency\": 3, \"value\": 1246}, \"1248\": {\"frequency\": 3, \"value\": 1248}, \"1249\": {\"frequency\": 5, \"value\": 1249}, \"1250\": {\"frequency\": 8, \"value\": 1250}, \"1251\": {\"frequency\": 4, \"value\": 1251}, \"1253\": {\"frequency\": 2, \"value\": 1253}, \"1256\": {\"frequency\": 3, \"value\": 1256}, \"1262\": {\"frequency\": 3, \"value\": 1262}, \"1263\": {\"frequency\": 3, \"value\": 1263}, \"1264\": {\"frequency\": 3, \"value\": 1264}, \"1265\": {\"frequency\": 2, \"value\": 1265}, \"1266\": {\"frequency\": 1, \"value\": 1266}, \"1268\": {\"frequency\": 2, \"value\": 1268}, \"1269\": {\"frequency\": 4, \"value\": 1269}, \"1270\": {\"frequency\": 3, \"value\": 1270}, \"1275\": {\"frequency\": 3, \"value\": 1275}, \"230652\": {\"frequency\": 1, \"value\": 230652}, \"1279\": {\"frequency\": 4, \"value\": 1279}, \"1280\": {\"frequency\": 3, \"value\": 1280}, \"1281\": {\"frequency\": 4, \"value\": 1281}, \"1282\": {\"frequency\": 2, \"value\": 1282}, \"1286\": {\"frequency\": 4, \"value\": 1286}, \"1287\": {\"frequency\": 2, \"value\": 1287}, \"1288\": {\"frequency\": 1, \"value\": 1288}, \"1290\": {\"frequency\": 5, \"value\": 1290}, \"1294\": {\"frequency\": 2, \"value\": 1294}, \"1296\": {\"frequency\": 3, \"value\": 1296}, \"1297\": {\"frequency\": 1, \"value\": 1297}, \"1298\": {\"frequency\": 2, \"value\": 1298}, \"1302\": {\"frequency\": 2, \"value\": 1302}, \"1303\": {\"frequency\": 2, \"value\": 1303}, \"1304\": {\"frequency\": 2, \"value\": 1304}, \"1306\": {\"frequency\": 3, \"value\": 1306}, \"1309\": {\"frequency\": 2, \"value\": 1309}, \"1310\": {\"frequency\": 2, \"value\": 1310}, \"1311\": {\"frequency\": 2, \"value\": 1311}, \"1312\": {\"frequency\": 4, \"value\": 1312}, \"1313\": {\"frequency\": 1, \"value\": 1313}, \"1320\": {\"frequency\": 3, \"value\": 1320}, \"1321\": {\"frequency\": 3, \"value\": 1321}, \"1325\": {\"frequency\": 4, \"value\": 1325}, \"1326\": {\"frequency\": 1, \"value\": 1326}, \"1329\": {\"frequency\": 3, \"value\": 1329}, \"1330\": {\"frequency\": 3, \"value\": 1330}, \"1331\": {\"frequency\": 2, \"value\": 1331}, \"1332\": {\"frequency\": 4, \"value\": 1332}, \"1333\": {\"frequency\": 2, \"value\": 1333}, \"1334\": {\"frequency\": 2, \"value\": 1334}, \"1340\": {\"frequency\": 3, \"value\": 1340}, \"1341\": {\"frequency\": 1, \"value\": 1341}, \"1343\": {\"frequency\": 2, \"value\": 1343}, \"1348\": {\"frequency\": 3, \"value\": 1348}, \"1349\": {\"frequency\": 3, \"value\": 1349}, \"1350\": {\"frequency\": 6, \"value\": 1350}, \"1360\": {\"frequency\": 1, \"value\": 1360}, \"1361\": {\"frequency\": 3, \"value\": 1361}, \"1362\": {\"frequency\": 3, \"value\": 1362}, \"34133\": {\"frequency\": 1, \"value\": 34133}, \"1366\": {\"frequency\": 1, \"value\": 1366}, \"1368\": {\"frequency\": 2, \"value\": 1368}, \"1369\": {\"frequency\": 3, \"value\": 1369}, \"1372\": {\"frequency\": 1, \"value\": 1372}, \"1374\": {\"frequency\": 1, \"value\": 1374}, \"1375\": {\"frequency\": 1, \"value\": 1375}, \"1377\": {\"frequency\": 3, \"value\": 1377}, \"1380\": {\"frequency\": 3, \"value\": 1380}, \"1386\": {\"frequency\": 2, \"value\": 1386}, \"1387\": {\"frequency\": 2, \"value\": 1387}, \"1388\": {\"frequency\": 1, \"value\": 1388}, \"1391\": {\"frequency\": 1, \"value\": 1391}, \"1396\": {\"frequency\": 2, \"value\": 1396}, \"1400\": {\"frequency\": 4, \"value\": 1400}, \"34175\": {\"frequency\": 1, \"value\": 34175}, \"1418\": {\"frequency\": 1, \"value\": 1418}, \"1427\": {\"frequency\": 1, \"value\": 1427}, \"1431\": {\"frequency\": 2, \"value\": 1431}, \"1438\": {\"frequency\": 2, \"value\": 1438}, \"1441\": {\"frequency\": 1, \"value\": 1441}, \"1442\": {\"frequency\": 4, \"value\": 1442}, \"1444\": {\"frequency\": 2, \"value\": 1444}, \"1445\": {\"frequency\": 3, \"value\": 1445}, \"99752\": {\"frequency\": 2, \"value\": 99752}, \"1452\": {\"frequency\": 4, \"value\": 1452}, \"1458\": {\"frequency\": 3, \"value\": 1458}, \"1468\": {\"frequency\": 2, \"value\": 1468}, \"1471\": {\"frequency\": 2, \"value\": 1471}, \"1475\": {\"frequency\": 2, \"value\": 1475}, \"1480\": {\"frequency\": 2, \"value\": 1480}, \"1481\": {\"frequency\": 1, \"value\": 1481}, \"1485\": {\"frequency\": 3, \"value\": 1485}, \"1487\": {\"frequency\": 4, \"value\": 1487}, \"1488\": {\"frequency\": 3, \"value\": 1488}, \"1490\": {\"frequency\": 1, \"value\": 1490}, \"230868\": {\"frequency\": 2, \"value\": 230868}, \"1493\": {\"frequency\": 3, \"value\": 1493}, \"1499\": {\"frequency\": 2, \"value\": 1499}, \"1500\": {\"frequency\": 6, \"value\": 1500}, \"1501\": {\"frequency\": 3, \"value\": 1501}, \"1512\": {\"frequency\": 2, \"value\": 1512}, \"1516\": {\"frequency\": 2, \"value\": 1516}, \"34290\": {\"frequency\": 1, \"value\": 34290}, \"34293\": {\"frequency\": 1, \"value\": 34293}, \"1531\": {\"frequency\": 2, \"value\": 1531}, \"1536\": {\"frequency\": 2, \"value\": 1536}, \"1540\": {\"frequency\": 2, \"value\": 1540}, \"1545\": {\"frequency\": 2, \"value\": 1545}, \"1558\": {\"frequency\": 1, \"value\": 1558}, \"1564\": {\"frequency\": 1, \"value\": 1564}, \"1566\": {\"frequency\": 2, \"value\": 1566}, \"34335\": {\"frequency\": 1, \"value\": 34335}, \"1569\": {\"frequency\": 2, \"value\": 1569}, \"1577\": {\"frequency\": 2, \"value\": 1577}, \"1578\": {\"frequency\": 1, \"value\": 1578}, \"1581\": {\"frequency\": 1, \"value\": 1581}, \"1585\": {\"frequency\": 2, \"value\": 1585}, \"1587\": {\"frequency\": 3, \"value\": 1587}, \"1590\": {\"frequency\": 3, \"value\": 1590}, \"1599\": {\"frequency\": 1, \"value\": 1599}, \"1606\": {\"frequency\": 1, \"value\": 1606}, \"1607\": {\"frequency\": 1, \"value\": 1607}, \"1608\": {\"frequency\": 1, \"value\": 1608}, \"99916\": {\"frequency\": 1, \"value\": 99916}, \"1613\": {\"frequency\": 4, \"value\": 1613}, \"1614\": {\"frequency\": 2, \"value\": 1614}, \"1618\": {\"frequency\": 2, \"value\": 1618}, \"1620\": {\"frequency\": 2, \"value\": 1620}, \"1622\": {\"frequency\": 1, \"value\": 1622}, \"1638\": {\"frequency\": 2, \"value\": 1638}, \"1641\": {\"frequency\": 1, \"value\": 1641}, \"1648\": {\"frequency\": 1, \"value\": 1648}, \"1649\": {\"frequency\": 1, \"value\": 1649}, \"1650\": {\"frequency\": 3, \"value\": 1650}, \"1655\": {\"frequency\": 1, \"value\": 1655}, \"1656\": {\"frequency\": 2, \"value\": 1656}, \"1657\": {\"frequency\": 1, \"value\": 1657}, \"1658\": {\"frequency\": 1, \"value\": 1658}, \"1662\": {\"frequency\": 1, \"value\": 1662}, \"1664\": {\"frequency\": 2, \"value\": 1664}, \"1675\": {\"frequency\": 1, \"value\": 1675}, \"1676\": {\"frequency\": 1, \"value\": 1676}, \"1683\": {\"frequency\": 3, \"value\": 1683}, \"1693\": {\"frequency\": 1, \"value\": 1693}, \"1703\": {\"frequency\": 1, \"value\": 1703}, \"1706\": {\"frequency\": 1, \"value\": 1706}, \"1709\": {\"frequency\": 2, \"value\": 1709}, \"1712\": {\"frequency\": 1, \"value\": 1712}, \"1728\": {\"frequency\": 1, \"value\": 1728}, \"34498\": {\"frequency\": 1, \"value\": 34498}, \"34510\": {\"frequency\": 1, \"value\": 34510}, \"34513\": {\"frequency\": 1, \"value\": 34513}, \"1749\": {\"frequency\": 1, \"value\": 1749}, \"1750\": {\"frequency\": 3, \"value\": 1750}, \"1753\": {\"frequency\": 1, \"value\": 1753}, \"1754\": {\"frequency\": 1, \"value\": 1754}, \"1755\": {\"frequency\": 3, \"value\": 1755}, \"34527\": {\"frequency\": 1, \"value\": 34527}, \"1760\": {\"frequency\": 3, \"value\": 1760}, \"1763\": {\"frequency\": 1, \"value\": 1763}, \"1777\": {\"frequency\": 1, \"value\": 1777}, \"1778\": {\"frequency\": 2, \"value\": 1778}, \"1779\": {\"frequency\": 2, \"value\": 1779}, \"132858\": {\"frequency\": 1, \"value\": 132858}, \"34560\": {\"frequency\": 1, \"value\": 34560}, \"1793\": {\"frequency\": 2, \"value\": 1793}, \"1795\": {\"frequency\": 1, \"value\": 1795}, \"1799\": {\"frequency\": 1, \"value\": 1799}, \"1800\": {\"frequency\": 9, \"value\": 1800}, \"1803\": {\"frequency\": 1, \"value\": 1803}, \"1805\": {\"frequency\": 1, \"value\": 1805}, \"1818\": {\"frequency\": 1, \"value\": 1818}, \"1820\": {\"frequency\": 1, \"value\": 1820}, \"1822\": {\"frequency\": 1, \"value\": 1822}, \"1824\": {\"frequency\": 3, \"value\": 1824}, \"1825\": {\"frequency\": 1, \"value\": 1825}, \"1827\": {\"frequency\": 3, \"value\": 1827}, \"1831\": {\"frequency\": 1, \"value\": 1831}, \"67369\": {\"frequency\": 1, \"value\": 67369}, \"1834\": {\"frequency\": 1, \"value\": 1834}, \"1844\": {\"frequency\": 1, \"value\": 1844}, \"1845\": {\"frequency\": 2, \"value\": 1845}, \"1846\": {\"frequency\": 1, \"value\": 1846}, \"1848\": {\"frequency\": 2, \"value\": 1848}, \"1850\": {\"frequency\": 4, \"value\": 1850}, \"1853\": {\"frequency\": 1, \"value\": 1853}, \"1860\": {\"frequency\": 2, \"value\": 1860}, \"1873\": {\"frequency\": 2, \"value\": 1873}, \"100188\": {\"frequency\": 3, \"value\": 100188}, \"1898\": {\"frequency\": 1, \"value\": 1898}, \"34680\": {\"frequency\": 1, \"value\": 34680}, \"1919\": {\"frequency\": 2, \"value\": 1919}, \"1920\": {\"frequency\": 3, \"value\": 1920}, \"34689\": {\"frequency\": 1, \"value\": 34689}, \"1937\": {\"frequency\": 1, \"value\": 1937}, \"1948\": {\"frequency\": 1, \"value\": 1948}, \"1950\": {\"frequency\": 4, \"value\": 1950}, \"1960\": {\"frequency\": 2, \"value\": 1960}, \"1962\": {\"frequency\": 1, \"value\": 1962}, \"1963\": {\"frequency\": 1, \"value\": 1963}, \"1967\": {\"frequency\": 1, \"value\": 1967}, \"1968\": {\"frequency\": 5, \"value\": 1968}, \"1970\": {\"frequency\": 1, \"value\": 1970}, \"67518\": {\"frequency\": 3, \"value\": 67518}, \"1984\": {\"frequency\": 3, \"value\": 1984}, \"1985\": {\"frequency\": 2, \"value\": 1985}, \"1988\": {\"frequency\": 3, \"value\": 1988}, \"1991\": {\"frequency\": 2, \"value\": 1991}, \"40438\": {\"frequency\": 1, \"value\": 40438}, \"1994\": {\"frequency\": 1, \"value\": 1994}, \"2000\": {\"frequency\": 5, \"value\": 2000}, \"2003\": {\"frequency\": 3, \"value\": 2003}, \"2016\": {\"frequency\": 1, \"value\": 2016}, \"2020\": {\"frequency\": 2, \"value\": 2020}, \"2031\": {\"frequency\": 1, \"value\": 2031}, \"2036\": {\"frequency\": 1, \"value\": 2036}, \"2040\": {\"frequency\": 3, \"value\": 2040}, \"2048\": {\"frequency\": 1, \"value\": 2048}, \"2052\": {\"frequency\": 3, \"value\": 2052}, \"2053\": {\"frequency\": 1, \"value\": 2053}, \"2064\": {\"frequency\": 2, \"value\": 2064}, \"2067\": {\"frequency\": 1, \"value\": 2067}, \"2070\": {\"frequency\": 1, \"value\": 2070}, \"2079\": {\"frequency\": 1, \"value\": 2079}, \"34848\": {\"frequency\": 3, \"value\": 34848}, \"34850\": {\"frequency\": 1, \"value\": 34850}, \"2091\": {\"frequency\": 2, \"value\": 2091}, \"2096\": {\"frequency\": 3, \"value\": 2096}, \"2100\": {\"frequency\": 2, \"value\": 2100}, \"34870\": {\"frequency\": 1, \"value\": 34870}, \"2114\": {\"frequency\": 2, \"value\": 2114}, \"246114\": {\"frequency\": 1, \"value\": 246114}, \"2128\": {\"frequency\": 2, \"value\": 2128}, \"2138\": {\"frequency\": 1, \"value\": 2138}, \"2147\": {\"frequency\": 3, \"value\": 2147}, \"2150\": {\"frequency\": 3, \"value\": 2150}, \"2159\": {\"frequency\": 3, \"value\": 2159}, \"2162\": {\"frequency\": 2, \"value\": 2162}, \"2167\": {\"frequency\": 1, \"value\": 2167}, \"34939\": {\"frequency\": 1, \"value\": 34939}, \"2174\": {\"frequency\": 1, \"value\": 2174}, \"34947\": {\"frequency\": 1, \"value\": 34947}, \"2185\": {\"frequency\": 1, \"value\": 2185}, \"2191\": {\"frequency\": 2, \"value\": 2191}, \"2192\": {\"frequency\": 1, \"value\": 2192}, \"2196\": {\"frequency\": 1, \"value\": 2196}, \"2198\": {\"frequency\": 1, \"value\": 2198}, \"2199\": {\"frequency\": 2, \"value\": 2199}, \"2200\": {\"frequency\": 4, \"value\": 2200}, \"34982\": {\"frequency\": 1, \"value\": 34982}, \"2216\": {\"frequency\": 2, \"value\": 2216}, \"2217\": {\"frequency\": 1, \"value\": 2217}, \"2218\": {\"frequency\": 2, \"value\": 2218}, \"34991\": {\"frequency\": 1, \"value\": 34991}, \"2226\": {\"frequency\": 1, \"value\": 2226}, \"35000\": {\"frequency\": 7, \"value\": 35000}, \"35001\": {\"frequency\": 1, \"value\": 35001}, \"35003\": {\"frequency\": 1, \"value\": 35003}, \"2240\": {\"frequency\": 2, \"value\": 2240}, \"100545\": {\"frequency\": 1, \"value\": 100545}, \"2242\": {\"frequency\": 1, \"value\": 2242}, \"35012\": {\"frequency\": 1, \"value\": 35012}, \"35015\": {\"frequency\": 1, \"value\": 35015}, \"35016\": {\"frequency\": 1, \"value\": 35016}, \"2250\": {\"frequency\": 8, \"value\": 2250}, \"35020\": {\"frequency\": 1, \"value\": 35020}, \"35021\": {\"frequency\": 2, \"value\": 35021}, \"35026\": {\"frequency\": 1, \"value\": 35026}, \"2261\": {\"frequency\": 2, \"value\": 2261}, \"2271\": {\"frequency\": 1, \"value\": 2271}, \"2272\": {\"frequency\": 1, \"value\": 2272}, \"2275\": {\"frequency\": 1, \"value\": 2275}, \"2278\": {\"frequency\": 1, \"value\": 2278}, \"2280\": {\"frequency\": 2, \"value\": 2280}, \"2287\": {\"frequency\": 1, \"value\": 2287}, \"35062\": {\"frequency\": 1, \"value\": 35062}, \"2296\": {\"frequency\": 2, \"value\": 2296}, \"2300\": {\"frequency\": 3, \"value\": 2300}, \"35069\": {\"frequency\": 1, \"value\": 35069}, \"35070\": {\"frequency\": 2, \"value\": 35070}, \"35071\": {\"frequency\": 1, \"value\": 35071}, \"2306\": {\"frequency\": 1, \"value\": 2306}, \"2309\": {\"frequency\": 1, \"value\": 2309}, \"100623\": {\"frequency\": 2, \"value\": 100623}, \"35091\": {\"frequency\": 1, \"value\": 35091}, \"2332\": {\"frequency\": 1, \"value\": 2332}, \"35102\": {\"frequency\": 1, \"value\": 35102}, \"2340\": {\"frequency\": 2, \"value\": 2340}, \"12236\": {\"frequency\": 2, \"value\": 12236}, \"2350\": {\"frequency\": 4, \"value\": 2350}, \"35120\": {\"frequency\": 1, \"value\": 35120}, \"2353\": {\"frequency\": 1, \"value\": 2353}, \"2356\": {\"frequency\": 3, \"value\": 2356}, \"2366\": {\"frequency\": 1, \"value\": 2366}, \"2370\": {\"frequency\": 3, \"value\": 2370}, \"2375\": {\"frequency\": 2, \"value\": 2375}, \"100681\": {\"frequency\": 1, \"value\": 100681}, \"2378\": {\"frequency\": 1, \"value\": 2378}, \"2386\": {\"frequency\": 1, \"value\": 2386}, \"2400\": {\"frequency\": 19, \"value\": 2400}, \"35169\": {\"frequency\": 2, \"value\": 35169}, \"2402\": {\"frequency\": 1, \"value\": 2402}, \"2410\": {\"frequency\": 1, \"value\": 2410}, \"2415\": {\"frequency\": 2, \"value\": 2415}, \"2416\": {\"frequency\": 1, \"value\": 2416}, \"67953\": {\"frequency\": 3, \"value\": 67953}, \"2421\": {\"frequency\": 1, \"value\": 2421}, \"35192\": {\"frequency\": 1, \"value\": 35192}, \"35200\": {\"frequency\": 2, \"value\": 35200}, \"2440\": {\"frequency\": 1, \"value\": 2440}, \"2446\": {\"frequency\": 2, \"value\": 2446}, \"35218\": {\"frequency\": 1, \"value\": 35218}, \"2451\": {\"frequency\": 1, \"value\": 2451}, \"35225\": {\"frequency\": 1, \"value\": 35225}, \"2460\": {\"frequency\": 1, \"value\": 2460}, \"35233\": {\"frequency\": 1, \"value\": 35233}, \"35235\": {\"frequency\": 1, \"value\": 35235}, \"35236\": {\"frequency\": 1, \"value\": 35236}, \"2480\": {\"frequency\": 2, \"value\": 2480}, \"2482\": {\"frequency\": 1, \"value\": 2482}, \"35255\": {\"frequency\": 1, \"value\": 35255}, \"38644\": {\"frequency\": 1, \"value\": 38644}, \"2490\": {\"frequency\": 2, \"value\": 2490}, \"2493\": {\"frequency\": 2, \"value\": 2493}, \"2500\": {\"frequency\": 36, \"value\": 2500}, \"35271\": {\"frequency\": 1, \"value\": 35271}, \"35273\": {\"frequency\": 2, \"value\": 35273}, \"2506\": {\"frequency\": 1, \"value\": 2506}, \"2509\": {\"frequency\": 1, \"value\": 2509}, \"2513\": {\"frequency\": 1, \"value\": 2513}, \"2516\": {\"frequency\": 1, \"value\": 2516}, \"35287\": {\"frequency\": 1, \"value\": 35287}, \"2527\": {\"frequency\": 2, \"value\": 2527}, \"2530\": {\"frequency\": 1, \"value\": 2530}, \"100835\": {\"frequency\": 1, \"value\": 100835}, \"2533\": {\"frequency\": 1, \"value\": 2533}, \"2541\": {\"frequency\": 1, \"value\": 2541}, \"35315\": {\"frequency\": 1, \"value\": 35315}, \"2550\": {\"frequency\": 16, \"value\": 2550}, \"2551\": {\"frequency\": 1, \"value\": 2551}, \"2552\": {\"frequency\": 3, \"value\": 2552}, \"2553\": {\"frequency\": 2, \"value\": 2553}, \"2554\": {\"frequency\": 1, \"value\": 2554}, \"2555\": {\"frequency\": 1, \"value\": 2555}, \"2560\": {\"frequency\": 3, \"value\": 2560}, \"2566\": {\"frequency\": 1, \"value\": 2566}, \"2574\": {\"frequency\": 1, \"value\": 2574}, \"2575\": {\"frequency\": 2, \"value\": 2575}, \"2578\": {\"frequency\": 1, \"value\": 2578}, \"2580\": {\"frequency\": 3, \"value\": 2580}, \"2581\": {\"frequency\": 1, \"value\": 2581}, \"2589\": {\"frequency\": 2, \"value\": 2589}, \"35362\": {\"frequency\": 2, \"value\": 35362}, \"2600\": {\"frequency\": 7, \"value\": 2600}, \"2609\": {\"frequency\": 1, \"value\": 2609}, \"2614\": {\"frequency\": 2, \"value\": 2614}, \"2620\": {\"frequency\": 1, \"value\": 2620}, \"2625\": {\"frequency\": 3, \"value\": 2625}, \"2640\": {\"frequency\": 8, \"value\": 2640}, \"199253\": {\"frequency\": 2, \"value\": 199253}, \"2646\": {\"frequency\": 1, \"value\": 2646}, \"133729\": {\"frequency\": 1, \"value\": 133729}, \"35438\": {\"frequency\": 1, \"value\": 35438}, \"2674\": {\"frequency\": 2, \"value\": 2674}, \"2681\": {\"frequency\": 1, \"value\": 2681}, \"2685\": {\"frequency\": 1, \"value\": 2685}, \"2689\": {\"frequency\": 1, \"value\": 2689}, \"2691\": {\"frequency\": 1, \"value\": 2691}, \"2692\": {\"frequency\": 1, \"value\": 2692}, \"2699\": {\"frequency\": 2, \"value\": 2699}, \"2700\": {\"frequency\": 13, \"value\": 2700}, \"2710\": {\"frequency\": 2, \"value\": 2710}, \"2719\": {\"frequency\": 1, \"value\": 2719}, \"2720\": {\"frequency\": 2, \"value\": 2720}, \"2723\": {\"frequency\": 2, \"value\": 2723}, \"35500\": {\"frequency\": 1, \"value\": 35500}, \"2738\": {\"frequency\": 2, \"value\": 2738}, \"2748\": {\"frequency\": 2, \"value\": 2748}, \"2750\": {\"frequency\": 7, \"value\": 2750}, \"2752\": {\"frequency\": 6, \"value\": 2752}, \"2754\": {\"frequency\": 1, \"value\": 2754}, \"2760\": {\"frequency\": 2, \"value\": 2760}, \"35536\": {\"frequency\": 1, \"value\": 35536}, \"2770\": {\"frequency\": 1, \"value\": 2770}, \"2772\": {\"frequency\": 2, \"value\": 2772}, \"2784\": {\"frequency\": 1, \"value\": 2784}, \"2788\": {\"frequency\": 2, \"value\": 2788}, \"2790\": {\"frequency\": 2, \"value\": 2790}, \"2800\": {\"frequency\": 16, \"value\": 2800}, \"2805\": {\"frequency\": 2, \"value\": 2805}, \"2807\": {\"frequency\": 2, \"value\": 2807}, \"2808\": {\"frequency\": 2, \"value\": 2808}, \"2811\": {\"frequency\": 1, \"value\": 2811}, \"2815\": {\"frequency\": 1, \"value\": 2815}, \"2819\": {\"frequency\": 1, \"value\": 2819}, \"2820\": {\"frequency\": 4, \"value\": 2820}, \"2825\": {\"frequency\": 1, \"value\": 2825}, \"2833\": {\"frequency\": 1, \"value\": 2833}, \"2839\": {\"frequency\": 2, \"value\": 2839}, \"68377\": {\"frequency\": 1, \"value\": 68377}, \"2844\": {\"frequency\": 1, \"value\": 2844}, \"2849\": {\"frequency\": 1, \"value\": 2849}, \"2850\": {\"frequency\": 6, \"value\": 2850}, \"35621\": {\"frequency\": 1, \"value\": 35621}, \"2856\": {\"frequency\": 3, \"value\": 2856}, \"2865\": {\"frequency\": 1, \"value\": 2865}, \"2867\": {\"frequency\": 2, \"value\": 2867}, \"35636\": {\"frequency\": 1, \"value\": 35636}, \"2874\": {\"frequency\": 1, \"value\": 2874}, \"2875\": {\"frequency\": 7, \"value\": 2875}, \"2880\": {\"frequency\": 2, \"value\": 2880}, \"2885\": {\"frequency\": 2, \"value\": 2885}, \"2890\": {\"frequency\": 5, \"value\": 2890}, \"2897\": {\"frequency\": 1, \"value\": 2897}, \"2900\": {\"frequency\": 1, \"value\": 2900}, \"2910\": {\"frequency\": 3, \"value\": 2910}, \"35679\": {\"frequency\": 2, \"value\": 35679}, \"920423\": {\"frequency\": 1, \"value\": 920423}, \"35691\": {\"frequency\": 1, \"value\": 35691}, \"2926\": {\"frequency\": 1, \"value\": 2926}, \"2930\": {\"frequency\": 1, \"value\": 2930}, \"2937\": {\"frequency\": 1, \"value\": 2937}, \"68479\": {\"frequency\": 1, \"value\": 68479}, \"2944\": {\"frequency\": 1, \"value\": 2944}, \"35722\": {\"frequency\": 1, \"value\": 35722}, \"2958\": {\"frequency\": 2, \"value\": 2958}, \"2970\": {\"frequency\": 7, \"value\": 2970}, \"2971\": {\"frequency\": 2, \"value\": 2971}, \"2975\": {\"frequency\": 3, \"value\": 2975}, \"2978\": {\"frequency\": 1, \"value\": 2978}, \"2980\": {\"frequency\": 2, \"value\": 2980}, \"2982\": {\"frequency\": 1, \"value\": 2982}, \"2983\": {\"frequency\": 2, \"value\": 2983}, \"35752\": {\"frequency\": 1, \"value\": 35752}, \"35757\": {\"frequency\": 1, \"value\": 35757}, \"2992\": {\"frequency\": 3, \"value\": 2992}, \"35765\": {\"frequency\": 1, \"value\": 35765}, \"3000\": {\"frequency\": 84, \"value\": 3000}, \"3006\": {\"frequency\": 1, \"value\": 3006}, \"3008\": {\"frequency\": 3, \"value\": 3008}, \"3012\": {\"frequency\": 2, \"value\": 3012}, \"35782\": {\"frequency\": 1, \"value\": 35782}, \"3015\": {\"frequency\": 1, \"value\": 3015}, \"3025\": {\"frequency\": 1, \"value\": 3025}, \"3031\": {\"frequency\": 3, \"value\": 3031}, \"3040\": {\"frequency\": 3, \"value\": 3040}, \"3048\": {\"frequency\": 1, \"value\": 3048}, \"3050\": {\"frequency\": 1, \"value\": 3050}, \"3056\": {\"frequency\": 2, \"value\": 3056}, \"3060\": {\"frequency\": 24, \"value\": 3060}, \"3068\": {\"frequency\": 2, \"value\": 3068}, \"22357\": {\"frequency\": 1, \"value\": 22357}, \"3072\": {\"frequency\": 1, \"value\": 3072}, \"3075\": {\"frequency\": 5, \"value\": 3075}, \"3080\": {\"frequency\": 4, \"value\": 3080}, \"3088\": {\"frequency\": 2, \"value\": 3088}, \"3090\": {\"frequency\": 13, \"value\": 3090}, \"3094\": {\"frequency\": 1, \"value\": 3094}, \"35868\": {\"frequency\": 1, \"value\": 35868}, \"3101\": {\"frequency\": 1, \"value\": 3101}, \"35880\": {\"frequency\": 1, \"value\": 35880}, \"3118\": {\"frequency\": 2, \"value\": 3118}, \"3120\": {\"frequency\": 6, \"value\": 3120}, \"3121\": {\"frequency\": 2, \"value\": 3121}, \"3125\": {\"frequency\": 2, \"value\": 3125}, \"3128\": {\"frequency\": 4, \"value\": 3128}, \"3132\": {\"frequency\": 2, \"value\": 3132}, \"3134\": {\"frequency\": 1, \"value\": 3134}, \"3135\": {\"frequency\": 3, \"value\": 3135}, \"3136\": {\"frequency\": 1, \"value\": 3136}, \"3139\": {\"frequency\": 1, \"value\": 3139}, \"3140\": {\"frequency\": 2, \"value\": 3140}, \"3141\": {\"frequency\": 2, \"value\": 3141}, \"3143\": {\"frequency\": 2, \"value\": 3143}, \"3150\": {\"frequency\": 7, \"value\": 3150}, \"3160\": {\"frequency\": 1, \"value\": 3160}, \"3172\": {\"frequency\": 3, \"value\": 3172}, \"3180\": {\"frequency\": 1, \"value\": 3180}, \"3188\": {\"frequency\": 1, \"value\": 3188}, \"101494\": {\"frequency\": 1, \"value\": 101494}, \"3192\": {\"frequency\": 3, \"value\": 3192}, \"3196\": {\"frequency\": 1, \"value\": 3196}, \"3200\": {\"frequency\": 31, \"value\": 3200}, \"3207\": {\"frequency\": 2, \"value\": 3207}, \"3210\": {\"frequency\": 4, \"value\": 3210}, \"3211\": {\"frequency\": 3, \"value\": 3211}, \"3218\": {\"frequency\": 2, \"value\": 3218}, \"3220\": {\"frequency\": 2, \"value\": 3220}, \"35991\": {\"frequency\": 1, \"value\": 35991}, \"3225\": {\"frequency\": 5, \"value\": 3225}, \"35996\": {\"frequency\": 1, \"value\": 35996}, \"3230\": {\"frequency\": 3, \"value\": 3230}, \"3239\": {\"frequency\": 1, \"value\": 3239}, \"3240\": {\"frequency\": 9, \"value\": 3240}, \"3243\": {\"frequency\": 1, \"value\": 3243}, \"3245\": {\"frequency\": 2, \"value\": 3245}, \"3249\": {\"frequency\": 1, \"value\": 3249}, \"3250\": {\"frequency\": 5, \"value\": 3250}, \"3253\": {\"frequency\": 1, \"value\": 3253}, \"3255\": {\"frequency\": 2, \"value\": 3255}, \"3264\": {\"frequency\": 3, \"value\": 3264}, \"36036\": {\"frequency\": 1, \"value\": 36036}, \"3271\": {\"frequency\": 1, \"value\": 3271}, \"3276\": {\"frequency\": 1, \"value\": 3276}, \"3277\": {\"frequency\": 1, \"value\": 3277}, \"3300\": {\"frequency\": 15, \"value\": 3300}, \"3315\": {\"frequency\": 2, \"value\": 3315}, \"36085\": {\"frequency\": 1, \"value\": 36085}, \"3322\": {\"frequency\": 1, \"value\": 3322}, \"3323\": {\"frequency\": 1, \"value\": 3323}, \"3325\": {\"frequency\": 2, \"value\": 3325}, \"3328\": {\"frequency\": 2, \"value\": 3328}, \"3330\": {\"frequency\": 5, \"value\": 3330}, \"199940\": {\"frequency\": 1, \"value\": 199940}, \"3333\": {\"frequency\": 3, \"value\": 3333}, \"3340\": {\"frequency\": 2, \"value\": 3340}, \"3348\": {\"frequency\": 3, \"value\": 3348}, \"3350\": {\"frequency\": 3, \"value\": 3350}, \"3354\": {\"frequency\": 1, \"value\": 3354}, \"3357\": {\"frequency\": 1, \"value\": 3357}, \"3360\": {\"frequency\": 9, \"value\": 3360}, \"3375\": {\"frequency\": 1, \"value\": 3375}, \"3376\": {\"frequency\": 2, \"value\": 3376}, \"3388\": {\"frequency\": 1, \"value\": 3388}, \"3399\": {\"frequency\": 2, \"value\": 3399}, \"3400\": {\"frequency\": 22, \"value\": 3400}, \"3402\": {\"frequency\": 3, \"value\": 3402}, \"36171\": {\"frequency\": 1, \"value\": 36171}, \"3404\": {\"frequency\": 2, \"value\": 3404}, \"3408\": {\"frequency\": 1, \"value\": 3408}, \"3411\": {\"frequency\": 1, \"value\": 3411}, \"3413\": {\"frequency\": 1, \"value\": 3413}, \"36183\": {\"frequency\": 1, \"value\": 36183}, \"134489\": {\"frequency\": 1, \"value\": 134489}, \"3419\": {\"frequency\": 1, \"value\": 3419}, \"3420\": {\"frequency\": 9, \"value\": 3420}, \"3425\": {\"frequency\": 2, \"value\": 3425}, \"3427\": {\"frequency\": 3, \"value\": 3427}, \"3432\": {\"frequency\": 1, \"value\": 3432}, \"3433\": {\"frequency\": 2, \"value\": 3433}, \"3435\": {\"frequency\": 1, \"value\": 3435}, \"3436\": {\"frequency\": 2, \"value\": 3436}, \"3438\": {\"frequency\": 2, \"value\": 3438}, \"3444\": {\"frequency\": 1, \"value\": 3444}, \"3446\": {\"frequency\": 1, \"value\": 3446}, \"3449\": {\"frequency\": 1, \"value\": 3449}, \"36218\": {\"frequency\": 1, \"value\": 36218}, \"3451\": {\"frequency\": 3, \"value\": 3451}, \"3455\": {\"frequency\": 1, \"value\": 3455}, \"36224\": {\"frequency\": 1, \"value\": 36224}, \"3464\": {\"frequency\": 1, \"value\": 3464}, \"3466\": {\"frequency\": 1, \"value\": 3466}, \"3469\": {\"frequency\": 1, \"value\": 3469}, \"3475\": {\"frequency\": 3, \"value\": 3475}, \"3478\": {\"frequency\": 4, \"value\": 3478}, \"3480\": {\"frequency\": 4, \"value\": 3480}, \"3485\": {\"frequency\": 1, \"value\": 3485}, \"36254\": {\"frequency\": 1, \"value\": 36254}, \"3488\": {\"frequency\": 1, \"value\": 3488}, \"3497\": {\"frequency\": 2, \"value\": 3497}, \"3500\": {\"frequency\": 18, \"value\": 3500}, \"3503\": {\"frequency\": 2, \"value\": 3503}, \"3504\": {\"frequency\": 2, \"value\": 3504}, \"3507\": {\"frequency\": 2, \"value\": 3507}, \"36276\": {\"frequency\": 1, \"value\": 36276}, \"3515\": {\"frequency\": 2, \"value\": 3515}, \"3516\": {\"frequency\": 1, \"value\": 3516}, \"3517\": {\"frequency\": 2, \"value\": 3517}, \"3520\": {\"frequency\": 6, \"value\": 3520}, \"3522\": {\"frequency\": 1, \"value\": 3522}, \"3523\": {\"frequency\": 1, \"value\": 3523}, \"3525\": {\"frequency\": 1, \"value\": 3525}, \"3527\": {\"frequency\": 1, \"value\": 3527}, \"3532\": {\"frequency\": 1, \"value\": 3532}, \"3538\": {\"frequency\": 1, \"value\": 3538}, \"3541\": {\"frequency\": 1, \"value\": 3541}, \"3543\": {\"frequency\": 1, \"value\": 3543}, \"3550\": {\"frequency\": 1, \"value\": 3550}, \"3554\": {\"frequency\": 1, \"value\": 3554}, \"3560\": {\"frequency\": 3, \"value\": 3560}, \"3561\": {\"frequency\": 2, \"value\": 3561}, \"3562\": {\"frequency\": 1, \"value\": 3562}, \"3565\": {\"frequency\": 2, \"value\": 3565}, \"3570\": {\"frequency\": 5, \"value\": 3570}, \"3574\": {\"frequency\": 1, \"value\": 3574}, \"3580\": {\"frequency\": 1, \"value\": 3580}, \"3582\": {\"frequency\": 4, \"value\": 3582}, \"3584\": {\"frequency\": 2, \"value\": 3584}, \"3588\": {\"frequency\": 3, \"value\": 3588}, \"3593\": {\"frequency\": 1, \"value\": 3593}, \"3600\": {\"frequency\": 103, \"value\": 3600}, \"3604\": {\"frequency\": 2, \"value\": 3604}, \"3608\": {\"frequency\": 3, \"value\": 3608}, \"3610\": {\"frequency\": 3, \"value\": 3610}, \"3614\": {\"frequency\": 1, \"value\": 3614}, \"36384\": {\"frequency\": 1, \"value\": 36384}, \"3622\": {\"frequency\": 2, \"value\": 3622}, \"3625\": {\"frequency\": 1, \"value\": 3625}, \"101930\": {\"frequency\": 3, \"value\": 101930}, \"3627\": {\"frequency\": 1, \"value\": 3627}, \"3630\": {\"frequency\": 2, \"value\": 3630}, \"3632\": {\"frequency\": 1, \"value\": 3632}, \"3640\": {\"frequency\": 4, \"value\": 3640}, \"3649\": {\"frequency\": 1, \"value\": 3649}, \"3650\": {\"frequency\": 1, \"value\": 3650}, \"3657\": {\"frequency\": 1, \"value\": 3657}, \"3658\": {\"frequency\": 1, \"value\": 3658}, \"3667\": {\"frequency\": 2, \"value\": 3667}, \"3671\": {\"frequency\": 1, \"value\": 3671}, \"3672\": {\"frequency\": 4, \"value\": 3672}, \"3676\": {\"frequency\": 1, \"value\": 3676}, \"3677\": {\"frequency\": 3, \"value\": 3677}, \"3680\": {\"frequency\": 9, \"value\": 3680}, \"3690\": {\"frequency\": 3, \"value\": 3690}, \"3694\": {\"frequency\": 1, \"value\": 3694}, \"36465\": {\"frequency\": 1, \"value\": 36465}, \"3698\": {\"frequency\": 1, \"value\": 3698}, \"3700\": {\"frequency\": 6, \"value\": 3700}, \"3708\": {\"frequency\": 3, \"value\": 3708}, \"3710\": {\"frequency\": 2, \"value\": 3710}, \"3711\": {\"frequency\": 1, \"value\": 3711}, \"3713\": {\"frequency\": 2, \"value\": 3713}, \"3718\": {\"frequency\": 1, \"value\": 3718}, \"6081\": {\"frequency\": 1, \"value\": 6081}, \"3720\": {\"frequency\": 6, \"value\": 3720}, \"3721\": {\"frequency\": 3, \"value\": 3721}, \"69260\": {\"frequency\": 1, \"value\": 69260}, \"3727\": {\"frequency\": 1, \"value\": 3727}, \"3729\": {\"frequency\": 2, \"value\": 3729}, \"3730\": {\"frequency\": 3, \"value\": 3730}, \"3738\": {\"frequency\": 2, \"value\": 3738}, \"3740\": {\"frequency\": 3, \"value\": 3740}, \"3742\": {\"frequency\": 1, \"value\": 3742}, \"3748\": {\"frequency\": 2, \"value\": 3748}, \"3750\": {\"frequency\": 24, \"value\": 3750}, \"3752\": {\"frequency\": 1, \"value\": 3752}, \"3755\": {\"frequency\": 1, \"value\": 3755}, \"3757\": {\"frequency\": 4, \"value\": 3757}, \"3760\": {\"frequency\": 7, \"value\": 3760}, \"3764\": {\"frequency\": 2, \"value\": 3764}, \"3766\": {\"frequency\": 1, \"value\": 3766}, \"3774\": {\"frequency\": 3, \"value\": 3774}, \"3775\": {\"frequency\": 1, \"value\": 3775}, \"3780\": {\"frequency\": 4, \"value\": 3780}, \"3784\": {\"frequency\": 4, \"value\": 3784}, \"36558\": {\"frequency\": 1, \"value\": 36558}, \"3794\": {\"frequency\": 1, \"value\": 3794}, \"3795\": {\"frequency\": 2, \"value\": 3795}, \"3800\": {\"frequency\": 28, \"value\": 3800}, \"3801\": {\"frequency\": 1, \"value\": 3801}, \"3809\": {\"frequency\": 1, \"value\": 3809}, \"3810\": {\"frequency\": 2, \"value\": 3810}, \"3813\": {\"frequency\": 1, \"value\": 3813}, \"69351\": {\"frequency\": 1, \"value\": 69351}, \"3816\": {\"frequency\": 1, \"value\": 3816}, \"36585\": {\"frequency\": 2, \"value\": 36585}, \"3821\": {\"frequency\": 2, \"value\": 3821}, \"3825\": {\"frequency\": 18, \"value\": 3825}, \"3827\": {\"frequency\": 2, \"value\": 3827}, \"3832\": {\"frequency\": 1, \"value\": 3832}, \"36601\": {\"frequency\": 1, \"value\": 36601}, \"3836\": {\"frequency\": 1, \"value\": 3836}, \"3839\": {\"frequency\": 2, \"value\": 3839}, \"3840\": {\"frequency\": 18, \"value\": 3840}, \"3841\": {\"frequency\": 1, \"value\": 3841}, \"3844\": {\"frequency\": 11, \"value\": 3844}, \"3850\": {\"frequency\": 7, \"value\": 3850}, \"3852\": {\"frequency\": 2, \"value\": 3852}, \"3855\": {\"frequency\": 2, \"value\": 3855}, \"3860\": {\"frequency\": 1, \"value\": 3860}, \"3864\": {\"frequency\": 3, \"value\": 3864}, \"167706\": {\"frequency\": 1, \"value\": 167706}, \"3867\": {\"frequency\": 2, \"value\": 3867}, \"3868\": {\"frequency\": 3, \"value\": 3868}, \"3870\": {\"frequency\": 4, \"value\": 3870}, \"3873\": {\"frequency\": 3, \"value\": 3873}, \"3874\": {\"frequency\": 1, \"value\": 3874}, \"3875\": {\"frequency\": 1, \"value\": 3875}, \"3876\": {\"frequency\": 6, \"value\": 3876}, \"69415\": {\"frequency\": 1, \"value\": 69415}, \"3880\": {\"frequency\": 21, \"value\": 3880}, \"3881\": {\"frequency\": 1, \"value\": 3881}, \"3884\": {\"frequency\": 1, \"value\": 3884}, \"3885\": {\"frequency\": 2, \"value\": 3885}, \"3896\": {\"frequency\": 1, \"value\": 3896}, \"3899\": {\"frequency\": 3, \"value\": 3899}, \"3900\": {\"frequency\": 14, \"value\": 3900}, \"3904\": {\"frequency\": 1, \"value\": 3904}, \"3905\": {\"frequency\": 2, \"value\": 3905}, \"3910\": {\"frequency\": 1, \"value\": 3910}, \"36680\": {\"frequency\": 1, \"value\": 36680}, \"3916\": {\"frequency\": 3, \"value\": 3916}, \"3920\": {\"frequency\": 4, \"value\": 3920}, \"3927\": {\"frequency\": 1, \"value\": 3927}, \"6116\": {\"frequency\": 2, \"value\": 6116}, \"3930\": {\"frequency\": 2, \"value\": 3930}, \"3933\": {\"frequency\": 2, \"value\": 3933}, \"36704\": {\"frequency\": 1, \"value\": 36704}, \"3938\": {\"frequency\": 2, \"value\": 3938}, \"3952\": {\"frequency\": 2, \"value\": 3952}, \"3953\": {\"frequency\": 1, \"value\": 3953}, \"3960\": {\"frequency\": 13, \"value\": 3960}, \"3962\": {\"frequency\": 2, \"value\": 3962}, \"3963\": {\"frequency\": 1, \"value\": 3963}, \"3969\": {\"frequency\": 1, \"value\": 3969}, \"3971\": {\"frequency\": 1, \"value\": 3971}, \"3974\": {\"frequency\": 2, \"value\": 3974}, \"3975\": {\"frequency\": 2, \"value\": 3975}, \"3976\": {\"frequency\": 2, \"value\": 3976}, \"3978\": {\"frequency\": 2, \"value\": 3978}, \"3980\": {\"frequency\": 6, \"value\": 3980}, \"3982\": {\"frequency\": 1, \"value\": 3982}, \"3984\": {\"frequency\": 2, \"value\": 3984}, \"3986\": {\"frequency\": 2, \"value\": 3986}, \"3987\": {\"frequency\": 1, \"value\": 3987}, \"3988\": {\"frequency\": 1, \"value\": 3988}, \"3990\": {\"frequency\": 5, \"value\": 3990}, \"36762\": {\"frequency\": 1, \"value\": 36762}, \"3995\": {\"frequency\": 2, \"value\": 3995}, \"3996\": {\"frequency\": 2, \"value\": 3996}, \"3997\": {\"frequency\": 1, \"value\": 3997}, \"3999\": {\"frequency\": 1, \"value\": 3999}, \"4000\": {\"frequency\": 251, \"value\": 4000}, \"4002\": {\"frequency\": 2, \"value\": 4002}, \"4003\": {\"frequency\": 2, \"value\": 4003}, \"4004\": {\"frequency\": 2, \"value\": 4004}, \"4005\": {\"frequency\": 3, \"value\": 4005}, \"4006\": {\"frequency\": 3, \"value\": 4006}, \"4007\": {\"frequency\": 2, \"value\": 4007}, \"4008\": {\"frequency\": 1, \"value\": 4008}, \"4010\": {\"frequency\": 2, \"value\": 4010}, \"4011\": {\"frequency\": 2, \"value\": 4011}, \"4013\": {\"frequency\": 3, \"value\": 4013}, \"4020\": {\"frequency\": 3, \"value\": 4020}, \"4025\": {\"frequency\": 6, \"value\": 4025}, \"4030\": {\"frequency\": 2, \"value\": 4030}, \"4031\": {\"frequency\": 2, \"value\": 4031}, \"4032\": {\"frequency\": 1, \"value\": 4032}, \"4033\": {\"frequency\": 1, \"value\": 4033}, \"4038\": {\"frequency\": 2, \"value\": 4038}, \"4040\": {\"frequency\": 5, \"value\": 4040}, \"4046\": {\"frequency\": 6, \"value\": 4046}, \"4049\": {\"frequency\": 1, \"value\": 4049}, \"4050\": {\"frequency\": 11, \"value\": 4050}, \"4052\": {\"frequency\": 2, \"value\": 4052}, \"4054\": {\"frequency\": 3, \"value\": 4054}, \"4056\": {\"frequency\": 1, \"value\": 4056}, \"4057\": {\"frequency\": 1, \"value\": 4057}, \"4059\": {\"frequency\": 1, \"value\": 4059}, \"4060\": {\"frequency\": 4, \"value\": 4060}, \"102366\": {\"frequency\": 3, \"value\": 102366}, \"36831\": {\"frequency\": 1, \"value\": 36831}, \"4065\": {\"frequency\": 2, \"value\": 4065}, \"4069\": {\"frequency\": 1, \"value\": 4069}, \"4076\": {\"frequency\": 2, \"value\": 4076}, \"4077\": {\"frequency\": 2, \"value\": 4077}, \"4078\": {\"frequency\": 1, \"value\": 4078}, \"36847\": {\"frequency\": 1, \"value\": 36847}, \"4080\": {\"frequency\": 67, \"value\": 4080}, \"4084\": {\"frequency\": 2, \"value\": 4084}, \"4086\": {\"frequency\": 2, \"value\": 4086}, \"4087\": {\"frequency\": 1, \"value\": 4087}, \"4088\": {\"frequency\": 2, \"value\": 4088}, \"4089\": {\"frequency\": 2, \"value\": 4089}, \"4094\": {\"frequency\": 2, \"value\": 4094}, \"4095\": {\"frequency\": 3, \"value\": 4095}, \"4096\": {\"frequency\": 2, \"value\": 4096}, \"4097\": {\"frequency\": 2, \"value\": 4097}, \"4100\": {\"frequency\": 4, \"value\": 4100}, \"4102\": {\"frequency\": 3, \"value\": 4102}, \"4104\": {\"frequency\": 4, \"value\": 4104}, \"4105\": {\"frequency\": 1, \"value\": 4105}, \"4106\": {\"frequency\": 2, \"value\": 4106}, \"4108\": {\"frequency\": 3, \"value\": 4108}, \"4118\": {\"frequency\": 1, \"value\": 4118}, \"4119\": {\"frequency\": 1, \"value\": 4119}, \"4120\": {\"frequency\": 21, \"value\": 4120}, \"4122\": {\"frequency\": 1, \"value\": 4122}, \"4125\": {\"frequency\": 7, \"value\": 4125}, \"4128\": {\"frequency\": 3, \"value\": 4128}, \"4132\": {\"frequency\": 2, \"value\": 4132}, \"4136\": {\"frequency\": 2, \"value\": 4136}, \"4139\": {\"frequency\": 1, \"value\": 4139}, \"4140\": {\"frequency\": 4, \"value\": 4140}, \"4141\": {\"frequency\": 2, \"value\": 4141}, \"4153\": {\"frequency\": 2, \"value\": 4153}, \"4160\": {\"frequency\": 10, \"value\": 4160}, \"4163\": {\"frequency\": 2, \"value\": 4163}, \"4165\": {\"frequency\": 2, \"value\": 4165}, \"4166\": {\"frequency\": 2, \"value\": 4166}, \"4168\": {\"frequency\": 1, \"value\": 4168}, \"4169\": {\"frequency\": 1, \"value\": 4169}, \"4171\": {\"frequency\": 2, \"value\": 4171}, \"4172\": {\"frequency\": 1, \"value\": 4172}, \"4174\": {\"frequency\": 1, \"value\": 4174}, \"4176\": {\"frequency\": 1, \"value\": 4176}, \"4178\": {\"frequency\": 4, \"value\": 4178}, \"4179\": {\"frequency\": 2, \"value\": 4179}, \"4180\": {\"frequency\": 2, \"value\": 4180}, \"4182\": {\"frequency\": 4, \"value\": 4182}, \"4185\": {\"frequency\": 2, \"value\": 4185}, \"4187\": {\"frequency\": 2, \"value\": 4187}, \"4188\": {\"frequency\": 1, \"value\": 4188}, \"4189\": {\"frequency\": 1, \"value\": 4189}, \"4190\": {\"frequency\": 2, \"value\": 4190}, \"4191\": {\"frequency\": 2, \"value\": 4191}, \"4195\": {\"frequency\": 1, \"value\": 4195}, \"4200\": {\"frequency\": 49, \"value\": 4200}, \"4203\": {\"frequency\": 4, \"value\": 4203}, \"4206\": {\"frequency\": 3, \"value\": 4206}, \"4211\": {\"frequency\": 1, \"value\": 4211}, \"4217\": {\"frequency\": 1, \"value\": 4217}, \"4218\": {\"frequency\": 3, \"value\": 4218}, \"4220\": {\"frequency\": 4, \"value\": 4220}, \"4222\": {\"frequency\": 1, \"value\": 4222}, \"4225\": {\"frequency\": 3, \"value\": 4225}, \"4226\": {\"frequency\": 2, \"value\": 4226}, \"4228\": {\"frequency\": 3, \"value\": 4228}, \"4232\": {\"frequency\": 1, \"value\": 4232}, \"4234\": {\"frequency\": 2, \"value\": 4234}, \"4235\": {\"frequency\": 1, \"value\": 4235}, \"4236\": {\"frequency\": 1, \"value\": 4236}, \"4237\": {\"frequency\": 1, \"value\": 4237}, \"4239\": {\"frequency\": 1, \"value\": 4239}, \"4240\": {\"frequency\": 13, \"value\": 4240}, \"37011\": {\"frequency\": 1, \"value\": 37011}, \"4244\": {\"frequency\": 3, \"value\": 4244}, \"4247\": {\"frequency\": 2, \"value\": 4247}, \"4250\": {\"frequency\": 7, \"value\": 4250}, \"4252\": {\"frequency\": 2, \"value\": 4252}, \"4254\": {\"frequency\": 1, \"value\": 4254}, \"37026\": {\"frequency\": 1, \"value\": 37026}, \"4260\": {\"frequency\": 1, \"value\": 4260}, \"4264\": {\"frequency\": 2, \"value\": 4264}, \"37034\": {\"frequency\": 2, \"value\": 37034}, \"4268\": {\"frequency\": 5, \"value\": 4268}, \"4270\": {\"frequency\": 3, \"value\": 4270}, \"4271\": {\"frequency\": 2, \"value\": 4271}, \"4273\": {\"frequency\": 1, \"value\": 4273}, \"37042\": {\"frequency\": 1, \"value\": 37042}, \"4275\": {\"frequency\": 4, \"value\": 4275}, \"4280\": {\"frequency\": 4, \"value\": 4280}, \"4284\": {\"frequency\": 5, \"value\": 4284}, \"4286\": {\"frequency\": 2, \"value\": 4286}, \"4288\": {\"frequency\": 1, \"value\": 4288}, \"4290\": {\"frequency\": 6, \"value\": 4290}, \"4296\": {\"frequency\": 1, \"value\": 4296}, \"4297\": {\"frequency\": 2, \"value\": 4297}, \"69834\": {\"frequency\": 1, \"value\": 69834}, \"4299\": {\"frequency\": 1, \"value\": 4299}, \"4300\": {\"frequency\": 8, \"value\": 4300}, \"4301\": {\"frequency\": 2, \"value\": 4301}, \"4305\": {\"frequency\": 2, \"value\": 4305}, \"4307\": {\"frequency\": 2, \"value\": 4307}, \"4308\": {\"frequency\": 2, \"value\": 4308}, \"197326\": {\"frequency\": 1, \"value\": 197326}, \"4310\": {\"frequency\": 3, \"value\": 4310}, \"4320\": {\"frequency\": 11, \"value\": 4320}, \"4322\": {\"frequency\": 4, \"value\": 4322}, \"4323\": {\"frequency\": 1, \"value\": 4323}, \"4329\": {\"frequency\": 1, \"value\": 4329}, \"4331\": {\"frequency\": 1, \"value\": 4331}, \"4332\": {\"frequency\": 4, \"value\": 4332}, \"4333\": {\"frequency\": 2, \"value\": 4333}, \"4334\": {\"frequency\": 2, \"value\": 4334}, \"4337\": {\"frequency\": 3, \"value\": 4337}, \"4338\": {\"frequency\": 3, \"value\": 4338}, \"4342\": {\"frequency\": 1, \"value\": 4342}, \"4343\": {\"frequency\": 1, \"value\": 4343}, \"4348\": {\"frequency\": 1, \"value\": 4348}, \"4350\": {\"frequency\": 7, \"value\": 4350}, \"4356\": {\"frequency\": 2, \"value\": 4356}, \"4360\": {\"frequency\": 3, \"value\": 4360}, \"4366\": {\"frequency\": 3, \"value\": 4366}, \"4367\": {\"frequency\": 1, \"value\": 4367}, \"4368\": {\"frequency\": 3, \"value\": 4368}, \"4370\": {\"frequency\": 2, \"value\": 4370}, \"4372\": {\"frequency\": 1, \"value\": 4372}, \"4375\": {\"frequency\": 2, \"value\": 4375}, \"4377\": {\"frequency\": 1, \"value\": 4377}, \"4379\": {\"frequency\": 1, \"value\": 4379}, \"4380\": {\"frequency\": 1, \"value\": 4380}, \"4385\": {\"frequency\": 1, \"value\": 4385}, \"4388\": {\"frequency\": 1, \"value\": 4388}, \"4390\": {\"frequency\": 1, \"value\": 4390}, \"4394\": {\"frequency\": 1, \"value\": 4394}, \"4397\": {\"frequency\": 1, \"value\": 4397}, \"4399\": {\"frequency\": 3, \"value\": 4399}, \"4400\": {\"frequency\": 56, \"value\": 4400}, \"37169\": {\"frequency\": 1, \"value\": 37169}, \"4408\": {\"frequency\": 4, \"value\": 4408}, \"4410\": {\"frequency\": 2, \"value\": 4410}, \"4412\": {\"frequency\": 1, \"value\": 4412}, \"4416\": {\"frequency\": 1, \"value\": 4416}, \"4418\": {\"frequency\": 2, \"value\": 4418}, \"4420\": {\"frequency\": 2, \"value\": 4420}, \"4425\": {\"frequency\": 2, \"value\": 4425}, \"4426\": {\"frequency\": 1, \"value\": 4426}, \"4429\": {\"frequency\": 2, \"value\": 4429}, \"4435\": {\"frequency\": 1, \"value\": 4435}, \"4438\": {\"frequency\": 2, \"value\": 4438}, \"4440\": {\"frequency\": 8, \"value\": 4440}, \"4441\": {\"frequency\": 2, \"value\": 4441}, \"4442\": {\"frequency\": 1, \"value\": 4442}, \"4443\": {\"frequency\": 2, \"value\": 4443}, \"4445\": {\"frequency\": 2, \"value\": 4445}, \"4447\": {\"frequency\": 2, \"value\": 4447}, \"4450\": {\"frequency\": 2, \"value\": 4450}, \"4452\": {\"frequency\": 2, \"value\": 4452}, \"4455\": {\"frequency\": 2, \"value\": 4455}, \"4456\": {\"frequency\": 1, \"value\": 4456}, \"4461\": {\"frequency\": 1, \"value\": 4461}, \"4468\": {\"frequency\": 2, \"value\": 4468}, \"4473\": {\"frequency\": 4, \"value\": 4473}, \"4476\": {\"frequency\": 1, \"value\": 4476}, \"4480\": {\"frequency\": 9, \"value\": 4480}, \"4482\": {\"frequency\": 2, \"value\": 4482}, \"4485\": {\"frequency\": 1, \"value\": 4485}, \"4486\": {\"frequency\": 1, \"value\": 4486}, \"4488\": {\"frequency\": 3, \"value\": 4488}, \"37258\": {\"frequency\": 1, \"value\": 37258}, \"4494\": {\"frequency\": 1, \"value\": 4494}, \"4495\": {\"frequency\": 4, \"value\": 4495}, \"4496\": {\"frequency\": 2, \"value\": 4496}, \"4497\": {\"frequency\": 2, \"value\": 4497}, \"4499\": {\"frequency\": 4, \"value\": 4499}, \"4500\": {\"frequency\": 114, \"value\": 4500}, \"4501\": {\"frequency\": 2, \"value\": 4501}, \"4502\": {\"frequency\": 4, \"value\": 4502}, \"4504\": {\"frequency\": 1, \"value\": 4504}, \"4505\": {\"frequency\": 3, \"value\": 4505}, \"37277\": {\"frequency\": 1, \"value\": 37277}, \"4510\": {\"frequency\": 2, \"value\": 4510}, \"4512\": {\"frequency\": 2, \"value\": 4512}, \"4513\": {\"frequency\": 1, \"value\": 4513}, \"4515\": {\"frequency\": 2, \"value\": 4515}, \"4520\": {\"frequency\": 3, \"value\": 4520}, \"4524\": {\"frequency\": 4, \"value\": 4524}, \"4532\": {\"frequency\": 1, \"value\": 4532}, \"4533\": {\"frequency\": 3, \"value\": 4533}, \"4534\": {\"frequency\": 6, \"value\": 4534}, \"4536\": {\"frequency\": 1, \"value\": 4536}, \"4539\": {\"frequency\": 3, \"value\": 4539}, \"4541\": {\"frequency\": 2, \"value\": 4541}, \"4543\": {\"frequency\": 1, \"value\": 4543}, \"4544\": {\"frequency\": 1, \"value\": 4544}, \"4545\": {\"frequency\": 1, \"value\": 4545}, \"4548\": {\"frequency\": 2, \"value\": 4548}, \"4549\": {\"frequency\": 2, \"value\": 4549}, \"4550\": {\"frequency\": 3, \"value\": 4550}, \"4551\": {\"frequency\": 2, \"value\": 4551}, \"4553\": {\"frequency\": 2, \"value\": 4553}, \"4555\": {\"frequency\": 2, \"value\": 4555}, \"4556\": {\"frequency\": 1, \"value\": 4556}, \"37325\": {\"frequency\": 1, \"value\": 37325}, \"4558\": {\"frequency\": 5, \"value\": 4558}, \"4560\": {\"frequency\": 15, \"value\": 4560}, \"4561\": {\"frequency\": 1, \"value\": 4561}, \"4564\": {\"frequency\": 2, \"value\": 4564}, \"4565\": {\"frequency\": 1, \"value\": 4565}, \"4569\": {\"frequency\": 1, \"value\": 4569}, \"4572\": {\"frequency\": 1, \"value\": 4572}, \"4580\": {\"frequency\": 1, \"value\": 4580}, \"4583\": {\"frequency\": 1, \"value\": 4583}, \"4584\": {\"frequency\": 2, \"value\": 4584}, \"4587\": {\"frequency\": 2, \"value\": 4587}, \"4590\": {\"frequency\": 17, \"value\": 4590}, \"4591\": {\"frequency\": 1, \"value\": 4591}, \"4592\": {\"frequency\": 4, \"value\": 4592}, \"70131\": {\"frequency\": 2, \"value\": 70131}, \"4597\": {\"frequency\": 1, \"value\": 4597}, \"4600\": {\"frequency\": 34, \"value\": 4600}, \"4601\": {\"frequency\": 1, \"value\": 4601}, \"4602\": {\"frequency\": 3, \"value\": 4602}, \"37373\": {\"frequency\": 1, \"value\": 37373}, \"4606\": {\"frequency\": 2, \"value\": 4606}, \"4608\": {\"frequency\": 1, \"value\": 4608}, \"4611\": {\"frequency\": 2, \"value\": 4611}, \"4614\": {\"frequency\": 1, \"value\": 4614}, \"4620\": {\"frequency\": 2, \"value\": 4620}, \"4621\": {\"frequency\": 1, \"value\": 4621}, \"4623\": {\"frequency\": 1, \"value\": 4623}, \"4625\": {\"frequency\": 2, \"value\": 4625}, \"4627\": {\"frequency\": 2, \"value\": 4627}, \"4630\": {\"frequency\": 1, \"value\": 4630}, \"4632\": {\"frequency\": 1, \"value\": 4632}, \"4635\": {\"frequency\": 10, \"value\": 4635}, \"4636\": {\"frequency\": 3, \"value\": 4636}, \"4640\": {\"frequency\": 5, \"value\": 4640}, \"4648\": {\"frequency\": 2, \"value\": 4648}, \"4649\": {\"frequency\": 1, \"value\": 4649}, \"4650\": {\"frequency\": 10, \"value\": 4650}, \"4652\": {\"frequency\": 2, \"value\": 4652}, \"4653\": {\"frequency\": 1, \"value\": 4653}, \"4662\": {\"frequency\": 1, \"value\": 4662}, \"4663\": {\"frequency\": 1, \"value\": 4663}, \"4667\": {\"frequency\": 4, \"value\": 4667}, \"4668\": {\"frequency\": 2, \"value\": 4668}, \"4670\": {\"frequency\": 2, \"value\": 4670}, \"4673\": {\"frequency\": 1, \"value\": 4673}, \"4675\": {\"frequency\": 4, \"value\": 4675}, \"4676\": {\"frequency\": 1, \"value\": 4676}, \"4680\": {\"frequency\": 5, \"value\": 4680}, \"4683\": {\"frequency\": 2, \"value\": 4683}, \"4684\": {\"frequency\": 2, \"value\": 4684}, \"4687\": {\"frequency\": 1, \"value\": 4687}, \"4688\": {\"frequency\": 2, \"value\": 4688}, \"4690\": {\"frequency\": 2, \"value\": 4690}, \"4692\": {\"frequency\": 2, \"value\": 4692}, \"37461\": {\"frequency\": 1, \"value\": 37461}, \"4694\": {\"frequency\": 3, \"value\": 4694}, \"4697\": {\"frequency\": 2, \"value\": 4697}, \"4698\": {\"frequency\": 3, \"value\": 4698}, \"4700\": {\"frequency\": 13, \"value\": 4700}, \"4704\": {\"frequency\": 2, \"value\": 4704}, \"4708\": {\"frequency\": 2, \"value\": 4708}, \"4712\": {\"frequency\": 1, \"value\": 4712}, \"4713\": {\"frequency\": 1, \"value\": 4713}, \"4720\": {\"frequency\": 6, \"value\": 4720}, \"4721\": {\"frequency\": 1, \"value\": 4721}, \"4724\": {\"frequency\": 1, \"value\": 4724}, \"4725\": {\"frequency\": 10, \"value\": 4725}, \"4727\": {\"frequency\": 1, \"value\": 4727}, \"4729\": {\"frequency\": 2, \"value\": 4729}, \"4730\": {\"frequency\": 3, \"value\": 4730}, \"37500\": {\"frequency\": 1, \"value\": 37500}, \"4736\": {\"frequency\": 3, \"value\": 4736}, \"4740\": {\"frequency\": 2, \"value\": 4740}, \"4743\": {\"frequency\": 2, \"value\": 4743}, \"4745\": {\"frequency\": 2, \"value\": 4745}, \"4746\": {\"frequency\": 1, \"value\": 4746}, \"4750\": {\"frequency\": 27, \"value\": 4750}, \"4751\": {\"frequency\": 3, \"value\": 4751}, \"37522\": {\"frequency\": 1, \"value\": 37522}, \"4755\": {\"frequency\": 3, \"value\": 4755}, \"4759\": {\"frequency\": 1, \"value\": 4759}, \"4760\": {\"frequency\": 10, \"value\": 4760}, \"4762\": {\"frequency\": 1, \"value\": 4762}, \"4764\": {\"frequency\": 1, \"value\": 4764}, \"37533\": {\"frequency\": 1, \"value\": 37533}, \"4770\": {\"frequency\": 4, \"value\": 4770}, \"4774\": {\"frequency\": 3, \"value\": 4774}, \"4776\": {\"frequency\": 1, \"value\": 4776}, \"4777\": {\"frequency\": 4, \"value\": 4777}, \"4780\": {\"frequency\": 4, \"value\": 4780}, \"4781\": {\"frequency\": 2, \"value\": 4781}, \"4788\": {\"frequency\": 3, \"value\": 4788}, \"4789\": {\"frequency\": 1, \"value\": 4789}, \"4797\": {\"frequency\": 2, \"value\": 4797}, \"4800\": {\"frequency\": 120, \"value\": 4800}, \"4802\": {\"frequency\": 2, \"value\": 4802}, \"4804\": {\"frequency\": 1, \"value\": 4804}, \"4805\": {\"frequency\": 2, \"value\": 4805}, \"4812\": {\"frequency\": 1, \"value\": 4812}, \"4815\": {\"frequency\": 5, \"value\": 4815}, \"4818\": {\"frequency\": 2, \"value\": 4818}, \"4822\": {\"frequency\": 1, \"value\": 4822}, \"4823\": {\"frequency\": 1, \"value\": 4823}, \"4828\": {\"frequency\": 2, \"value\": 4828}, \"4830\": {\"frequency\": 1, \"value\": 4830}, \"4831\": {\"frequency\": 2, \"value\": 4831}, \"4833\": {\"frequency\": 1, \"value\": 4833}, \"4836\": {\"frequency\": 2, \"value\": 4836}, \"4838\": {\"frequency\": 6, \"value\": 4838}, \"37607\": {\"frequency\": 1, \"value\": 37607}, \"4840\": {\"frequency\": 10, \"value\": 4840}, \"4841\": {\"frequency\": 2, \"value\": 4841}, \"4842\": {\"frequency\": 1, \"value\": 4842}, \"4845\": {\"frequency\": 1, \"value\": 4845}, \"37616\": {\"frequency\": 1, \"value\": 37616}, \"4850\": {\"frequency\": 7, \"value\": 4850}, \"4855\": {\"frequency\": 1, \"value\": 4855}, \"4857\": {\"frequency\": 2, \"value\": 4857}, \"4859\": {\"frequency\": 2, \"value\": 4859}, \"4860\": {\"frequency\": 2, \"value\": 4860}, \"4862\": {\"frequency\": 3, \"value\": 4862}, \"4864\": {\"frequency\": 1, \"value\": 4864}, \"4865\": {\"frequency\": 1, \"value\": 4865}, \"4866\": {\"frequency\": 2, \"value\": 4866}, \"4871\": {\"frequency\": 2, \"value\": 4871}, \"37642\": {\"frequency\": 1, \"value\": 37642}, \"4875\": {\"frequency\": 10, \"value\": 4875}, \"4876\": {\"frequency\": 2, \"value\": 4876}, \"4879\": {\"frequency\": 1, \"value\": 4879}, \"4880\": {\"frequency\": 5, \"value\": 4880}, \"4882\": {\"frequency\": 1, \"value\": 4882}, \"4886\": {\"frequency\": 1, \"value\": 4886}, \"4887\": {\"frequency\": 2, \"value\": 4887}, \"4888\": {\"frequency\": 2, \"value\": 4888}, \"4895\": {\"frequency\": 2, \"value\": 4895}, \"4900\": {\"frequency\": 8, \"value\": 4900}, \"4903\": {\"frequency\": 2, \"value\": 4903}, \"4904\": {\"frequency\": 2, \"value\": 4904}, \"4905\": {\"frequency\": 3, \"value\": 4905}, \"4910\": {\"frequency\": 1, \"value\": 4910}, \"4912\": {\"frequency\": 2, \"value\": 4912}, \"4913\": {\"frequency\": 2, \"value\": 4913}, \"4920\": {\"frequency\": 12, \"value\": 4920}, \"4922\": {\"frequency\": 1, \"value\": 4922}, \"4923\": {\"frequency\": 2, \"value\": 4923}, \"4924\": {\"frequency\": 3, \"value\": 4924}, \"4930\": {\"frequency\": 3, \"value\": 4930}, \"4932\": {\"frequency\": 1, \"value\": 4932}, \"103237\": {\"frequency\": 2, \"value\": 103237}, \"4936\": {\"frequency\": 1, \"value\": 4936}, \"4940\": {\"frequency\": 1, \"value\": 4940}, \"4941\": {\"frequency\": 1, \"value\": 4941}, \"4942\": {\"frequency\": 1, \"value\": 4942}, \"4944\": {\"frequency\": 3, \"value\": 4944}, \"4945\": {\"frequency\": 5, \"value\": 4945}, \"4947\": {\"frequency\": 3, \"value\": 4947}, \"4948\": {\"frequency\": 2, \"value\": 4948}, \"4949\": {\"frequency\": 2, \"value\": 4949}, \"4950\": {\"frequency\": 15, \"value\": 4950}, \"4954\": {\"frequency\": 1, \"value\": 4954}, \"4957\": {\"frequency\": 1, \"value\": 4957}, \"4958\": {\"frequency\": 1, \"value\": 4958}, \"4959\": {\"frequency\": 2, \"value\": 4959}, \"4960\": {\"frequency\": 8, \"value\": 4960}, \"4961\": {\"frequency\": 3, \"value\": 4961}, \"4964\": {\"frequency\": 2, \"value\": 4964}, \"4972\": {\"frequency\": 2, \"value\": 4972}, \"4975\": {\"frequency\": 2, \"value\": 4975}, \"4976\": {\"frequency\": 2, \"value\": 4976}, \"4977\": {\"frequency\": 1, \"value\": 4977}, \"4978\": {\"frequency\": 3, \"value\": 4978}, \"4979\": {\"frequency\": 1, \"value\": 4979}, \"4980\": {\"frequency\": 6, \"value\": 4980}, \"4984\": {\"frequency\": 2, \"value\": 4984}, \"4988\": {\"frequency\": 1, \"value\": 4988}, \"4990\": {\"frequency\": 2, \"value\": 4990}, \"4992\": {\"frequency\": 2, \"value\": 4992}, \"4995\": {\"frequency\": 2, \"value\": 4995}, \"4997\": {\"frequency\": 3, \"value\": 4997}, \"4998\": {\"frequency\": 1, \"value\": 4998}, \"5000\": {\"frequency\": 358, \"value\": 5000}, \"37769\": {\"frequency\": 1, \"value\": 37769}, \"5002\": {\"frequency\": 6, \"value\": 5002}, \"5004\": {\"frequency\": 2, \"value\": 5004}, \"5005\": {\"frequency\": 3, \"value\": 5005}, \"5008\": {\"frequency\": 3, \"value\": 5008}, \"5009\": {\"frequency\": 2, \"value\": 5009}, \"5010\": {\"frequency\": 2, \"value\": 5010}, \"5011\": {\"frequency\": 1, \"value\": 5011}, \"5012\": {\"frequency\": 3, \"value\": 5012}, \"5013\": {\"frequency\": 3, \"value\": 5013}, \"5014\": {\"frequency\": 1, \"value\": 5014}, \"5015\": {\"frequency\": 4, \"value\": 5015}, \"5016\": {\"frequency\": 1, \"value\": 5016}, \"5017\": {\"frequency\": 1, \"value\": 5017}, \"5022\": {\"frequency\": 1, \"value\": 5022}, \"5024\": {\"frequency\": 3, \"value\": 5024}, \"5025\": {\"frequency\": 5, \"value\": 5025}, \"5026\": {\"frequency\": 4, \"value\": 5026}, \"5027\": {\"frequency\": 4, \"value\": 5027}, \"5028\": {\"frequency\": 1, \"value\": 5028}, \"5029\": {\"frequency\": 4, \"value\": 5029}, \"5030\": {\"frequency\": 3, \"value\": 5030}, \"70567\": {\"frequency\": 3, \"value\": 70567}, \"37800\": {\"frequency\": 2, \"value\": 37800}, \"37801\": {\"frequency\": 1, \"value\": 37801}, \"5034\": {\"frequency\": 2, \"value\": 5034}, \"5036\": {\"frequency\": 1, \"value\": 5036}, \"5038\": {\"frequency\": 3, \"value\": 5038}, \"5040\": {\"frequency\": 29, \"value\": 5040}, \"5043\": {\"frequency\": 5, \"value\": 5043}, \"5044\": {\"frequency\": 1, \"value\": 5044}, \"5048\": {\"frequency\": 2, \"value\": 5048}, \"5050\": {\"frequency\": 9, \"value\": 5050}, \"5053\": {\"frequency\": 1, \"value\": 5053}, \"5054\": {\"frequency\": 3, \"value\": 5054}, \"5055\": {\"frequency\": 1, \"value\": 5055}, \"5058\": {\"frequency\": 1, \"value\": 5058}, \"5060\": {\"frequency\": 9, \"value\": 5060}, \"5064\": {\"frequency\": 1, \"value\": 5064}, \"5065\": {\"frequency\": 2, \"value\": 5065}, \"5067\": {\"frequency\": 1, \"value\": 5067}, \"5070\": {\"frequency\": 5, \"value\": 5070}, \"5071\": {\"frequency\": 3, \"value\": 5071}, \"5072\": {\"frequency\": 1, \"value\": 5072}, \"37843\": {\"frequency\": 1, \"value\": 37843}, \"5077\": {\"frequency\": 3, \"value\": 5077}, \"103382\": {\"frequency\": 1, \"value\": 103382}, \"5080\": {\"frequency\": 17, \"value\": 5080}, \"5085\": {\"frequency\": 3, \"value\": 5085}, \"5086\": {\"frequency\": 2, \"value\": 5086}, \"5087\": {\"frequency\": 1, \"value\": 5087}, \"5088\": {\"frequency\": 2, \"value\": 5088}, \"5089\": {\"frequency\": 2, \"value\": 5089}, \"5091\": {\"frequency\": 2, \"value\": 5091}, \"5093\": {\"frequency\": 1, \"value\": 5093}, \"5096\": {\"frequency\": 3, \"value\": 5096}, \"5097\": {\"frequency\": 2, \"value\": 5097}, \"5100\": {\"frequency\": 78, \"value\": 5100}, \"5101\": {\"frequency\": 4, \"value\": 5101}, \"5102\": {\"frequency\": 5, \"value\": 5102}, \"5105\": {\"frequency\": 3, \"value\": 5105}, \"5106\": {\"frequency\": 2, \"value\": 5106}, \"5107\": {\"frequency\": 2, \"value\": 5107}, \"5108\": {\"frequency\": 2, \"value\": 5108}, \"5109\": {\"frequency\": 1, \"value\": 5109}, \"5110\": {\"frequency\": 4, \"value\": 5110}, \"5111\": {\"frequency\": 5, \"value\": 5111}, \"5112\": {\"frequency\": 2, \"value\": 5112}, \"5115\": {\"frequency\": 2, \"value\": 5115}, \"5116\": {\"frequency\": 1, \"value\": 5116}, \"5120\": {\"frequency\": 27, \"value\": 5120}, \"5122\": {\"frequency\": 1, \"value\": 5122}, \"5125\": {\"frequency\": 4, \"value\": 5125}, \"5128\": {\"frequency\": 2, \"value\": 5128}, \"5130\": {\"frequency\": 3, \"value\": 5130}, \"5131\": {\"frequency\": 2, \"value\": 5131}, \"37904\": {\"frequency\": 1, \"value\": 37904}, \"5137\": {\"frequency\": 2, \"value\": 5137}, \"5146\": {\"frequency\": 4, \"value\": 5146}, \"5149\": {\"frequency\": 1, \"value\": 5149}, \"5150\": {\"frequency\": 18, \"value\": 5150}, \"5156\": {\"frequency\": 3, \"value\": 5156}, \"44550\": {\"frequency\": 1, \"value\": 44550}, \"5159\": {\"frequency\": 1, \"value\": 5159}, \"5160\": {\"frequency\": 9, \"value\": 5160}, \"5163\": {\"frequency\": 1, \"value\": 5163}, \"5167\": {\"frequency\": 1, \"value\": 5167}, \"5170\": {\"frequency\": 2, \"value\": 5170}, \"5171\": {\"frequency\": 2, \"value\": 5171}, \"5175\": {\"frequency\": 8, \"value\": 5175}, \"5185\": {\"frequency\": 4, \"value\": 5185}, \"5192\": {\"frequency\": 2, \"value\": 5192}, \"5194\": {\"frequency\": 1, \"value\": 5194}, \"5200\": {\"frequency\": 64, \"value\": 5200}, \"5202\": {\"frequency\": 4, \"value\": 5202}, \"5203\": {\"frequency\": 2, \"value\": 5203}, \"5207\": {\"frequency\": 1, \"value\": 5207}, \"5210\": {\"frequency\": 2, \"value\": 5210}, \"5211\": {\"frequency\": 1, \"value\": 5211}, \"5212\": {\"frequency\": 1, \"value\": 5212}, \"37981\": {\"frequency\": 1, \"value\": 37981}, \"5214\": {\"frequency\": 1, \"value\": 5214}, \"5217\": {\"frequency\": 3, \"value\": 5217}, \"5220\": {\"frequency\": 4, \"value\": 5220}, \"5222\": {\"frequency\": 2, \"value\": 5222}, \"5223\": {\"frequency\": 1, \"value\": 5223}, \"5225\": {\"frequency\": 6, \"value\": 5225}, \"5226\": {\"frequency\": 1, \"value\": 5226}, \"5232\": {\"frequency\": 1, \"value\": 5232}, \"5233\": {\"frequency\": 1, \"value\": 5233}, \"5236\": {\"frequency\": 3, \"value\": 5236}, \"5238\": {\"frequency\": 3, \"value\": 5238}, \"5240\": {\"frequency\": 8, \"value\": 5240}, \"38009\": {\"frequency\": 1, \"value\": 38009}, \"5244\": {\"frequency\": 2, \"value\": 5244}, \"5247\": {\"frequency\": 1, \"value\": 5247}, \"38016\": {\"frequency\": 1, \"value\": 38016}, \"5249\": {\"frequency\": 3, \"value\": 5249}, \"5250\": {\"frequency\": 32, \"value\": 5250}, \"5252\": {\"frequency\": 1, \"value\": 5252}, \"5257\": {\"frequency\": 3, \"value\": 5257}, \"5258\": {\"frequency\": 2, \"value\": 5258}, \"5259\": {\"frequency\": 1, \"value\": 5259}, \"5260\": {\"frequency\": 4, \"value\": 5260}, \"5262\": {\"frequency\": 1, \"value\": 5262}, \"5264\": {\"frequency\": 2, \"value\": 5264}, \"5265\": {\"frequency\": 4, \"value\": 5265}, \"5267\": {\"frequency\": 4, \"value\": 5267}, \"38038\": {\"frequency\": 1, \"value\": 38038}, \"136343\": {\"frequency\": 1, \"value\": 136343}, \"5280\": {\"frequency\": 15, \"value\": 5280}, \"5283\": {\"frequency\": 2, \"value\": 5283}, \"5289\": {\"frequency\": 2, \"value\": 5289}, \"5298\": {\"frequency\": 3, \"value\": 5298}, \"5300\": {\"frequency\": 11, \"value\": 5300}, \"5304\": {\"frequency\": 3, \"value\": 5304}, \"5306\": {\"frequency\": 2, \"value\": 5306}, \"5307\": {\"frequency\": 1, \"value\": 5307}, \"5310\": {\"frequency\": 3, \"value\": 5310}, \"5316\": {\"frequency\": 1, \"value\": 5316}, \"5321\": {\"frequency\": 2, \"value\": 5321}, \"5322\": {\"frequency\": 1, \"value\": 5322}, \"5326\": {\"frequency\": 1, \"value\": 5326}, \"5330\": {\"frequency\": 1, \"value\": 5330}, \"5332\": {\"frequency\": 1, \"value\": 5332}, \"5335\": {\"frequency\": 2, \"value\": 5335}, \"5337\": {\"frequency\": 1, \"value\": 5337}, \"5338\": {\"frequency\": 3, \"value\": 5338}, \"5339\": {\"frequency\": 2, \"value\": 5339}, \"5340\": {\"frequency\": 3, \"value\": 5340}, \"5341\": {\"frequency\": 1, \"value\": 5341}, \"5344\": {\"frequency\": 2, \"value\": 5344}, \"5346\": {\"frequency\": 1, \"value\": 5346}, \"5349\": {\"frequency\": 2, \"value\": 5349}, \"5350\": {\"frequency\": 10, \"value\": 5350}, \"5353\": {\"frequency\": 3, \"value\": 5353}, \"5354\": {\"frequency\": 2, \"value\": 5354}, \"5355\": {\"frequency\": 3, \"value\": 5355}, \"5356\": {\"frequency\": 1, \"value\": 5356}, \"38125\": {\"frequency\": 1, \"value\": 38125}, \"5360\": {\"frequency\": 2, \"value\": 5360}, \"5362\": {\"frequency\": 1, \"value\": 5362}, \"5366\": {\"frequency\": 1, \"value\": 5366}, \"103672\": {\"frequency\": 3, \"value\": 103672}, \"5371\": {\"frequency\": 1, \"value\": 5371}, \"5372\": {\"frequency\": 1, \"value\": 5372}, \"5374\": {\"frequency\": 1, \"value\": 5374}, \"5375\": {\"frequency\": 7, \"value\": 5375}, \"5376\": {\"frequency\": 3, \"value\": 5376}, \"5377\": {\"frequency\": 1, \"value\": 5377}, \"5378\": {\"frequency\": 1, \"value\": 5378}, \"5379\": {\"frequency\": 3, \"value\": 5379}, \"5382\": {\"frequency\": 1, \"value\": 5382}, \"5386\": {\"frequency\": 1, \"value\": 5386}, \"5390\": {\"frequency\": 3, \"value\": 5390}, \"5393\": {\"frequency\": 3, \"value\": 5393}, \"5395\": {\"frequency\": 4, \"value\": 5395}, \"5398\": {\"frequency\": 3, \"value\": 5398}, \"5400\": {\"frequency\": 54, \"value\": 5400}, \"5401\": {\"frequency\": 3, \"value\": 5401}, \"5402\": {\"frequency\": 3, \"value\": 5402}, \"5405\": {\"frequency\": 2, \"value\": 5405}, \"5408\": {\"frequency\": 2, \"value\": 5408}, \"11824\": {\"frequency\": 2, \"value\": 11824}, \"5411\": {\"frequency\": 1, \"value\": 5411}, \"234788\": {\"frequency\": 1, \"value\": 234788}, \"5413\": {\"frequency\": 9, \"value\": 5413}, \"5414\": {\"frequency\": 2, \"value\": 5414}, \"5416\": {\"frequency\": 2, \"value\": 5416}, \"5418\": {\"frequency\": 1, \"value\": 5418}, \"5419\": {\"frequency\": 1, \"value\": 5419}, \"5420\": {\"frequency\": 2, \"value\": 5420}, \"5421\": {\"frequency\": 2, \"value\": 5421}, \"5423\": {\"frequency\": 2, \"value\": 5423}, \"5424\": {\"frequency\": 1, \"value\": 5424}, \"5427\": {\"frequency\": 1, \"value\": 5427}, \"5428\": {\"frequency\": 2, \"value\": 5428}, \"5432\": {\"frequency\": 2, \"value\": 5432}, \"5434\": {\"frequency\": 2, \"value\": 5434}, \"5438\": {\"frequency\": 1, \"value\": 5438}, \"5439\": {\"frequency\": 1, \"value\": 5439}, \"5440\": {\"frequency\": 5, \"value\": 5440}, \"5444\": {\"frequency\": 2, \"value\": 5444}, \"5445\": {\"frequency\": 3, \"value\": 5445}, \"5449\": {\"frequency\": 2, \"value\": 5449}, \"5450\": {\"frequency\": 5, \"value\": 5450}, \"5451\": {\"frequency\": 1, \"value\": 5451}, \"5453\": {\"frequency\": 3, \"value\": 5453}, \"5454\": {\"frequency\": 1, \"value\": 5454}, \"5455\": {\"frequency\": 2, \"value\": 5455}, \"5457\": {\"frequency\": 2, \"value\": 5457}, \"5458\": {\"frequency\": 1, \"value\": 5458}, \"5460\": {\"frequency\": 6, \"value\": 5460}, \"71002\": {\"frequency\": 1, \"value\": 71002}, \"5467\": {\"frequency\": 1, \"value\": 5467}, \"5472\": {\"frequency\": 3, \"value\": 5472}, \"5479\": {\"frequency\": 1, \"value\": 5479}, \"5484\": {\"frequency\": 1, \"value\": 5484}, \"5488\": {\"frequency\": 3, \"value\": 5488}, \"5489\": {\"frequency\": 1, \"value\": 5489}, \"38258\": {\"frequency\": 1, \"value\": 38258}, \"5493\": {\"frequency\": 1, \"value\": 5493}, \"5496\": {\"frequency\": 1, \"value\": 5496}, \"5499\": {\"frequency\": 1, \"value\": 5499}, \"5500\": {\"frequency\": 73, \"value\": 5500}, \"5502\": {\"frequency\": 2, \"value\": 5502}, \"5504\": {\"frequency\": 1, \"value\": 5504}, \"5505\": {\"frequency\": 2, \"value\": 5505}, \"5508\": {\"frequency\": 4, \"value\": 5508}, \"5510\": {\"frequency\": 4, \"value\": 5510}, \"5511\": {\"frequency\": 4, \"value\": 5511}, \"5512\": {\"frequency\": 3, \"value\": 5512}, \"5520\": {\"frequency\": 7, \"value\": 5520}, \"5522\": {\"frequency\": 1, \"value\": 5522}, \"5523\": {\"frequency\": 1, \"value\": 5523}, \"5525\": {\"frequency\": 7, \"value\": 5525}, \"5526\": {\"frequency\": 1, \"value\": 5526}, \"5527\": {\"frequency\": 3, \"value\": 5527}, \"5534\": {\"frequency\": 2, \"value\": 5534}, \"5535\": {\"frequency\": 1, \"value\": 5535}, \"5539\": {\"frequency\": 4, \"value\": 5539}, \"5540\": {\"frequency\": 1, \"value\": 5540}, \"5544\": {\"frequency\": 3, \"value\": 5544}, \"5546\": {\"frequency\": 3, \"value\": 5546}, \"5550\": {\"frequency\": 2, \"value\": 5550}, \"5555\": {\"frequency\": 2, \"value\": 5555}, \"5559\": {\"frequency\": 3, \"value\": 5559}, \"5560\": {\"frequency\": 1, \"value\": 5560}, \"5562\": {\"frequency\": 3, \"value\": 5562}, \"38332\": {\"frequency\": 1, \"value\": 38332}, \"5568\": {\"frequency\": 2, \"value\": 5568}, \"5569\": {\"frequency\": 1, \"value\": 5569}, \"5570\": {\"frequency\": 2, \"value\": 5570}, \"5572\": {\"frequency\": 2, \"value\": 5572}, \"5580\": {\"frequency\": 4, \"value\": 5580}, \"5581\": {\"frequency\": 2, \"value\": 5581}, \"38350\": {\"frequency\": 1, \"value\": 38350}, \"5584\": {\"frequency\": 1, \"value\": 5584}, \"5589\": {\"frequency\": 2, \"value\": 5589}, \"5593\": {\"frequency\": 1, \"value\": 5593}, \"5595\": {\"frequency\": 2, \"value\": 5595}, \"5600\": {\"frequency\": 27, \"value\": 5600}, \"5606\": {\"frequency\": 1, \"value\": 5606}, \"5607\": {\"frequency\": 2, \"value\": 5607}, \"5608\": {\"frequency\": 3, \"value\": 5608}, \"5610\": {\"frequency\": 3, \"value\": 5610}, \"5612\": {\"frequency\": 6, \"value\": 5612}, \"6397\": {\"frequency\": 1, \"value\": 6397}, \"5616\": {\"frequency\": 2, \"value\": 5616}, \"5618\": {\"frequency\": 2, \"value\": 5618}, \"5625\": {\"frequency\": 4, \"value\": 5625}, \"5629\": {\"frequency\": 1, \"value\": 5629}, \"5632\": {\"frequency\": 1, \"value\": 5632}, \"5635\": {\"frequency\": 2, \"value\": 5635}, \"5639\": {\"frequency\": 3, \"value\": 5639}, \"5640\": {\"frequency\": 1, \"value\": 5640}, \"5643\": {\"frequency\": 2, \"value\": 5643}, \"38412\": {\"frequency\": 1, \"value\": 38412}, \"5647\": {\"frequency\": 2, \"value\": 5647}, \"5648\": {\"frequency\": 1, \"value\": 5648}, \"5650\": {\"frequency\": 23, \"value\": 5650}, \"5657\": {\"frequency\": 1, \"value\": 5657}, \"5658\": {\"frequency\": 1, \"value\": 5658}, \"5660\": {\"frequency\": 1, \"value\": 5660}, \"5662\": {\"frequency\": 1, \"value\": 5662}, \"5664\": {\"frequency\": 4, \"value\": 5664}, \"5665\": {\"frequency\": 3, \"value\": 5665}, \"5668\": {\"frequency\": 1, \"value\": 5668}, \"5669\": {\"frequency\": 3, \"value\": 5669}, \"5670\": {\"frequency\": 5, \"value\": 5670}, \"5671\": {\"frequency\": 1, \"value\": 5671}, \"5674\": {\"frequency\": 2, \"value\": 5674}, \"5677\": {\"frequency\": 2, \"value\": 5677}, \"5680\": {\"frequency\": 5, \"value\": 5680}, \"5682\": {\"frequency\": 1, \"value\": 5682}, \"5684\": {\"frequency\": 2, \"value\": 5684}, \"235063\": {\"frequency\": 1, \"value\": 235063}, \"5688\": {\"frequency\": 2, \"value\": 5688}, \"5692\": {\"frequency\": 2, \"value\": 5692}, \"5694\": {\"frequency\": 1, \"value\": 5694}, \"5695\": {\"frequency\": 1, \"value\": 5695}, \"5700\": {\"frequency\": 30, \"value\": 5700}, \"5701\": {\"frequency\": 6, \"value\": 5701}, \"5702\": {\"frequency\": 2, \"value\": 5702}, \"5703\": {\"frequency\": 2, \"value\": 5703}, \"5706\": {\"frequency\": 3, \"value\": 5706}, \"5710\": {\"frequency\": 2, \"value\": 5710}, \"5712\": {\"frequency\": 1, \"value\": 5712}, \"5715\": {\"frequency\": 3, \"value\": 5715}, \"5717\": {\"frequency\": 2, \"value\": 5717}, \"5719\": {\"frequency\": 1, \"value\": 5719}, \"5720\": {\"frequency\": 9, \"value\": 5720}, \"5721\": {\"frequency\": 1, \"value\": 5721}, \"5722\": {\"frequency\": 3, \"value\": 5722}, \"5724\": {\"frequency\": 2, \"value\": 5724}, \"38500\": {\"frequency\": 1, \"value\": 38500}, \"5733\": {\"frequency\": 2, \"value\": 5733}, \"5734\": {\"frequency\": 1, \"value\": 5734}, \"5735\": {\"frequency\": 2, \"value\": 5735}, \"5737\": {\"frequency\": 3, \"value\": 5737}, \"38509\": {\"frequency\": 1, \"value\": 38509}, \"5742\": {\"frequency\": 2, \"value\": 5742}, \"5743\": {\"frequency\": 1, \"value\": 5743}, \"5746\": {\"frequency\": 1, \"value\": 5746}, \"5750\": {\"frequency\": 61, \"value\": 5750}, \"5751\": {\"frequency\": 2, \"value\": 5751}, \"5752\": {\"frequency\": 3, \"value\": 5752}, \"5753\": {\"frequency\": 3, \"value\": 5753}, \"5754\": {\"frequency\": 3, \"value\": 5754}, \"5756\": {\"frequency\": 4, \"value\": 5756}, \"5757\": {\"frequency\": 3, \"value\": 5757}, \"5758\": {\"frequency\": 3, \"value\": 5758}, \"5759\": {\"frequency\": 2, \"value\": 5759}, \"5760\": {\"frequency\": 13, \"value\": 5760}, \"5761\": {\"frequency\": 1, \"value\": 5761}, \"5762\": {\"frequency\": 1, \"value\": 5762}, \"5763\": {\"frequency\": 2, \"value\": 5763}, \"5764\": {\"frequency\": 2, \"value\": 5764}, \"5765\": {\"frequency\": 2, \"value\": 5765}, \"5770\": {\"frequency\": 1, \"value\": 5770}, \"5772\": {\"frequency\": 2, \"value\": 5772}, \"5773\": {\"frequency\": 2, \"value\": 5773}, \"5775\": {\"frequency\": 2, \"value\": 5775}, \"38546\": {\"frequency\": 1, \"value\": 38546}, \"5785\": {\"frequency\": 1, \"value\": 5785}, \"5790\": {\"frequency\": 2, \"value\": 5790}, \"5791\": {\"frequency\": 1, \"value\": 5791}, \"5795\": {\"frequency\": 2, \"value\": 5795}, \"5796\": {\"frequency\": 1, \"value\": 5796}, \"5797\": {\"frequency\": 3, \"value\": 5797}, \"5799\": {\"frequency\": 2, \"value\": 5799}, \"5800\": {\"frequency\": 19, \"value\": 5800}, \"5802\": {\"frequency\": 2, \"value\": 5802}, \"5803\": {\"frequency\": 2, \"value\": 5803}, \"104108\": {\"frequency\": 2, \"value\": 104108}, \"5805\": {\"frequency\": 3, \"value\": 5805}, \"5806\": {\"frequency\": 1, \"value\": 5806}, \"5808\": {\"frequency\": 2, \"value\": 5808}, \"5809\": {\"frequency\": 2, \"value\": 5809}, \"5810\": {\"frequency\": 1, \"value\": 5810}, \"5817\": {\"frequency\": 2, \"value\": 5817}, \"5820\": {\"frequency\": 4, \"value\": 5820}, \"5823\": {\"frequency\": 2, \"value\": 5823}, \"5824\": {\"frequency\": 3, \"value\": 5824}, \"5825\": {\"frequency\": 1, \"value\": 5825}, \"5827\": {\"frequency\": 2, \"value\": 5827}, \"5829\": {\"frequency\": 1, \"value\": 5829}, \"5831\": {\"frequency\": 3, \"value\": 5831}, \"5832\": {\"frequency\": 1, \"value\": 5832}, \"33740\": {\"frequency\": 1, \"value\": 33740}, \"5835\": {\"frequency\": 2, \"value\": 5835}, \"5840\": {\"frequency\": 3, \"value\": 5840}, \"5846\": {\"frequency\": 1, \"value\": 5846}, \"38615\": {\"frequency\": 1, \"value\": 38615}, \"235224\": {\"frequency\": 1, \"value\": 235224}, \"5850\": {\"frequency\": 12, \"value\": 5850}, \"5854\": {\"frequency\": 2, \"value\": 5854}, \"5857\": {\"frequency\": 3, \"value\": 5857}, \"5858\": {\"frequency\": 2, \"value\": 5858}, \"5863\": {\"frequency\": 1, \"value\": 5863}, \"5864\": {\"frequency\": 2, \"value\": 5864}, \"5866\": {\"frequency\": 3, \"value\": 5866}, \"5868\": {\"frequency\": 3, \"value\": 5868}, \"38639\": {\"frequency\": 1, \"value\": 38639}, \"5875\": {\"frequency\": 2, \"value\": 5875}, \"5876\": {\"frequency\": 2, \"value\": 5876}, \"5880\": {\"frequency\": 9, \"value\": 5880}, \"5885\": {\"frequency\": 2, \"value\": 5885}, \"5889\": {\"frequency\": 2, \"value\": 5889}, \"33750\": {\"frequency\": 2, \"value\": 33750}, \"5898\": {\"frequency\": 1, \"value\": 5898}, \"5899\": {\"frequency\": 3, \"value\": 5899}, \"5900\": {\"frequency\": 8, \"value\": 5900}, \"5901\": {\"frequency\": 1, \"value\": 5901}, \"5906\": {\"frequency\": 1, \"value\": 5906}, \"5909\": {\"frequency\": 3, \"value\": 5909}, \"5910\": {\"frequency\": 1, \"value\": 5910}, \"5913\": {\"frequency\": 2, \"value\": 5913}, \"5920\": {\"frequency\": 2, \"value\": 5920}, \"5921\": {\"frequency\": 1, \"value\": 5921}, \"5922\": {\"frequency\": 3, \"value\": 5922}, \"5925\": {\"frequency\": 1, \"value\": 5925}, \"5926\": {\"frequency\": 1, \"value\": 5926}, \"5929\": {\"frequency\": 4, \"value\": 5929}, \"5930\": {\"frequency\": 2, \"value\": 5930}, \"5934\": {\"frequency\": 3, \"value\": 5934}, \"5936\": {\"frequency\": 2, \"value\": 5936}, \"5937\": {\"frequency\": 1, \"value\": 5937}, \"5940\": {\"frequency\": 7, \"value\": 5940}, \"5948\": {\"frequency\": 1, \"value\": 5948}, \"5950\": {\"frequency\": 4, \"value\": 5950}, \"5954\": {\"frequency\": 3, \"value\": 5954}, \"5956\": {\"frequency\": 1, \"value\": 5956}, \"5959\": {\"frequency\": 2, \"value\": 5959}, \"5960\": {\"frequency\": 3, \"value\": 5960}, \"5962\": {\"frequency\": 1, \"value\": 5962}, \"5963\": {\"frequency\": 1, \"value\": 5963}, \"5967\": {\"frequency\": 1, \"value\": 5967}, \"5969\": {\"frequency\": 4, \"value\": 5969}, \"5970\": {\"frequency\": 1, \"value\": 5970}, \"5973\": {\"frequency\": 2, \"value\": 5973}, \"5974\": {\"frequency\": 4, \"value\": 5974}, \"5978\": {\"frequency\": 4, \"value\": 5978}, \"5979\": {\"frequency\": 2, \"value\": 5979}, \"5980\": {\"frequency\": 3, \"value\": 5980}, \"5992\": {\"frequency\": 3, \"value\": 5992}, \"5994\": {\"frequency\": 1, \"value\": 5994}, \"5995\": {\"frequency\": 3, \"value\": 5995}, \"5999\": {\"frequency\": 3, \"value\": 5999}, \"6000\": {\"frequency\": 290, \"value\": 6000}, \"6001\": {\"frequency\": 1, \"value\": 6001}, \"6002\": {\"frequency\": 4, \"value\": 6002}, \"6003\": {\"frequency\": 2, \"value\": 6003}, \"6005\": {\"frequency\": 4, \"value\": 6005}, \"6007\": {\"frequency\": 1, \"value\": 6007}, \"6009\": {\"frequency\": 2, \"value\": 6009}, \"6010\": {\"frequency\": 4, \"value\": 6010}, \"6014\": {\"frequency\": 3, \"value\": 6014}, \"6015\": {\"frequency\": 2, \"value\": 6015}, \"6017\": {\"frequency\": 3, \"value\": 6017}, \"6018\": {\"frequency\": 2, \"value\": 6018}, \"6020\": {\"frequency\": 1, \"value\": 6020}, \"6021\": {\"frequency\": 2, \"value\": 6021}, \"6023\": {\"frequency\": 2, \"value\": 6023}, \"6025\": {\"frequency\": 2, \"value\": 6025}, \"6027\": {\"frequency\": 1, \"value\": 6027}, \"6030\": {\"frequency\": 4, \"value\": 6030}, \"6031\": {\"frequency\": 5, \"value\": 6031}, \"6032\": {\"frequency\": 2, \"value\": 6032}, \"6033\": {\"frequency\": 1, \"value\": 6033}, \"6034\": {\"frequency\": 4, \"value\": 6034}, \"6037\": {\"frequency\": 4, \"value\": 6037}, \"6038\": {\"frequency\": 1, \"value\": 6038}, \"6041\": {\"frequency\": 2, \"value\": 6041}, \"6045\": {\"frequency\": 2, \"value\": 6045}, \"6046\": {\"frequency\": 1, \"value\": 6046}, \"6049\": {\"frequency\": 2, \"value\": 6049}, \"6050\": {\"frequency\": 14, \"value\": 6050}, \"6052\": {\"frequency\": 2, \"value\": 6052}, \"6054\": {\"frequency\": 2, \"value\": 6054}, \"6060\": {\"frequency\": 6, \"value\": 6060}, \"6061\": {\"frequency\": 1, \"value\": 6061}, \"6064\": {\"frequency\": 1, \"value\": 6064}, \"6073\": {\"frequency\": 1, \"value\": 6073}, \"6074\": {\"frequency\": 1, \"value\": 6074}, \"6075\": {\"frequency\": 3, \"value\": 6075}, \"6078\": {\"frequency\": 1, \"value\": 6078}, \"11936\": {\"frequency\": 1, \"value\": 11936}, \"6082\": {\"frequency\": 2, \"value\": 6082}, \"6083\": {\"frequency\": 2, \"value\": 6083}, \"6090\": {\"frequency\": 4, \"value\": 6090}, \"6092\": {\"frequency\": 3, \"value\": 6092}, \"6093\": {\"frequency\": 2, \"value\": 6093}, \"6095\": {\"frequency\": 3, \"value\": 6095}, \"6098\": {\"frequency\": 3, \"value\": 6098}, \"6099\": {\"frequency\": 5, \"value\": 6099}, \"6100\": {\"frequency\": 5, \"value\": 6100}, \"38869\": {\"frequency\": 1, \"value\": 38869}, \"6105\": {\"frequency\": 2, \"value\": 6105}, \"6108\": {\"frequency\": 1, \"value\": 6108}, \"6110\": {\"frequency\": 4, \"value\": 6110}, \"6111\": {\"frequency\": 1, \"value\": 6111}, \"38884\": {\"frequency\": 1, \"value\": 38884}, \"6117\": {\"frequency\": 3, \"value\": 6117}, \"6120\": {\"frequency\": 39, \"value\": 6120}, \"6122\": {\"frequency\": 2, \"value\": 6122}, \"6124\": {\"frequency\": 2, \"value\": 6124}, \"6125\": {\"frequency\": 3, \"value\": 6125}, \"6126\": {\"frequency\": 1, \"value\": 6126}, \"6127\": {\"frequency\": 2, \"value\": 6127}, \"6129\": {\"frequency\": 1, \"value\": 6129}, \"6130\": {\"frequency\": 2, \"value\": 6130}, \"6131\": {\"frequency\": 1, \"value\": 6131}, \"6132\": {\"frequency\": 3, \"value\": 6132}, \"6134\": {\"frequency\": 4, \"value\": 6134}, \"6135\": {\"frequency\": 1, \"value\": 6135}, \"6137\": {\"frequency\": 3, \"value\": 6137}, \"6138\": {\"frequency\": 2, \"value\": 6138}, \"6139\": {\"frequency\": 2, \"value\": 6139}, \"241322\": {\"frequency\": 1, \"value\": 241322}, \"137214\": {\"frequency\": 1, \"value\": 137214}, \"6143\": {\"frequency\": 2, \"value\": 6143}, \"6144\": {\"frequency\": 1, \"value\": 6144}, \"6145\": {\"frequency\": 3, \"value\": 6145}, \"6150\": {\"frequency\": 13, \"value\": 6150}, \"6156\": {\"frequency\": 1, \"value\": 6156}, \"6158\": {\"frequency\": 1, \"value\": 6158}, \"6160\": {\"frequency\": 4, \"value\": 6160}, \"6161\": {\"frequency\": 1, \"value\": 6161}, \"6162\": {\"frequency\": 1, \"value\": 6162}, \"6163\": {\"frequency\": 1, \"value\": 6163}, \"6164\": {\"frequency\": 2, \"value\": 6164}, \"6166\": {\"frequency\": 1, \"value\": 6166}, \"6168\": {\"frequency\": 1, \"value\": 6168}, \"6172\": {\"frequency\": 1, \"value\": 6172}, \"6174\": {\"frequency\": 3, \"value\": 6174}, \"6175\": {\"frequency\": 4, \"value\": 6175}, \"6178\": {\"frequency\": 2, \"value\": 6178}, \"6180\": {\"frequency\": 19, \"value\": 6180}, \"6181\": {\"frequency\": 2, \"value\": 6181}, \"6183\": {\"frequency\": 2, \"value\": 6183}, \"268329\": {\"frequency\": 1, \"value\": 268329}, \"6186\": {\"frequency\": 2, \"value\": 6186}, \"6187\": {\"frequency\": 3, \"value\": 6187}, \"6191\": {\"frequency\": 1, \"value\": 6191}, \"6192\": {\"frequency\": 1, \"value\": 6192}, \"6194\": {\"frequency\": 2, \"value\": 6194}, \"6195\": {\"frequency\": 2, \"value\": 6195}, \"6197\": {\"frequency\": 2, \"value\": 6197}, \"6200\": {\"frequency\": 22, \"value\": 6200}, \"6202\": {\"frequency\": 3, \"value\": 6202}, \"6205\": {\"frequency\": 2, \"value\": 6205}, \"6206\": {\"frequency\": 1, \"value\": 6206}, \"6207\": {\"frequency\": 2, \"value\": 6207}, \"6212\": {\"frequency\": 1, \"value\": 6212}, \"6213\": {\"frequency\": 1, \"value\": 6213}, \"6214\": {\"frequency\": 2, \"value\": 6214}, \"38985\": {\"frequency\": 1, \"value\": 38985}, \"6218\": {\"frequency\": 2, \"value\": 6218}, \"6219\": {\"frequency\": 1, \"value\": 6219}, \"6220\": {\"frequency\": 3, \"value\": 6220}, \"6222\": {\"frequency\": 3, \"value\": 6222}, \"6223\": {\"frequency\": 2, \"value\": 6223}, \"6224\": {\"frequency\": 3, \"value\": 6224}, \"6225\": {\"frequency\": 1, \"value\": 6225}, \"6228\": {\"frequency\": 1, \"value\": 6228}, \"6232\": {\"frequency\": 4, \"value\": 6232}, \"6233\": {\"frequency\": 2, \"value\": 6233}, \"6235\": {\"frequency\": 1, \"value\": 6235}, \"6236\": {\"frequency\": 2, \"value\": 6236}, \"104544\": {\"frequency\": 1, \"value\": 104544}, \"6250\": {\"frequency\": 50, \"value\": 6250}, \"6255\": {\"frequency\": 1, \"value\": 6255}, \"6256\": {\"frequency\": 2, \"value\": 6256}, \"6258\": {\"frequency\": 2, \"value\": 6258}, \"6260\": {\"frequency\": 3, \"value\": 6260}, \"6263\": {\"frequency\": 3, \"value\": 6263}, \"6265\": {\"frequency\": 2, \"value\": 6265}, \"6269\": {\"frequency\": 1, \"value\": 6269}, \"6270\": {\"frequency\": 2, \"value\": 6270}, \"6271\": {\"frequency\": 1, \"value\": 6271}, \"6272\": {\"frequency\": 2, \"value\": 6272}, \"6273\": {\"frequency\": 1, \"value\": 6273}, \"6278\": {\"frequency\": 3, \"value\": 6278}, \"6280\": {\"frequency\": 2, \"value\": 6280}, \"39049\": {\"frequency\": 1, \"value\": 39049}, \"6282\": {\"frequency\": 2, \"value\": 6282}, \"6288\": {\"frequency\": 2, \"value\": 6288}, \"6290\": {\"frequency\": 1, \"value\": 6290}, \"6291\": {\"frequency\": 1, \"value\": 6291}, \"6294\": {\"frequency\": 2, \"value\": 6294}, \"6298\": {\"frequency\": 2, \"value\": 6298}, \"6300\": {\"frequency\": 32, \"value\": 6300}, \"6302\": {\"frequency\": 2, \"value\": 6302}, \"6305\": {\"frequency\": 2, \"value\": 6305}, \"6308\": {\"frequency\": 1, \"value\": 6308}, \"6315\": {\"frequency\": 5, \"value\": 6315}, \"6317\": {\"frequency\": 1, \"value\": 6317}, \"6318\": {\"frequency\": 2, \"value\": 6318}, \"6320\": {\"frequency\": 5, \"value\": 6320}, \"6322\": {\"frequency\": 2, \"value\": 6322}, \"6324\": {\"frequency\": 3, \"value\": 6324}, \"6325\": {\"frequency\": 3, \"value\": 6325}, \"6326\": {\"frequency\": 2, \"value\": 6326}, \"6327\": {\"frequency\": 3, \"value\": 6327}, \"6328\": {\"frequency\": 1, \"value\": 6328}, \"39098\": {\"frequency\": 1, \"value\": 39098}, \"6332\": {\"frequency\": 2, \"value\": 6332}, \"6334\": {\"frequency\": 2, \"value\": 6334}, \"6337\": {\"frequency\": 2, \"value\": 6337}, \"6344\": {\"frequency\": 1, \"value\": 6344}, \"6345\": {\"frequency\": 3, \"value\": 6345}, \"6349\": {\"frequency\": 1, \"value\": 6349}, \"6350\": {\"frequency\": 17, \"value\": 6350}, \"6353\": {\"frequency\": 1, \"value\": 6353}, \"6355\": {\"frequency\": 2, \"value\": 6355}, \"6356\": {\"frequency\": 1, \"value\": 6356}, \"6360\": {\"frequency\": 20, \"value\": 6360}, \"6364\": {\"frequency\": 1, \"value\": 6364}, \"6366\": {\"frequency\": 2, \"value\": 6366}, \"6369\": {\"frequency\": 2, \"value\": 6369}, \"6371\": {\"frequency\": 4, \"value\": 6371}, \"6372\": {\"frequency\": 1, \"value\": 6372}, \"6375\": {\"frequency\": 7, \"value\": 6375}, \"6377\": {\"frequency\": 1, \"value\": 6377}, \"6380\": {\"frequency\": 31, \"value\": 6380}, \"39150\": {\"frequency\": 1, \"value\": 39150}, \"6383\": {\"frequency\": 2, \"value\": 6383}, \"6384\": {\"frequency\": 2, \"value\": 6384}, \"6386\": {\"frequency\": 2, \"value\": 6386}, \"6388\": {\"frequency\": 1, \"value\": 6388}, \"6389\": {\"frequency\": 2, \"value\": 6389}, \"6390\": {\"frequency\": 2, \"value\": 6390}, \"39160\": {\"frequency\": 1, \"value\": 39160}, \"6394\": {\"frequency\": 2, \"value\": 6394}, \"6396\": {\"frequency\": 3, \"value\": 6396}, \"39165\": {\"frequency\": 1, \"value\": 39165}, \"6398\": {\"frequency\": 2, \"value\": 6398}, \"6400\": {\"frequency\": 23, \"value\": 6400}, \"6402\": {\"frequency\": 1, \"value\": 6402}, \"6405\": {\"frequency\": 4, \"value\": 6405}, \"6407\": {\"frequency\": 1, \"value\": 6407}, \"6408\": {\"frequency\": 1, \"value\": 6408}, \"6413\": {\"frequency\": 4, \"value\": 6413}, \"6420\": {\"frequency\": 7, \"value\": 6420}, \"39189\": {\"frequency\": 1, \"value\": 39189}, \"39190\": {\"frequency\": 1, \"value\": 39190}, \"6426\": {\"frequency\": 3, \"value\": 6426}, \"6430\": {\"frequency\": 1, \"value\": 6430}, \"6435\": {\"frequency\": 3, \"value\": 6435}, \"6439\": {\"frequency\": 2, \"value\": 6439}, \"6440\": {\"frequency\": 5, \"value\": 6440}, \"6443\": {\"frequency\": 1, \"value\": 6443}, \"6448\": {\"frequency\": 2, \"value\": 6448}, \"6449\": {\"frequency\": 1, \"value\": 6449}, \"6450\": {\"frequency\": 10, \"value\": 6450}, \"6459\": {\"frequency\": 1, \"value\": 6459}, \"6460\": {\"frequency\": 4, \"value\": 6460}, \"77536\": {\"frequency\": 2, \"value\": 77536}, \"6466\": {\"frequency\": 1, \"value\": 6466}, \"6474\": {\"frequency\": 3, \"value\": 6474}, \"6479\": {\"frequency\": 2, \"value\": 6479}, \"6480\": {\"frequency\": 15, \"value\": 6480}, \"6488\": {\"frequency\": 1, \"value\": 6488}, \"6490\": {\"frequency\": 2, \"value\": 6490}, \"6491\": {\"frequency\": 1, \"value\": 6491}, \"6495\": {\"frequency\": 2, \"value\": 6495}, \"6497\": {\"frequency\": 2, \"value\": 6497}, \"6499\": {\"frequency\": 2, \"value\": 6499}, \"6500\": {\"frequency\": 40, \"value\": 6500}, \"6504\": {\"frequency\": 3, \"value\": 6504}, \"6508\": {\"frequency\": 2, \"value\": 6508}, \"6509\": {\"frequency\": 2, \"value\": 6509}, \"6510\": {\"frequency\": 2, \"value\": 6510}, \"6515\": {\"frequency\": 2, \"value\": 6515}, \"6516\": {\"frequency\": 3, \"value\": 6516}, \"6519\": {\"frequency\": 1, \"value\": 6519}, \"6527\": {\"frequency\": 3, \"value\": 6527}, \"6530\": {\"frequency\": 3, \"value\": 6530}, \"6533\": {\"frequency\": 2, \"value\": 6533}, \"6534\": {\"frequency\": 3, \"value\": 6534}, \"6536\": {\"frequency\": 3, \"value\": 6536}, \"6537\": {\"frequency\": 2, \"value\": 6537}, \"6540\": {\"frequency\": 4, \"value\": 6540}, \"6545\": {\"frequency\": 1, \"value\": 6545}, \"6549\": {\"frequency\": 2, \"value\": 6549}, \"6550\": {\"frequency\": 9, \"value\": 6550}, \"6551\": {\"frequency\": 4, \"value\": 6551}, \"6552\": {\"frequency\": 5, \"value\": 6552}, \"6553\": {\"frequency\": 2, \"value\": 6553}, \"6554\": {\"frequency\": 3, \"value\": 6554}, \"6555\": {\"frequency\": 3, \"value\": 6555}, \"6556\": {\"frequency\": 2, \"value\": 6556}, \"6557\": {\"frequency\": 2, \"value\": 6557}, \"6558\": {\"frequency\": 2, \"value\": 6558}, \"6560\": {\"frequency\": 1, \"value\": 6560}, \"6561\": {\"frequency\": 2, \"value\": 6561}, \"6564\": {\"frequency\": 1, \"value\": 6564}, \"6565\": {\"frequency\": 3, \"value\": 6565}, \"6566\": {\"frequency\": 2, \"value\": 6566}, \"6567\": {\"frequency\": 2, \"value\": 6567}, \"6568\": {\"frequency\": 1, \"value\": 6568}, \"39324\": {\"frequency\": 1, \"value\": 39324}, \"6572\": {\"frequency\": 2, \"value\": 6572}, \"6574\": {\"frequency\": 1, \"value\": 6574}, \"6576\": {\"frequency\": 1, \"value\": 6576}, \"6578\": {\"frequency\": 1, \"value\": 6578}, \"6583\": {\"frequency\": 2, \"value\": 6583}, \"6587\": {\"frequency\": 2, \"value\": 6587}, \"6590\": {\"frequency\": 2, \"value\": 6590}, \"6591\": {\"frequency\": 1, \"value\": 6591}, \"6597\": {\"frequency\": 1, \"value\": 6597}, \"6598\": {\"frequency\": 1, \"value\": 6598}, \"6600\": {\"frequency\": 52, \"value\": 6600}, \"6601\": {\"frequency\": 1, \"value\": 6601}, \"39370\": {\"frequency\": 1, \"value\": 39370}, \"6603\": {\"frequency\": 2, \"value\": 6603}, \"6604\": {\"frequency\": 4, \"value\": 6604}, \"6605\": {\"frequency\": 2, \"value\": 6605}, \"6607\": {\"frequency\": 2, \"value\": 6607}, \"6610\": {\"frequency\": 1, \"value\": 6610}, \"6611\": {\"frequency\": 1, \"value\": 6611}, \"6612\": {\"frequency\": 3, \"value\": 6612}, \"6613\": {\"frequency\": 1, \"value\": 6613}, \"6615\": {\"frequency\": 2, \"value\": 6615}, \"6620\": {\"frequency\": 3, \"value\": 6620}, \"6621\": {\"frequency\": 2, \"value\": 6621}, \"6624\": {\"frequency\": 1, \"value\": 6624}, \"6625\": {\"frequency\": 6, \"value\": 6625}, \"6628\": {\"frequency\": 3, \"value\": 6628}, \"6630\": {\"frequency\": 3, \"value\": 6630}, \"6634\": {\"frequency\": 4, \"value\": 6634}, \"6635\": {\"frequency\": 2, \"value\": 6635}, \"6642\": {\"frequency\": 2, \"value\": 6642}, \"6650\": {\"frequency\": 10, \"value\": 6650}, \"6651\": {\"frequency\": 2, \"value\": 6651}, \"6653\": {\"frequency\": 3, \"value\": 6653}, \"6654\": {\"frequency\": 4, \"value\": 6654}, \"6655\": {\"frequency\": 3, \"value\": 6655}, \"6656\": {\"frequency\": 2, \"value\": 6656}, \"6657\": {\"frequency\": 1, \"value\": 6657}, \"6658\": {\"frequency\": 2, \"value\": 6658}, \"6659\": {\"frequency\": 1, \"value\": 6659}, \"6660\": {\"frequency\": 5, \"value\": 6660}, \"39430\": {\"frequency\": 1, \"value\": 39430}, \"6663\": {\"frequency\": 2, \"value\": 6663}, \"6664\": {\"frequency\": 3, \"value\": 6664}, \"6666\": {\"frequency\": 3, \"value\": 6666}, \"6675\": {\"frequency\": 4, \"value\": 6675}, \"6676\": {\"frequency\": 1, \"value\": 6676}, \"6677\": {\"frequency\": 2, \"value\": 6677}, \"39446\": {\"frequency\": 1, \"value\": 39446}, \"6680\": {\"frequency\": 1, \"value\": 6680}, \"6682\": {\"frequency\": 1, \"value\": 6682}, \"6685\": {\"frequency\": 6, \"value\": 6685}, \"6686\": {\"frequency\": 1, \"value\": 6686}, \"6687\": {\"frequency\": 3, \"value\": 6687}, \"6688\": {\"frequency\": 2, \"value\": 6688}, \"6690\": {\"frequency\": 1, \"value\": 6690}, \"39460\": {\"frequency\": 1, \"value\": 39460}, \"6695\": {\"frequency\": 3, \"value\": 6695}, \"6696\": {\"frequency\": 1, \"value\": 6696}, \"6697\": {\"frequency\": 1, \"value\": 6697}, \"6698\": {\"frequency\": 2, \"value\": 6698}, \"6699\": {\"frequency\": 2, \"value\": 6699}, \"6700\": {\"frequency\": 8, \"value\": 6700}, \"6702\": {\"frequency\": 1, \"value\": 6702}, \"6703\": {\"frequency\": 1, \"value\": 6703}, \"6705\": {\"frequency\": 2, \"value\": 6705}, \"39478\": {\"frequency\": 1, \"value\": 39478}, \"6715\": {\"frequency\": 1, \"value\": 6715}, \"6717\": {\"frequency\": 2, \"value\": 6717}, \"6718\": {\"frequency\": 1, \"value\": 6718}, \"6719\": {\"frequency\": 1, \"value\": 6719}, \"6720\": {\"frequency\": 16, \"value\": 6720}, \"1120\": {\"frequency\": 3, \"value\": 1120}, \"6725\": {\"frequency\": 2, \"value\": 6725}, \"6726\": {\"frequency\": 1, \"value\": 6726}, \"6728\": {\"frequency\": 1, \"value\": 6728}, \"208652\": {\"frequency\": 1, \"value\": 208652}, \"6730\": {\"frequency\": 1, \"value\": 6730}, \"6731\": {\"frequency\": 6, \"value\": 6731}, \"6732\": {\"frequency\": 2, \"value\": 6732}, \"6733\": {\"frequency\": 2, \"value\": 6733}, \"6736\": {\"frequency\": 1, \"value\": 6736}, \"6737\": {\"frequency\": 1, \"value\": 6737}, \"6738\": {\"frequency\": 4, \"value\": 6738}, \"6739\": {\"frequency\": 1, \"value\": 6739}, \"6740\": {\"frequency\": 2, \"value\": 6740}, \"6742\": {\"frequency\": 1, \"value\": 6742}, \"6743\": {\"frequency\": 2, \"value\": 6743}, \"6744\": {\"frequency\": 2, \"value\": 6744}, \"6750\": {\"frequency\": 26, \"value\": 6750}, \"6752\": {\"frequency\": 3, \"value\": 6752}, \"6753\": {\"frequency\": 1, \"value\": 6753}, \"6754\": {\"frequency\": 1, \"value\": 6754}, \"6755\": {\"frequency\": 3, \"value\": 6755}, \"6757\": {\"frequency\": 1, \"value\": 6757}, \"6758\": {\"frequency\": 1, \"value\": 6758}, \"6760\": {\"frequency\": 4, \"value\": 6760}, \"6765\": {\"frequency\": 4, \"value\": 6765}, \"6766\": {\"frequency\": 3, \"value\": 6766}, \"6768\": {\"frequency\": 2, \"value\": 6768}, \"6770\": {\"frequency\": 3, \"value\": 6770}, \"6771\": {\"frequency\": 5, \"value\": 6771}, \"72309\": {\"frequency\": 3, \"value\": 72309}, \"6774\": {\"frequency\": 2, \"value\": 6774}, \"6775\": {\"frequency\": 5, \"value\": 6775}, \"6776\": {\"frequency\": 3, \"value\": 6776}, \"6778\": {\"frequency\": 1, \"value\": 6778}, \"6780\": {\"frequency\": 3, \"value\": 6780}, \"6781\": {\"frequency\": 1, \"value\": 6781}, \"6783\": {\"frequency\": 3, \"value\": 6783}, \"6785\": {\"frequency\": 1, \"value\": 6785}, \"6788\": {\"frequency\": 3, \"value\": 6788}, \"6791\": {\"frequency\": 1, \"value\": 6791}, \"6800\": {\"frequency\": 16, \"value\": 6800}, \"6802\": {\"frequency\": 1, \"value\": 6802}, \"6804\": {\"frequency\": 2, \"value\": 6804}, \"6807\": {\"frequency\": 3, \"value\": 6807}, \"6809\": {\"frequency\": 1, \"value\": 6809}, \"6810\": {\"frequency\": 1, \"value\": 6810}, \"6811\": {\"frequency\": 2, \"value\": 6811}, \"203425\": {\"frequency\": 2, \"value\": 203425}, \"6818\": {\"frequency\": 2, \"value\": 6818}, \"6819\": {\"frequency\": 1, \"value\": 6819}, \"6820\": {\"frequency\": 6, \"value\": 6820}, \"6824\": {\"frequency\": 1, \"value\": 6824}, \"6825\": {\"frequency\": 7, \"value\": 6825}, \"6826\": {\"frequency\": 2, \"value\": 6826}, \"6828\": {\"frequency\": 2, \"value\": 6828}, \"6830\": {\"frequency\": 1, \"value\": 6830}, \"6832\": {\"frequency\": 1, \"value\": 6832}, \"6834\": {\"frequency\": 1, \"value\": 6834}, \"6835\": {\"frequency\": 1, \"value\": 6835}, \"6837\": {\"frequency\": 2, \"value\": 6837}, \"6838\": {\"frequency\": 2, \"value\": 6838}, \"6840\": {\"frequency\": 11, \"value\": 6840}, \"6602\": {\"frequency\": 1, \"value\": 6602}, \"6848\": {\"frequency\": 2, \"value\": 6848}, \"6850\": {\"frequency\": 2, \"value\": 6850}, \"6852\": {\"frequency\": 1, \"value\": 6852}, \"6853\": {\"frequency\": 1, \"value\": 6853}, \"6856\": {\"frequency\": 2, \"value\": 6856}, \"6858\": {\"frequency\": 1, \"value\": 6858}, \"6859\": {\"frequency\": 1, \"value\": 6859}, \"6860\": {\"frequency\": 2, \"value\": 6860}, \"6862\": {\"frequency\": 2, \"value\": 6862}, \"6865\": {\"frequency\": 2, \"value\": 6865}, \"6867\": {\"frequency\": 3, \"value\": 6867}, \"6870\": {\"frequency\": 1, \"value\": 6870}, \"6871\": {\"frequency\": 2, \"value\": 6871}, \"39640\": {\"frequency\": 1, \"value\": 39640}, \"6874\": {\"frequency\": 4, \"value\": 6874}, \"6875\": {\"frequency\": 6, \"value\": 6875}, \"6879\": {\"frequency\": 1, \"value\": 6879}, \"6880\": {\"frequency\": 1, \"value\": 6880}, \"6885\": {\"frequency\": 1, \"value\": 6885}, \"6886\": {\"frequency\": 1, \"value\": 6886}, \"6887\": {\"frequency\": 2, \"value\": 6887}, \"6890\": {\"frequency\": 2, \"value\": 6890}, \"6893\": {\"frequency\": 2, \"value\": 6893}, \"6895\": {\"frequency\": 2, \"value\": 6895}, \"6897\": {\"frequency\": 1, \"value\": 6897}, \"6900\": {\"frequency\": 18, \"value\": 6900}, \"6901\": {\"frequency\": 1, \"value\": 6901}, \"6903\": {\"frequency\": 2, \"value\": 6903}, \"6906\": {\"frequency\": 4, \"value\": 6906}, \"6908\": {\"frequency\": 3, \"value\": 6908}, \"6909\": {\"frequency\": 2, \"value\": 6909}, \"6911\": {\"frequency\": 2, \"value\": 6911}, \"1152\": {\"frequency\": 1, \"value\": 1152}, \"6916\": {\"frequency\": 1, \"value\": 6916}, \"6918\": {\"frequency\": 1, \"value\": 6918}, \"6920\": {\"frequency\": 1, \"value\": 6920}, \"6921\": {\"frequency\": 1, \"value\": 6921}, \"6923\": {\"frequency\": 2, \"value\": 6923}, \"6924\": {\"frequency\": 2, \"value\": 6924}, \"6930\": {\"frequency\": 9, \"value\": 6930}, \"6933\": {\"frequency\": 1, \"value\": 6933}, \"6936\": {\"frequency\": 1, \"value\": 6936}, \"6938\": {\"frequency\": 1, \"value\": 6938}, \"6941\": {\"frequency\": 1, \"value\": 6941}, \"6944\": {\"frequency\": 1, \"value\": 6944}, \"6947\": {\"frequency\": 4, \"value\": 6947}, \"6957\": {\"frequency\": 1, \"value\": 6957}, \"6960\": {\"frequency\": 5, \"value\": 6960}, \"6964\": {\"frequency\": 1, \"value\": 6964}, \"6967\": {\"frequency\": 3, \"value\": 6967}, \"6969\": {\"frequency\": 5, \"value\": 6969}, \"6970\": {\"frequency\": 2, \"value\": 6970}, \"6973\": {\"frequency\": 2, \"value\": 6973}, \"6975\": {\"frequency\": 4, \"value\": 6975}, \"6977\": {\"frequency\": 1, \"value\": 6977}, \"6978\": {\"frequency\": 4, \"value\": 6978}, \"6980\": {\"frequency\": 2, \"value\": 6980}, \"6984\": {\"frequency\": 2, \"value\": 6984}, \"6985\": {\"frequency\": 3, \"value\": 6985}, \"6988\": {\"frequency\": 3, \"value\": 6988}, \"6990\": {\"frequency\": 1, \"value\": 6990}, \"6991\": {\"frequency\": 1, \"value\": 6991}, \"6992\": {\"frequency\": 2, \"value\": 6992}, \"6994\": {\"frequency\": 2, \"value\": 6994}, \"7000\": {\"frequency\": 76, \"value\": 7000}, \"7003\": {\"frequency\": 1, \"value\": 7003}, \"7004\": {\"frequency\": 3, \"value\": 7004}, \"7005\": {\"frequency\": 2, \"value\": 7005}, \"7006\": {\"frequency\": 1, \"value\": 7006}, \"7007\": {\"frequency\": 3, \"value\": 7007}, \"7012\": {\"frequency\": 1, \"value\": 7012}, \"138085\": {\"frequency\": 1, \"value\": 138085}, \"7014\": {\"frequency\": 3, \"value\": 7014}, \"7015\": {\"frequency\": 4, \"value\": 7015}, \"7020\": {\"frequency\": 12, \"value\": 7020}, \"7023\": {\"frequency\": 1, \"value\": 7023}, \"7027\": {\"frequency\": 1, \"value\": 7027}, \"7029\": {\"frequency\": 2, \"value\": 7029}, \"7030\": {\"frequency\": 5, \"value\": 7030}, \"7034\": {\"frequency\": 2, \"value\": 7034}, \"7035\": {\"frequency\": 4, \"value\": 7035}, \"7040\": {\"frequency\": 4, \"value\": 7040}, \"7043\": {\"frequency\": 1, \"value\": 7043}, \"7047\": {\"frequency\": 2, \"value\": 7047}, \"7048\": {\"frequency\": 2, \"value\": 7048}, \"7050\": {\"frequency\": 3, \"value\": 7050}, \"7051\": {\"frequency\": 2, \"value\": 7051}, \"7054\": {\"frequency\": 2, \"value\": 7054}, \"7056\": {\"frequency\": 4, \"value\": 7056}, \"7062\": {\"frequency\": 3, \"value\": 7062}, \"7064\": {\"frequency\": 2, \"value\": 7064}, \"7066\": {\"frequency\": 3, \"value\": 7066}, \"7068\": {\"frequency\": 2, \"value\": 7068}, \"7069\": {\"frequency\": 2, \"value\": 7069}, \"7070\": {\"frequency\": 2, \"value\": 7070}, \"7071\": {\"frequency\": 2, \"value\": 7071}, \"7074\": {\"frequency\": 1, \"value\": 7074}, \"7076\": {\"frequency\": 3, \"value\": 7076}, \"7078\": {\"frequency\": 1, \"value\": 7078}, \"39848\": {\"frequency\": 2, \"value\": 39848}, \"7081\": {\"frequency\": 4, \"value\": 7081}, \"7084\": {\"frequency\": 2, \"value\": 7084}, \"7085\": {\"frequency\": 3, \"value\": 7085}, \"7087\": {\"frequency\": 1, \"value\": 7087}, \"7089\": {\"frequency\": 2, \"value\": 7089}, \"7091\": {\"frequency\": 2, \"value\": 7091}, \"7095\": {\"frequency\": 3, \"value\": 7095}, \"7098\": {\"frequency\": 2, \"value\": 7098}, \"7100\": {\"frequency\": 6, \"value\": 7100}, \"7102\": {\"frequency\": 6, \"value\": 7102}, \"7104\": {\"frequency\": 3, \"value\": 7104}, \"7105\": {\"frequency\": 1, \"value\": 7105}, \"7107\": {\"frequency\": 2, \"value\": 7107}, \"7108\": {\"frequency\": 2, \"value\": 7108}, \"7110\": {\"frequency\": 7, \"value\": 7110}, \"7111\": {\"frequency\": 3, \"value\": 7111}, \"7112\": {\"frequency\": 3, \"value\": 7112}, \"7114\": {\"frequency\": 1, \"value\": 7114}, \"7115\": {\"frequency\": 1, \"value\": 7115}, \"7117\": {\"frequency\": 1, \"value\": 7117}, \"7119\": {\"frequency\": 2, \"value\": 7119}, \"7120\": {\"frequency\": 5, \"value\": 7120}, \"7123\": {\"frequency\": 2, \"value\": 7123}, \"7125\": {\"frequency\": 9, \"value\": 7125}, \"7126\": {\"frequency\": 1, \"value\": 7126}, \"7128\": {\"frequency\": 6, \"value\": 7128}, \"7129\": {\"frequency\": 2, \"value\": 7129}, \"7130\": {\"frequency\": 2, \"value\": 7130}, \"7131\": {\"frequency\": 2, \"value\": 7131}, \"7133\": {\"frequency\": 1, \"value\": 7133}, \"7134\": {\"frequency\": 3, \"value\": 7134}, \"7135\": {\"frequency\": 1, \"value\": 7135}, \"7136\": {\"frequency\": 2, \"value\": 7136}, \"7137\": {\"frequency\": 2, \"value\": 7137}, \"7140\": {\"frequency\": 19, \"value\": 7140}, \"7143\": {\"frequency\": 1, \"value\": 7143}, \"7144\": {\"frequency\": 1, \"value\": 7144}, \"7145\": {\"frequency\": 2, \"value\": 7145}, \"7147\": {\"frequency\": 1, \"value\": 7147}, \"7148\": {\"frequency\": 1, \"value\": 7148}, \"7149\": {\"frequency\": 2, \"value\": 7149}, \"7150\": {\"frequency\": 9, \"value\": 7150}, \"7153\": {\"frequency\": 3, \"value\": 7153}, \"7155\": {\"frequency\": 3, \"value\": 7155}, \"7156\": {\"frequency\": 2, \"value\": 7156}, \"7157\": {\"frequency\": 2, \"value\": 7157}, \"7161\": {\"frequency\": 2, \"value\": 7161}, \"7163\": {\"frequency\": 3, \"value\": 7163}, \"39932\": {\"frequency\": 1, \"value\": 39932}, \"7171\": {\"frequency\": 3, \"value\": 7171}, \"7172\": {\"frequency\": 2, \"value\": 7172}, \"7173\": {\"frequency\": 3, \"value\": 7173}, \"7175\": {\"frequency\": 2, \"value\": 7175}, \"7176\": {\"frequency\": 1, \"value\": 7176}, \"7178\": {\"frequency\": 2, \"value\": 7178}, \"7180\": {\"frequency\": 1, \"value\": 7180}, \"7184\": {\"frequency\": 4, \"value\": 7184}, \"7187\": {\"frequency\": 7, \"value\": 7187}, \"7190\": {\"frequency\": 1, \"value\": 7190}, \"7191\": {\"frequency\": 3, \"value\": 7191}, \"7192\": {\"frequency\": 2, \"value\": 7192}, \"7193\": {\"frequency\": 1, \"value\": 7193}, \"7194\": {\"frequency\": 7, \"value\": 7194}, \"7198\": {\"frequency\": 4, \"value\": 7198}, \"7199\": {\"frequency\": 7, \"value\": 7199}, \"7200\": {\"frequency\": 220, \"value\": 7200}, \"7201\": {\"frequency\": 8, \"value\": 7201}, \"7202\": {\"frequency\": 6, \"value\": 7202}, \"7203\": {\"frequency\": 7, \"value\": 7203}, \"7204\": {\"frequency\": 4, \"value\": 7204}, \"7205\": {\"frequency\": 6, \"value\": 7205}, \"7207\": {\"frequency\": 5, \"value\": 7207}, \"7208\": {\"frequency\": 8, \"value\": 7208}, \"7209\": {\"frequency\": 4, \"value\": 7209}, \"7210\": {\"frequency\": 38, \"value\": 7210}, \"7213\": {\"frequency\": 2, \"value\": 7213}, \"7214\": {\"frequency\": 3, \"value\": 7214}, \"7215\": {\"frequency\": 5, \"value\": 7215}, \"7216\": {\"frequency\": 5, \"value\": 7216}, \"7218\": {\"frequency\": 2, \"value\": 7218}, \"7220\": {\"frequency\": 5, \"value\": 7220}, \"7221\": {\"frequency\": 4, \"value\": 7221}, \"7222\": {\"frequency\": 2, \"value\": 7222}, \"7223\": {\"frequency\": 2, \"value\": 7223}, \"7224\": {\"frequency\": 2, \"value\": 7224}, \"7225\": {\"frequency\": 7, \"value\": 7225}, \"7226\": {\"frequency\": 3, \"value\": 7226}, \"7227\": {\"frequency\": 3, \"value\": 7227}, \"7228\": {\"frequency\": 2, \"value\": 7228}, \"7229\": {\"frequency\": 3, \"value\": 7229}, \"7230\": {\"frequency\": 5, \"value\": 7230}, \"7231\": {\"frequency\": 3, \"value\": 7231}, \"7232\": {\"frequency\": 7, \"value\": 7232}, \"40003\": {\"frequency\": 1, \"value\": 40003}, \"7236\": {\"frequency\": 5, \"value\": 7236}, \"7237\": {\"frequency\": 1, \"value\": 7237}, \"7238\": {\"frequency\": 2, \"value\": 7238}, \"7240\": {\"frequency\": 1, \"value\": 7240}, \"7241\": {\"frequency\": 1, \"value\": 7241}, \"7242\": {\"frequency\": 7, \"value\": 7242}, \"7245\": {\"frequency\": 17, \"value\": 7245}, \"7246\": {\"frequency\": 2, \"value\": 7246}, \"7247\": {\"frequency\": 2, \"value\": 7247}, \"7250\": {\"frequency\": 14, \"value\": 7250}, \"7251\": {\"frequency\": 4, \"value\": 7251}, \"203860\": {\"frequency\": 1, \"value\": 203860}, \"7253\": {\"frequency\": 1, \"value\": 7253}, \"7254\": {\"frequency\": 3, \"value\": 7254}, \"7255\": {\"frequency\": 1, \"value\": 7255}, \"7258\": {\"frequency\": 3, \"value\": 7258}, \"7259\": {\"frequency\": 1, \"value\": 7259}, \"7260\": {\"frequency\": 17, \"value\": 7260}, \"7261\": {\"frequency\": 2, \"value\": 7261}, \"7262\": {\"frequency\": 1, \"value\": 7262}, \"7264\": {\"frequency\": 4, \"value\": 7264}, \"7265\": {\"frequency\": 2, \"value\": 7265}, \"7266\": {\"frequency\": 3, \"value\": 7266}, \"7267\": {\"frequency\": 2, \"value\": 7267}, \"7268\": {\"frequency\": 3, \"value\": 7268}, \"7270\": {\"frequency\": 2, \"value\": 7270}, \"40039\": {\"frequency\": 1, \"value\": 40039}, \"7272\": {\"frequency\": 2, \"value\": 7272}, \"7275\": {\"frequency\": 6, \"value\": 7275}, \"7276\": {\"frequency\": 5, \"value\": 7276}, \"7277\": {\"frequency\": 3, \"value\": 7277}, \"7278\": {\"frequency\": 1, \"value\": 7278}, \"1213\": {\"frequency\": 4, \"value\": 1213}, \"7280\": {\"frequency\": 17, \"value\": 7280}, \"7281\": {\"frequency\": 1, \"value\": 7281}, \"7282\": {\"frequency\": 3, \"value\": 7282}, \"7283\": {\"frequency\": 1, \"value\": 7283}, \"7286\": {\"frequency\": 1, \"value\": 7286}, \"7287\": {\"frequency\": 2, \"value\": 7287}, \"7290\": {\"frequency\": 5, \"value\": 7290}, \"7291\": {\"frequency\": 2, \"value\": 7291}, \"7292\": {\"frequency\": 5, \"value\": 7292}, \"7293\": {\"frequency\": 2, \"value\": 7293}, \"7294\": {\"frequency\": 3, \"value\": 7294}, \"7296\": {\"frequency\": 2, \"value\": 7296}, \"7297\": {\"frequency\": 2, \"value\": 7297}, \"7298\": {\"frequency\": 1, \"value\": 7298}, \"7299\": {\"frequency\": 1, \"value\": 7299}, \"7300\": {\"frequency\": 17, \"value\": 7300}, \"6678\": {\"frequency\": 3, \"value\": 6678}, \"7302\": {\"frequency\": 1, \"value\": 7302}, \"7303\": {\"frequency\": 3, \"value\": 7303}, \"7304\": {\"frequency\": 2, \"value\": 7304}, \"7306\": {\"frequency\": 2, \"value\": 7306}, \"7307\": {\"frequency\": 2, \"value\": 7307}, \"7308\": {\"frequency\": 2, \"value\": 7308}, \"7309\": {\"frequency\": 2, \"value\": 7309}, \"7311\": {\"frequency\": 2, \"value\": 7311}, \"7312\": {\"frequency\": 4, \"value\": 7312}, \"7313\": {\"frequency\": 5, \"value\": 7313}, \"7314\": {\"frequency\": 9, \"value\": 7314}, \"7315\": {\"frequency\": 2, \"value\": 7315}, \"7316\": {\"frequency\": 3, \"value\": 7316}, \"12142\": {\"frequency\": 2, \"value\": 12142}, \"7318\": {\"frequency\": 2, \"value\": 7318}, \"7320\": {\"frequency\": 11, \"value\": 7320}, \"7322\": {\"frequency\": 1, \"value\": 7322}, \"7323\": {\"frequency\": 1, \"value\": 7323}, \"7324\": {\"frequency\": 3, \"value\": 7324}, \"7326\": {\"frequency\": 2, \"value\": 7326}, \"7328\": {\"frequency\": 1, \"value\": 7328}, \"40097\": {\"frequency\": 1, \"value\": 40097}, \"40098\": {\"frequency\": 1, \"value\": 40098}, \"7331\": {\"frequency\": 1, \"value\": 7331}, \"7332\": {\"frequency\": 2, \"value\": 7332}, \"7333\": {\"frequency\": 2, \"value\": 7333}, \"7334\": {\"frequency\": 4, \"value\": 7334}, \"7335\": {\"frequency\": 1, \"value\": 7335}, \"7336\": {\"frequency\": 3, \"value\": 7336}, \"7338\": {\"frequency\": 2, \"value\": 7338}, \"7341\": {\"frequency\": 2, \"value\": 7341}, \"7344\": {\"frequency\": 7, \"value\": 7344}, \"7345\": {\"frequency\": 5, \"value\": 7345}, \"7347\": {\"frequency\": 2, \"value\": 7347}, \"7349\": {\"frequency\": 2, \"value\": 7349}, \"7350\": {\"frequency\": 64, \"value\": 7350}, \"7352\": {\"frequency\": 2, \"value\": 7352}, \"7355\": {\"frequency\": 2, \"value\": 7355}, \"7360\": {\"frequency\": 2, \"value\": 7360}, \"7361\": {\"frequency\": 2, \"value\": 7361}, \"7364\": {\"frequency\": 2, \"value\": 7364}, \"7370\": {\"frequency\": 5, \"value\": 7370}, \"40139\": {\"frequency\": 1, \"value\": 40139}, \"7372\": {\"frequency\": 3, \"value\": 7372}, \"7373\": {\"frequency\": 2, \"value\": 7373}, \"7374\": {\"frequency\": 1, \"value\": 7374}, \"7375\": {\"frequency\": 3, \"value\": 7375}, \"7376\": {\"frequency\": 1, \"value\": 7376}, \"7378\": {\"frequency\": 2, \"value\": 7378}, \"7379\": {\"frequency\": 2, \"value\": 7379}, \"7380\": {\"frequency\": 5, \"value\": 7380}, \"7384\": {\"frequency\": 5, \"value\": 7384}, \"7386\": {\"frequency\": 2, \"value\": 7386}, \"7388\": {\"frequency\": 2, \"value\": 7388}, \"7389\": {\"frequency\": 3, \"value\": 7389}, \"7392\": {\"frequency\": 4, \"value\": 7392}, \"7394\": {\"frequency\": 1, \"value\": 7394}, \"7395\": {\"frequency\": 1, \"value\": 7395}, \"7396\": {\"frequency\": 1, \"value\": 7396}, \"7399\": {\"frequency\": 3, \"value\": 7399}, \"7400\": {\"frequency\": 16, \"value\": 7400}, \"7403\": {\"frequency\": 3, \"value\": 7403}, \"7405\": {\"frequency\": 3, \"value\": 7405}, \"7410\": {\"frequency\": 8, \"value\": 7410}, \"7412\": {\"frequency\": 6, \"value\": 7412}, \"7414\": {\"frequency\": 3, \"value\": 7414}, \"7415\": {\"frequency\": 4, \"value\": 7415}, \"7416\": {\"frequency\": 7, \"value\": 7416}, \"7417\": {\"frequency\": 4, \"value\": 7417}, \"7419\": {\"frequency\": 4, \"value\": 7419}, \"7420\": {\"frequency\": 9, \"value\": 7420}, \"7421\": {\"frequency\": 1, \"value\": 7421}, \"7423\": {\"frequency\": 2, \"value\": 7423}, \"7425\": {\"frequency\": 3, \"value\": 7425}, \"7426\": {\"frequency\": 1, \"value\": 7426}, \"7427\": {\"frequency\": 1, \"value\": 7427}, \"7434\": {\"frequency\": 5, \"value\": 7434}, \"7435\": {\"frequency\": 2, \"value\": 7435}, \"7439\": {\"frequency\": 4, \"value\": 7439}, \"7440\": {\"frequency\": 14, \"value\": 7440}, \"7442\": {\"frequency\": 1, \"value\": 7442}, \"7447\": {\"frequency\": 3, \"value\": 7447}, \"7448\": {\"frequency\": 1, \"value\": 7448}, \"7450\": {\"frequency\": 3, \"value\": 7450}, \"7451\": {\"frequency\": 1, \"value\": 7451}, \"7452\": {\"frequency\": 2, \"value\": 7452}, \"7453\": {\"frequency\": 1, \"value\": 7453}, \"7455\": {\"frequency\": 5, \"value\": 7455}, \"7456\": {\"frequency\": 1, \"value\": 7456}, \"7458\": {\"frequency\": 1, \"value\": 7458}, \"7460\": {\"frequency\": 2, \"value\": 7460}, \"7464\": {\"frequency\": 1, \"value\": 7464}, \"7465\": {\"frequency\": 3, \"value\": 7465}, \"7467\": {\"frequency\": 3, \"value\": 7467}, \"7469\": {\"frequency\": 1, \"value\": 7469}, \"7470\": {\"frequency\": 3, \"value\": 7470}, \"7473\": {\"frequency\": 3, \"value\": 7473}, \"7475\": {\"frequency\": 10, \"value\": 7475}, \"7476\": {\"frequency\": 2, \"value\": 7476}, \"7479\": {\"frequency\": 2, \"value\": 7479}, \"7480\": {\"frequency\": 11, \"value\": 7480}, \"40250\": {\"frequency\": 2, \"value\": 40250}, \"7484\": {\"frequency\": 2, \"value\": 7484}, \"7485\": {\"frequency\": 2, \"value\": 7485}, \"7486\": {\"frequency\": 2, \"value\": 7486}, \"7488\": {\"frequency\": 4, \"value\": 7488}, \"7489\": {\"frequency\": 2, \"value\": 7489}, \"7490\": {\"frequency\": 7, \"value\": 7490}, \"7491\": {\"frequency\": 3, \"value\": 7491}, \"7492\": {\"frequency\": 2, \"value\": 7492}, \"6710\": {\"frequency\": 6, \"value\": 6710}, \"7494\": {\"frequency\": 2, \"value\": 7494}, \"7495\": {\"frequency\": 2, \"value\": 7495}, \"7500\": {\"frequency\": 119, \"value\": 7500}, \"7501\": {\"frequency\": 1, \"value\": 7501}, \"7503\": {\"frequency\": 2, \"value\": 7503}, \"7504\": {\"frequency\": 1, \"value\": 7504}, \"7505\": {\"frequency\": 2, \"value\": 7505}, \"7506\": {\"frequency\": 2, \"value\": 7506}, \"7508\": {\"frequency\": 4, \"value\": 7508}, \"7509\": {\"frequency\": 1, \"value\": 7509}, \"7510\": {\"frequency\": 3, \"value\": 7510}, \"7512\": {\"frequency\": 1, \"value\": 7512}, \"7513\": {\"frequency\": 1, \"value\": 7513}, \"7517\": {\"frequency\": 2, \"value\": 7517}, \"7519\": {\"frequency\": 3, \"value\": 7519}, \"7520\": {\"frequency\": 5, \"value\": 7520}, \"7521\": {\"frequency\": 2, \"value\": 7521}, \"7524\": {\"frequency\": 2, \"value\": 7524}, \"7526\": {\"frequency\": 4, \"value\": 7526}, \"7528\": {\"frequency\": 1, \"value\": 7528}, \"7533\": {\"frequency\": 2, \"value\": 7533}, \"7535\": {\"frequency\": 2, \"value\": 7535}, \"7537\": {\"frequency\": 1, \"value\": 7537}, \"7538\": {\"frequency\": 3, \"value\": 7538}, \"7540\": {\"frequency\": 6, \"value\": 7540}, \"7541\": {\"frequency\": 1, \"value\": 7541}, \"7544\": {\"frequency\": 1, \"value\": 7544}, \"7545\": {\"frequency\": 1, \"value\": 7545}, \"7546\": {\"frequency\": 1, \"value\": 7546}, \"7549\": {\"frequency\": 2, \"value\": 7549}, \"7550\": {\"frequency\": 2, \"value\": 7550}, \"40319\": {\"frequency\": 1, \"value\": 40319}, \"7552\": {\"frequency\": 5, \"value\": 7552}, \"7553\": {\"frequency\": 2, \"value\": 7553}, \"7555\": {\"frequency\": 3, \"value\": 7555}, \"7559\": {\"frequency\": 1, \"value\": 7559}, \"7560\": {\"frequency\": 48, \"value\": 7560}, \"7561\": {\"frequency\": 2, \"value\": 7561}, \"7562\": {\"frequency\": 1, \"value\": 7562}, \"7565\": {\"frequency\": 2, \"value\": 7565}, \"7566\": {\"frequency\": 4, \"value\": 7566}, \"7567\": {\"frequency\": 2, \"value\": 7567}, \"7569\": {\"frequency\": 2, \"value\": 7569}, \"7570\": {\"frequency\": 2, \"value\": 7570}, \"7571\": {\"frequency\": 1, \"value\": 7571}, \"7572\": {\"frequency\": 1, \"value\": 7572}, \"7573\": {\"frequency\": 3, \"value\": 7573}, \"7575\": {\"frequency\": 9, \"value\": 7575}, \"7576\": {\"frequency\": 1, \"value\": 7576}, \"7577\": {\"frequency\": 2, \"value\": 7577}, \"7579\": {\"frequency\": 1, \"value\": 7579}, \"7580\": {\"frequency\": 1, \"value\": 7580}, \"7582\": {\"frequency\": 2, \"value\": 7582}, \"7583\": {\"frequency\": 1, \"value\": 7583}, \"7584\": {\"frequency\": 2, \"value\": 7584}, \"7585\": {\"frequency\": 2, \"value\": 7585}, \"7586\": {\"frequency\": 1, \"value\": 7586}, \"7587\": {\"frequency\": 2, \"value\": 7587}, \"7588\": {\"frequency\": 1, \"value\": 7588}, \"7589\": {\"frequency\": 3, \"value\": 7589}, \"7590\": {\"frequency\": 8, \"value\": 7590}, \"7598\": {\"frequency\": 3, \"value\": 7598}, \"7599\": {\"frequency\": 4, \"value\": 7599}, \"7600\": {\"frequency\": 12, \"value\": 7600}, \"7601\": {\"frequency\": 3, \"value\": 7601}, \"7603\": {\"frequency\": 1, \"value\": 7603}, \"7604\": {\"frequency\": 1, \"value\": 7604}, \"7605\": {\"frequency\": 3, \"value\": 7605}, \"7606\": {\"frequency\": 2, \"value\": 7606}, \"7607\": {\"frequency\": 2, \"value\": 7607}, \"7609\": {\"frequency\": 3, \"value\": 7609}, \"7610\": {\"frequency\": 2, \"value\": 7610}, \"7614\": {\"frequency\": 2, \"value\": 7614}, \"73151\": {\"frequency\": 1, \"value\": 73151}, \"7617\": {\"frequency\": 3, \"value\": 7617}, \"40386\": {\"frequency\": 1, \"value\": 40386}, \"7620\": {\"frequency\": 30, \"value\": 7620}, \"7623\": {\"frequency\": 2, \"value\": 7623}, \"7625\": {\"frequency\": 3, \"value\": 7625}, \"7626\": {\"frequency\": 2, \"value\": 7626}, \"7630\": {\"frequency\": 4, \"value\": 7630}, \"7631\": {\"frequency\": 1, \"value\": 7631}, \"7632\": {\"frequency\": 5, \"value\": 7632}, \"7633\": {\"frequency\": 2, \"value\": 7633}, \"7634\": {\"frequency\": 3, \"value\": 7634}, \"7636\": {\"frequency\": 3, \"value\": 7636}, \"7639\": {\"frequency\": 2, \"value\": 7639}, \"7640\": {\"frequency\": 1, \"value\": 7640}, \"7641\": {\"frequency\": 3, \"value\": 7641}, \"7642\": {\"frequency\": 4, \"value\": 7642}, \"7643\": {\"frequency\": 1, \"value\": 7643}, \"7644\": {\"frequency\": 3, \"value\": 7644}, \"7645\": {\"frequency\": 2, \"value\": 7645}, \"7647\": {\"frequency\": 2, \"value\": 7647}, \"7649\": {\"frequency\": 2, \"value\": 7649}, \"7650\": {\"frequency\": 23, \"value\": 7650}, \"40419\": {\"frequency\": 1, \"value\": 40419}, \"1276\": {\"frequency\": 3, \"value\": 1276}, \"7658\": {\"frequency\": 2, \"value\": 7658}, \"7660\": {\"frequency\": 3, \"value\": 7660}, \"7665\": {\"frequency\": 6, \"value\": 7665}, \"7667\": {\"frequency\": 4, \"value\": 7667}, \"7668\": {\"frequency\": 2, \"value\": 7668}, \"7669\": {\"frequency\": 1, \"value\": 7669}, \"7670\": {\"frequency\": 3, \"value\": 7670}, \"7672\": {\"frequency\": 1, \"value\": 7672}, \"7673\": {\"frequency\": 2, \"value\": 7673}, \"7679\": {\"frequency\": 3, \"value\": 7679}, \"7680\": {\"frequency\": 27, \"value\": 7680}, \"7683\": {\"frequency\": 3, \"value\": 7683}, \"7684\": {\"frequency\": 2, \"value\": 7684}, \"7685\": {\"frequency\": 1, \"value\": 7685}, \"7686\": {\"frequency\": 5, \"value\": 7686}, \"7688\": {\"frequency\": 2, \"value\": 7688}, \"7690\": {\"frequency\": 3, \"value\": 7690}, \"7692\": {\"frequency\": 1, \"value\": 7692}, \"7693\": {\"frequency\": 3, \"value\": 7693}, \"7694\": {\"frequency\": 4, \"value\": 7694}, \"7695\": {\"frequency\": 2, \"value\": 7695}, \"7697\": {\"frequency\": 4, \"value\": 7697}, \"7698\": {\"frequency\": 2, \"value\": 7698}, \"7700\": {\"frequency\": 66, \"value\": 7700}, \"7701\": {\"frequency\": 3, \"value\": 7701}, \"40471\": {\"frequency\": 1, \"value\": 40471}, \"7705\": {\"frequency\": 1, \"value\": 7705}, \"7708\": {\"frequency\": 3, \"value\": 7708}, \"7709\": {\"frequency\": 1, \"value\": 7709}, \"7710\": {\"frequency\": 3, \"value\": 7710}, \"7712\": {\"frequency\": 2, \"value\": 7712}, \"7713\": {\"frequency\": 2, \"value\": 7713}, \"7716\": {\"frequency\": 2, \"value\": 7716}, \"7719\": {\"frequency\": 2, \"value\": 7719}, \"7720\": {\"frequency\": 2, \"value\": 7720}, \"7722\": {\"frequency\": 2, \"value\": 7722}, \"7724\": {\"frequency\": 2, \"value\": 7724}, \"7725\": {\"frequency\": 9, \"value\": 7725}, \"7727\": {\"frequency\": 2, \"value\": 7727}, \"7728\": {\"frequency\": 2, \"value\": 7728}, \"7730\": {\"frequency\": 3, \"value\": 7730}, \"7731\": {\"frequency\": 1, \"value\": 7731}, \"7733\": {\"frequency\": 3, \"value\": 7733}, \"7735\": {\"frequency\": 6, \"value\": 7735}, \"7737\": {\"frequency\": 2, \"value\": 7737}, \"7738\": {\"frequency\": 3, \"value\": 7738}, \"7739\": {\"frequency\": 2, \"value\": 7739}, \"7740\": {\"frequency\": 16, \"value\": 7740}, \"7741\": {\"frequency\": 2, \"value\": 7741}, \"7742\": {\"frequency\": 5, \"value\": 7742}, \"7744\": {\"frequency\": 1, \"value\": 7744}, \"7745\": {\"frequency\": 1, \"value\": 7745}, \"7746\": {\"frequency\": 2, \"value\": 7746}, \"7749\": {\"frequency\": 3, \"value\": 7749}, \"7750\": {\"frequency\": 5, \"value\": 7750}, \"7752\": {\"frequency\": 2, \"value\": 7752}, \"7753\": {\"frequency\": 2, \"value\": 7753}, \"7754\": {\"frequency\": 3, \"value\": 7754}, \"7755\": {\"frequency\": 2, \"value\": 7755}, \"7757\": {\"frequency\": 4, \"value\": 7757}, \"7759\": {\"frequency\": 2, \"value\": 7759}, \"7760\": {\"frequency\": 2, \"value\": 7760}, \"7765\": {\"frequency\": 1, \"value\": 7765}, \"7767\": {\"frequency\": 1, \"value\": 7767}, \"7769\": {\"frequency\": 1, \"value\": 7769}, \"7770\": {\"frequency\": 9, \"value\": 7770}, \"7771\": {\"frequency\": 1, \"value\": 7771}, \"7772\": {\"frequency\": 2, \"value\": 7772}, \"7775\": {\"frequency\": 3, \"value\": 7775}, \"7778\": {\"frequency\": 3, \"value\": 7778}, \"7780\": {\"frequency\": 1, \"value\": 7780}, \"7781\": {\"frequency\": 2, \"value\": 7781}, \"7785\": {\"frequency\": 1, \"value\": 7785}, \"171626\": {\"frequency\": 1, \"value\": 171626}, \"7787\": {\"frequency\": 1, \"value\": 7787}, \"7788\": {\"frequency\": 1, \"value\": 7788}, \"7789\": {\"frequency\": 1, \"value\": 7789}, \"7790\": {\"frequency\": 2, \"value\": 7790}, \"7793\": {\"frequency\": 1, \"value\": 7793}, \"7794\": {\"frequency\": 2, \"value\": 7794}, \"7797\": {\"frequency\": 2, \"value\": 7797}, \"7799\": {\"frequency\": 1, \"value\": 7799}, \"7800\": {\"frequency\": 69, \"value\": 7800}, \"7803\": {\"frequency\": 3, \"value\": 7803}, \"40575\": {\"frequency\": 1, \"value\": 40575}, \"7808\": {\"frequency\": 2, \"value\": 7808}, \"7809\": {\"frequency\": 2, \"value\": 7809}, \"7810\": {\"frequency\": 5, \"value\": 7810}, \"7811\": {\"frequency\": 2, \"value\": 7811}, \"7819\": {\"frequency\": 3, \"value\": 7819}, \"7820\": {\"frequency\": 3, \"value\": 7820}, \"7821\": {\"frequency\": 3, \"value\": 7821}, \"7826\": {\"frequency\": 3, \"value\": 7826}, \"7827\": {\"frequency\": 1, \"value\": 7827}, \"7828\": {\"frequency\": 3, \"value\": 7828}, \"7829\": {\"frequency\": 1, \"value\": 7829}, \"7830\": {\"frequency\": 5, \"value\": 7830}, \"7831\": {\"frequency\": 1, \"value\": 7831}, \"40600\": {\"frequency\": 1, \"value\": 40600}, \"7834\": {\"frequency\": 1, \"value\": 7834}, \"7836\": {\"frequency\": 1, \"value\": 7836}, \"7838\": {\"frequency\": 4, \"value\": 7838}, \"40608\": {\"frequency\": 1, \"value\": 40608}, \"7843\": {\"frequency\": 1, \"value\": 7843}, \"7844\": {\"frequency\": 1, \"value\": 7844}, \"7845\": {\"frequency\": 2, \"value\": 7845}, \"7847\": {\"frequency\": 1, \"value\": 7847}, \"7848\": {\"frequency\": 2, \"value\": 7848}, \"7850\": {\"frequency\": 5, \"value\": 7850}, \"7851\": {\"frequency\": 2, \"value\": 7851}, \"7853\": {\"frequency\": 2, \"value\": 7853}, \"7854\": {\"frequency\": 5, \"value\": 7854}, \"7857\": {\"frequency\": 4, \"value\": 7857}, \"7859\": {\"frequency\": 2, \"value\": 7859}, \"7860\": {\"frequency\": 3, \"value\": 7860}, \"7861\": {\"frequency\": 3, \"value\": 7861}, \"7862\": {\"frequency\": 2, \"value\": 7862}, \"7863\": {\"frequency\": 2, \"value\": 7863}, \"7865\": {\"frequency\": 2, \"value\": 7865}, \"7866\": {\"frequency\": 2, \"value\": 7866}, \"40635\": {\"frequency\": 1, \"value\": 40635}, \"7869\": {\"frequency\": 1, \"value\": 7869}, \"6773\": {\"frequency\": 3, \"value\": 6773}, \"7873\": {\"frequency\": 1, \"value\": 7873}, \"40642\": {\"frequency\": 1, \"value\": 40642}, \"7875\": {\"frequency\": 19, \"value\": 7875}, \"7876\": {\"frequency\": 2, \"value\": 7876}, \"7877\": {\"frequency\": 3, \"value\": 7877}, \"7879\": {\"frequency\": 1, \"value\": 7879}, \"7880\": {\"frequency\": 2, \"value\": 7880}, \"7881\": {\"frequency\": 2, \"value\": 7881}, \"7882\": {\"frequency\": 1, \"value\": 7882}, \"7884\": {\"frequency\": 3, \"value\": 7884}, \"7885\": {\"frequency\": 2, \"value\": 7885}, \"7886\": {\"frequency\": 1, \"value\": 7886}, \"7890\": {\"frequency\": 1, \"value\": 7890}, \"7896\": {\"frequency\": 2, \"value\": 7896}, \"7897\": {\"frequency\": 3, \"value\": 7897}, \"7898\": {\"frequency\": 1, \"value\": 7898}, \"7900\": {\"frequency\": 8, \"value\": 7900}, \"7901\": {\"frequency\": 1, \"value\": 7901}, \"7902\": {\"frequency\": 3, \"value\": 7902}, \"7903\": {\"frequency\": 2, \"value\": 7903}, \"7904\": {\"frequency\": 7, \"value\": 7904}, \"7905\": {\"frequency\": 1, \"value\": 7905}, \"7906\": {\"frequency\": 2, \"value\": 7906}, \"7910\": {\"frequency\": 6, \"value\": 7910}, \"7912\": {\"frequency\": 4, \"value\": 7912}, \"7913\": {\"frequency\": 1, \"value\": 7913}, \"7914\": {\"frequency\": 1, \"value\": 7914}, \"7916\": {\"frequency\": 3, \"value\": 7916}, \"7917\": {\"frequency\": 1, \"value\": 7917}, \"7920\": {\"frequency\": 25, \"value\": 7920}, \"7923\": {\"frequency\": 2, \"value\": 7923}, \"7924\": {\"frequency\": 2, \"value\": 7924}, \"7927\": {\"frequency\": 1, \"value\": 7927}, \"7928\": {\"frequency\": 2, \"value\": 7928}, \"7929\": {\"frequency\": 1, \"value\": 7929}, \"7930\": {\"frequency\": 9, \"value\": 7930}, \"7931\": {\"frequency\": 2, \"value\": 7931}, \"7936\": {\"frequency\": 6, \"value\": 7936}, \"40705\": {\"frequency\": 1, \"value\": 40705}, \"7938\": {\"frequency\": 1, \"value\": 7938}, \"17707\": {\"frequency\": 2, \"value\": 17707}, \"7941\": {\"frequency\": 2, \"value\": 7941}, \"7942\": {\"frequency\": 2, \"value\": 7942}, \"7944\": {\"frequency\": 2, \"value\": 7944}, \"7945\": {\"frequency\": 3, \"value\": 7945}, \"7947\": {\"frequency\": 3, \"value\": 7947}, \"7950\": {\"frequency\": 8, \"value\": 7950}, \"7952\": {\"frequency\": 2, \"value\": 7952}, \"7953\": {\"frequency\": 3, \"value\": 7953}, \"7955\": {\"frequency\": 2, \"value\": 7955}, \"7956\": {\"frequency\": 2, \"value\": 7956}, \"7957\": {\"frequency\": 4, \"value\": 7957}, \"7958\": {\"frequency\": 3, \"value\": 7958}, \"7960\": {\"frequency\": 1, \"value\": 7960}, \"7961\": {\"frequency\": 2, \"value\": 7961}, \"7962\": {\"frequency\": 1, \"value\": 7962}, \"50479\": {\"frequency\": 1, \"value\": 50479}, \"7964\": {\"frequency\": 2, \"value\": 7964}, \"7965\": {\"frequency\": 4, \"value\": 7965}, \"7969\": {\"frequency\": 3, \"value\": 7969}, \"7972\": {\"frequency\": 2, \"value\": 7972}, \"7973\": {\"frequency\": 2, \"value\": 7973}, \"7975\": {\"frequency\": 3, \"value\": 7975}, \"7977\": {\"frequency\": 1, \"value\": 7977}, \"7980\": {\"frequency\": 18, \"value\": 7980}, \"7982\": {\"frequency\": 2, \"value\": 7982}, \"7983\": {\"frequency\": 1, \"value\": 7983}, \"7984\": {\"frequency\": 2, \"value\": 7984}, \"7986\": {\"frequency\": 2, \"value\": 7986}, \"7989\": {\"frequency\": 2, \"value\": 7989}, \"7991\": {\"frequency\": 2, \"value\": 7991}, \"7992\": {\"frequency\": 5, \"value\": 7992}, \"7995\": {\"frequency\": 3, \"value\": 7995}, \"7998\": {\"frequency\": 2, \"value\": 7998}, \"8000\": {\"frequency\": 76, \"value\": 8000}, \"8001\": {\"frequency\": 3, \"value\": 8001}, \"8004\": {\"frequency\": 3, \"value\": 8004}, \"8005\": {\"frequency\": 3, \"value\": 8005}, \"8006\": {\"frequency\": 1, \"value\": 8006}, \"8008\": {\"frequency\": 2, \"value\": 8008}, \"8009\": {\"frequency\": 2, \"value\": 8009}, \"8010\": {\"frequency\": 2, \"value\": 8010}, \"8011\": {\"frequency\": 1, \"value\": 8011}, \"8015\": {\"frequency\": 2, \"value\": 8015}, \"8018\": {\"frequency\": 2, \"value\": 8018}, \"8022\": {\"frequency\": 3, \"value\": 8022}, \"8023\": {\"frequency\": 1, \"value\": 8023}, \"8025\": {\"frequency\": 3, \"value\": 8025}, \"237402\": {\"frequency\": 2, \"value\": 237402}, \"8027\": {\"frequency\": 2, \"value\": 8027}, \"8028\": {\"frequency\": 2, \"value\": 8028}, \"8029\": {\"frequency\": 2, \"value\": 8029}, \"8030\": {\"frequency\": 5, \"value\": 8030}, \"8034\": {\"frequency\": 3, \"value\": 8034}, \"8036\": {\"frequency\": 4, \"value\": 8036}, \"8038\": {\"frequency\": 1, \"value\": 8038}, \"8039\": {\"frequency\": 1, \"value\": 8039}, \"8040\": {\"frequency\": 15, \"value\": 8040}, \"8043\": {\"frequency\": 2, \"value\": 8043}, \"40816\": {\"frequency\": 1, \"value\": 40816}, \"8049\": {\"frequency\": 4, \"value\": 8049}, \"8050\": {\"frequency\": 16, \"value\": 8050}, \"8051\": {\"frequency\": 1, \"value\": 8051}, \"8055\": {\"frequency\": 2, \"value\": 8055}, \"8056\": {\"frequency\": 3, \"value\": 8056}, \"8057\": {\"frequency\": 2, \"value\": 8057}, \"8058\": {\"frequency\": 4, \"value\": 8058}, \"8060\": {\"frequency\": 4, \"value\": 8060}, \"8062\": {\"frequency\": 2, \"value\": 8062}, \"8063\": {\"frequency\": 3, \"value\": 8063}, \"8064\": {\"frequency\": 5, \"value\": 8064}, \"8065\": {\"frequency\": 4, \"value\": 8065}, \"8067\": {\"frequency\": 2, \"value\": 8067}, \"8068\": {\"frequency\": 1, \"value\": 8068}, \"368517\": {\"frequency\": 1, \"value\": 368517}, \"8072\": {\"frequency\": 2, \"value\": 8072}, \"8073\": {\"frequency\": 3, \"value\": 8073}, \"8075\": {\"frequency\": 6, \"value\": 8075}, \"8076\": {\"frequency\": 4, \"value\": 8076}, \"8078\": {\"frequency\": 2, \"value\": 8078}, \"73616\": {\"frequency\": 2, \"value\": 73616}, \"8085\": {\"frequency\": 3, \"value\": 8085}, \"8086\": {\"frequency\": 4, \"value\": 8086}, \"8088\": {\"frequency\": 2, \"value\": 8088}, \"8089\": {\"frequency\": 1, \"value\": 8089}, \"8091\": {\"frequency\": 2, \"value\": 8091}, \"8092\": {\"frequency\": 2, \"value\": 8092}, \"8093\": {\"frequency\": 3, \"value\": 8093}, \"8095\": {\"frequency\": 3, \"value\": 8095}, \"8097\": {\"frequency\": 2, \"value\": 8097}, \"8098\": {\"frequency\": 2, \"value\": 8098}, \"8100\": {\"frequency\": 72, \"value\": 8100}, \"8101\": {\"frequency\": 1, \"value\": 8101}, \"8102\": {\"frequency\": 5, \"value\": 8102}, \"8103\": {\"frequency\": 1, \"value\": 8103}, \"8106\": {\"frequency\": 1, \"value\": 8106}, \"8107\": {\"frequency\": 2, \"value\": 8107}, \"8108\": {\"frequency\": 2, \"value\": 8108}, \"8111\": {\"frequency\": 3, \"value\": 8111}, \"8112\": {\"frequency\": 2, \"value\": 8112}, \"8113\": {\"frequency\": 3, \"value\": 8113}, \"8114\": {\"frequency\": 5, \"value\": 8114}, \"110579\": {\"frequency\": 1, \"value\": 110579}, \"8116\": {\"frequency\": 4, \"value\": 8116}, \"8117\": {\"frequency\": 2, \"value\": 8117}, \"8118\": {\"frequency\": 3, \"value\": 8118}, \"40887\": {\"frequency\": 1, \"value\": 40887}, \"8120\": {\"frequency\": 6, \"value\": 8120}, \"8122\": {\"frequency\": 2, \"value\": 8122}, \"8124\": {\"frequency\": 2, \"value\": 8124}, \"8125\": {\"frequency\": 9, \"value\": 8125}, \"8126\": {\"frequency\": 3, \"value\": 8126}, \"8127\": {\"frequency\": 2, \"value\": 8127}, \"8128\": {\"frequency\": 1, \"value\": 8128}, \"8130\": {\"frequency\": 3, \"value\": 8130}, \"8131\": {\"frequency\": 2, \"value\": 8131}, \"8132\": {\"frequency\": 1, \"value\": 8132}, \"8134\": {\"frequency\": 2, \"value\": 8134}, \"8136\": {\"frequency\": 4, \"value\": 8136}, \"8137\": {\"frequency\": 2, \"value\": 8137}, \"8138\": {\"frequency\": 2, \"value\": 8138}, \"8140\": {\"frequency\": 6, \"value\": 8140}, \"8142\": {\"frequency\": 3, \"value\": 8142}, \"8144\": {\"frequency\": 2, \"value\": 8144}, \"8145\": {\"frequency\": 3, \"value\": 8145}, \"8147\": {\"frequency\": 4, \"value\": 8147}, \"8148\": {\"frequency\": 3, \"value\": 8148}, \"8149\": {\"frequency\": 6, \"value\": 8149}, \"8150\": {\"frequency\": 2, \"value\": 8150}, \"8151\": {\"frequency\": 2, \"value\": 8151}, \"8153\": {\"frequency\": 2, \"value\": 8153}, \"8154\": {\"frequency\": 2, \"value\": 8154}, \"8155\": {\"frequency\": 3, \"value\": 8155}, \"8157\": {\"frequency\": 1, \"value\": 8157}, \"8158\": {\"frequency\": 3, \"value\": 8158}, \"8159\": {\"frequency\": 2, \"value\": 8159}, \"8160\": {\"frequency\": 19, \"value\": 8160}, \"8162\": {\"frequency\": 3, \"value\": 8162}, \"8163\": {\"frequency\": 4, \"value\": 8163}, \"8164\": {\"frequency\": 4, \"value\": 8164}, \"8165\": {\"frequency\": 5, \"value\": 8165}, \"8167\": {\"frequency\": 2, \"value\": 8167}, \"8169\": {\"frequency\": 2, \"value\": 8169}, \"8170\": {\"frequency\": 3, \"value\": 8170}, \"8171\": {\"frequency\": 2, \"value\": 8171}, \"8173\": {\"frequency\": 3, \"value\": 8173}, \"8174\": {\"frequency\": 3, \"value\": 8174}, \"8175\": {\"frequency\": 4, \"value\": 8175}, \"40946\": {\"frequency\": 4, \"value\": 40946}, \"8182\": {\"frequency\": 3, \"value\": 8182}, \"8183\": {\"frequency\": 1, \"value\": 8183}, \"8184\": {\"frequency\": 7, \"value\": 8184}, \"8185\": {\"frequency\": 1, \"value\": 8185}, \"8187\": {\"frequency\": 3, \"value\": 8187}, \"8188\": {\"frequency\": 2, \"value\": 8188}, \"8190\": {\"frequency\": 9, \"value\": 8190}, \"8192\": {\"frequency\": 1, \"value\": 8192}, \"8193\": {\"frequency\": 1, \"value\": 8193}, \"8195\": {\"frequency\": 2, \"value\": 8195}, \"8200\": {\"frequency\": 11, \"value\": 8200}, \"8201\": {\"frequency\": 2, \"value\": 8201}, \"8203\": {\"frequency\": 1, \"value\": 8203}, \"8208\": {\"frequency\": 4, \"value\": 8208}, \"8215\": {\"frequency\": 4, \"value\": 8215}, \"8219\": {\"frequency\": 1, \"value\": 8219}, \"8220\": {\"frequency\": 6, \"value\": 8220}, \"8223\": {\"frequency\": 4, \"value\": 8223}, \"8225\": {\"frequency\": 3, \"value\": 8225}, \"8227\": {\"frequency\": 3, \"value\": 8227}, \"8230\": {\"frequency\": 3, \"value\": 8230}, \"8232\": {\"frequency\": 2, \"value\": 8232}, \"8234\": {\"frequency\": 4, \"value\": 8234}, \"8235\": {\"frequency\": 2, \"value\": 8235}, \"8236\": {\"frequency\": 1, \"value\": 8236}, \"8239\": {\"frequency\": 3, \"value\": 8239}, \"8240\": {\"frequency\": 8, \"value\": 8240}, \"8245\": {\"frequency\": 1, \"value\": 8245}, \"8247\": {\"frequency\": 1, \"value\": 8247}, \"8248\": {\"frequency\": 1, \"value\": 8248}, \"8249\": {\"frequency\": 1, \"value\": 8249}, \"8250\": {\"frequency\": 34, \"value\": 8250}, \"8251\": {\"frequency\": 2, \"value\": 8251}, \"8252\": {\"frequency\": 3, \"value\": 8252}, \"41022\": {\"frequency\": 1, \"value\": 41022}, \"8255\": {\"frequency\": 2, \"value\": 8255}, \"8256\": {\"frequency\": 2, \"value\": 8256}, \"8261\": {\"frequency\": 3, \"value\": 8261}, \"8262\": {\"frequency\": 1, \"value\": 8262}, \"8263\": {\"frequency\": 1, \"value\": 8263}, \"8266\": {\"frequency\": 2, \"value\": 8266}, \"8268\": {\"frequency\": 2, \"value\": 8268}, \"8270\": {\"frequency\": 2, \"value\": 8270}, \"8272\": {\"frequency\": 2, \"value\": 8272}, \"41041\": {\"frequency\": 1, \"value\": 41041}, \"8276\": {\"frequency\": 4, \"value\": 8276}, \"8279\": {\"frequency\": 3, \"value\": 8279}, \"8280\": {\"frequency\": 7, \"value\": 8280}, \"8281\": {\"frequency\": 4, \"value\": 8281}, \"8282\": {\"frequency\": 4, \"value\": 8282}, \"8284\": {\"frequency\": 4, \"value\": 8284}, \"8287\": {\"frequency\": 2, \"value\": 8287}, \"8288\": {\"frequency\": 1, \"value\": 8288}, \"8289\": {\"frequency\": 1, \"value\": 8289}, \"8290\": {\"frequency\": 4, \"value\": 8290}, \"8291\": {\"frequency\": 1, \"value\": 8291}, \"8292\": {\"frequency\": 1, \"value\": 8292}, \"8295\": {\"frequency\": 1, \"value\": 8295}, \"8296\": {\"frequency\": 3, \"value\": 8296}, \"8298\": {\"frequency\": 1, \"value\": 8298}, \"8300\": {\"frequency\": 6, \"value\": 8300}, \"8301\": {\"frequency\": 5, \"value\": 8301}, \"8302\": {\"frequency\": 1, \"value\": 8302}, \"8303\": {\"frequency\": 3, \"value\": 8303}, \"41072\": {\"frequency\": 1, \"value\": 41072}, \"8306\": {\"frequency\": 2, \"value\": 8306}, \"8307\": {\"frequency\": 2, \"value\": 8307}, \"8308\": {\"frequency\": 5, \"value\": 8308}, \"8311\": {\"frequency\": 1, \"value\": 8311}, \"8313\": {\"frequency\": 2, \"value\": 8313}, \"8314\": {\"frequency\": 2, \"value\": 8314}, \"8315\": {\"frequency\": 2, \"value\": 8315}, \"8316\": {\"frequency\": 9, \"value\": 8316}, \"139392\": {\"frequency\": 2, \"value\": 139392}, \"8321\": {\"frequency\": 2, \"value\": 8321}, \"8322\": {\"frequency\": 1, \"value\": 8322}, \"8325\": {\"frequency\": 5, \"value\": 8325}, \"8327\": {\"frequency\": 2, \"value\": 8327}, \"8329\": {\"frequency\": 2, \"value\": 8329}, \"8331\": {\"frequency\": 2, \"value\": 8331}, \"8335\": {\"frequency\": 1, \"value\": 8335}, \"8336\": {\"frequency\": 4, \"value\": 8336}, \"8338\": {\"frequency\": 2, \"value\": 8338}, \"8340\": {\"frequency\": 2, \"value\": 8340}, \"8341\": {\"frequency\": 1, \"value\": 8341}, \"8342\": {\"frequency\": 3, \"value\": 8342}, \"8346\": {\"frequency\": 2, \"value\": 8346}, \"8347\": {\"frequency\": 2, \"value\": 8347}, \"8350\": {\"frequency\": 1, \"value\": 8350}, \"8352\": {\"frequency\": 1, \"value\": 8352}, \"8353\": {\"frequency\": 1, \"value\": 8353}, \"8354\": {\"frequency\": 2, \"value\": 8354}, \"8355\": {\"frequency\": 1, \"value\": 8355}, \"8360\": {\"frequency\": 3, \"value\": 8360}, \"8361\": {\"frequency\": 1, \"value\": 8361}, \"8362\": {\"frequency\": 2, \"value\": 8362}, \"8364\": {\"frequency\": 5, \"value\": 8364}, \"8366\": {\"frequency\": 4, \"value\": 8366}, \"8370\": {\"frequency\": 4, \"value\": 8370}, \"8371\": {\"frequency\": 1, \"value\": 8371}, \"8372\": {\"frequency\": 4, \"value\": 8372}, \"8374\": {\"frequency\": 2, \"value\": 8374}, \"8375\": {\"frequency\": 4, \"value\": 8375}, \"8376\": {\"frequency\": 2, \"value\": 8376}, \"8378\": {\"frequency\": 5, \"value\": 8378}, \"8379\": {\"frequency\": 2, \"value\": 8379}, \"8380\": {\"frequency\": 1, \"value\": 8380}, \"8382\": {\"frequency\": 4, \"value\": 8382}, \"8384\": {\"frequency\": 6, \"value\": 8384}, \"8385\": {\"frequency\": 2, \"value\": 8385}, \"8387\": {\"frequency\": 1, \"value\": 8387}, \"8390\": {\"frequency\": 2, \"value\": 8390}, \"8391\": {\"frequency\": 2, \"value\": 8391}, \"8392\": {\"frequency\": 2, \"value\": 8392}, \"8395\": {\"frequency\": 4, \"value\": 8395}, \"8396\": {\"frequency\": 1, \"value\": 8396}, \"8398\": {\"frequency\": 2, \"value\": 8398}, \"41167\": {\"frequency\": 1, \"value\": 41167}, \"8400\": {\"frequency\": 111, \"value\": 8400}, \"8401\": {\"frequency\": 3, \"value\": 8401}, \"8402\": {\"frequency\": 2, \"value\": 8402}, \"8403\": {\"frequency\": 1, \"value\": 8403}, \"8404\": {\"frequency\": 3, \"value\": 8404}, \"8406\": {\"frequency\": 1, \"value\": 8406}, \"8407\": {\"frequency\": 1, \"value\": 8407}, \"8409\": {\"frequency\": 2, \"value\": 8409}, \"8410\": {\"frequency\": 6, \"value\": 8410}, \"8412\": {\"frequency\": 4, \"value\": 8412}, \"8414\": {\"frequency\": 3, \"value\": 8414}, \"8415\": {\"frequency\": 2, \"value\": 8415}, \"8416\": {\"frequency\": 1, \"value\": 8416}, \"106722\": {\"frequency\": 2, \"value\": 106722}, \"8423\": {\"frequency\": 2, \"value\": 8423}, \"8424\": {\"frequency\": 8, \"value\": 8424}, \"8426\": {\"frequency\": 3, \"value\": 8426}, \"8428\": {\"frequency\": 1, \"value\": 8428}, \"8429\": {\"frequency\": 2, \"value\": 8429}, \"8430\": {\"frequency\": 1, \"value\": 8430}, \"8432\": {\"frequency\": 4, \"value\": 8432}, \"8436\": {\"frequency\": 3, \"value\": 8436}, \"8437\": {\"frequency\": 1, \"value\": 8437}, \"8438\": {\"frequency\": 3, \"value\": 8438}, \"8440\": {\"frequency\": 2, \"value\": 8440}, \"8442\": {\"frequency\": 6, \"value\": 8442}, \"1407\": {\"frequency\": 5, \"value\": 1407}, \"8444\": {\"frequency\": 1, \"value\": 8444}, \"8446\": {\"frequency\": 1, \"value\": 8446}, \"8447\": {\"frequency\": 2, \"value\": 8447}, \"8448\": {\"frequency\": 6, \"value\": 8448}, \"8449\": {\"frequency\": 3, \"value\": 8449}, \"8450\": {\"frequency\": 14, \"value\": 8450}, \"8451\": {\"frequency\": 3, \"value\": 8451}, \"8453\": {\"frequency\": 1, \"value\": 8453}, \"8454\": {\"frequency\": 2, \"value\": 8454}, \"8455\": {\"frequency\": 1, \"value\": 8455}, \"8457\": {\"frequency\": 1, \"value\": 8457}, \"8458\": {\"frequency\": 3, \"value\": 8458}, \"8459\": {\"frequency\": 2, \"value\": 8459}, \"8460\": {\"frequency\": 2, \"value\": 8460}, \"6872\": {\"frequency\": 2, \"value\": 6872}, \"8467\": {\"frequency\": 2, \"value\": 8467}, \"8468\": {\"frequency\": 1, \"value\": 8468}, \"8469\": {\"frequency\": 2, \"value\": 8469}, \"8470\": {\"frequency\": 13, \"value\": 8470}, \"8471\": {\"frequency\": 1, \"value\": 8471}, \"8474\": {\"frequency\": 3, \"value\": 8474}, \"8475\": {\"frequency\": 4, \"value\": 8475}, \"8476\": {\"frequency\": 2, \"value\": 8476}, \"8479\": {\"frequency\": 1, \"value\": 8479}, \"8480\": {\"frequency\": 7, \"value\": 8480}, \"8481\": {\"frequency\": 2, \"value\": 8481}, \"41250\": {\"frequency\": 2, \"value\": 41250}, \"8484\": {\"frequency\": 1, \"value\": 8484}, \"8487\": {\"frequency\": 3, \"value\": 8487}, \"8490\": {\"frequency\": 2, \"value\": 8490}, \"8491\": {\"frequency\": 2, \"value\": 8491}, \"8494\": {\"frequency\": 3, \"value\": 8494}, \"41263\": {\"frequency\": 1, \"value\": 41263}, \"8497\": {\"frequency\": 1, \"value\": 8497}, \"8498\": {\"frequency\": 3, \"value\": 8498}, \"8499\": {\"frequency\": 2, \"value\": 8499}, \"8500\": {\"frequency\": 19, \"value\": 8500}, \"8501\": {\"frequency\": 3, \"value\": 8501}, \"8503\": {\"frequency\": 1, \"value\": 8503}, \"8504\": {\"frequency\": 8, \"value\": 8504}, \"8505\": {\"frequency\": 14, \"value\": 8505}, \"41275\": {\"frequency\": 1, \"value\": 41275}, \"8509\": {\"frequency\": 3, \"value\": 8509}, \"8510\": {\"frequency\": 2, \"value\": 8510}, \"8511\": {\"frequency\": 2, \"value\": 8511}, \"8512\": {\"frequency\": 4, \"value\": 8512}, \"8514\": {\"frequency\": 2, \"value\": 8514}, \"74052\": {\"frequency\": 4, \"value\": 74052}, \"8517\": {\"frequency\": 1, \"value\": 8517}, \"8518\": {\"frequency\": 3, \"value\": 8518}, \"8519\": {\"frequency\": 2, \"value\": 8519}, \"8520\": {\"frequency\": 6, \"value\": 8520}, \"8521\": {\"frequency\": 3, \"value\": 8521}, \"8526\": {\"frequency\": 2, \"value\": 8526}, \"8528\": {\"frequency\": 5, \"value\": 8528}, \"8529\": {\"frequency\": 2, \"value\": 8529}, \"8530\": {\"frequency\": 2, \"value\": 8530}, \"8532\": {\"frequency\": 2, \"value\": 8532}, \"8534\": {\"frequency\": 1, \"value\": 8534}, \"8536\": {\"frequency\": 5, \"value\": 8536}, \"8540\": {\"frequency\": 8, \"value\": 8540}, \"8541\": {\"frequency\": 2, \"value\": 8541}, \"8544\": {\"frequency\": 2, \"value\": 8544}, \"8545\": {\"frequency\": 3, \"value\": 8545}, \"8547\": {\"frequency\": 3, \"value\": 8547}, \"8548\": {\"frequency\": 3, \"value\": 8548}, \"8549\": {\"frequency\": 3, \"value\": 8549}, \"8550\": {\"frequency\": 6, \"value\": 8550}, \"8555\": {\"frequency\": 2, \"value\": 8555}, \"8556\": {\"frequency\": 3, \"value\": 8556}, \"41325\": {\"frequency\": 1, \"value\": 41325}, \"8558\": {\"frequency\": 3, \"value\": 8558}, \"8560\": {\"frequency\": 11, \"value\": 8560}, \"8561\": {\"frequency\": 1, \"value\": 8561}, \"8563\": {\"frequency\": 1, \"value\": 8563}, \"8564\": {\"frequency\": 2, \"value\": 8564}, \"8565\": {\"frequency\": 1, \"value\": 8565}, \"8570\": {\"frequency\": 3, \"value\": 8570}, \"8571\": {\"frequency\": 4, \"value\": 8571}, \"8572\": {\"frequency\": 3, \"value\": 8572}, \"8573\": {\"frequency\": 2, \"value\": 8573}, \"8576\": {\"frequency\": 2, \"value\": 8576}, \"8577\": {\"frequency\": 1, \"value\": 8577}, \"41346\": {\"frequency\": 1, \"value\": 41346}, \"8579\": {\"frequency\": 2, \"value\": 8579}, \"8580\": {\"frequency\": 19, \"value\": 8580}, \"8581\": {\"frequency\": 3, \"value\": 8581}, \"8584\": {\"frequency\": 2, \"value\": 8584}, \"8585\": {\"frequency\": 1, \"value\": 8585}, \"8586\": {\"frequency\": 1, \"value\": 8586}, \"8588\": {\"frequency\": 1, \"value\": 8588}, \"8592\": {\"frequency\": 2, \"value\": 8592}, \"8593\": {\"frequency\": 1, \"value\": 8593}, \"8600\": {\"frequency\": 7, \"value\": 8600}, \"8601\": {\"frequency\": 3, \"value\": 8601}, \"8603\": {\"frequency\": 1, \"value\": 8603}, \"8610\": {\"frequency\": 5, \"value\": 8610}, \"8611\": {\"frequency\": 2, \"value\": 8611}, \"8612\": {\"frequency\": 2, \"value\": 8612}, \"8613\": {\"frequency\": 2, \"value\": 8613}, \"8615\": {\"frequency\": 1, \"value\": 8615}, \"8616\": {\"frequency\": 1, \"value\": 8616}, \"8620\": {\"frequency\": 1, \"value\": 8620}, \"8621\": {\"frequency\": 2, \"value\": 8621}, \"8622\": {\"frequency\": 4, \"value\": 8622}, \"8624\": {\"frequency\": 2, \"value\": 8624}, \"8625\": {\"frequency\": 17, \"value\": 8625}, \"8626\": {\"frequency\": 1, \"value\": 8626}, \"8628\": {\"frequency\": 2, \"value\": 8628}, \"8629\": {\"frequency\": 1, \"value\": 8629}, \"8630\": {\"frequency\": 2, \"value\": 8630}, \"8631\": {\"frequency\": 2, \"value\": 8631}, \"8632\": {\"frequency\": 2, \"value\": 8632}, \"8636\": {\"frequency\": 8, \"value\": 8636}, \"8640\": {\"frequency\": 16, \"value\": 8640}, \"8641\": {\"frequency\": 2, \"value\": 8641}, \"8642\": {\"frequency\": 3, \"value\": 8642}, \"8645\": {\"frequency\": 8, \"value\": 8645}, \"8648\": {\"frequency\": 1, \"value\": 8648}, \"8653\": {\"frequency\": 3, \"value\": 8653}, \"172497\": {\"frequency\": 1, \"value\": 172497}, \"8658\": {\"frequency\": 2, \"value\": 8658}, \"8659\": {\"frequency\": 2, \"value\": 8659}, \"8660\": {\"frequency\": 2, \"value\": 8660}, \"8661\": {\"frequency\": 2, \"value\": 8661}, \"8662\": {\"frequency\": 1, \"value\": 8662}, \"8663\": {\"frequency\": 1, \"value\": 8663}, \"8666\": {\"frequency\": 2, \"value\": 8666}, \"8667\": {\"frequency\": 3, \"value\": 8667}, \"8670\": {\"frequency\": 2, \"value\": 8670}, \"8676\": {\"frequency\": 2, \"value\": 8676}, \"8677\": {\"frequency\": 1, \"value\": 8677}, \"8678\": {\"frequency\": 1, \"value\": 8678}, \"8679\": {\"frequency\": 1, \"value\": 8679}, \"8680\": {\"frequency\": 6, \"value\": 8680}, \"8681\": {\"frequency\": 1, \"value\": 8681}, \"8682\": {\"frequency\": 3, \"value\": 8682}, \"8683\": {\"frequency\": 1, \"value\": 8683}, \"8684\": {\"frequency\": 2, \"value\": 8684}, \"8685\": {\"frequency\": 3, \"value\": 8685}, \"8686\": {\"frequency\": 2, \"value\": 8686}, \"8688\": {\"frequency\": 1, \"value\": 8688}, \"1448\": {\"frequency\": 1, \"value\": 1448}, \"8690\": {\"frequency\": 5, \"value\": 8690}, \"8694\": {\"frequency\": 1, \"value\": 8694}, \"8697\": {\"frequency\": 2, \"value\": 8697}, \"8698\": {\"frequency\": 2, \"value\": 8698}, \"8700\": {\"frequency\": 15, \"value\": 8700}, \"8701\": {\"frequency\": 2, \"value\": 8701}, \"8702\": {\"frequency\": 1, \"value\": 8702}, \"8706\": {\"frequency\": 3, \"value\": 8706}, \"8708\": {\"frequency\": 1, \"value\": 8708}, \"8709\": {\"frequency\": 2, \"value\": 8709}, \"8710\": {\"frequency\": 7, \"value\": 8710}, \"8711\": {\"frequency\": 2, \"value\": 8711}, \"8712\": {\"frequency\": 7, \"value\": 8712}, \"8717\": {\"frequency\": 1, \"value\": 8717}, \"8719\": {\"frequency\": 1, \"value\": 8719}, \"8720\": {\"frequency\": 3, \"value\": 8720}, \"8721\": {\"frequency\": 2, \"value\": 8721}, \"8722\": {\"frequency\": 2, \"value\": 8722}, \"8725\": {\"frequency\": 2, \"value\": 8725}, \"8726\": {\"frequency\": 2, \"value\": 8726}, \"8729\": {\"frequency\": 1, \"value\": 8729}, \"8732\": {\"frequency\": 1, \"value\": 8732}, \"8734\": {\"frequency\": 3, \"value\": 8734}, \"8736\": {\"frequency\": 1, \"value\": 8736}, \"8737\": {\"frequency\": 3, \"value\": 8737}, \"8738\": {\"frequency\": 3, \"value\": 8738}, \"8740\": {\"frequency\": 2, \"value\": 8740}, \"8744\": {\"frequency\": 1, \"value\": 8744}, \"8746\": {\"frequency\": 1, \"value\": 8746}, \"8748\": {\"frequency\": 1, \"value\": 8748}, \"8749\": {\"frequency\": 1, \"value\": 8749}, \"8750\": {\"frequency\": 19, \"value\": 8750}, \"8755\": {\"frequency\": 5, \"value\": 8755}, \"8760\": {\"frequency\": 5, \"value\": 8760}, \"8763\": {\"frequency\": 2, \"value\": 8763}, \"8767\": {\"frequency\": 3, \"value\": 8767}, \"8770\": {\"frequency\": 2, \"value\": 8770}, \"8771\": {\"frequency\": 1, \"value\": 8771}, \"8773\": {\"frequency\": 1, \"value\": 8773}, \"8775\": {\"frequency\": 14, \"value\": 8775}, \"8778\": {\"frequency\": 3, \"value\": 8778}, \"8779\": {\"frequency\": 1, \"value\": 8779}, \"8780\": {\"frequency\": 1, \"value\": 8780}, \"8784\": {\"frequency\": 1, \"value\": 8784}, \"8786\": {\"frequency\": 3, \"value\": 8786}, \"8792\": {\"frequency\": 2, \"value\": 8792}, \"8793\": {\"frequency\": 1, \"value\": 8793}, \"8797\": {\"frequency\": 3, \"value\": 8797}, \"8798\": {\"frequency\": 1, \"value\": 8798}, \"8800\": {\"frequency\": 42, \"value\": 8800}, \"8801\": {\"frequency\": 1, \"value\": 8801}, \"8809\": {\"frequency\": 1, \"value\": 8809}, \"8811\": {\"frequency\": 1, \"value\": 8811}, \"8813\": {\"frequency\": 2, \"value\": 8813}, \"8814\": {\"frequency\": 2, \"value\": 8814}, \"8816\": {\"frequency\": 2, \"value\": 8816}, \"8817\": {\"frequency\": 3, \"value\": 8817}, \"8819\": {\"frequency\": 1, \"value\": 8819}, \"8820\": {\"frequency\": 12, \"value\": 8820}, \"74358\": {\"frequency\": 1, \"value\": 74358}, \"8823\": {\"frequency\": 1, \"value\": 8823}, \"8827\": {\"frequency\": 1, \"value\": 8827}, \"8828\": {\"frequency\": 1, \"value\": 8828}, \"8829\": {\"frequency\": 1, \"value\": 8829}, \"41600\": {\"frequency\": 1, \"value\": 41600}, \"8834\": {\"frequency\": 1, \"value\": 8834}, \"8835\": {\"frequency\": 1, \"value\": 8835}, \"8837\": {\"frequency\": 2, \"value\": 8837}, \"8840\": {\"frequency\": 5, \"value\": 8840}, \"8841\": {\"frequency\": 1, \"value\": 8841}, \"8846\": {\"frequency\": 1, \"value\": 8846}, \"8848\": {\"frequency\": 2, \"value\": 8848}, \"8850\": {\"frequency\": 3, \"value\": 8850}, \"8853\": {\"frequency\": 3, \"value\": 8853}, \"8854\": {\"frequency\": 1, \"value\": 8854}, \"8856\": {\"frequency\": 5, \"value\": 8856}, \"8858\": {\"frequency\": 1, \"value\": 8858}, \"8860\": {\"frequency\": 1, \"value\": 8860}, \"8861\": {\"frequency\": 2, \"value\": 8861}, \"8862\": {\"frequency\": 2, \"value\": 8862}, \"8863\": {\"frequency\": 2, \"value\": 8863}, \"8864\": {\"frequency\": 1, \"value\": 8864}, \"8865\": {\"frequency\": 2, \"value\": 8865}, \"8866\": {\"frequency\": 1, \"value\": 8866}, \"8867\": {\"frequency\": 3, \"value\": 8867}, \"8868\": {\"frequency\": 2, \"value\": 8868}, \"8872\": {\"frequency\": 1, \"value\": 8872}, \"8874\": {\"frequency\": 3, \"value\": 8874}, \"8875\": {\"frequency\": 3, \"value\": 8875}, \"8876\": {\"frequency\": 2, \"value\": 8876}, \"8879\": {\"frequency\": 3, \"value\": 8879}, \"8880\": {\"frequency\": 2, \"value\": 8880}, \"8882\": {\"frequency\": 1, \"value\": 8882}, \"8886\": {\"frequency\": 2, \"value\": 8886}, \"8887\": {\"frequency\": 1, \"value\": 8887}, \"41656\": {\"frequency\": 1, \"value\": 41656}, \"8890\": {\"frequency\": 3, \"value\": 8890}, \"8891\": {\"frequency\": 1, \"value\": 8891}, \"8892\": {\"frequency\": 2, \"value\": 8892}, \"8893\": {\"frequency\": 2, \"value\": 8893}, \"41664\": {\"frequency\": 1, \"value\": 41664}, \"8897\": {\"frequency\": 2, \"value\": 8897}, \"8900\": {\"frequency\": 4, \"value\": 8900}, \"8901\": {\"frequency\": 1, \"value\": 8901}, \"8904\": {\"frequency\": 1, \"value\": 8904}, \"8906\": {\"frequency\": 7, \"value\": 8906}, \"8909\": {\"frequency\": 2, \"value\": 8909}, \"8910\": {\"frequency\": 9, \"value\": 8910}, \"8913\": {\"frequency\": 2, \"value\": 8913}, \"8914\": {\"frequency\": 1, \"value\": 8914}, \"8917\": {\"frequency\": 1, \"value\": 8917}, \"8919\": {\"frequency\": 1, \"value\": 8919}, \"8920\": {\"frequency\": 2, \"value\": 8920}, \"8921\": {\"frequency\": 2, \"value\": 8921}, \"8924\": {\"frequency\": 2, \"value\": 8924}, \"8925\": {\"frequency\": 13, \"value\": 8925}, \"8930\": {\"frequency\": 1, \"value\": 8930}, \"8935\": {\"frequency\": 1, \"value\": 8935}, \"8936\": {\"frequency\": 2, \"value\": 8936}, \"8937\": {\"frequency\": 2, \"value\": 8937}, \"8938\": {\"frequency\": 2, \"value\": 8938}, \"8941\": {\"frequency\": 2, \"value\": 8941}, \"8944\": {\"frequency\": 2, \"value\": 8944}, \"8947\": {\"frequency\": 2, \"value\": 8947}, \"8950\": {\"frequency\": 2, \"value\": 8950}, \"8951\": {\"frequency\": 1, \"value\": 8951}, \"8955\": {\"frequency\": 2, \"value\": 8955}, \"8956\": {\"frequency\": 1, \"value\": 8956}, \"8957\": {\"frequency\": 1, \"value\": 8957}, \"8959\": {\"frequency\": 1, \"value\": 8959}, \"8960\": {\"frequency\": 12, \"value\": 8960}, \"8961\": {\"frequency\": 1, \"value\": 8961}, \"8967\": {\"frequency\": 1, \"value\": 8967}, \"8968\": {\"frequency\": 4, \"value\": 8968}, \"8970\": {\"frequency\": 6, \"value\": 8970}, \"8971\": {\"frequency\": 1, \"value\": 8971}, \"8976\": {\"frequency\": 4, \"value\": 8976}, \"8980\": {\"frequency\": 1, \"value\": 8980}, \"107290\": {\"frequency\": 1, \"value\": 107290}, \"8990\": {\"frequency\": 3, \"value\": 8990}, \"8991\": {\"frequency\": 2, \"value\": 8991}, \"8993\": {\"frequency\": 1, \"value\": 8993}, \"8994\": {\"frequency\": 2, \"value\": 8994}, \"8996\": {\"frequency\": 2, \"value\": 8996}, \"9000\": {\"frequency\": 93, \"value\": 9000}, \"9001\": {\"frequency\": 2, \"value\": 9001}, \"9002\": {\"frequency\": 2, \"value\": 9002}, \"9003\": {\"frequency\": 3, \"value\": 9003}, \"9005\": {\"frequency\": 1, \"value\": 9005}, \"9009\": {\"frequency\": 2, \"value\": 9009}, \"9010\": {\"frequency\": 3, \"value\": 9010}, \"9011\": {\"frequency\": 1, \"value\": 9011}, \"9012\": {\"frequency\": 1, \"value\": 9012}, \"9015\": {\"frequency\": 3, \"value\": 9015}, \"9023\": {\"frequency\": 2, \"value\": 9023}, \"9024\": {\"frequency\": 1, \"value\": 9024}, \"9025\": {\"frequency\": 1, \"value\": 9025}, \"9030\": {\"frequency\": 5, \"value\": 9030}, \"41800\": {\"frequency\": 1, \"value\": 41800}, \"9035\": {\"frequency\": 2, \"value\": 9035}, \"9040\": {\"frequency\": 3, \"value\": 9040}, \"9041\": {\"frequency\": 3, \"value\": 9041}, \"9044\": {\"frequency\": 2, \"value\": 9044}, \"9045\": {\"frequency\": 2, \"value\": 9045}, \"9048\": {\"frequency\": 2, \"value\": 9048}, \"9049\": {\"frequency\": 1, \"value\": 9049}, \"9050\": {\"frequency\": 1, \"value\": 9050}, \"9053\": {\"frequency\": 2, \"value\": 9053}, \"9055\": {\"frequency\": 2, \"value\": 9055}, \"9058\": {\"frequency\": 1, \"value\": 9058}, \"9065\": {\"frequency\": 2, \"value\": 9065}, \"9066\": {\"frequency\": 2, \"value\": 9066}, \"9067\": {\"frequency\": 1, \"value\": 9067}, \"9072\": {\"frequency\": 5, \"value\": 9072}, \"9075\": {\"frequency\": 4, \"value\": 9075}, \"9077\": {\"frequency\": 2, \"value\": 9077}, \"9078\": {\"frequency\": 1, \"value\": 9078}, \"9079\": {\"frequency\": 1, \"value\": 9079}, \"9081\": {\"frequency\": 1, \"value\": 9081}, \"9083\": {\"frequency\": 3, \"value\": 9083}, \"9084\": {\"frequency\": 2, \"value\": 9084}, \"9085\": {\"frequency\": 3, \"value\": 9085}, \"9086\": {\"frequency\": 2, \"value\": 9086}, \"9087\": {\"frequency\": 3, \"value\": 9087}, \"9088\": {\"frequency\": 2, \"value\": 9088}, \"9090\": {\"frequency\": 2, \"value\": 9090}, \"9091\": {\"frequency\": 1, \"value\": 9091}, \"9095\": {\"frequency\": 1, \"value\": 9095}, \"9097\": {\"frequency\": 2, \"value\": 9097}, \"9099\": {\"frequency\": 2, \"value\": 9099}, \"9100\": {\"frequency\": 16, \"value\": 9100}, \"9102\": {\"frequency\": 3, \"value\": 9102}, \"9103\": {\"frequency\": 1, \"value\": 9103}, \"9104\": {\"frequency\": 1, \"value\": 9104}, \"9112\": {\"frequency\": 6, \"value\": 9112}, \"9115\": {\"frequency\": 1, \"value\": 9115}, \"9119\": {\"frequency\": 1, \"value\": 9119}, \"9120\": {\"frequency\": 7, \"value\": 9120}, \"9123\": {\"frequency\": 1, \"value\": 9123}, \"9125\": {\"frequency\": 2, \"value\": 9125}, \"9126\": {\"frequency\": 4, \"value\": 9126}, \"9130\": {\"frequency\": 3, \"value\": 9130}, \"41900\": {\"frequency\": 1, \"value\": 41900}, \"9133\": {\"frequency\": 1, \"value\": 9133}, \"9134\": {\"frequency\": 2, \"value\": 9134}, \"9135\": {\"frequency\": 6, \"value\": 9135}, \"9136\": {\"frequency\": 3, \"value\": 9136}, \"9137\": {\"frequency\": 1, \"value\": 9137}, \"9138\": {\"frequency\": 1, \"value\": 9138}, \"9139\": {\"frequency\": 2, \"value\": 9139}, \"9140\": {\"frequency\": 3, \"value\": 9140}, \"9143\": {\"frequency\": 2, \"value\": 9143}, \"9145\": {\"frequency\": 2, \"value\": 9145}, \"9146\": {\"frequency\": 2, \"value\": 9146}, \"9147\": {\"frequency\": 5, \"value\": 9147}, \"9148\": {\"frequency\": 2, \"value\": 9148}, \"9150\": {\"frequency\": 7, \"value\": 9150}, \"9153\": {\"frequency\": 2, \"value\": 9153}, \"9154\": {\"frequency\": 1, \"value\": 9154}, \"9155\": {\"frequency\": 1, \"value\": 9155}, \"9157\": {\"frequency\": 2, \"value\": 9157}, \"9158\": {\"frequency\": 2, \"value\": 9158}, \"9160\": {\"frequency\": 2, \"value\": 9160}, \"9162\": {\"frequency\": 2, \"value\": 9162}, \"9163\": {\"frequency\": 7, \"value\": 9163}, \"9165\": {\"frequency\": 1, \"value\": 9165}, \"9170\": {\"frequency\": 3, \"value\": 9170}, \"9176\": {\"frequency\": 2, \"value\": 9176}, \"9177\": {\"frequency\": 1, \"value\": 9177}, \"9180\": {\"frequency\": 3, \"value\": 9180}, \"9182\": {\"frequency\": 2, \"value\": 9182}, \"9187\": {\"frequency\": 2, \"value\": 9187}, \"9188\": {\"frequency\": 1, \"value\": 9188}, \"9191\": {\"frequency\": 1, \"value\": 9191}, \"9192\": {\"frequency\": 1, \"value\": 9192}, \"9194\": {\"frequency\": 1, \"value\": 9194}, \"9195\": {\"frequency\": 3, \"value\": 9195}, \"9196\": {\"frequency\": 1, \"value\": 9196}, \"9198\": {\"frequency\": 3, \"value\": 9198}, \"9199\": {\"frequency\": 2, \"value\": 9199}, \"9200\": {\"frequency\": 13, \"value\": 9200}, \"9202\": {\"frequency\": 2, \"value\": 9202}, \"9205\": {\"frequency\": 2, \"value\": 9205}, \"9206\": {\"frequency\": 1, \"value\": 9206}, \"9207\": {\"frequency\": 1, \"value\": 9207}, \"9209\": {\"frequency\": 2, \"value\": 9209}, \"9210\": {\"frequency\": 3, \"value\": 9210}, \"9211\": {\"frequency\": 2, \"value\": 9211}, \"9215\": {\"frequency\": 1, \"value\": 9215}, \"9216\": {\"frequency\": 3, \"value\": 9216}, \"9219\": {\"frequency\": 1, \"value\": 9219}, \"9220\": {\"frequency\": 3, \"value\": 9220}, \"9223\": {\"frequency\": 1, \"value\": 9223}, \"9225\": {\"frequency\": 7, \"value\": 9225}, \"9226\": {\"frequency\": 2, \"value\": 9226}, \"9230\": {\"frequency\": 2, \"value\": 9230}, \"9231\": {\"frequency\": 2, \"value\": 9231}, \"42000\": {\"frequency\": 1, \"value\": 42000}, \"39768\": {\"frequency\": 1, \"value\": 39768}, \"9234\": {\"frequency\": 2, \"value\": 9234}, \"9235\": {\"frequency\": 2, \"value\": 9235}, \"9238\": {\"frequency\": 3, \"value\": 9238}, \"9239\": {\"frequency\": 3, \"value\": 9239}, \"9240\": {\"frequency\": 12, \"value\": 9240}, \"9241\": {\"frequency\": 1, \"value\": 9241}, \"9242\": {\"frequency\": 1, \"value\": 9242}, \"9244\": {\"frequency\": 2, \"value\": 9244}, \"9247\": {\"frequency\": 2, \"value\": 9247}, \"9248\": {\"frequency\": 4, \"value\": 9248}, \"9250\": {\"frequency\": 4, \"value\": 9250}, \"9253\": {\"frequency\": 2, \"value\": 9253}, \"9261\": {\"frequency\": 2, \"value\": 9261}, \"9263\": {\"frequency\": 2, \"value\": 9263}, \"9266\": {\"frequency\": 2, \"value\": 9266}, \"9268\": {\"frequency\": 1, \"value\": 9268}, \"9270\": {\"frequency\": 3, \"value\": 9270}, \"9272\": {\"frequency\": 2, \"value\": 9272}, \"9273\": {\"frequency\": 4, \"value\": 9273}, \"9276\": {\"frequency\": 1, \"value\": 9276}, \"9282\": {\"frequency\": 5, \"value\": 9282}, \"9288\": {\"frequency\": 2, \"value\": 9288}, \"9289\": {\"frequency\": 1, \"value\": 9289}, \"9292\": {\"frequency\": 2, \"value\": 9292}, \"9295\": {\"frequency\": 1, \"value\": 9295}, \"9296\": {\"frequency\": 1, \"value\": 9296}, \"9298\": {\"frequency\": 1, \"value\": 9298}, \"9299\": {\"frequency\": 1, \"value\": 9299}, \"9300\": {\"frequency\": 11, \"value\": 9300}, \"9301\": {\"frequency\": 2, \"value\": 9301}, \"9307\": {\"frequency\": 1, \"value\": 9307}, \"9309\": {\"frequency\": 1, \"value\": 9309}, \"9310\": {\"frequency\": 3, \"value\": 9310}, \"9312\": {\"frequency\": 2, \"value\": 9312}, \"9313\": {\"frequency\": 1, \"value\": 9313}, \"9314\": {\"frequency\": 2, \"value\": 9314}, \"9315\": {\"frequency\": 4, \"value\": 9315}, \"9318\": {\"frequency\": 1, \"value\": 9318}, \"9320\": {\"frequency\": 2, \"value\": 9320}, \"9322\": {\"frequency\": 2, \"value\": 9322}, \"9323\": {\"frequency\": 2, \"value\": 9323}, \"9324\": {\"frequency\": 1, \"value\": 9324}, \"9328\": {\"frequency\": 3, \"value\": 9328}, \"9330\": {\"frequency\": 1, \"value\": 9330}, \"9331\": {\"frequency\": 1, \"value\": 9331}, \"9333\": {\"frequency\": 1, \"value\": 9333}, \"9339\": {\"frequency\": 2, \"value\": 9339}, \"9342\": {\"frequency\": 1, \"value\": 9342}, \"9344\": {\"frequency\": 1, \"value\": 9344}, \"12480\": {\"frequency\": 2, \"value\": 12480}, \"9346\": {\"frequency\": 2, \"value\": 9346}, \"9349\": {\"frequency\": 1, \"value\": 9349}, \"9350\": {\"frequency\": 11, \"value\": 9350}, \"9351\": {\"frequency\": 1, \"value\": 9351}, \"9353\": {\"frequency\": 1, \"value\": 9353}, \"9354\": {\"frequency\": 2, \"value\": 9354}, \"9359\": {\"frequency\": 1, \"value\": 9359}, \"9360\": {\"frequency\": 10, \"value\": 9360}, \"9361\": {\"frequency\": 1, \"value\": 9361}, \"9362\": {\"frequency\": 3, \"value\": 9362}, \"9364\": {\"frequency\": 2, \"value\": 9364}, \"9367\": {\"frequency\": 1, \"value\": 9367}, \"9370\": {\"frequency\": 3, \"value\": 9370}, \"9373\": {\"frequency\": 2, \"value\": 9373}, \"9374\": {\"frequency\": 4, \"value\": 9374}, \"9375\": {\"frequency\": 11, \"value\": 9375}, \"9377\": {\"frequency\": 2, \"value\": 9377}, \"9378\": {\"frequency\": 1, \"value\": 9378}, \"9380\": {\"frequency\": 5, \"value\": 9380}, \"9384\": {\"frequency\": 2, \"value\": 9384}, \"9385\": {\"frequency\": 2, \"value\": 9385}, \"9389\": {\"frequency\": 2, \"value\": 9389}, \"9391\": {\"frequency\": 2, \"value\": 9391}, \"9396\": {\"frequency\": 1, \"value\": 9396}, \"9397\": {\"frequency\": 1, \"value\": 9397}, \"9400\": {\"frequency\": 8, \"value\": 9400}, \"9401\": {\"frequency\": 1, \"value\": 9401}, \"9403\": {\"frequency\": 2, \"value\": 9403}, \"9409\": {\"frequency\": 1, \"value\": 9409}, \"42180\": {\"frequency\": 2, \"value\": 42180}, \"9414\": {\"frequency\": 2, \"value\": 9414}, \"9415\": {\"frequency\": 2, \"value\": 9415}, \"9416\": {\"frequency\": 2, \"value\": 9416}, \"9417\": {\"frequency\": 3, \"value\": 9417}, \"9420\": {\"frequency\": 2, \"value\": 9420}, \"9425\": {\"frequency\": 3, \"value\": 9425}, \"9426\": {\"frequency\": 2, \"value\": 9426}, \"9427\": {\"frequency\": 2, \"value\": 9427}, \"9430\": {\"frequency\": 2, \"value\": 9430}, \"42200\": {\"frequency\": 1, \"value\": 42200}, \"9435\": {\"frequency\": 2, \"value\": 9435}, \"9436\": {\"frequency\": 1, \"value\": 9436}, \"9440\": {\"frequency\": 2, \"value\": 9440}, \"9448\": {\"frequency\": 2, \"value\": 9448}, \"9450\": {\"frequency\": 19, \"value\": 9450}, \"9451\": {\"frequency\": 2, \"value\": 9451}, \"9452\": {\"frequency\": 2, \"value\": 9452}, \"9453\": {\"frequency\": 2, \"value\": 9453}, \"9460\": {\"frequency\": 6, \"value\": 9460}, \"9464\": {\"frequency\": 1, \"value\": 9464}, \"9465\": {\"frequency\": 2, \"value\": 9465}, \"9466\": {\"frequency\": 2, \"value\": 9466}, \"9467\": {\"frequency\": 1, \"value\": 9467}, \"9471\": {\"frequency\": 2, \"value\": 9471}, \"9472\": {\"frequency\": 2, \"value\": 9472}, \"9473\": {\"frequency\": 3, \"value\": 9473}, \"9477\": {\"frequency\": 2, \"value\": 9477}, \"9478\": {\"frequency\": 1, \"value\": 9478}, \"9480\": {\"frequency\": 6, \"value\": 9480}, \"9484\": {\"frequency\": 2, \"value\": 9484}, \"42253\": {\"frequency\": 1, \"value\": 42253}, \"9486\": {\"frequency\": 3, \"value\": 9486}, \"9487\": {\"frequency\": 1, \"value\": 9487}, \"9488\": {\"frequency\": 3, \"value\": 9488}, \"9492\": {\"frequency\": 2, \"value\": 9492}, \"9493\": {\"frequency\": 1, \"value\": 9493}, \"9496\": {\"frequency\": 1, \"value\": 9496}, \"9497\": {\"frequency\": 3, \"value\": 9497}, \"9500\": {\"frequency\": 14, \"value\": 9500}, \"9503\": {\"frequency\": 1, \"value\": 9503}, \"9505\": {\"frequency\": 1, \"value\": 9505}, \"9512\": {\"frequency\": 2, \"value\": 9512}, \"9514\": {\"frequency\": 3, \"value\": 9514}, \"9516\": {\"frequency\": 3, \"value\": 9516}, \"9517\": {\"frequency\": 2, \"value\": 9517}, \"9519\": {\"frequency\": 3, \"value\": 9519}, \"9520\": {\"frequency\": 8, \"value\": 9520}, \"9523\": {\"frequency\": 2, \"value\": 9523}, \"9525\": {\"frequency\": 11, \"value\": 9525}, \"9526\": {\"frequency\": 1, \"value\": 9526}, \"9527\": {\"frequency\": 2, \"value\": 9527}, \"9528\": {\"frequency\": 2, \"value\": 9528}, \"9529\": {\"frequency\": 2, \"value\": 9529}, \"9530\": {\"frequency\": 1, \"value\": 9530}, \"9532\": {\"frequency\": 1, \"value\": 9532}, \"9535\": {\"frequency\": 2, \"value\": 9535}, \"9537\": {\"frequency\": 1, \"value\": 9537}, \"9538\": {\"frequency\": 1, \"value\": 9538}, \"9540\": {\"frequency\": 3, \"value\": 9540}, \"9542\": {\"frequency\": 2, \"value\": 9542}, \"9545\": {\"frequency\": 2, \"value\": 9545}, \"9546\": {\"frequency\": 2, \"value\": 9546}, \"9547\": {\"frequency\": 2, \"value\": 9547}, \"42316\": {\"frequency\": 1, \"value\": 42316}, \"9549\": {\"frequency\": 2, \"value\": 9549}, \"9550\": {\"frequency\": 3, \"value\": 9550}, \"9552\": {\"frequency\": 1, \"value\": 9552}, \"9554\": {\"frequency\": 1, \"value\": 9554}, \"9555\": {\"frequency\": 1, \"value\": 9555}, \"9557\": {\"frequency\": 1, \"value\": 9557}, \"9563\": {\"frequency\": 2, \"value\": 9563}, \"9565\": {\"frequency\": 1, \"value\": 9565}, \"9566\": {\"frequency\": 3, \"value\": 9566}, \"9567\": {\"frequency\": 1, \"value\": 9567}, \"9568\": {\"frequency\": 2, \"value\": 9568}, \"9569\": {\"frequency\": 1, \"value\": 9569}, \"9570\": {\"frequency\": 4, \"value\": 9570}, \"9571\": {\"frequency\": 1, \"value\": 9571}, \"9576\": {\"frequency\": 5, \"value\": 9576}, \"9578\": {\"frequency\": 1, \"value\": 9578}, \"9579\": {\"frequency\": 3, \"value\": 9579}, \"9580\": {\"frequency\": 2, \"value\": 9580}, \"9583\": {\"frequency\": 9, \"value\": 9583}, \"9585\": {\"frequency\": 1, \"value\": 9585}, \"9586\": {\"frequency\": 1, \"value\": 9586}, \"9588\": {\"frequency\": 3, \"value\": 9588}, \"9592\": {\"frequency\": 1, \"value\": 9592}, \"9593\": {\"frequency\": 1, \"value\": 9593}, \"9594\": {\"frequency\": 2, \"value\": 9594}, \"75132\": {\"frequency\": 1, \"value\": 75132}, \"9597\": {\"frequency\": 2, \"value\": 9597}, \"9598\": {\"frequency\": 2, \"value\": 9598}, \"9599\": {\"frequency\": 3, \"value\": 9599}, \"9600\": {\"frequency\": 109, \"value\": 9600}, \"9601\": {\"frequency\": 6, \"value\": 9601}, \"9602\": {\"frequency\": 2, \"value\": 9602}, \"9603\": {\"frequency\": 6, \"value\": 9603}, \"9604\": {\"frequency\": 2, \"value\": 9604}, \"9605\": {\"frequency\": 4, \"value\": 9605}, \"9606\": {\"frequency\": 4, \"value\": 9606}, \"9608\": {\"frequency\": 2, \"value\": 9608}, \"9610\": {\"frequency\": 4, \"value\": 9610}, \"9611\": {\"frequency\": 2, \"value\": 9611}, \"9612\": {\"frequency\": 7, \"value\": 9612}, \"9614\": {\"frequency\": 3, \"value\": 9614}, \"435600\": {\"frequency\": 6, \"value\": 435600}, \"9620\": {\"frequency\": 7, \"value\": 9620}, \"9622\": {\"frequency\": 2, \"value\": 9622}, \"9623\": {\"frequency\": 2, \"value\": 9623}, \"9624\": {\"frequency\": 5, \"value\": 9624}, \"9625\": {\"frequency\": 3, \"value\": 9625}, \"9627\": {\"frequency\": 2, \"value\": 9627}, \"9628\": {\"frequency\": 2, \"value\": 9628}, \"9629\": {\"frequency\": 4, \"value\": 9629}, \"9630\": {\"frequency\": 5, \"value\": 9630}, \"42399\": {\"frequency\": 1, \"value\": 42399}, \"9633\": {\"frequency\": 1, \"value\": 9633}, \"9635\": {\"frequency\": 2, \"value\": 9635}, \"9636\": {\"frequency\": 4, \"value\": 9636}, \"9638\": {\"frequency\": 4, \"value\": 9638}, \"9639\": {\"frequency\": 2, \"value\": 9639}, \"9643\": {\"frequency\": 3, \"value\": 9643}, \"9644\": {\"frequency\": 1, \"value\": 9644}, \"9645\": {\"frequency\": 3, \"value\": 9645}, \"9646\": {\"frequency\": 1, \"value\": 9646}, \"9647\": {\"frequency\": 2, \"value\": 9647}, \"9648\": {\"frequency\": 3, \"value\": 9648}, \"9650\": {\"frequency\": 3, \"value\": 9650}, \"9652\": {\"frequency\": 6, \"value\": 9652}, \"9653\": {\"frequency\": 4, \"value\": 9653}, \"9654\": {\"frequency\": 2, \"value\": 9654}, \"9655\": {\"frequency\": 2, \"value\": 9655}, \"9656\": {\"frequency\": 6, \"value\": 9656}, \"9658\": {\"frequency\": 1, \"value\": 9658}, \"9660\": {\"frequency\": 4, \"value\": 9660}, \"9663\": {\"frequency\": 2, \"value\": 9663}, \"9665\": {\"frequency\": 1, \"value\": 9665}, \"9668\": {\"frequency\": 2, \"value\": 9668}, \"12534\": {\"frequency\": 1, \"value\": 12534}, \"9670\": {\"frequency\": 2, \"value\": 9670}, \"9671\": {\"frequency\": 1, \"value\": 9671}, \"9672\": {\"frequency\": 4, \"value\": 9672}, \"9673\": {\"frequency\": 1, \"value\": 9673}, \"9674\": {\"frequency\": 2, \"value\": 9674}, \"9675\": {\"frequency\": 3, \"value\": 9675}, \"9676\": {\"frequency\": 1, \"value\": 9676}, \"9678\": {\"frequency\": 1, \"value\": 9678}, \"9679\": {\"frequency\": 1, \"value\": 9679}, \"9680\": {\"frequency\": 10, \"value\": 9680}, \"9681\": {\"frequency\": 1, \"value\": 9681}, \"9682\": {\"frequency\": 3, \"value\": 9682}, \"9684\": {\"frequency\": 2, \"value\": 9684}, \"9685\": {\"frequency\": 1, \"value\": 9685}, \"9686\": {\"frequency\": 2, \"value\": 9686}, \"9687\": {\"frequency\": 3, \"value\": 9687}, \"9689\": {\"frequency\": 2, \"value\": 9689}, \"9690\": {\"frequency\": 5, \"value\": 9690}, \"9694\": {\"frequency\": 1, \"value\": 9694}, \"9696\": {\"frequency\": 2, \"value\": 9696}, \"9697\": {\"frequency\": 3, \"value\": 9697}, \"9700\": {\"frequency\": 2, \"value\": 9700}, \"9701\": {\"frequency\": 3, \"value\": 9701}, \"9702\": {\"frequency\": 2, \"value\": 9702}, \"9703\": {\"frequency\": 2, \"value\": 9703}, \"9704\": {\"frequency\": 1, \"value\": 9704}, \"9705\": {\"frequency\": 2, \"value\": 9705}, \"9706\": {\"frequency\": 2, \"value\": 9706}, \"9708\": {\"frequency\": 1, \"value\": 9708}, \"9711\": {\"frequency\": 3, \"value\": 9711}, \"7080\": {\"frequency\": 7, \"value\": 7080}, \"9714\": {\"frequency\": 3, \"value\": 9714}, \"9715\": {\"frequency\": 3, \"value\": 9715}, \"9719\": {\"frequency\": 3, \"value\": 9719}, \"9720\": {\"frequency\": 12, \"value\": 9720}, \"9725\": {\"frequency\": 3, \"value\": 9725}, \"9727\": {\"frequency\": 2, \"value\": 9727}, \"9729\": {\"frequency\": 1, \"value\": 9729}, \"9730\": {\"frequency\": 3, \"value\": 9730}, \"9732\": {\"frequency\": 3, \"value\": 9732}, \"9736\": {\"frequency\": 3, \"value\": 9736}, \"9737\": {\"frequency\": 1, \"value\": 9737}, \"9740\": {\"frequency\": 1, \"value\": 9740}, \"9743\": {\"frequency\": 2, \"value\": 9743}, \"9747\": {\"frequency\": 2, \"value\": 9747}, \"9748\": {\"frequency\": 3, \"value\": 9748}, \"9750\": {\"frequency\": 43, \"value\": 9750}, \"9751\": {\"frequency\": 2, \"value\": 9751}, \"9752\": {\"frequency\": 5, \"value\": 9752}, \"9753\": {\"frequency\": 4, \"value\": 9753}, \"9760\": {\"frequency\": 6, \"value\": 9760}, \"9764\": {\"frequency\": 2, \"value\": 9764}, \"9765\": {\"frequency\": 1, \"value\": 9765}, \"9769\": {\"frequency\": 1, \"value\": 9769}, \"9773\": {\"frequency\": 2, \"value\": 9773}, \"9774\": {\"frequency\": 2, \"value\": 9774}, \"9775\": {\"frequency\": 10, \"value\": 9775}, \"9778\": {\"frequency\": 2, \"value\": 9778}, \"9779\": {\"frequency\": 3, \"value\": 9779}, \"9780\": {\"frequency\": 4, \"value\": 9780}, \"9781\": {\"frequency\": 1, \"value\": 9781}, \"9784\": {\"frequency\": 2, \"value\": 9784}, \"9786\": {\"frequency\": 3, \"value\": 9786}, \"9791\": {\"frequency\": 1, \"value\": 9791}, \"9792\": {\"frequency\": 2, \"value\": 9792}, \"9793\": {\"frequency\": 2, \"value\": 9793}, \"9794\": {\"frequency\": 1, \"value\": 9794}, \"9796\": {\"frequency\": 2, \"value\": 9796}, \"9798\": {\"frequency\": 3, \"value\": 9798}, \"9800\": {\"frequency\": 20, \"value\": 9800}, \"9804\": {\"frequency\": 4, \"value\": 9804}, \"9806\": {\"frequency\": 1, \"value\": 9806}, \"9812\": {\"frequency\": 4, \"value\": 9812}, \"9813\": {\"frequency\": 1, \"value\": 9813}, \"9816\": {\"frequency\": 1, \"value\": 9816}, \"9822\": {\"frequency\": 3, \"value\": 9822}, \"9824\": {\"frequency\": 2, \"value\": 9824}, \"9825\": {\"frequency\": 9, \"value\": 9825}, \"9826\": {\"frequency\": 2, \"value\": 9826}, \"9827\": {\"frequency\": 5, \"value\": 9827}, \"9828\": {\"frequency\": 2, \"value\": 9828}, \"9830\": {\"frequency\": 3, \"value\": 9830}, \"9838\": {\"frequency\": 1, \"value\": 9838}, \"9839\": {\"frequency\": 1, \"value\": 9839}, \"9840\": {\"frequency\": 5, \"value\": 9840}, \"9844\": {\"frequency\": 1, \"value\": 9844}, \"9846\": {\"frequency\": 1, \"value\": 9846}, \"9847\": {\"frequency\": 2, \"value\": 9847}, \"9848\": {\"frequency\": 3, \"value\": 9848}, \"9850\": {\"frequency\": 1, \"value\": 9850}, \"9855\": {\"frequency\": 2, \"value\": 9855}, \"9856\": {\"frequency\": 3, \"value\": 9856}, \"9864\": {\"frequency\": 2, \"value\": 9864}, \"206474\": {\"frequency\": 2, \"value\": 206474}, \"9869\": {\"frequency\": 2, \"value\": 9869}, \"9870\": {\"frequency\": 3, \"value\": 9870}, \"9871\": {\"frequency\": 1, \"value\": 9871}, \"206480\": {\"frequency\": 1, \"value\": 206480}, \"9874\": {\"frequency\": 3, \"value\": 9874}, \"9875\": {\"frequency\": 3, \"value\": 9875}, \"9876\": {\"frequency\": 1, \"value\": 9876}, \"9877\": {\"frequency\": 2, \"value\": 9877}, \"9879\": {\"frequency\": 2, \"value\": 9879}, \"9880\": {\"frequency\": 4, \"value\": 9880}, \"9882\": {\"frequency\": 2, \"value\": 9882}, \"9886\": {\"frequency\": 3, \"value\": 9886}, \"9887\": {\"frequency\": 2, \"value\": 9887}, \"9888\": {\"frequency\": 1, \"value\": 9888}, \"9889\": {\"frequency\": 2, \"value\": 9889}, \"9892\": {\"frequency\": 1, \"value\": 9892}, \"9897\": {\"frequency\": 2, \"value\": 9897}, \"9898\": {\"frequency\": 3, \"value\": 9898}, \"105415\": {\"frequency\": 1, \"value\": 105415}, \"9900\": {\"frequency\": 29, \"value\": 9900}, \"9901\": {\"frequency\": 1, \"value\": 9901}, \"9903\": {\"frequency\": 1, \"value\": 9903}, \"9904\": {\"frequency\": 1, \"value\": 9904}, \"9907\": {\"frequency\": 2, \"value\": 9907}, \"9908\": {\"frequency\": 1, \"value\": 9908}, \"9912\": {\"frequency\": 2, \"value\": 9912}, \"9914\": {\"frequency\": 2, \"value\": 9914}, \"9915\": {\"frequency\": 1, \"value\": 9915}, \"9916\": {\"frequency\": 4, \"value\": 9916}, \"9917\": {\"frequency\": 1, \"value\": 9917}, \"9920\": {\"frequency\": 6, \"value\": 9920}, \"9921\": {\"frequency\": 2, \"value\": 9921}, \"9926\": {\"frequency\": 2, \"value\": 9926}, \"9935\": {\"frequency\": 2, \"value\": 9935}, \"9936\": {\"frequency\": 2, \"value\": 9936}, \"9938\": {\"frequency\": 2, \"value\": 9938}, \"9948\": {\"frequency\": 2, \"value\": 9948}, \"9950\": {\"frequency\": 2, \"value\": 9950}, \"9952\": {\"frequency\": 1, \"value\": 9952}, \"9953\": {\"frequency\": 1, \"value\": 9953}, \"9954\": {\"frequency\": 1, \"value\": 9954}, \"9956\": {\"frequency\": 1, \"value\": 9956}, \"9957\": {\"frequency\": 3, \"value\": 9957}, \"9959\": {\"frequency\": 1, \"value\": 9959}, \"9960\": {\"frequency\": 2, \"value\": 9960}, \"9964\": {\"frequency\": 1, \"value\": 9964}, \"42733\": {\"frequency\": 2, \"value\": 42733}, \"9966\": {\"frequency\": 2, \"value\": 9966}, \"9969\": {\"frequency\": 1, \"value\": 9969}, \"9972\": {\"frequency\": 4, \"value\": 9972}, \"9975\": {\"frequency\": 4, \"value\": 9975}, \"9976\": {\"frequency\": 1, \"value\": 9976}, \"9984\": {\"frequency\": 1, \"value\": 9984}, \"9990\": {\"frequency\": 5, \"value\": 9990}, \"9993\": {\"frequency\": 1, \"value\": 9993}, \"9994\": {\"frequency\": 3, \"value\": 9994}, \"9996\": {\"frequency\": 2, \"value\": 9996}, \"9997\": {\"frequency\": 2, \"value\": 9997}, \"9998\": {\"frequency\": 1, \"value\": 9998}, \"10000\": {\"frequency\": 46, \"value\": 10000}, \"42769\": {\"frequency\": 1, \"value\": 42769}, \"10002\": {\"frequency\": 1, \"value\": 10002}, \"10003\": {\"frequency\": 2, \"value\": 10003}, \"10005\": {\"frequency\": 7, \"value\": 10005}, \"42775\": {\"frequency\": 1, \"value\": 42775}, \"10016\": {\"frequency\": 2, \"value\": 10016}, \"10018\": {\"frequency\": 7, \"value\": 10018}, \"10021\": {\"frequency\": 1, \"value\": 10021}, \"10022\": {\"frequency\": 1, \"value\": 10022}, \"10023\": {\"frequency\": 2, \"value\": 10023}, \"10026\": {\"frequency\": 2, \"value\": 10026}, \"10030\": {\"frequency\": 2, \"value\": 10030}, \"10031\": {\"frequency\": 2, \"value\": 10031}, \"10032\": {\"frequency\": 3, \"value\": 10032}, \"10035\": {\"frequency\": 2, \"value\": 10035}, \"10037\": {\"frequency\": 1, \"value\": 10037}, \"10043\": {\"frequency\": 2, \"value\": 10043}, \"10047\": {\"frequency\": 1, \"value\": 10047}, \"10049\": {\"frequency\": 1, \"value\": 10049}, \"10050\": {\"frequency\": 11, \"value\": 10050}, \"10051\": {\"frequency\": 4, \"value\": 10051}, \"10052\": {\"frequency\": 2, \"value\": 10052}, \"10061\": {\"frequency\": 1, \"value\": 10061}, \"10062\": {\"frequency\": 2, \"value\": 10062}, \"10064\": {\"frequency\": 3, \"value\": 10064}, \"10070\": {\"frequency\": 2, \"value\": 10070}, \"10074\": {\"frequency\": 1, \"value\": 10074}, \"10075\": {\"frequency\": 2, \"value\": 10075}, \"10078\": {\"frequency\": 3, \"value\": 10078}, \"10079\": {\"frequency\": 4, \"value\": 10079}, \"10080\": {\"frequency\": 9, \"value\": 10080}, \"10083\": {\"frequency\": 1, \"value\": 10083}, \"10086\": {\"frequency\": 2, \"value\": 10086}, \"10090\": {\"frequency\": 1, \"value\": 10090}, \"10092\": {\"frequency\": 2, \"value\": 10092}, \"10094\": {\"frequency\": 2, \"value\": 10094}, \"10096\": {\"frequency\": 1, \"value\": 10096}, \"10098\": {\"frequency\": 2, \"value\": 10098}, \"10100\": {\"frequency\": 4, \"value\": 10100}, \"10105\": {\"frequency\": 1, \"value\": 10105}, \"10109\": {\"frequency\": 1, \"value\": 10109}, \"10111\": {\"frequency\": 2, \"value\": 10111}, \"10112\": {\"frequency\": 1, \"value\": 10112}, \"10115\": {\"frequency\": 2, \"value\": 10115}, \"10116\": {\"frequency\": 1, \"value\": 10116}, \"10117\": {\"frequency\": 3, \"value\": 10117}, \"10119\": {\"frequency\": 1, \"value\": 10119}, \"10120\": {\"frequency\": 2, \"value\": 10120}, \"10122\": {\"frequency\": 1, \"value\": 10122}, \"10123\": {\"frequency\": 1, \"value\": 10123}, \"10125\": {\"frequency\": 25, \"value\": 10125}, \"10126\": {\"frequency\": 2, \"value\": 10126}, \"10133\": {\"frequency\": 1, \"value\": 10133}, \"10136\": {\"frequency\": 2, \"value\": 10136}, \"10137\": {\"frequency\": 3, \"value\": 10137}, \"10139\": {\"frequency\": 2, \"value\": 10139}, \"10140\": {\"frequency\": 5, \"value\": 10140}, \"403365\": {\"frequency\": 1, \"value\": 403365}, \"10150\": {\"frequency\": 4, \"value\": 10150}, \"10152\": {\"frequency\": 2, \"value\": 10152}, \"10155\": {\"frequency\": 4, \"value\": 10155}, \"10160\": {\"frequency\": 7, \"value\": 10160}, \"10165\": {\"frequency\": 1, \"value\": 10165}, \"10168\": {\"frequency\": 1, \"value\": 10168}, \"10170\": {\"frequency\": 2, \"value\": 10170}, \"10171\": {\"frequency\": 1, \"value\": 10171}, \"10175\": {\"frequency\": 1, \"value\": 10175}, \"10176\": {\"frequency\": 2, \"value\": 10176}, \"10179\": {\"frequency\": 2, \"value\": 10179}, \"10181\": {\"frequency\": 1, \"value\": 10181}, \"10182\": {\"frequency\": 2, \"value\": 10182}, \"10183\": {\"frequency\": 5, \"value\": 10183}, \"10184\": {\"frequency\": 1, \"value\": 10184}, \"10185\": {\"frequency\": 1, \"value\": 10185}, \"10186\": {\"frequency\": 2, \"value\": 10186}, \"10187\": {\"frequency\": 1, \"value\": 10187}, \"10189\": {\"frequency\": 3, \"value\": 10189}, \"10190\": {\"frequency\": 3, \"value\": 10190}, \"10192\": {\"frequency\": 1, \"value\": 10192}, \"10196\": {\"frequency\": 2, \"value\": 10196}, \"10200\": {\"frequency\": 30, \"value\": 10200}, \"10202\": {\"frequency\": 5, \"value\": 10202}, \"10204\": {\"frequency\": 1, \"value\": 10204}, \"10205\": {\"frequency\": 1, \"value\": 10205}, \"10210\": {\"frequency\": 1, \"value\": 10210}, \"10212\": {\"frequency\": 2, \"value\": 10212}, \"10215\": {\"frequency\": 3, \"value\": 10215}, \"10221\": {\"frequency\": 2, \"value\": 10221}, \"10223\": {\"frequency\": 2, \"value\": 10223}, \"10225\": {\"frequency\": 1, \"value\": 10225}, \"10227\": {\"frequency\": 3, \"value\": 10227}, \"10228\": {\"frequency\": 1, \"value\": 10228}, \"10229\": {\"frequency\": 2, \"value\": 10229}, \"42998\": {\"frequency\": 1, \"value\": 42998}, \"10235\": {\"frequency\": 1, \"value\": 10235}, \"10236\": {\"frequency\": 1, \"value\": 10236}, \"10240\": {\"frequency\": 6, \"value\": 10240}, \"10244\": {\"frequency\": 1, \"value\": 10244}, \"10245\": {\"frequency\": 2, \"value\": 10245}, \"10246\": {\"frequency\": 1, \"value\": 10246}, \"10247\": {\"frequency\": 1, \"value\": 10247}, \"10248\": {\"frequency\": 2, \"value\": 10248}, \"43017\": {\"frequency\": 1, \"value\": 43017}, \"10250\": {\"frequency\": 4, \"value\": 10250}, \"10255\": {\"frequency\": 1, \"value\": 10255}, \"10256\": {\"frequency\": 1, \"value\": 10256}, \"10257\": {\"frequency\": 1, \"value\": 10257}, \"75794\": {\"frequency\": 3, \"value\": 75794}, \"10259\": {\"frequency\": 1, \"value\": 10259}, \"10260\": {\"frequency\": 8, \"value\": 10260}, \"10270\": {\"frequency\": 3, \"value\": 10270}, \"10271\": {\"frequency\": 1, \"value\": 10271}, \"10275\": {\"frequency\": 4, \"value\": 10275}, \"10277\": {\"frequency\": 2, \"value\": 10277}, \"10280\": {\"frequency\": 2, \"value\": 10280}, \"10281\": {\"frequency\": 1, \"value\": 10281}, \"10289\": {\"frequency\": 2, \"value\": 10289}, \"10290\": {\"frequency\": 3, \"value\": 10290}, \"10291\": {\"frequency\": 2, \"value\": 10291}, \"10292\": {\"frequency\": 3, \"value\": 10292}, \"10296\": {\"frequency\": 3, \"value\": 10296}, \"10297\": {\"frequency\": 2, \"value\": 10297}, \"10299\": {\"frequency\": 1, \"value\": 10299}, \"10300\": {\"frequency\": 11, \"value\": 10300}, \"10302\": {\"frequency\": 1, \"value\": 10302}, \"10306\": {\"frequency\": 1, \"value\": 10306}, \"10308\": {\"frequency\": 2, \"value\": 10308}, \"10312\": {\"frequency\": 1, \"value\": 10312}, \"10317\": {\"frequency\": 1, \"value\": 10317}, \"10319\": {\"frequency\": 3, \"value\": 10319}, \"10320\": {\"frequency\": 5, \"value\": 10320}, \"10321\": {\"frequency\": 1, \"value\": 10321}, \"10323\": {\"frequency\": 1, \"value\": 10323}, \"10327\": {\"frequency\": 2, \"value\": 10327}, \"10330\": {\"frequency\": 3, \"value\": 10330}, \"10331\": {\"frequency\": 1, \"value\": 10331}, \"43101\": {\"frequency\": 1, \"value\": 43101}, \"10335\": {\"frequency\": 3, \"value\": 10335}, \"10336\": {\"frequency\": 2, \"value\": 10336}, \"10341\": {\"frequency\": 1, \"value\": 10341}, \"10350\": {\"frequency\": 13, \"value\": 10350}, \"10351\": {\"frequency\": 1, \"value\": 10351}, \"75889\": {\"frequency\": 1, \"value\": 75889}, \"43123\": {\"frequency\": 1, \"value\": 43123}, \"43124\": {\"frequency\": 2, \"value\": 43124}, \"10358\": {\"frequency\": 3, \"value\": 10358}, \"10359\": {\"frequency\": 1, \"value\": 10359}, \"10360\": {\"frequency\": 4, \"value\": 10360}, \"10361\": {\"frequency\": 2, \"value\": 10361}, \"10362\": {\"frequency\": 1, \"value\": 10362}, \"10367\": {\"frequency\": 1, \"value\": 10367}, \"10368\": {\"frequency\": 2, \"value\": 10368}, \"10369\": {\"frequency\": 2, \"value\": 10369}, \"10370\": {\"frequency\": 2, \"value\": 10370}, \"10372\": {\"frequency\": 1, \"value\": 10372}, \"10375\": {\"frequency\": 4, \"value\": 10375}, \"10379\": {\"frequency\": 1, \"value\": 10379}, \"1730\": {\"frequency\": 2, \"value\": 1730}, \"10382\": {\"frequency\": 1, \"value\": 10382}, \"10384\": {\"frequency\": 2, \"value\": 10384}, \"10385\": {\"frequency\": 1, \"value\": 10385}, \"10392\": {\"frequency\": 1, \"value\": 10392}, \"10395\": {\"frequency\": 1, \"value\": 10395}, \"10400\": {\"frequency\": 11, \"value\": 10400}, \"10403\": {\"frequency\": 3, \"value\": 10403}, \"10404\": {\"frequency\": 2, \"value\": 10404}, \"10409\": {\"frequency\": 2, \"value\": 10409}, \"10410\": {\"frequency\": 1, \"value\": 10410}, \"10414\": {\"frequency\": 1, \"value\": 10414}, \"10416\": {\"frequency\": 3, \"value\": 10416}, \"10422\": {\"frequency\": 1, \"value\": 10422}, \"10423\": {\"frequency\": 3, \"value\": 10423}, \"10424\": {\"frequency\": 2, \"value\": 10424}, \"10425\": {\"frequency\": 1, \"value\": 10425}, \"10426\": {\"frequency\": 2, \"value\": 10426}, \"10428\": {\"frequency\": 1, \"value\": 10428}, \"10431\": {\"frequency\": 1, \"value\": 10431}, \"10433\": {\"frequency\": 1, \"value\": 10433}, \"10440\": {\"frequency\": 4, \"value\": 10440}, \"10443\": {\"frequency\": 1, \"value\": 10443}, \"10447\": {\"frequency\": 1, \"value\": 10447}, \"43216\": {\"frequency\": 1, \"value\": 43216}, \"10450\": {\"frequency\": 9, \"value\": 10450}, \"10451\": {\"frequency\": 1, \"value\": 10451}, \"10454\": {\"frequency\": 8, \"value\": 10454}, \"10455\": {\"frequency\": 3, \"value\": 10455}, \"10459\": {\"frequency\": 2, \"value\": 10459}, \"10460\": {\"frequency\": 2, \"value\": 10460}, \"10463\": {\"frequency\": 1, \"value\": 10463}, \"10464\": {\"frequency\": 3, \"value\": 10464}, \"10474\": {\"frequency\": 1, \"value\": 10474}, \"10477\": {\"frequency\": 1, \"value\": 10477}, \"10480\": {\"frequency\": 3, \"value\": 10480}, \"10481\": {\"frequency\": 2, \"value\": 10481}, \"72745\": {\"frequency\": 1, \"value\": 72745}, \"10488\": {\"frequency\": 3, \"value\": 10488}, \"10489\": {\"frequency\": 2, \"value\": 10489}, \"10490\": {\"frequency\": 2, \"value\": 10490}, \"10491\": {\"frequency\": 1, \"value\": 10491}, \"10492\": {\"frequency\": 2, \"value\": 10492}, \"10500\": {\"frequency\": 31, \"value\": 10500}, \"10501\": {\"frequency\": 1, \"value\": 10501}, \"10505\": {\"frequency\": 2, \"value\": 10505}, \"10506\": {\"frequency\": 1, \"value\": 10506}, \"10507\": {\"frequency\": 1, \"value\": 10507}, \"10510\": {\"frequency\": 1, \"value\": 10510}, \"10513\": {\"frequency\": 2, \"value\": 10513}, \"10514\": {\"frequency\": 1, \"value\": 10514}, \"10517\": {\"frequency\": 1, \"value\": 10517}, \"10519\": {\"frequency\": 2, \"value\": 10519}, \"10521\": {\"frequency\": 2, \"value\": 10521}, \"10523\": {\"frequency\": 2, \"value\": 10523}, \"10530\": {\"frequency\": 6, \"value\": 10530}, \"10532\": {\"frequency\": 1, \"value\": 10532}, \"10534\": {\"frequency\": 1, \"value\": 10534}, \"10536\": {\"frequency\": 1, \"value\": 10536}, \"10541\": {\"frequency\": 1, \"value\": 10541}, \"10542\": {\"frequency\": 1, \"value\": 10542}, \"10545\": {\"frequency\": 1, \"value\": 10545}, \"10548\": {\"frequency\": 2, \"value\": 10548}, \"10550\": {\"frequency\": 2, \"value\": 10550}, \"10560\": {\"frequency\": 2, \"value\": 10560}, \"43332\": {\"frequency\": 1, \"value\": 43332}, \"10572\": {\"frequency\": 2, \"value\": 10572}, \"10573\": {\"frequency\": 2, \"value\": 10573}, \"10574\": {\"frequency\": 2, \"value\": 10574}, \"10575\": {\"frequency\": 2, \"value\": 10575}, \"10576\": {\"frequency\": 3, \"value\": 10576}, \"10577\": {\"frequency\": 1, \"value\": 10577}, \"10578\": {\"frequency\": 2, \"value\": 10578}, \"10583\": {\"frequency\": 2, \"value\": 10583}, \"10584\": {\"frequency\": 4, \"value\": 10584}, \"10585\": {\"frequency\": 2, \"value\": 10585}, \"10588\": {\"frequency\": 4, \"value\": 10588}, \"10590\": {\"frequency\": 1, \"value\": 10590}, \"108900\": {\"frequency\": 8, \"value\": 108900}, \"10600\": {\"frequency\": 2, \"value\": 10600}, \"10603\": {\"frequency\": 2, \"value\": 10603}, \"10608\": {\"frequency\": 2, \"value\": 10608}, \"43377\": {\"frequency\": 1, \"value\": 43377}, \"10613\": {\"frequency\": 1, \"value\": 10613}, \"10615\": {\"frequency\": 1, \"value\": 10615}, \"43386\": {\"frequency\": 1, \"value\": 43386}, \"10620\": {\"frequency\": 1, \"value\": 10620}, \"10623\": {\"frequency\": 2, \"value\": 10623}, \"10625\": {\"frequency\": 4, \"value\": 10625}, \"10628\": {\"frequency\": 1, \"value\": 10628}, \"10630\": {\"frequency\": 1, \"value\": 10630}, \"10637\": {\"frequency\": 2, \"value\": 10637}, \"10639\": {\"frequency\": 1, \"value\": 10639}, \"10640\": {\"frequency\": 2, \"value\": 10640}, \"10642\": {\"frequency\": 1, \"value\": 10642}, \"10648\": {\"frequency\": 1, \"value\": 10648}, \"10650\": {\"frequency\": 5, \"value\": 10650}, \"10655\": {\"frequency\": 2, \"value\": 10655}, \"10656\": {\"frequency\": 1, \"value\": 10656}, \"10660\": {\"frequency\": 3, \"value\": 10660}, \"10661\": {\"frequency\": 1, \"value\": 10661}, \"10664\": {\"frequency\": 1, \"value\": 10664}, \"10666\": {\"frequency\": 1, \"value\": 10666}, \"10679\": {\"frequency\": 1, \"value\": 10679}, \"10685\": {\"frequency\": 1, \"value\": 10685}, \"10687\": {\"frequency\": 1, \"value\": 10687}, \"10689\": {\"frequency\": 1, \"value\": 10689}, \"76230\": {\"frequency\": 2, \"value\": 76230}, \"10696\": {\"frequency\": 1, \"value\": 10696}, \"10697\": {\"frequency\": 1, \"value\": 10697}, \"10701\": {\"frequency\": 1, \"value\": 10701}, \"10702\": {\"frequency\": 1, \"value\": 10702}, \"10703\": {\"frequency\": 1, \"value\": 10703}, \"10707\": {\"frequency\": 1, \"value\": 10707}, \"40014\": {\"frequency\": 1, \"value\": 40014}, \"10710\": {\"frequency\": 2, \"value\": 10710}, \"10711\": {\"frequency\": 1, \"value\": 10711}, \"10716\": {\"frequency\": 2, \"value\": 10716}, \"10720\": {\"frequency\": 7, \"value\": 10720}, \"10722\": {\"frequency\": 1, \"value\": 10722}, \"10723\": {\"frequency\": 5, \"value\": 10723}, \"10725\": {\"frequency\": 3, \"value\": 10725}, \"10726\": {\"frequency\": 4, \"value\": 10726}, \"10730\": {\"frequency\": 2, \"value\": 10730}, \"10731\": {\"frequency\": 1, \"value\": 10731}, \"10733\": {\"frequency\": 2, \"value\": 10733}, \"207346\": {\"frequency\": 1, \"value\": 207346}, \"10739\": {\"frequency\": 2, \"value\": 10739}, \"10744\": {\"frequency\": 2, \"value\": 10744}, \"7252\": {\"frequency\": 3, \"value\": 7252}, \"10750\": {\"frequency\": 2, \"value\": 10750}, \"10752\": {\"frequency\": 2, \"value\": 10752}, \"10753\": {\"frequency\": 1, \"value\": 10753}, \"10754\": {\"frequency\": 2, \"value\": 10754}, \"10757\": {\"frequency\": 3, \"value\": 10757}, \"10760\": {\"frequency\": 2, \"value\": 10760}, \"10762\": {\"frequency\": 2, \"value\": 10762}, \"10763\": {\"frequency\": 2, \"value\": 10763}, \"10764\": {\"frequency\": 1, \"value\": 10764}, \"10766\": {\"frequency\": 3, \"value\": 10766}, \"10769\": {\"frequency\": 1, \"value\": 10769}, \"10780\": {\"frequency\": 2, \"value\": 10780}, \"43560\": {\"frequency\": 21, \"value\": 43560}, \"10794\": {\"frequency\": 3, \"value\": 10794}, \"10796\": {\"frequency\": 2, \"value\": 10796}, \"10798\": {\"frequency\": 2, \"value\": 10798}, \"10800\": {\"frequency\": 44, \"value\": 10800}, \"43575\": {\"frequency\": 1, \"value\": 43575}, \"10815\": {\"frequency\": 1, \"value\": 10815}, \"10816\": {\"frequency\": 2, \"value\": 10816}, \"10819\": {\"frequency\": 2, \"value\": 10819}, \"10824\": {\"frequency\": 1, \"value\": 10824}, \"10827\": {\"frequency\": 2, \"value\": 10827}, \"10841\": {\"frequency\": 1, \"value\": 10841}, \"10843\": {\"frequency\": 1, \"value\": 10843}, \"10844\": {\"frequency\": 1, \"value\": 10844}, \"10850\": {\"frequency\": 3, \"value\": 10850}, \"10853\": {\"frequency\": 1, \"value\": 10853}, \"10855\": {\"frequency\": 1, \"value\": 10855}, \"10860\": {\"frequency\": 3, \"value\": 10860}, \"10866\": {\"frequency\": 2, \"value\": 10866}, \"10869\": {\"frequency\": 1, \"value\": 10869}, \"10873\": {\"frequency\": 1, \"value\": 10873}, \"10875\": {\"frequency\": 8, \"value\": 10875}, \"43645\": {\"frequency\": 1, \"value\": 43645}, \"43647\": {\"frequency\": 1, \"value\": 43647}, \"10880\": {\"frequency\": 6, \"value\": 10880}, \"10881\": {\"frequency\": 1, \"value\": 10881}, \"10890\": {\"frequency\": 9, \"value\": 10890}, \"10891\": {\"frequency\": 1, \"value\": 10891}, \"10893\": {\"frequency\": 1, \"value\": 10893}, \"10900\": {\"frequency\": 4, \"value\": 10900}, \"10905\": {\"frequency\": 1, \"value\": 10905}, \"10911\": {\"frequency\": 1, \"value\": 10911}, \"10914\": {\"frequency\": 1, \"value\": 10914}, \"10920\": {\"frequency\": 9, \"value\": 10920}, \"10925\": {\"frequency\": 3, \"value\": 10925}, \"10928\": {\"frequency\": 1, \"value\": 10928}, \"10929\": {\"frequency\": 2, \"value\": 10929}, \"105587\": {\"frequency\": 1, \"value\": 105587}, \"43700\": {\"frequency\": 1, \"value\": 43700}, \"10935\": {\"frequency\": 1, \"value\": 10935}, \"43710\": {\"frequency\": 1, \"value\": 43710}, \"10943\": {\"frequency\": 1, \"value\": 10943}, \"10945\": {\"frequency\": 1, \"value\": 10945}, \"10946\": {\"frequency\": 1, \"value\": 10946}, \"10948\": {\"frequency\": 1, \"value\": 10948}, \"10949\": {\"frequency\": 1, \"value\": 10949}, \"10950\": {\"frequency\": 4, \"value\": 10950}, \"10951\": {\"frequency\": 1, \"value\": 10951}, \"10954\": {\"frequency\": 2, \"value\": 10954}, \"10956\": {\"frequency\": 2, \"value\": 10956}, \"10958\": {\"frequency\": 1, \"value\": 10958}, \"10960\": {\"frequency\": 3, \"value\": 10960}, \"10962\": {\"frequency\": 3, \"value\": 10962}, \"43733\": {\"frequency\": 1, \"value\": 43733}, \"10968\": {\"frequency\": 3, \"value\": 10968}, \"10969\": {\"frequency\": 1, \"value\": 10969}, \"10970\": {\"frequency\": 1, \"value\": 10970}, \"10983\": {\"frequency\": 1, \"value\": 10983}, \"10986\": {\"frequency\": 1, \"value\": 10986}, \"11000\": {\"frequency\": 12, \"value\": 11000}, \"11010\": {\"frequency\": 1, \"value\": 11010}, \"11012\": {\"frequency\": 1, \"value\": 11012}, \"11017\": {\"frequency\": 1, \"value\": 11017}, \"11018\": {\"frequency\": 1, \"value\": 11018}, \"11019\": {\"frequency\": 1, \"value\": 11019}, \"11025\": {\"frequency\": 1, \"value\": 11025}, \"11026\": {\"frequency\": 1, \"value\": 11026}, \"109336\": {\"frequency\": 1, \"value\": 109336}, \"11034\": {\"frequency\": 3, \"value\": 11034}, \"11040\": {\"frequency\": 3, \"value\": 11040}, \"11041\": {\"frequency\": 2, \"value\": 11041}, \"11044\": {\"frequency\": 1, \"value\": 11044}, \"11049\": {\"frequency\": 2, \"value\": 11049}, \"11050\": {\"frequency\": 5, \"value\": 11050}, \"43821\": {\"frequency\": 1, \"value\": 43821}, \"11054\": {\"frequency\": 2, \"value\": 11054}, \"11056\": {\"frequency\": 2, \"value\": 11056}, \"11060\": {\"frequency\": 4, \"value\": 11060}, \"11070\": {\"frequency\": 4, \"value\": 11070}, \"11072\": {\"frequency\": 1, \"value\": 11072}, \"43847\": {\"frequency\": 1, \"value\": 43847}, \"11080\": {\"frequency\": 1, \"value\": 11080}, \"11086\": {\"frequency\": 1, \"value\": 11086}, \"11090\": {\"frequency\": 2, \"value\": 11090}, \"11092\": {\"frequency\": 1, \"value\": 11092}, \"11096\": {\"frequency\": 2, \"value\": 11096}, \"11098\": {\"frequency\": 1, \"value\": 11098}, \"11100\": {\"frequency\": 7, \"value\": 11100}, \"11108\": {\"frequency\": 2, \"value\": 11108}, \"11111\": {\"frequency\": 2, \"value\": 11111}, \"11118\": {\"frequency\": 1, \"value\": 11118}, \"11120\": {\"frequency\": 4, \"value\": 11120}, \"76665\": {\"frequency\": 2, \"value\": 76665}, \"11130\": {\"frequency\": 2, \"value\": 11130}, \"11132\": {\"frequency\": 1, \"value\": 11132}, \"11137\": {\"frequency\": 1, \"value\": 11137}, \"11141\": {\"frequency\": 1, \"value\": 11141}, \"11160\": {\"frequency\": 1, \"value\": 11160}, \"11165\": {\"frequency\": 3, \"value\": 11165}, \"11171\": {\"frequency\": 2, \"value\": 11171}, \"11172\": {\"frequency\": 2, \"value\": 11172}, \"11173\": {\"frequency\": 2, \"value\": 11173}, \"11175\": {\"frequency\": 1, \"value\": 11175}, \"11180\": {\"frequency\": 5, \"value\": 11180}, \"43950\": {\"frequency\": 1, \"value\": 43950}, \"11189\": {\"frequency\": 1, \"value\": 11189}, \"11193\": {\"frequency\": 3, \"value\": 11193}, \"11198\": {\"frequency\": 1, \"value\": 11198}, \"11200\": {\"frequency\": 21, \"value\": 11200}, \"11201\": {\"frequency\": 2, \"value\": 11201}, \"11204\": {\"frequency\": 1, \"value\": 11204}, \"11205\": {\"frequency\": 2, \"value\": 11205}, \"11210\": {\"frequency\": 2, \"value\": 11210}, \"7330\": {\"frequency\": 2, \"value\": 7330}, \"11214\": {\"frequency\": 3, \"value\": 11214}, \"11220\": {\"frequency\": 1, \"value\": 11220}, \"11224\": {\"frequency\": 1, \"value\": 11224}, \"11225\": {\"frequency\": 3, \"value\": 11225}, \"43995\": {\"frequency\": 6, \"value\": 43995}, \"11230\": {\"frequency\": 1, \"value\": 11230}, \"11233\": {\"frequency\": 1, \"value\": 11233}, \"11234\": {\"frequency\": 3, \"value\": 11234}, \"11240\": {\"frequency\": 2, \"value\": 11240}, \"11242\": {\"frequency\": 1, \"value\": 11242}, \"11245\": {\"frequency\": 1, \"value\": 11245}, \"11249\": {\"frequency\": 1, \"value\": 11249}, \"11250\": {\"frequency\": 24, \"value\": 11250}, \"11254\": {\"frequency\": 1, \"value\": 11254}, \"40106\": {\"frequency\": 1, \"value\": 40106}, \"11276\": {\"frequency\": 1, \"value\": 11276}, \"11287\": {\"frequency\": 1, \"value\": 11287}, \"11300\": {\"frequency\": 1, \"value\": 11300}, \"11305\": {\"frequency\": 2, \"value\": 11305}, \"11307\": {\"frequency\": 1, \"value\": 11307}, \"11310\": {\"frequency\": 1, \"value\": 11310}, \"11312\": {\"frequency\": 1, \"value\": 11312}, \"11319\": {\"frequency\": 1, \"value\": 11319}, \"11325\": {\"frequency\": 7, \"value\": 11325}, \"11331\": {\"frequency\": 1, \"value\": 11331}, \"11334\": {\"frequency\": 1, \"value\": 11334}, \"11337\": {\"frequency\": 1, \"value\": 11337}, \"11340\": {\"frequency\": 11, \"value\": 11340}, \"11342\": {\"frequency\": 1, \"value\": 11342}, \"11343\": {\"frequency\": 1, \"value\": 11343}, \"11349\": {\"frequency\": 1, \"value\": 11349}, \"11350\": {\"frequency\": 3, \"value\": 11350}, \"11356\": {\"frequency\": 1, \"value\": 11356}, \"11360\": {\"frequency\": 1, \"value\": 11360}, \"11364\": {\"frequency\": 1, \"value\": 11364}, \"11370\": {\"frequency\": 1, \"value\": 11370}, \"11371\": {\"frequency\": 1, \"value\": 11371}, \"11375\": {\"frequency\": 4, \"value\": 11375}, \"11380\": {\"frequency\": 2, \"value\": 11380}, \"11383\": {\"frequency\": 1, \"value\": 11383}, \"11390\": {\"frequency\": 1, \"value\": 11390}, \"11393\": {\"frequency\": 3, \"value\": 11393}, \"11396\": {\"frequency\": 1, \"value\": 11396}, \"11400\": {\"frequency\": 10, \"value\": 11400}, \"11403\": {\"frequency\": 1, \"value\": 11403}, \"11407\": {\"frequency\": 2, \"value\": 11407}, \"11410\": {\"frequency\": 2, \"value\": 11410}, \"11411\": {\"frequency\": 1, \"value\": 11411}, \"273556\": {\"frequency\": 2, \"value\": 273556}, \"11413\": {\"frequency\": 1, \"value\": 11413}, \"11422\": {\"frequency\": 2, \"value\": 11422}, \"11424\": {\"frequency\": 1, \"value\": 11424}, \"11430\": {\"frequency\": 2, \"value\": 11430}, \"11440\": {\"frequency\": 3, \"value\": 11440}, \"11444\": {\"frequency\": 1, \"value\": 11444}, \"11448\": {\"frequency\": 2, \"value\": 11448}, \"11452\": {\"frequency\": 1, \"value\": 11452}, \"11453\": {\"frequency\": 1, \"value\": 11453}, \"11454\": {\"frequency\": 3, \"value\": 11454}, \"11455\": {\"frequency\": 2, \"value\": 11455}, \"11456\": {\"frequency\": 1, \"value\": 11456}, \"11457\": {\"frequency\": 1, \"value\": 11457}, \"11466\": {\"frequency\": 2, \"value\": 11466}, \"11468\": {\"frequency\": 1, \"value\": 11468}, \"11470\": {\"frequency\": 1, \"value\": 11470}, \"11473\": {\"frequency\": 1, \"value\": 11473}, \"11475\": {\"frequency\": 4, \"value\": 11475}, \"11479\": {\"frequency\": 1, \"value\": 11479}, \"11480\": {\"frequency\": 2, \"value\": 11480}, \"11481\": {\"frequency\": 2, \"value\": 11481}, \"11500\": {\"frequency\": 10, \"value\": 11500}, \"11505\": {\"frequency\": 2, \"value\": 11505}, \"11511\": {\"frequency\": 1, \"value\": 11511}, \"11520\": {\"frequency\": 4, \"value\": 11520}, \"11523\": {\"frequency\": 1, \"value\": 11523}, \"11525\": {\"frequency\": 1, \"value\": 11525}, \"11530\": {\"frequency\": 2, \"value\": 11530}, \"11536\": {\"frequency\": 3, \"value\": 11536}, \"11542\": {\"frequency\": 2, \"value\": 11542}, \"11547\": {\"frequency\": 2, \"value\": 11547}, \"11550\": {\"frequency\": 2, \"value\": 11550}, \"11562\": {\"frequency\": 2, \"value\": 11562}, \"11570\": {\"frequency\": 1, \"value\": 11570}, \"11575\": {\"frequency\": 1, \"value\": 11575}, \"11576\": {\"frequency\": 2, \"value\": 11576}, \"11579\": {\"frequency\": 1, \"value\": 11579}, \"175421\": {\"frequency\": 1, \"value\": 175421}, \"11583\": {\"frequency\": 2, \"value\": 11583}, \"11584\": {\"frequency\": 1, \"value\": 11584}, \"11585\": {\"frequency\": 3, \"value\": 11585}, \"11588\": {\"frequency\": 1, \"value\": 11588}, \"11590\": {\"frequency\": 1, \"value\": 11590}, \"11592\": {\"frequency\": 1, \"value\": 11592}, \"11595\": {\"frequency\": 1, \"value\": 11595}, \"11599\": {\"frequency\": 1, \"value\": 11599}, \"11600\": {\"frequency\": 5, \"value\": 11600}, \"11603\": {\"frequency\": 2, \"value\": 11603}, \"11610\": {\"frequency\": 2, \"value\": 11610}, \"11612\": {\"frequency\": 2, \"value\": 11612}, \"44384\": {\"frequency\": 1, \"value\": 44384}, \"11618\": {\"frequency\": 1, \"value\": 11618}, \"11620\": {\"frequency\": 1, \"value\": 11620}, \"11625\": {\"frequency\": 3, \"value\": 11625}, \"11632\": {\"frequency\": 2, \"value\": 11632}, \"11645\": {\"frequency\": 1, \"value\": 11645}, \"11650\": {\"frequency\": 1, \"value\": 11650}, \"11651\": {\"frequency\": 2, \"value\": 11651}, \"11652\": {\"frequency\": 3, \"value\": 11652}, \"11656\": {\"frequency\": 2, \"value\": 11656}, \"11659\": {\"frequency\": 1, \"value\": 11659}, \"11662\": {\"frequency\": 2, \"value\": 11662}, \"44431\": {\"frequency\": 7, \"value\": 44431}, \"11664\": {\"frequency\": 1, \"value\": 11664}, \"11665\": {\"frequency\": 1, \"value\": 11665}, \"11675\": {\"frequency\": 2, \"value\": 11675}, \"11676\": {\"frequency\": 1, \"value\": 11676}, \"11688\": {\"frequency\": 1, \"value\": 11688}, \"11690\": {\"frequency\": 2, \"value\": 11690}, \"11700\": {\"frequency\": 9, \"value\": 11700}, \"143947\": {\"frequency\": 1, \"value\": 143947}, \"11725\": {\"frequency\": 1, \"value\": 11725}, \"11727\": {\"frequency\": 2, \"value\": 11727}, \"11730\": {\"frequency\": 2, \"value\": 11730}, \"142803\": {\"frequency\": 1, \"value\": 142803}, \"11733\": {\"frequency\": 1, \"value\": 11733}, \"11740\": {\"frequency\": 2, \"value\": 11740}, \"11744\": {\"frequency\": 1, \"value\": 11744}, \"11745\": {\"frequency\": 3, \"value\": 11745}, \"11750\": {\"frequency\": 3, \"value\": 11750}, \"11757\": {\"frequency\": 1, \"value\": 11757}, \"11761\": {\"frequency\": 2, \"value\": 11761}, \"11765\": {\"frequency\": 2, \"value\": 11765}, \"11769\": {\"frequency\": 1, \"value\": 11769}, \"11774\": {\"frequency\": 2, \"value\": 11774}, \"11775\": {\"frequency\": 2, \"value\": 11775}, \"11780\": {\"frequency\": 3, \"value\": 11780}, \"11782\": {\"frequency\": 1, \"value\": 11782}, \"11783\": {\"frequency\": 1, \"value\": 11783}, \"11788\": {\"frequency\": 1, \"value\": 11788}, \"11793\": {\"frequency\": 2, \"value\": 11793}, \"11795\": {\"frequency\": 2, \"value\": 11795}, \"11798\": {\"frequency\": 1, \"value\": 11798}, \"11800\": {\"frequency\": 4, \"value\": 11800}, \"11801\": {\"frequency\": 1, \"value\": 11801}, \"11816\": {\"frequency\": 1, \"value\": 11816}, \"11817\": {\"frequency\": 1, \"value\": 11817}, \"241200\": {\"frequency\": 1, \"value\": 241200}, \"11834\": {\"frequency\": 1, \"value\": 11834}, \"11835\": {\"frequency\": 2, \"value\": 11835}, \"40202\": {\"frequency\": 1, \"value\": 40202}, \"11843\": {\"frequency\": 2, \"value\": 11843}, \"11850\": {\"frequency\": 1, \"value\": 11850}, \"11856\": {\"frequency\": 2, \"value\": 11856}, \"11857\": {\"frequency\": 1, \"value\": 11857}, \"11858\": {\"frequency\": 1, \"value\": 11858}, \"11866\": {\"frequency\": 1, \"value\": 11866}, \"11867\": {\"frequency\": 1, \"value\": 11867}, \"11870\": {\"frequency\": 1, \"value\": 11870}, \"11872\": {\"frequency\": 1, \"value\": 11872}, \"11875\": {\"frequency\": 4, \"value\": 11875}, \"11877\": {\"frequency\": 2, \"value\": 11877}, \"11880\": {\"frequency\": 6, \"value\": 11880}, \"11884\": {\"frequency\": 3, \"value\": 11884}, \"11890\": {\"frequency\": 1, \"value\": 11890}, \"11894\": {\"frequency\": 2, \"value\": 11894}, \"11895\": {\"frequency\": 1, \"value\": 11895}, \"11897\": {\"frequency\": 1, \"value\": 11897}, \"11900\": {\"frequency\": 13, \"value\": 11900}, \"11914\": {\"frequency\": 3, \"value\": 11914}, \"11920\": {\"frequency\": 2, \"value\": 11920}, \"11925\": {\"frequency\": 2, \"value\": 11925}, \"11928\": {\"frequency\": 1, \"value\": 11928}, \"11931\": {\"frequency\": 1, \"value\": 11931}, \"11934\": {\"frequency\": 1, \"value\": 11934}, \"11935\": {\"frequency\": 2, \"value\": 11935}, \"306848\": {\"frequency\": 1, \"value\": 306848}, \"11937\": {\"frequency\": 1, \"value\": 11937}, \"11946\": {\"frequency\": 1, \"value\": 11946}, \"11947\": {\"frequency\": 1, \"value\": 11947}, \"11951\": {\"frequency\": 1, \"value\": 11951}, \"11960\": {\"frequency\": 2, \"value\": 11960}, \"11970\": {\"frequency\": 3, \"value\": 11970}, \"11972\": {\"frequency\": 1, \"value\": 11972}, \"11975\": {\"frequency\": 2, \"value\": 11975}, \"11985\": {\"frequency\": 3, \"value\": 11985}, \"11986\": {\"frequency\": 1, \"value\": 11986}, \"11996\": {\"frequency\": 1, \"value\": 11996}, \"11997\": {\"frequency\": 2, \"value\": 11997}, \"12000\": {\"frequency\": 42, \"value\": 12000}, \"12001\": {\"frequency\": 1, \"value\": 12001}, \"12005\": {\"frequency\": 2, \"value\": 12005}, \"12007\": {\"frequency\": 1, \"value\": 12007}, \"12013\": {\"frequency\": 2, \"value\": 12013}, \"12017\": {\"frequency\": 1, \"value\": 12017}, \"12026\": {\"frequency\": 1, \"value\": 12026}, \"12028\": {\"frequency\": 2, \"value\": 12028}, \"12030\": {\"frequency\": 1, \"value\": 12030}, \"12032\": {\"frequency\": 2, \"value\": 12032}, \"12033\": {\"frequency\": 1, \"value\": 12033}, \"12036\": {\"frequency\": 1, \"value\": 12036}, \"12040\": {\"frequency\": 2, \"value\": 12040}, \"12042\": {\"frequency\": 3, \"value\": 12042}, \"12044\": {\"frequency\": 1, \"value\": 12044}, \"12047\": {\"frequency\": 2, \"value\": 12047}, \"12051\": {\"frequency\": 1, \"value\": 12051}, \"12056\": {\"frequency\": 2, \"value\": 12056}, \"12058\": {\"frequency\": 1, \"value\": 12058}, \"12060\": {\"frequency\": 1, \"value\": 12060}, \"12063\": {\"frequency\": 2, \"value\": 12063}, \"12067\": {\"frequency\": 1, \"value\": 12067}, \"12070\": {\"frequency\": 3, \"value\": 12070}, \"12075\": {\"frequency\": 2, \"value\": 12075}, \"12080\": {\"frequency\": 3, \"value\": 12080}, \"12085\": {\"frequency\": 1, \"value\": 12085}, \"12090\": {\"frequency\": 2, \"value\": 12090}, \"12091\": {\"frequency\": 2, \"value\": 12091}, \"12092\": {\"frequency\": 4, \"value\": 12092}, \"12094\": {\"frequency\": 2, \"value\": 12094}, \"12095\": {\"frequency\": 1, \"value\": 12095}, \"44866\": {\"frequency\": 4, \"value\": 44866}, \"44867\": {\"frequency\": 1, \"value\": 44867}, \"12100\": {\"frequency\": 6, \"value\": 12100}, \"12103\": {\"frequency\": 2, \"value\": 12103}, \"12106\": {\"frequency\": 1, \"value\": 12106}, \"12110\": {\"frequency\": 1, \"value\": 12110}, \"12120\": {\"frequency\": 1, \"value\": 12120}, \"12125\": {\"frequency\": 1, \"value\": 12125}, \"208737\": {\"frequency\": 1, \"value\": 208737}, \"12134\": {\"frequency\": 1, \"value\": 12134}, \"12138\": {\"frequency\": 1, \"value\": 12138}, \"12141\": {\"frequency\": 1, \"value\": 12141}, \"175982\": {\"frequency\": 1, \"value\": 175982}, \"12145\": {\"frequency\": 2, \"value\": 12145}, \"12150\": {\"frequency\": 4, \"value\": 12150}, \"12151\": {\"frequency\": 1, \"value\": 12151}, \"12155\": {\"frequency\": 3, \"value\": 12155}, \"12160\": {\"frequency\": 3, \"value\": 12160}, \"12164\": {\"frequency\": 2, \"value\": 12164}, \"40259\": {\"frequency\": 1, \"value\": 40259}, \"12184\": {\"frequency\": 1, \"value\": 12184}, \"12193\": {\"frequency\": 1, \"value\": 12193}, \"12196\": {\"frequency\": 8, \"value\": 12196}, \"12197\": {\"frequency\": 2, \"value\": 12197}, \"12199\": {\"frequency\": 1, \"value\": 12199}, \"12200\": {\"frequency\": 1, \"value\": 12200}, \"12201\": {\"frequency\": 1, \"value\": 12201}, \"12208\": {\"frequency\": 1, \"value\": 12208}, \"12212\": {\"frequency\": 1, \"value\": 12212}, \"12220\": {\"frequency\": 3, \"value\": 12220}, \"12231\": {\"frequency\": 4, \"value\": 12231}, \"12233\": {\"frequency\": 1, \"value\": 12233}, \"45004\": {\"frequency\": 1, \"value\": 45004}, \"12238\": {\"frequency\": 1, \"value\": 12238}, \"12240\": {\"frequency\": 3, \"value\": 12240}, \"12243\": {\"frequency\": 1, \"value\": 12243}, \"12245\": {\"frequency\": 1, \"value\": 12245}, \"12247\": {\"frequency\": 2, \"value\": 12247}, \"12250\": {\"frequency\": 3, \"value\": 12250}, \"12252\": {\"frequency\": 2, \"value\": 12252}, \"12253\": {\"frequency\": 1, \"value\": 12253}, \"12275\": {\"frequency\": 1, \"value\": 12275}, \"12278\": {\"frequency\": 1, \"value\": 12278}, \"12282\": {\"frequency\": 3, \"value\": 12282}, \"12283\": {\"frequency\": 1, \"value\": 12283}, \"12285\": {\"frequency\": 2, \"value\": 12285}, \"40278\": {\"frequency\": 1, \"value\": 40278}, \"12300\": {\"frequency\": 1, \"value\": 12300}, \"12305\": {\"frequency\": 2, \"value\": 12305}, \"12320\": {\"frequency\": 2, \"value\": 12320}, \"12327\": {\"frequency\": 2, \"value\": 12327}, \"12330\": {\"frequency\": 1, \"value\": 12330}, \"45100\": {\"frequency\": 1, \"value\": 45100}, \"110642\": {\"frequency\": 1, \"value\": 110642}, \"12342\": {\"frequency\": 1, \"value\": 12342}, \"12349\": {\"frequency\": 2, \"value\": 12349}, \"12350\": {\"frequency\": 7, \"value\": 12350}, \"45133\": {\"frequency\": 1, \"value\": 45133}, \"12368\": {\"frequency\": 2, \"value\": 12368}, \"12375\": {\"frequency\": 2, \"value\": 12375}, \"12377\": {\"frequency\": 1, \"value\": 12377}, \"12381\": {\"frequency\": 2, \"value\": 12381}, \"12384\": {\"frequency\": 3, \"value\": 12384}, \"12385\": {\"frequency\": 1, \"value\": 12385}, \"12394\": {\"frequency\": 1, \"value\": 12394}, \"12408\": {\"frequency\": 3, \"value\": 12408}, \"12413\": {\"frequency\": 1, \"value\": 12413}, \"12415\": {\"frequency\": 2, \"value\": 12415}, \"12420\": {\"frequency\": 4, \"value\": 12420}, \"12426\": {\"frequency\": 2, \"value\": 12426}, \"12430\": {\"frequency\": 2, \"value\": 12430}, \"12431\": {\"frequency\": 1, \"value\": 12431}, \"12436\": {\"frequency\": 1, \"value\": 12436}, \"12443\": {\"frequency\": 2, \"value\": 12443}, \"12447\": {\"frequency\": 1, \"value\": 12447}, \"12462\": {\"frequency\": 1, \"value\": 12462}, \"12463\": {\"frequency\": 1, \"value\": 12463}, \"45234\": {\"frequency\": 1, \"value\": 45234}, \"12473\": {\"frequency\": 1, \"value\": 12473}, \"12476\": {\"frequency\": 2, \"value\": 12476}, \"12478\": {\"frequency\": 1, \"value\": 12478}, \"209088\": {\"frequency\": 2, \"value\": 209088}, \"12491\": {\"frequency\": 1, \"value\": 12491}, \"40312\": {\"frequency\": 1, \"value\": 40312}, \"12500\": {\"frequency\": 22, \"value\": 12500}, \"12508\": {\"frequency\": 1, \"value\": 12508}, \"105850\": {\"frequency\": 2, \"value\": 105850}, \"12511\": {\"frequency\": 1, \"value\": 12511}, \"12519\": {\"frequency\": 2, \"value\": 12519}, \"12522\": {\"frequency\": 2, \"value\": 12522}, \"12523\": {\"frequency\": 2, \"value\": 12523}, \"12527\": {\"frequency\": 2, \"value\": 12527}, \"12528\": {\"frequency\": 3, \"value\": 12528}, \"45302\": {\"frequency\": 4, \"value\": 45302}, \"12540\": {\"frequency\": 3, \"value\": 12540}, \"12555\": {\"frequency\": 1, \"value\": 12555}, \"12558\": {\"frequency\": 3, \"value\": 12558}, \"12560\": {\"frequency\": 1, \"value\": 12560}, \"12573\": {\"frequency\": 1, \"value\": 12573}, \"176418\": {\"frequency\": 1, \"value\": 176418}, \"12591\": {\"frequency\": 1, \"value\": 12591}, \"12596\": {\"frequency\": 1, \"value\": 12596}, \"12600\": {\"frequency\": 8, \"value\": 12600}, \"12607\": {\"frequency\": 1, \"value\": 12607}, \"12611\": {\"frequency\": 1, \"value\": 12611}, \"12614\": {\"frequency\": 1, \"value\": 12614}, \"12616\": {\"frequency\": 2, \"value\": 12616}, \"12625\": {\"frequency\": 2, \"value\": 12625}, \"12626\": {\"frequency\": 2, \"value\": 12626}, \"12632\": {\"frequency\": 2, \"value\": 12632}, \"12633\": {\"frequency\": 1, \"value\": 12633}, \"12648\": {\"frequency\": 1, \"value\": 12648}, \"12650\": {\"frequency\": 1, \"value\": 12650}, \"40341\": {\"frequency\": 1, \"value\": 40341}, \"12672\": {\"frequency\": 2, \"value\": 12672}, \"12675\": {\"frequency\": 2, \"value\": 12675}, \"12676\": {\"frequency\": 1, \"value\": 12676}, \"12682\": {\"frequency\": 2, \"value\": 12682}, \"12686\": {\"frequency\": 1, \"value\": 12686}, \"12687\": {\"frequency\": 1, \"value\": 12687}, \"12688\": {\"frequency\": 2, \"value\": 12688}, \"78225\": {\"frequency\": 1, \"value\": 78225}, \"12690\": {\"frequency\": 3, \"value\": 12690}, \"12696\": {\"frequency\": 2, \"value\": 12696}, \"12700\": {\"frequency\": 2, \"value\": 12700}, \"12705\": {\"frequency\": 2, \"value\": 12705}, \"12714\": {\"frequency\": 2, \"value\": 12714}, \"12719\": {\"frequency\": 1, \"value\": 12719}, \"12720\": {\"frequency\": 1, \"value\": 12720}, \"12728\": {\"frequency\": 1, \"value\": 12728}, \"12733\": {\"frequency\": 1, \"value\": 12733}, \"12741\": {\"frequency\": 1, \"value\": 12741}, \"12745\": {\"frequency\": 1, \"value\": 12745}, \"12746\": {\"frequency\": 1, \"value\": 12746}, \"45517\": {\"frequency\": 1, \"value\": 45517}, \"12750\": {\"frequency\": 10, \"value\": 12750}, \"12753\": {\"frequency\": 3, \"value\": 12753}, \"12763\": {\"frequency\": 1, \"value\": 12763}, \"12765\": {\"frequency\": 1, \"value\": 12765}, \"45535\": {\"frequency\": 1, \"value\": 45535}, \"45537\": {\"frequency\": 1, \"value\": 45537}, \"111078\": {\"frequency\": 2, \"value\": 111078}, \"12775\": {\"frequency\": 1, \"value\": 12775}, \"12776\": {\"frequency\": 1, \"value\": 12776}, \"12778\": {\"frequency\": 1, \"value\": 12778}, \"12779\": {\"frequency\": 1, \"value\": 12779}, \"12793\": {\"frequency\": 3, \"value\": 12793}, \"12796\": {\"frequency\": 1, \"value\": 12796}, \"12811\": {\"frequency\": 1, \"value\": 12811}, \"12813\": {\"frequency\": 1, \"value\": 12813}, \"12821\": {\"frequency\": 3, \"value\": 12821}, \"12823\": {\"frequency\": 2, \"value\": 12823}, \"12824\": {\"frequency\": 1, \"value\": 12824}, \"12825\": {\"frequency\": 5, \"value\": 12825}, \"12833\": {\"frequency\": 1, \"value\": 12833}, \"12840\": {\"frequency\": 3, \"value\": 12840}, \"12843\": {\"frequency\": 1, \"value\": 12843}, \"12848\": {\"frequency\": 1, \"value\": 12848}, \"12850\": {\"frequency\": 1, \"value\": 12850}, \"12860\": {\"frequency\": 1, \"value\": 12860}, \"12866\": {\"frequency\": 2, \"value\": 12866}, \"12870\": {\"frequency\": 2, \"value\": 12870}, \"78408\": {\"frequency\": 5, \"value\": 78408}, \"12874\": {\"frequency\": 1, \"value\": 12874}, \"12875\": {\"frequency\": 2, \"value\": 12875}, \"12877\": {\"frequency\": 1, \"value\": 12877}, \"12895\": {\"frequency\": 1, \"value\": 12895}, \"12899\": {\"frequency\": 2, \"value\": 12899}, \"12900\": {\"frequency\": 1, \"value\": 12900}, \"209523\": {\"frequency\": 4, \"value\": 209523}, \"12918\": {\"frequency\": 1, \"value\": 12918}, \"12920\": {\"frequency\": 1, \"value\": 12920}, \"7615\": {\"frequency\": 4, \"value\": 7615}, \"12930\": {\"frequency\": 1, \"value\": 12930}, \"12940\": {\"frequency\": 1, \"value\": 12940}, \"12950\": {\"frequency\": 2, \"value\": 12950}, \"12956\": {\"frequency\": 1, \"value\": 12956}, \"1651359\": {\"frequency\": 1, \"value\": 1651359}, \"12960\": {\"frequency\": 2, \"value\": 12960}, \"12968\": {\"frequency\": 2, \"value\": 12968}, \"45738\": {\"frequency\": 10, \"value\": 45738}, \"12972\": {\"frequency\": 1, \"value\": 12972}, \"12978\": {\"frequency\": 1, \"value\": 12978}, \"12981\": {\"frequency\": 1, \"value\": 12981}, \"12987\": {\"frequency\": 3, \"value\": 12987}, \"13000\": {\"frequency\": 15, \"value\": 13000}, \"13001\": {\"frequency\": 1, \"value\": 13001}, \"13002\": {\"frequency\": 2, \"value\": 13002}, \"2171\": {\"frequency\": 3, \"value\": 2171}, \"13031\": {\"frequency\": 1, \"value\": 13031}, \"13034\": {\"frequency\": 1, \"value\": 13034}, \"13054\": {\"frequency\": 2, \"value\": 13054}, \"13056\": {\"frequency\": 1, \"value\": 13056}, \"13058\": {\"frequency\": 1, \"value\": 13058}, \"13059\": {\"frequency\": 2, \"value\": 13059}, \"13062\": {\"frequency\": 1, \"value\": 13062}, \"13063\": {\"frequency\": 1, \"value\": 13063}, \"13068\": {\"frequency\": 7, \"value\": 13068}, \"13085\": {\"frequency\": 2, \"value\": 13085}, \"13090\": {\"frequency\": 1, \"value\": 13090}, \"45860\": {\"frequency\": 1, \"value\": 45860}, \"13095\": {\"frequency\": 2, \"value\": 13095}, \"13100\": {\"frequency\": 5, \"value\": 13100}, \"13102\": {\"frequency\": 1, \"value\": 13102}, \"13113\": {\"frequency\": 1, \"value\": 13113}, \"13122\": {\"frequency\": 2, \"value\": 13122}, \"13125\": {\"frequency\": 3, \"value\": 13125}, \"13129\": {\"frequency\": 2, \"value\": 13129}, \"7651\": {\"frequency\": 2, \"value\": 7651}, \"13140\": {\"frequency\": 1, \"value\": 13140}, \"13162\": {\"frequency\": 1, \"value\": 13162}, \"13165\": {\"frequency\": 1, \"value\": 13165}, \"13168\": {\"frequency\": 2, \"value\": 13168}, \"13170\": {\"frequency\": 2, \"value\": 13170}, \"13175\": {\"frequency\": 1, \"value\": 13175}, \"13180\": {\"frequency\": 1, \"value\": 13180}, \"13189\": {\"frequency\": 1, \"value\": 13189}, \"13193\": {\"frequency\": 1, \"value\": 13193}, \"45963\": {\"frequency\": 1, \"value\": 45963}, \"13200\": {\"frequency\": 5, \"value\": 13200}, \"13202\": {\"frequency\": 1, \"value\": 13202}, \"13209\": {\"frequency\": 1, \"value\": 13209}, \"111514\": {\"frequency\": 1, \"value\": 111514}, \"13211\": {\"frequency\": 1, \"value\": 13211}, \"13218\": {\"frequency\": 1, \"value\": 13218}, \"13227\": {\"frequency\": 1, \"value\": 13227}, \"13232\": {\"frequency\": 1, \"value\": 13232}, \"13235\": {\"frequency\": 1, \"value\": 13235}, \"13238\": {\"frequency\": 1, \"value\": 13238}, \"13241\": {\"frequency\": 2, \"value\": 13241}, \"13249\": {\"frequency\": 1, \"value\": 13249}, \"13252\": {\"frequency\": 3, \"value\": 13252}, \"242629\": {\"frequency\": 1, \"value\": 242629}, \"13260\": {\"frequency\": 4, \"value\": 13260}, \"13261\": {\"frequency\": 1, \"value\": 13261}, \"13278\": {\"frequency\": 1, \"value\": 13278}, \"13280\": {\"frequency\": 1, \"value\": 13280}, \"13288\": {\"frequency\": 2, \"value\": 13288}, \"13292\": {\"frequency\": 2, \"value\": 13292}, \"13296\": {\"frequency\": 2, \"value\": 13296}, \"13300\": {\"frequency\": 8, \"value\": 13300}, \"13303\": {\"frequency\": 1, \"value\": 13303}, \"78843\": {\"frequency\": 2, \"value\": 78843}, \"13309\": {\"frequency\": 1, \"value\": 13309}, \"13320\": {\"frequency\": 3, \"value\": 13320}, \"13341\": {\"frequency\": 1, \"value\": 13341}, \"13348\": {\"frequency\": 3, \"value\": 13348}, \"13350\": {\"frequency\": 2, \"value\": 13350}, \"209959\": {\"frequency\": 1, \"value\": 209959}, \"13356\": {\"frequency\": 1, \"value\": 13356}, \"204296\": {\"frequency\": 1, \"value\": 204296}, \"13362\": {\"frequency\": 2, \"value\": 13362}, \"13367\": {\"frequency\": 2, \"value\": 13367}, \"13370\": {\"frequency\": 2, \"value\": 13370}, \"13374\": {\"frequency\": 1, \"value\": 13374}, \"13383\": {\"frequency\": 1, \"value\": 13383}, \"13384\": {\"frequency\": 1, \"value\": 13384}, \"13392\": {\"frequency\": 2, \"value\": 13392}, \"13394\": {\"frequency\": 1, \"value\": 13394}, \"13399\": {\"frequency\": 1, \"value\": 13399}, \"13402\": {\"frequency\": 2, \"value\": 13402}, \"46173\": {\"frequency\": 6, \"value\": 46173}, \"13406\": {\"frequency\": 1, \"value\": 13406}, \"13412\": {\"frequency\": 1, \"value\": 13412}, \"13416\": {\"frequency\": 1, \"value\": 13416}, \"13425\": {\"frequency\": 1, \"value\": 13425}, \"13430\": {\"frequency\": 3, \"value\": 13430}, \"13431\": {\"frequency\": 1, \"value\": 13431}, \"13435\": {\"frequency\": 1, \"value\": 13435}, \"13438\": {\"frequency\": 1, \"value\": 13438}, \"13440\": {\"frequency\": 2, \"value\": 13440}, \"35008\": {\"frequency\": 1, \"value\": 35008}, \"13444\": {\"frequency\": 2, \"value\": 13444}, \"35009\": {\"frequency\": 1, \"value\": 35009}, \"13449\": {\"frequency\": 1, \"value\": 13449}, \"13450\": {\"frequency\": 2, \"value\": 13450}, \"44093\": {\"frequency\": 1, \"value\": 44093}, \"13457\": {\"frequency\": 2, \"value\": 13457}, \"13464\": {\"frequency\": 1, \"value\": 13464}, \"2244\": {\"frequency\": 1, \"value\": 2244}, \"13468\": {\"frequency\": 2, \"value\": 13468}, \"13470\": {\"frequency\": 1, \"value\": 13470}, \"13474\": {\"frequency\": 2, \"value\": 13474}, \"13475\": {\"frequency\": 2, \"value\": 13475}, \"13482\": {\"frequency\": 1, \"value\": 13482}, \"13493\": {\"frequency\": 1, \"value\": 13493}, \"13495\": {\"frequency\": 1, \"value\": 13495}, \"13496\": {\"frequency\": 1, \"value\": 13496}, \"13500\": {\"frequency\": 20, \"value\": 13500}, \"13501\": {\"frequency\": 1, \"value\": 13501}, \"13503\": {\"frequency\": 3, \"value\": 13503}, \"13504\": {\"frequency\": 1, \"value\": 13504}, \"13505\": {\"frequency\": 1, \"value\": 13505}, \"13515\": {\"frequency\": 3, \"value\": 13515}, \"13529\": {\"frequency\": 2, \"value\": 13529}, \"13530\": {\"frequency\": 2, \"value\": 13530}, \"144619\": {\"frequency\": 2, \"value\": 144619}, \"2258\": {\"frequency\": 1, \"value\": 2258}, \"13550\": {\"frequency\": 1, \"value\": 13550}, \"13551\": {\"frequency\": 2, \"value\": 13551}, \"13554\": {\"frequency\": 2, \"value\": 13554}, \"13566\": {\"frequency\": 1, \"value\": 13566}, \"13572\": {\"frequency\": 2, \"value\": 13572}, \"13579\": {\"frequency\": 3, \"value\": 13579}, \"13586\": {\"frequency\": 1, \"value\": 13586}, \"46355\": {\"frequency\": 1, \"value\": 46355}, \"13590\": {\"frequency\": 2, \"value\": 13590}, \"13591\": {\"frequency\": 1, \"value\": 13591}, \"13592\": {\"frequency\": 1, \"value\": 13592}, \"13600\": {\"frequency\": 3, \"value\": 13600}, \"13603\": {\"frequency\": 1, \"value\": 13603}, \"13609\": {\"frequency\": 2, \"value\": 13609}, \"13629\": {\"frequency\": 1, \"value\": 13629}, \"13630\": {\"frequency\": 2, \"value\": 13630}, \"35040\": {\"frequency\": 2, \"value\": 35040}, \"13640\": {\"frequency\": 1, \"value\": 13640}, \"210254\": {\"frequency\": 1, \"value\": 210254}, \"13647\": {\"frequency\": 1, \"value\": 13647}, \"13650\": {\"frequency\": 2, \"value\": 13650}, \"13673\": {\"frequency\": 1, \"value\": 13673}, \"13680\": {\"frequency\": 1, \"value\": 13680}, \"40510\": {\"frequency\": 2, \"value\": 40510}, \"13695\": {\"frequency\": 2, \"value\": 13695}, \"13700\": {\"frequency\": 4, \"value\": 13700}, \"13702\": {\"frequency\": 1, \"value\": 13702}, \"13703\": {\"frequency\": 1, \"value\": 13703}, \"13713\": {\"frequency\": 1, \"value\": 13713}, \"111513\": {\"frequency\": 1, \"value\": 111513}, \"13720\": {\"frequency\": 1, \"value\": 13720}, \"13729\": {\"frequency\": 1, \"value\": 13729}, \"13730\": {\"frequency\": 1, \"value\": 13730}, \"40518\": {\"frequency\": 1, \"value\": 40518}, \"13737\": {\"frequency\": 1, \"value\": 13737}, \"13738\": {\"frequency\": 1, \"value\": 13738}, \"79279\": {\"frequency\": 2, \"value\": 79279}, \"13747\": {\"frequency\": 1, \"value\": 13747}, \"13750\": {\"frequency\": 2, \"value\": 13750}, \"13751\": {\"frequency\": 1, \"value\": 13751}, \"13755\": {\"frequency\": 1, \"value\": 13755}, \"13775\": {\"frequency\": 4, \"value\": 13775}, \"13780\": {\"frequency\": 1, \"value\": 13780}, \"210394\": {\"frequency\": 1, \"value\": 210394}, \"13789\": {\"frequency\": 1, \"value\": 13789}, \"13791\": {\"frequency\": 1, \"value\": 13791}, \"13797\": {\"frequency\": 1, \"value\": 13797}, \"13800\": {\"frequency\": 2, \"value\": 13800}, \"13805\": {\"frequency\": 1, \"value\": 13805}, \"13806\": {\"frequency\": 1, \"value\": 13806}, \"13809\": {\"frequency\": 1, \"value\": 13809}, \"46580\": {\"frequency\": 1, \"value\": 46580}, \"13816\": {\"frequency\": 2, \"value\": 13816}, \"177657\": {\"frequency\": 1, \"value\": 177657}, \"13824\": {\"frequency\": 1, \"value\": 13824}, \"13833\": {\"frequency\": 1, \"value\": 13833}, \"35074\": {\"frequency\": 1, \"value\": 35074}, \"46609\": {\"frequency\": 7, \"value\": 46609}, \"13850\": {\"frequency\": 1, \"value\": 13850}, \"13860\": {\"frequency\": 3, \"value\": 13860}, \"13862\": {\"frequency\": 1, \"value\": 13862}, \"13869\": {\"frequency\": 1, \"value\": 13869}, \"13885\": {\"frequency\": 1, \"value\": 13885}, \"13891\": {\"frequency\": 1, \"value\": 13891}, \"13894\": {\"frequency\": 1, \"value\": 13894}, \"13899\": {\"frequency\": 1, \"value\": 13899}, \"13900\": {\"frequency\": 2, \"value\": 13900}, \"13906\": {\"frequency\": 1, \"value\": 13906}, \"13907\": {\"frequency\": 1, \"value\": 13907}, \"13912\": {\"frequency\": 2, \"value\": 13912}, \"13920\": {\"frequency\": 1, \"value\": 13920}, \"13927\": {\"frequency\": 3, \"value\": 13927}, \"13928\": {\"frequency\": 1, \"value\": 13928}, \"13929\": {\"frequency\": 1, \"value\": 13929}, \"13938\": {\"frequency\": 1, \"value\": 13938}, \"13939\": {\"frequency\": 4, \"value\": 13939}, \"13950\": {\"frequency\": 2, \"value\": 13950}, \"13959\": {\"frequency\": 2, \"value\": 13959}, \"13964\": {\"frequency\": 1, \"value\": 13964}, \"13970\": {\"frequency\": 1, \"value\": 13970}, \"13975\": {\"frequency\": 1, \"value\": 13975}, \"13978\": {\"frequency\": 1, \"value\": 13978}, \"46748\": {\"frequency\": 1, \"value\": 46748}, \"13981\": {\"frequency\": 1, \"value\": 13981}, \"13990\": {\"frequency\": 1, \"value\": 13990}, \"13991\": {\"frequency\": 1, \"value\": 13991}, \"35100\": {\"frequency\": 4, \"value\": 35100}, \"14000\": {\"frequency\": 11, \"value\": 14000}, \"2334\": {\"frequency\": 1, \"value\": 2334}, \"14012\": {\"frequency\": 1, \"value\": 14012}, \"14021\": {\"frequency\": 2, \"value\": 14021}, \"14030\": {\"frequency\": 1, \"value\": 14030}, \"14033\": {\"frequency\": 1, \"value\": 14033}, \"14034\": {\"frequency\": 1, \"value\": 14034}, \"14036\": {\"frequency\": 1, \"value\": 14036}, \"14040\": {\"frequency\": 4, \"value\": 14040}, \"14046\": {\"frequency\": 1, \"value\": 14046}, \"14052\": {\"frequency\": 1, \"value\": 14052}, \"14057\": {\"frequency\": 1, \"value\": 14057}, \"14062\": {\"frequency\": 1, \"value\": 14062}, \"14071\": {\"frequency\": 2, \"value\": 14071}, \"7807\": {\"frequency\": 5, \"value\": 7807}, \"112384\": {\"frequency\": 1, \"value\": 112384}, \"18731\": {\"frequency\": 1, \"value\": 18731}, \"14087\": {\"frequency\": 1, \"value\": 14087}, \"14091\": {\"frequency\": 1, \"value\": 14091}, \"14100\": {\"frequency\": 2, \"value\": 14100}, \"14110\": {\"frequency\": 2, \"value\": 14110}, \"14120\": {\"frequency\": 1, \"value\": 14120}, \"14125\": {\"frequency\": 1, \"value\": 14125}, \"14133\": {\"frequency\": 1, \"value\": 14133}, \"14134\": {\"frequency\": 1, \"value\": 14134}, \"14135\": {\"frequency\": 1, \"value\": 14135}, \"35124\": {\"frequency\": 2, \"value\": 35124}, \"14141\": {\"frequency\": 2, \"value\": 14141}, \"14149\": {\"frequency\": 2, \"value\": 14149}, \"14150\": {\"frequency\": 1, \"value\": 14150}, \"14161\": {\"frequency\": 1, \"value\": 14161}, \"79714\": {\"frequency\": 1, \"value\": 79714}, \"14196\": {\"frequency\": 2, \"value\": 14196}, \"14197\": {\"frequency\": 2, \"value\": 14197}, \"14200\": {\"frequency\": 2, \"value\": 14200}, \"14212\": {\"frequency\": 2, \"value\": 14212}, \"112521\": {\"frequency\": 1, \"value\": 112521}, \"14219\": {\"frequency\": 1, \"value\": 14219}, \"210830\": {\"frequency\": 2, \"value\": 210830}, \"7832\": {\"frequency\": 2, \"value\": 7832}, \"14240\": {\"frequency\": 1, \"value\": 14240}, \"14248\": {\"frequency\": 1, \"value\": 14248}, \"14250\": {\"frequency\": 6, \"value\": 14250}, \"14270\": {\"frequency\": 1, \"value\": 14270}, \"14271\": {\"frequency\": 1, \"value\": 14271}, \"7840\": {\"frequency\": 7, \"value\": 7840}, \"14275\": {\"frequency\": 1, \"value\": 14275}, \"47044\": {\"frequency\": 8, \"value\": 47044}, \"47045\": {\"frequency\": 1, \"value\": 47045}, \"14289\": {\"frequency\": 1, \"value\": 14289}, \"14300\": {\"frequency\": 2, \"value\": 14300}, \"14319\": {\"frequency\": 1, \"value\": 14319}, \"14321\": {\"frequency\": 1, \"value\": 14321}, \"14333\": {\"frequency\": 1, \"value\": 14333}, \"14338\": {\"frequency\": 1, \"value\": 14338}, \"14342\": {\"frequency\": 1, \"value\": 14342}, \"14350\": {\"frequency\": 2, \"value\": 14350}, \"14353\": {\"frequency\": 1, \"value\": 14353}, \"14373\": {\"frequency\": 1, \"value\": 14373}, \"14374\": {\"frequency\": 2, \"value\": 14374}, \"14395\": {\"frequency\": 1, \"value\": 14395}, \"14400\": {\"frequency\": 11, \"value\": 14400}, \"14401\": {\"frequency\": 1, \"value\": 14401}, \"14402\": {\"frequency\": 1, \"value\": 14402}, \"14404\": {\"frequency\": 1, \"value\": 14404}, \"14406\": {\"frequency\": 1, \"value\": 14406}, \"2401\": {\"frequency\": 1, \"value\": 2401}, \"14408\": {\"frequency\": 1, \"value\": 14408}, \"47179\": {\"frequency\": 1, \"value\": 47179}, \"14417\": {\"frequency\": 1, \"value\": 14417}, \"14440\": {\"frequency\": 1, \"value\": 14440}, \"112750\": {\"frequency\": 1, \"value\": 112750}, \"14455\": {\"frequency\": 1, \"value\": 14455}, \"79993\": {\"frequency\": 1, \"value\": 79993}, \"14467\": {\"frequency\": 2, \"value\": 14467}, \"47250\": {\"frequency\": 1, \"value\": 47250}, \"14486\": {\"frequency\": 1, \"value\": 14486}, \"14490\": {\"frequency\": 1, \"value\": 14490}, \"35183\": {\"frequency\": 1, \"value\": 35183}, \"14499\": {\"frequency\": 1, \"value\": 14499}, \"14565\": {\"frequency\": 2, \"value\": 14565}, \"14568\": {\"frequency\": 1, \"value\": 14568}, \"14599\": {\"frequency\": 1, \"value\": 14599}, \"14600\": {\"frequency\": 3, \"value\": 14600}, \"14607\": {\"frequency\": 1, \"value\": 14607}, \"14608\": {\"frequency\": 1, \"value\": 14608}, \"14630\": {\"frequency\": 2, \"value\": 14630}, \"14633\": {\"frequency\": 2, \"value\": 14633}, \"14645\": {\"frequency\": 1, \"value\": 14645}, \"14648\": {\"frequency\": 1, \"value\": 14648}, \"14649\": {\"frequency\": 1, \"value\": 14649}, \"14653\": {\"frequency\": 1, \"value\": 14653}, \"14667\": {\"frequency\": 1, \"value\": 14667}, \"14680\": {\"frequency\": 1, \"value\": 14680}, \"14695\": {\"frequency\": 1, \"value\": 14695}, \"14700\": {\"frequency\": 1, \"value\": 14700}, \"14703\": {\"frequency\": 1, \"value\": 14703}, \"47480\": {\"frequency\": 9, \"value\": 47480}, \"14720\": {\"frequency\": 1, \"value\": 14720}, \"14731\": {\"frequency\": 1, \"value\": 14731}, \"14733\": {\"frequency\": 1, \"value\": 14733}, \"14734\": {\"frequency\": 1, \"value\": 14734}, \"14745\": {\"frequency\": 1, \"value\": 14745}, \"14750\": {\"frequency\": 1, \"value\": 14750}, \"14757\": {\"frequency\": 1, \"value\": 14757}, \"14766\": {\"frequency\": 1, \"value\": 14766}, \"14773\": {\"frequency\": 1, \"value\": 14773}, \"14782\": {\"frequency\": 1, \"value\": 14782}, \"14800\": {\"frequency\": 3, \"value\": 14800}, \"14803\": {\"frequency\": 1, \"value\": 14803}, \"14810\": {\"frequency\": 5, \"value\": 14810}, \"14821\": {\"frequency\": 1, \"value\": 14821}, \"14834\": {\"frequency\": 1, \"value\": 14834}, \"14850\": {\"frequency\": 5, \"value\": 14850}, \"80400\": {\"frequency\": 1, \"value\": 80400}, \"7939\": {\"frequency\": 1, \"value\": 7939}, \"14872\": {\"frequency\": 1, \"value\": 14872}, \"14874\": {\"frequency\": 1, \"value\": 14874}, \"14890\": {\"frequency\": 1, \"value\": 14890}, \"14892\": {\"frequency\": 1, \"value\": 14892}, \"14904\": {\"frequency\": 1, \"value\": 14904}, \"14910\": {\"frequency\": 1, \"value\": 14910}, \"14913\": {\"frequency\": 1, \"value\": 14913}, \"14915\": {\"frequency\": 1, \"value\": 14915}, \"14925\": {\"frequency\": 2, \"value\": 14925}, \"80471\": {\"frequency\": 1, \"value\": 80471}, \"14952\": {\"frequency\": 1, \"value\": 14952}, \"35261\": {\"frequency\": 1, \"value\": 35261}, \"211576\": {\"frequency\": 1, \"value\": 211576}, \"14972\": {\"frequency\": 1, \"value\": 14972}, \"47743\": {\"frequency\": 1, \"value\": 47743}, \"14982\": {\"frequency\": 1, \"value\": 14982}, \"14984\": {\"frequency\": 1, \"value\": 14984}, \"14985\": {\"frequency\": 2, \"value\": 14985}, \"14986\": {\"frequency\": 2, \"value\": 14986}, \"14989\": {\"frequency\": 1, \"value\": 14989}, \"15000\": {\"frequency\": 28, \"value\": 15000}, \"15002\": {\"frequency\": 2, \"value\": 15002}, \"15003\": {\"frequency\": 2, \"value\": 15003}, \"7963\": {\"frequency\": 1, \"value\": 7963}, \"15021\": {\"frequency\": 1, \"value\": 15021}, \"15022\": {\"frequency\": 4, \"value\": 15022}, \"15028\": {\"frequency\": 1, \"value\": 15028}, \"15029\": {\"frequency\": 2, \"value\": 15029}, \"15030\": {\"frequency\": 1, \"value\": 15030}, \"15031\": {\"frequency\": 1, \"value\": 15031}, \"11412\": {\"frequency\": 1, \"value\": 11412}, \"15050\": {\"frequency\": 2, \"value\": 15050}, \"15053\": {\"frequency\": 1, \"value\": 15053}, \"15068\": {\"frequency\": 1, \"value\": 15068}, \"77972\": {\"frequency\": 3, \"value\": 77972}, \"15075\": {\"frequency\": 1, \"value\": 15075}, \"15084\": {\"frequency\": 2, \"value\": 15084}, \"15085\": {\"frequency\": 1, \"value\": 15085}, \"15086\": {\"frequency\": 1, \"value\": 15086}, \"15093\": {\"frequency\": 1, \"value\": 15093}, \"15099\": {\"frequency\": 1, \"value\": 15099}, \"15114\": {\"frequency\": 1, \"value\": 15114}, \"15119\": {\"frequency\": 1, \"value\": 15119}, \"15120\": {\"frequency\": 4, \"value\": 15120}, \"15123\": {\"frequency\": 1, \"value\": 15123}, \"15124\": {\"frequency\": 1, \"value\": 15124}, \"15139\": {\"frequency\": 1, \"value\": 15139}, \"15142\": {\"frequency\": 1, \"value\": 15142}, \"15143\": {\"frequency\": 2, \"value\": 15143}, \"47916\": {\"frequency\": 4, \"value\": 47916}, \"15151\": {\"frequency\": 2, \"value\": 15151}, \"15160\": {\"frequency\": 1, \"value\": 15160}, \"15175\": {\"frequency\": 1, \"value\": 15175}, \"35298\": {\"frequency\": 1, \"value\": 35298}, \"15185\": {\"frequency\": 1, \"value\": 15185}, \"15188\": {\"frequency\": 2, \"value\": 15188}, \"15190\": {\"frequency\": 1, \"value\": 15190}, \"47959\": {\"frequency\": 1, \"value\": 47959}, \"15200\": {\"frequency\": 3, \"value\": 15200}, \"15207\": {\"frequency\": 1, \"value\": 15207}, \"15210\": {\"frequency\": 3, \"value\": 15210}, \"15219\": {\"frequency\": 1, \"value\": 15219}, \"15232\": {\"frequency\": 2, \"value\": 15232}, \"15235\": {\"frequency\": 1, \"value\": 15235}, \"15236\": {\"frequency\": 1, \"value\": 15236}, \"15240\": {\"frequency\": 1, \"value\": 15240}, \"15246\": {\"frequency\": 5, \"value\": 15246}, \"15247\": {\"frequency\": 1, \"value\": 15247}, \"15250\": {\"frequency\": 2, \"value\": 15250}, \"15253\": {\"frequency\": 1, \"value\": 15253}, \"15258\": {\"frequency\": 2, \"value\": 15258}, \"15260\": {\"frequency\": 1, \"value\": 15260}, \"15264\": {\"frequency\": 2, \"value\": 15264}, \"15300\": {\"frequency\": 1, \"value\": 15300}, \"80837\": {\"frequency\": 1, \"value\": 80837}, \"15312\": {\"frequency\": 1, \"value\": 15312}, \"15330\": {\"frequency\": 2, \"value\": 15330}, \"15347\": {\"frequency\": 1, \"value\": 15347}, \"15349\": {\"frequency\": 1, \"value\": 15349}, \"15358\": {\"frequency\": 1, \"value\": 15358}, \"15360\": {\"frequency\": 2, \"value\": 15360}, \"15364\": {\"frequency\": 1, \"value\": 15364}, \"15367\": {\"frequency\": 1, \"value\": 15367}, \"15375\": {\"frequency\": 4, \"value\": 15375}, \"15398\": {\"frequency\": 1, \"value\": 15398}, \"15400\": {\"frequency\": 3, \"value\": 15400}, \"15405\": {\"frequency\": 1, \"value\": 15405}, \"15411\": {\"frequency\": 2, \"value\": 15411}, \"15420\": {\"frequency\": 1, \"value\": 15420}, \"15426\": {\"frequency\": 1, \"value\": 15426}, \"15435\": {\"frequency\": 1, \"value\": 15435}, \"15438\": {\"frequency\": 1, \"value\": 15438}, \"15450\": {\"frequency\": 3, \"value\": 15450}, \"15457\": {\"frequency\": 1, \"value\": 15457}, \"15480\": {\"frequency\": 2, \"value\": 15480}, \"81021\": {\"frequency\": 4, \"value\": 81021}, \"48257\": {\"frequency\": 1, \"value\": 48257}, \"15491\": {\"frequency\": 1, \"value\": 15491}, \"15496\": {\"frequency\": 1, \"value\": 15496}, \"15500\": {\"frequency\": 3, \"value\": 15500}, \"15508\": {\"frequency\": 2, \"value\": 15508}, \"15520\": {\"frequency\": 2, \"value\": 15520}, \"8048\": {\"frequency\": 2, \"value\": 8048}, \"48292\": {\"frequency\": 1, \"value\": 48292}, \"15525\": {\"frequency\": 1, \"value\": 15525}, \"15528\": {\"frequency\": 1, \"value\": 15528}, \"212137\": {\"frequency\": 3, \"value\": 212137}, \"15540\": {\"frequency\": 3, \"value\": 15540}, \"15559\": {\"frequency\": 1, \"value\": 15559}, \"15570\": {\"frequency\": 2, \"value\": 15570}, \"48351\": {\"frequency\": 5, \"value\": 48351}, \"15586\": {\"frequency\": 1, \"value\": 15586}, \"15593\": {\"frequency\": 2, \"value\": 15593}, \"15600\": {\"frequency\": 10, \"value\": 15600}, \"15606\": {\"frequency\": 1, \"value\": 15606}, \"73600\": {\"frequency\": 1, \"value\": 73600}, \"15639\": {\"frequency\": 1, \"value\": 15639}, \"15641\": {\"frequency\": 2, \"value\": 15641}, \"8069\": {\"frequency\": 2, \"value\": 8069}, \"1612\": {\"frequency\": 3, \"value\": 1612}, \"15653\": {\"frequency\": 2, \"value\": 15653}, \"41984\": {\"frequency\": 1, \"value\": 41984}, \"15677\": {\"frequency\": 1, \"value\": 15677}, \"15678\": {\"frequency\": 1, \"value\": 15678}, \"15681\": {\"frequency\": 2, \"value\": 15681}, \"15701\": {\"frequency\": 1, \"value\": 15701}, \"15704\": {\"frequency\": 1, \"value\": 15704}, \"8080\": {\"frequency\": 1, \"value\": 8080}, \"15720\": {\"frequency\": 1, \"value\": 15720}, \"15744\": {\"frequency\": 1, \"value\": 15744}, \"15745\": {\"frequency\": 1, \"value\": 15745}, \"15750\": {\"frequency\": 2, \"value\": 15750}, \"15757\": {\"frequency\": 1, \"value\": 15757}, \"15770\": {\"frequency\": 1, \"value\": 15770}, \"15783\": {\"frequency\": 2, \"value\": 15783}, \"15788\": {\"frequency\": 2, \"value\": 15788}, \"15798\": {\"frequency\": 1, \"value\": 15798}, \"15800\": {\"frequency\": 1, \"value\": 15800}, \"15817\": {\"frequency\": 1, \"value\": 15817}, \"15837\": {\"frequency\": 1, \"value\": 15837}, \"15842\": {\"frequency\": 1, \"value\": 15842}, \"15844\": {\"frequency\": 1, \"value\": 15844}, \"15867\": {\"frequency\": 1, \"value\": 15867}, \"15873\": {\"frequency\": 1, \"value\": 15873}, \"15890\": {\"frequency\": 1, \"value\": 15890}, \"169448\": {\"frequency\": 2, \"value\": 169448}, \"15907\": {\"frequency\": 1, \"value\": 15907}, \"15916\": {\"frequency\": 1, \"value\": 15916}, \"48693\": {\"frequency\": 1, \"value\": 48693}, \"48706\": {\"frequency\": 1, \"value\": 48706}, \"2657\": {\"frequency\": 1, \"value\": 2657}, \"8119\": {\"frequency\": 4, \"value\": 8119}, \"15950\": {\"frequency\": 1, \"value\": 15950}, \"15954\": {\"frequency\": 1, \"value\": 15954}, \"15958\": {\"frequency\": 1, \"value\": 15958}, \"15959\": {\"frequency\": 1, \"value\": 15959}, \"15960\": {\"frequency\": 1, \"value\": 15960}, \"48743\": {\"frequency\": 1, \"value\": 48743}, \"204732\": {\"frequency\": 1, \"value\": 204732}, \"15992\": {\"frequency\": 1, \"value\": 15992}, \"16000\": {\"frequency\": 14, \"value\": 16000}, \"81549\": {\"frequency\": 1, \"value\": 81549}, \"16015\": {\"frequency\": 3, \"value\": 16015}, \"48787\": {\"frequency\": 5, \"value\": 48787}, \"16020\": {\"frequency\": 2, \"value\": 16020}, \"212639\": {\"frequency\": 1, \"value\": 212639}, \"16048\": {\"frequency\": 1, \"value\": 16048}, \"16050\": {\"frequency\": 3, \"value\": 16050}, \"16061\": {\"frequency\": 1, \"value\": 16061}, \"16065\": {\"frequency\": 2, \"value\": 16065}, \"16080\": {\"frequency\": 1, \"value\": 16080}, \"40910\": {\"frequency\": 1, \"value\": 40910}, \"16105\": {\"frequency\": 1, \"value\": 16105}, \"16110\": {\"frequency\": 2, \"value\": 16110}, \"16117\": {\"frequency\": 4, \"value\": 16117}, \"16120\": {\"frequency\": 1, \"value\": 16120}, \"16139\": {\"frequency\": 1, \"value\": 16139}, \"16145\": {\"frequency\": 1, \"value\": 16145}, \"16170\": {\"frequency\": 1, \"value\": 16170}, \"16171\": {\"frequency\": 1, \"value\": 16171}, \"16188\": {\"frequency\": 1, \"value\": 16188}, \"16197\": {\"frequency\": 2, \"value\": 16197}, \"16200\": {\"frequency\": 17, \"value\": 16200}, \"264844\": {\"frequency\": 1, \"value\": 264844}, \"16219\": {\"frequency\": 1, \"value\": 16219}, \"48993\": {\"frequency\": 1, \"value\": 48993}, \"16236\": {\"frequency\": 1, \"value\": 16236}, \"16249\": {\"frequency\": 1, \"value\": 16249}, \"16258\": {\"frequency\": 2, \"value\": 16258}, \"16262\": {\"frequency\": 1, \"value\": 16262}, \"16263\": {\"frequency\": 1, \"value\": 16263}, \"16264\": {\"frequency\": 1, \"value\": 16264}, \"16275\": {\"frequency\": 1, \"value\": 16275}, \"16290\": {\"frequency\": 1, \"value\": 16290}, \"16300\": {\"frequency\": 3, \"value\": 16300}, \"16305\": {\"frequency\": 1, \"value\": 16305}, \"16320\": {\"frequency\": 1, \"value\": 16320}, \"49091\": {\"frequency\": 1, \"value\": 49091}, \"16339\": {\"frequency\": 1, \"value\": 16339}, \"505166\": {\"frequency\": 1, \"value\": 505166}, \"81892\": {\"frequency\": 4, \"value\": 81892}, \"81893\": {\"frequency\": 2, \"value\": 81893}, \"16365\": {\"frequency\": 1, \"value\": 16365}, \"49137\": {\"frequency\": 1, \"value\": 49137}, \"16376\": {\"frequency\": 1, \"value\": 16376}, \"16393\": {\"frequency\": 1, \"value\": 16393}, \"16397\": {\"frequency\": 1, \"value\": 16397}, \"81935\": {\"frequency\": 1, \"value\": 81935}, \"16400\": {\"frequency\": 2, \"value\": 16400}, \"16410\": {\"frequency\": 1, \"value\": 16410}, \"16454\": {\"frequency\": 1, \"value\": 16454}, \"16470\": {\"frequency\": 1, \"value\": 16470}, \"82031\": {\"frequency\": 1, \"value\": 82031}, \"16500\": {\"frequency\": 3, \"value\": 16500}, \"16510\": {\"frequency\": 1, \"value\": 16510}, \"16524\": {\"frequency\": 1, \"value\": 16524}, \"16526\": {\"frequency\": 2, \"value\": 16526}, \"16530\": {\"frequency\": 1, \"value\": 16530}, \"16552\": {\"frequency\": 2, \"value\": 16552}, \"16564\": {\"frequency\": 1, \"value\": 16564}, \"16573\": {\"frequency\": 1, \"value\": 16573}, \"16575\": {\"frequency\": 1, \"value\": 16575}, \"16582\": {\"frequency\": 1, \"value\": 16582}, \"16583\": {\"frequency\": 1, \"value\": 16583}, \"16600\": {\"frequency\": 2, \"value\": 16600}, \"16603\": {\"frequency\": 1, \"value\": 16603}, \"49375\": {\"frequency\": 1, \"value\": 49375}, \"16619\": {\"frequency\": 1, \"value\": 16619}, \"16643\": {\"frequency\": 2, \"value\": 16643}, \"16650\": {\"frequency\": 2, \"value\": 16650}, \"16672\": {\"frequency\": 2, \"value\": 16672}, \"16677\": {\"frequency\": 1, \"value\": 16677}, \"16679\": {\"frequency\": 2, \"value\": 16679}, \"49456\": {\"frequency\": 1, \"value\": 49456}, \"16738\": {\"frequency\": 1, \"value\": 16738}, \"16740\": {\"frequency\": 2, \"value\": 16740}, \"16748\": {\"frequency\": 1, \"value\": 16748}, \"8254\": {\"frequency\": 3, \"value\": 8254}, \"16770\": {\"frequency\": 1, \"value\": 16770}, \"16782\": {\"frequency\": 1, \"value\": 16782}, \"16788\": {\"frequency\": 1, \"value\": 16788}, \"16800\": {\"frequency\": 4, \"value\": 16800}, \"16801\": {\"frequency\": 1, \"value\": 16801}, \"16809\": {\"frequency\": 1, \"value\": 16809}, \"16817\": {\"frequency\": 1, \"value\": 16817}, \"16828\": {\"frequency\": 1, \"value\": 16828}, \"213444\": {\"frequency\": 3, \"value\": 213444}, \"16846\": {\"frequency\": 1, \"value\": 16846}, \"16851\": {\"frequency\": 1, \"value\": 16851}, \"16857\": {\"frequency\": 1, \"value\": 16857}, \"16863\": {\"frequency\": 1, \"value\": 16863}, \"16875\": {\"frequency\": 1, \"value\": 16875}, \"49658\": {\"frequency\": 8, \"value\": 49658}, \"16905\": {\"frequency\": 1, \"value\": 16905}, \"16909\": {\"frequency\": 2, \"value\": 16909}, \"16921\": {\"frequency\": 1, \"value\": 16921}, \"16928\": {\"frequency\": 1, \"value\": 16928}, \"16940\": {\"frequency\": 2, \"value\": 16940}, \"16952\": {\"frequency\": 1, \"value\": 16952}, \"16980\": {\"frequency\": 1, \"value\": 16980}, \"16996\": {\"frequency\": 1, \"value\": 16996}, \"17000\": {\"frequency\": 2, \"value\": 17000}, \"17003\": {\"frequency\": 2, \"value\": 17003}, \"30144\": {\"frequency\": 1, \"value\": 30144}, \"8304\": {\"frequency\": 2, \"value\": 8304}, \"17071\": {\"frequency\": 1, \"value\": 17071}, \"35617\": {\"frequency\": 1, \"value\": 35617}, \"17100\": {\"frequency\": 2, \"value\": 17100}, \"17120\": {\"frequency\": 1, \"value\": 17120}, \"17126\": {\"frequency\": 1, \"value\": 17126}, \"115434\": {\"frequency\": 3, \"value\": 115434}, \"17133\": {\"frequency\": 1, \"value\": 17133}, \"8320\": {\"frequency\": 7, \"value\": 8320}, \"49936\": {\"frequency\": 1, \"value\": 49936}, \"17180\": {\"frequency\": 1, \"value\": 17180}, \"17186\": {\"frequency\": 1, \"value\": 17186}, \"17204\": {\"frequency\": 1, \"value\": 17204}, \"17208\": {\"frequency\": 2, \"value\": 17208}, \"82764\": {\"frequency\": 2, \"value\": 82764}, \"50002\": {\"frequency\": 1, \"value\": 50002}, \"17235\": {\"frequency\": 1, \"value\": 17235}, \"17239\": {\"frequency\": 1, \"value\": 17239}, \"213879\": {\"frequency\": 2, \"value\": 213879}, \"17300\": {\"frequency\": 2, \"value\": 17300}, \"50094\": {\"frequency\": 4, \"value\": 50094}, \"17334\": {\"frequency\": 3, \"value\": 17334}, \"17349\": {\"frequency\": 2, \"value\": 17349}, \"17355\": {\"frequency\": 1, \"value\": 17355}, \"17360\": {\"frequency\": 1, \"value\": 17360}, \"17362\": {\"frequency\": 1, \"value\": 17362}, \"17366\": {\"frequency\": 1, \"value\": 17366}, \"17380\": {\"frequency\": 1, \"value\": 17380}, \"50155\": {\"frequency\": 1, \"value\": 50155}, \"17388\": {\"frequency\": 1, \"value\": 17388}, \"17389\": {\"frequency\": 1, \"value\": 17389}, \"17390\": {\"frequency\": 1, \"value\": 17390}, \"17400\": {\"frequency\": 5, \"value\": 17400}, \"17411\": {\"frequency\": 2, \"value\": 17411}, \"17424\": {\"frequency\": 4, \"value\": 17424}, \"17450\": {\"frequency\": 1, \"value\": 17450}, \"50233\": {\"frequency\": 1, \"value\": 50233}, \"17476\": {\"frequency\": 1, \"value\": 17476}, \"181319\": {\"frequency\": 1, \"value\": 181319}, \"17487\": {\"frequency\": 1, \"value\": 17487}, \"41147\": {\"frequency\": 1, \"value\": 41147}, \"17532\": {\"frequency\": 1, \"value\": 17532}, \"17533\": {\"frequency\": 1, \"value\": 17533}, \"50308\": {\"frequency\": 1, \"value\": 50308}, \"17568\": {\"frequency\": 1, \"value\": 17568}, \"17583\": {\"frequency\": 1, \"value\": 17583}, \"17585\": {\"frequency\": 1, \"value\": 17585}, \"17600\": {\"frequency\": 3, \"value\": 17600}, \"8399\": {\"frequency\": 2, \"value\": 8399}, \"17630\": {\"frequency\": 1, \"value\": 17630}, \"17635\": {\"frequency\": 1, \"value\": 17635}, \"50405\": {\"frequency\": 1, \"value\": 50405}, \"17640\": {\"frequency\": 1, \"value\": 17640}, \"17652\": {\"frequency\": 2, \"value\": 17652}, \"83199\": {\"frequency\": 2, \"value\": 83199}, \"17664\": {\"frequency\": 1, \"value\": 17664}, \"17674\": {\"frequency\": 1, \"value\": 17674}, \"17685\": {\"frequency\": 1, \"value\": 17685}, \"17700\": {\"frequency\": 2, \"value\": 17700}, \"214315\": {\"frequency\": 3, \"value\": 214315}, \"17709\": {\"frequency\": 1, \"value\": 17709}, \"17711\": {\"frequency\": 1, \"value\": 17711}, \"17715\": {\"frequency\": 1, \"value\": 17715}, \"17717\": {\"frequency\": 1, \"value\": 17717}, \"17739\": {\"frequency\": 1, \"value\": 17739}, \"17743\": {\"frequency\": 1, \"value\": 17743}, \"17745\": {\"frequency\": 1, \"value\": 17745}, \"50529\": {\"frequency\": 2, \"value\": 50529}, \"17788\": {\"frequency\": 1, \"value\": 17788}, \"17789\": {\"frequency\": 1, \"value\": 17789}, \"17800\": {\"frequency\": 1, \"value\": 17800}, \"17810\": {\"frequency\": 1, \"value\": 17810}, \"17811\": {\"frequency\": 1, \"value\": 17811}, \"17817\": {\"frequency\": 1, \"value\": 17817}, \"17832\": {\"frequency\": 1, \"value\": 17832}, \"17833\": {\"frequency\": 2, \"value\": 17833}, \"17841\": {\"frequency\": 1, \"value\": 17841}, \"17852\": {\"frequency\": 1, \"value\": 17852}, \"17853\": {\"frequency\": 2, \"value\": 17853}, \"17859\": {\"frequency\": 4, \"value\": 17859}, \"17861\": {\"frequency\": 1, \"value\": 17861}, \"17864\": {\"frequency\": 1, \"value\": 17864}, \"17877\": {\"frequency\": 1, \"value\": 17877}, \"17882\": {\"frequency\": 1, \"value\": 17882}, \"68519\": {\"frequency\": 1, \"value\": 68519}, \"1164794\": {\"frequency\": 1, \"value\": 1164794}, \"17919\": {\"frequency\": 1, \"value\": 17919}, \"17936\": {\"frequency\": 1, \"value\": 17936}, \"17950\": {\"frequency\": 1, \"value\": 17950}, \"18000\": {\"frequency\": 13, \"value\": 18000}, \"18001\": {\"frequency\": 1, \"value\": 18001}, \"542322\": {\"frequency\": 1, \"value\": 542322}, \"18042\": {\"frequency\": 2, \"value\": 18042}, \"18050\": {\"frequency\": 2, \"value\": 18050}, \"18055\": {\"frequency\": 2, \"value\": 18055}, \"18099\": {\"frequency\": 1, \"value\": 18099}, \"18129\": {\"frequency\": 1, \"value\": 18129}, \"18144\": {\"frequency\": 1, \"value\": 18144}, \"18150\": {\"frequency\": 1, \"value\": 18150}, \"18167\": {\"frequency\": 1, \"value\": 18167}, \"18184\": {\"frequency\": 1, \"value\": 18184}, \"50965\": {\"frequency\": 3, \"value\": 50965}, \"18199\": {\"frequency\": 1, \"value\": 18199}, \"18200\": {\"frequency\": 6, \"value\": 18200}, \"18224\": {\"frequency\": 1, \"value\": 18224}, \"18226\": {\"frequency\": 1, \"value\": 18226}, \"18250\": {\"frequency\": 1, \"value\": 18250}, \"18253\": {\"frequency\": 1, \"value\": 18253}, \"18265\": {\"frequency\": 1, \"value\": 18265}, \"18295\": {\"frequency\": 4, \"value\": 18295}, \"18296\": {\"frequency\": 1, \"value\": 18296}, \"18304\": {\"frequency\": 2, \"value\": 18304}, \"18306\": {\"frequency\": 1, \"value\": 18306}, \"18335\": {\"frequency\": 1, \"value\": 18335}, \"18360\": {\"frequency\": 3, \"value\": 18360}, \"18361\": {\"frequency\": 1, \"value\": 18361}, \"18362\": {\"frequency\": 2, \"value\": 18362}, \"18400\": {\"frequency\": 4, \"value\": 18400}, \"51177\": {\"frequency\": 1, \"value\": 51177}, \"41300\": {\"frequency\": 1, \"value\": 41300}, \"188760\": {\"frequency\": 1, \"value\": 188760}, \"18450\": {\"frequency\": 2, \"value\": 18450}, \"18480\": {\"frequency\": 2, \"value\": 18480}, \"18483\": {\"frequency\": 1, \"value\": 18483}, \"18500\": {\"frequency\": 2, \"value\": 18500}, \"18505\": {\"frequency\": 1, \"value\": 18505}, \"18525\": {\"frequency\": 2, \"value\": 18525}, \"18540\": {\"frequency\": 2, \"value\": 18540}, \"18564\": {\"frequency\": 1, \"value\": 18564}, \"18568\": {\"frequency\": 1, \"value\": 18568}, \"215186\": {\"frequency\": 3, \"value\": 215186}, \"18581\": {\"frequency\": 1, \"value\": 18581}, \"18600\": {\"frequency\": 3, \"value\": 18600}, \"3100\": {\"frequency\": 3, \"value\": 3100}, \"18616\": {\"frequency\": 1, \"value\": 18616}, \"18641\": {\"frequency\": 1, \"value\": 18641}, \"41339\": {\"frequency\": 1, \"value\": 41339}, \"18674\": {\"frequency\": 1, \"value\": 18674}, \"18700\": {\"frequency\": 2, \"value\": 18700}, \"18730\": {\"frequency\": 3, \"value\": 18730}, \"84267\": {\"frequency\": 1, \"value\": 84267}, \"18800\": {\"frequency\": 1, \"value\": 18800}, \"18804\": {\"frequency\": 1, \"value\": 18804}, \"18827\": {\"frequency\": 1, \"value\": 18827}, \"18834\": {\"frequency\": 1, \"value\": 18834}, \"18836\": {\"frequency\": 1, \"value\": 18836}, \"117176\": {\"frequency\": 4, \"value\": 117176}, \"18893\": {\"frequency\": 1, \"value\": 18893}, \"18900\": {\"frequency\": 3, \"value\": 18900}, \"18901\": {\"frequency\": 1, \"value\": 18901}, \"18935\": {\"frequency\": 1, \"value\": 18935}, \"84506\": {\"frequency\": 1, \"value\": 84506}, \"51763\": {\"frequency\": 1, \"value\": 51763}, \"19000\": {\"frequency\": 6, \"value\": 19000}, \"19025\": {\"frequency\": 1, \"value\": 19025}, \"19040\": {\"frequency\": 1, \"value\": 19040}, \"150117\": {\"frequency\": 1, \"value\": 150117}, \"51836\": {\"frequency\": 6, \"value\": 51836}, \"117378\": {\"frequency\": 1, \"value\": 117378}, \"19080\": {\"frequency\": 2, \"value\": 19080}, \"19116\": {\"frequency\": 1, \"value\": 19116}, \"5001\": {\"frequency\": 15, \"value\": 5001}, \"19141\": {\"frequency\": 1, \"value\": 19141}, \"19168\": {\"frequency\": 1, \"value\": 19168}, \"19177\": {\"frequency\": 1, \"value\": 19177}, \"19193\": {\"frequency\": 1, \"value\": 19193}, \"150270\": {\"frequency\": 1, \"value\": 150270}, \"19200\": {\"frequency\": 6, \"value\": 19200}, \"150282\": {\"frequency\": 1, \"value\": 150282}, \"248600\": {\"frequency\": 1, \"value\": 248600}, \"19252\": {\"frequency\": 1, \"value\": 19252}, \"46902\": {\"frequency\": 1, \"value\": 46902}, \"19270\": {\"frequency\": 1, \"value\": 19270}, \"19290\": {\"frequency\": 1, \"value\": 19290}, \"117612\": {\"frequency\": 1, \"value\": 117612}, \"19387\": {\"frequency\": 1, \"value\": 19387}, \"19401\": {\"frequency\": 1, \"value\": 19401}, \"84942\": {\"frequency\": 1, \"value\": 84942}, \"19436\": {\"frequency\": 1, \"value\": 19436}, \"19439\": {\"frequency\": 1, \"value\": 19439}, \"19447\": {\"frequency\": 1, \"value\": 19447}, \"52256\": {\"frequency\": 1, \"value\": 52256}, \"19501\": {\"frequency\": 1, \"value\": 19501}, \"52272\": {\"frequency\": 3, \"value\": 52272}, \"19513\": {\"frequency\": 1, \"value\": 19513}, \"14178\": {\"frequency\": 1, \"value\": 14178}, \"52302\": {\"frequency\": 1, \"value\": 52302}, \"478288\": {\"frequency\": 1, \"value\": 478288}, \"19542\": {\"frequency\": 1, \"value\": 19542}, \"19550\": {\"frequency\": 2, \"value\": 19550}, \"19593\": {\"frequency\": 1, \"value\": 19593}, \"19600\": {\"frequency\": 2, \"value\": 19600}, \"19602\": {\"frequency\": 2, \"value\": 19602}, \"19606\": {\"frequency\": 1, \"value\": 19606}, \"19635\": {\"frequency\": 1, \"value\": 19635}, \"19680\": {\"frequency\": 2, \"value\": 19680}, \"434728\": {\"frequency\": 1, \"value\": 434728}, \"19700\": {\"frequency\": 2, \"value\": 19700}, \"19709\": {\"frequency\": 1, \"value\": 19709}, \"216332\": {\"frequency\": 1, \"value\": 216332}, \"216344\": {\"frequency\": 1, \"value\": 216344}, \"118047\": {\"frequency\": 3, \"value\": 118047}, \"14217\": {\"frequency\": 1, \"value\": 14217}, \"19800\": {\"frequency\": 3, \"value\": 19800}, \"19821\": {\"frequency\": 1, \"value\": 19821}, \"85377\": {\"frequency\": 2, \"value\": 85377}, \"19843\": {\"frequency\": 1, \"value\": 19843}, \"19844\": {\"frequency\": 1, \"value\": 19844}, \"19850\": {\"frequency\": 3, \"value\": 19850}, \"19860\": {\"frequency\": 1, \"value\": 19860}, \"19864\": {\"frequency\": 1, \"value\": 19864}, \"19865\": {\"frequency\": 2, \"value\": 19865}, \"19876\": {\"frequency\": 1, \"value\": 19876}, \"216493\": {\"frequency\": 2, \"value\": 216493}, \"19899\": {\"frequency\": 1, \"value\": 19899}, \"19900\": {\"frequency\": 1, \"value\": 19900}, \"19901\": {\"frequency\": 1, \"value\": 19901}, \"52707\": {\"frequency\": 2, \"value\": 52707}, \"19965\": {\"frequency\": 2, \"value\": 19965}, \"19978\": {\"frequency\": 1, \"value\": 19978}, \"183823\": {\"frequency\": 1, \"value\": 183823}, \"19989\": {\"frequency\": 1, \"value\": 19989}, \"19991\": {\"frequency\": 2, \"value\": 19991}, \"3332\": {\"frequency\": 2, \"value\": 3332}, \"19998\": {\"frequency\": 1, \"value\": 19998}, \"20000\": {\"frequency\": 12, \"value\": 20000}, \"20001\": {\"frequency\": 2, \"value\": 20001}, \"20005\": {\"frequency\": 1, \"value\": 20005}, \"20012\": {\"frequency\": 1, \"value\": 20012}, \"20018\": {\"frequency\": 1, \"value\": 20018}, \"20023\": {\"frequency\": 1, \"value\": 20023}, \"20031\": {\"frequency\": 1, \"value\": 20031}, \"20040\": {\"frequency\": 2, \"value\": 20040}, \"20041\": {\"frequency\": 1, \"value\": 20041}, \"20063\": {\"frequency\": 1, \"value\": 20063}, \"20067\": {\"frequency\": 1, \"value\": 20067}, \"36116\": {\"frequency\": 1, \"value\": 36116}, \"20100\": {\"frequency\": 3, \"value\": 20100}, \"85643\": {\"frequency\": 1, \"value\": 85643}, \"52889\": {\"frequency\": 2, \"value\": 52889}, \"20130\": {\"frequency\": 1, \"value\": 20130}, \"20150\": {\"frequency\": 2, \"value\": 20150}, \"20158\": {\"frequency\": 1, \"value\": 20158}, \"216777\": {\"frequency\": 1, \"value\": 216777}, \"118483\": {\"frequency\": 1, \"value\": 118483}, \"52953\": {\"frequency\": 1, \"value\": 52953}, \"20189\": {\"frequency\": 1, \"value\": 20189}, \"85728\": {\"frequency\": 1, \"value\": 85728}, \"20242\": {\"frequency\": 1, \"value\": 20242}, \"20251\": {\"frequency\": 2, \"value\": 20251}, \"85813\": {\"frequency\": 1, \"value\": 85813}, \"20280\": {\"frequency\": 1, \"value\": 20280}, \"20296\": {\"frequency\": 1, \"value\": 20296}, \"20301\": {\"frequency\": 1, \"value\": 20301}, \"107157\": {\"frequency\": 4, \"value\": 107157}, \"74390\": {\"frequency\": 1, \"value\": 74390}, \"118666\": {\"frequency\": 1, \"value\": 118666}, \"53143\": {\"frequency\": 3, \"value\": 53143}, \"20377\": {\"frequency\": 1, \"value\": 20377}, \"20384\": {\"frequency\": 1, \"value\": 20384}, \"20400\": {\"frequency\": 2, \"value\": 20400}, \"217014\": {\"frequency\": 1, \"value\": 217014}, \"20412\": {\"frequency\": 2, \"value\": 20412}, \"20424\": {\"frequency\": 1, \"value\": 20424}, \"20441\": {\"frequency\": 1, \"value\": 20441}, \"20445\": {\"frequency\": 2, \"value\": 20445}, \"20446\": {\"frequency\": 1, \"value\": 20446}, \"315374\": {\"frequency\": 1, \"value\": 315374}, \"20466\": {\"frequency\": 1, \"value\": 20466}, \"53250\": {\"frequency\": 1, \"value\": 53250}, \"3417\": {\"frequency\": 1, \"value\": 3417}, \"20524\": {\"frequency\": 1, \"value\": 20524}, \"20531\": {\"frequency\": 1, \"value\": 20531}, \"29597\": {\"frequency\": 1, \"value\": 29597}, \"20570\": {\"frequency\": 1, \"value\": 20570}, \"6141\": {\"frequency\": 2, \"value\": 6141}, \"20588\": {\"frequency\": 1, \"value\": 20588}, \"20590\": {\"frequency\": 1, \"value\": 20590}, \"36200\": {\"frequency\": 1, \"value\": 36200}, \"118918\": {\"frequency\": 1, \"value\": 118918}, \"20620\": {\"frequency\": 1, \"value\": 20620}, \"53392\": {\"frequency\": 1, \"value\": 53392}, \"20662\": {\"frequency\": 1, \"value\": 20662}, \"20685\": {\"frequency\": 1, \"value\": 20685}, \"20700\": {\"frequency\": 3, \"value\": 20700}, \"20720\": {\"frequency\": 1, \"value\": 20720}, \"20734\": {\"frequency\": 1, \"value\": 20734}, \"20759\": {\"frequency\": 1, \"value\": 20759}, \"217374\": {\"frequency\": 1, \"value\": 217374}, \"20805\": {\"frequency\": 1, \"value\": 20805}, \"53574\": {\"frequency\": 1, \"value\": 53574}, \"53578\": {\"frequency\": 5, \"value\": 53578}, \"20812\": {\"frequency\": 1, \"value\": 20812}, \"53628\": {\"frequency\": 1, \"value\": 53628}, \"20868\": {\"frequency\": 1, \"value\": 20868}, \"36246\": {\"frequency\": 1, \"value\": 36246}, \"20870\": {\"frequency\": 1, \"value\": 20870}, \"20873\": {\"frequency\": 1, \"value\": 20873}, \"20894\": {\"frequency\": 1, \"value\": 20894}, \"20917\": {\"frequency\": 1, \"value\": 20917}, \"20946\": {\"frequency\": 1, \"value\": 20946}, \"20978\": {\"frequency\": 1, \"value\": 20978}, \"74495\": {\"frequency\": 1, \"value\": 74495}, \"21000\": {\"frequency\": 6, \"value\": 21000}, \"21043\": {\"frequency\": 2, \"value\": 21043}, \"21050\": {\"frequency\": 1, \"value\": 21050}, \"21074\": {\"frequency\": 1, \"value\": 21074}, \"21096\": {\"frequency\": 1, \"value\": 21096}, \"86636\": {\"frequency\": 1, \"value\": 86636}, \"39639\": {\"frequency\": 3, \"value\": 39639}, \"53898\": {\"frequency\": 1, \"value\": 53898}, \"21138\": {\"frequency\": 1, \"value\": 21138}, \"21183\": {\"frequency\": 2, \"value\": 21183}, \"21190\": {\"frequency\": 1, \"value\": 21190}, \"217800\": {\"frequency\": 15, \"value\": 217800}, \"21208\": {\"frequency\": 1, \"value\": 21208}, \"21217\": {\"frequency\": 1, \"value\": 21217}, \"21235\": {\"frequency\": 1, \"value\": 21235}, \"54014\": {\"frequency\": 5, \"value\": 54014}, \"21262\": {\"frequency\": 1, \"value\": 21262}, \"54048\": {\"frequency\": 1, \"value\": 54048}, \"185130\": {\"frequency\": 2, \"value\": 185130}, \"21300\": {\"frequency\": 1, \"value\": 21300}, \"21303\": {\"frequency\": 3, \"value\": 21303}, \"21312\": {\"frequency\": 1, \"value\": 21312}, \"21320\": {\"frequency\": 1, \"value\": 21320}, \"21336\": {\"frequency\": 1, \"value\": 21336}, \"21344\": {\"frequency\": 2, \"value\": 21344}, \"21357\": {\"frequency\": 1, \"value\": 21357}, \"54160\": {\"frequency\": 2, \"value\": 54160}, \"21399\": {\"frequency\": 1, \"value\": 21399}, \"21400\": {\"frequency\": 1, \"value\": 21400}, \"9032\": {\"frequency\": 1, \"value\": 9032}, \"21455\": {\"frequency\": 1, \"value\": 21455}, \"21485\": {\"frequency\": 1, \"value\": 21485}, \"21486\": {\"frequency\": 1, \"value\": 21486}, \"21514\": {\"frequency\": 1, \"value\": 21514}, \"250905\": {\"frequency\": 1, \"value\": 250905}, \"21562\": {\"frequency\": 2, \"value\": 21562}, \"87117\": {\"frequency\": 1, \"value\": 87117}, \"87120\": {\"frequency\": 3, \"value\": 87120}, \"21587\": {\"frequency\": 1, \"value\": 21587}, \"21600\": {\"frequency\": 2, \"value\": 21600}, \"54380\": {\"frequency\": 1, \"value\": 54380}, \"218235\": {\"frequency\": 2, \"value\": 218235}, \"21630\": {\"frequency\": 1, \"value\": 21630}, \"54400\": {\"frequency\": 1, \"value\": 54400}, \"218252\": {\"frequency\": 1, \"value\": 218252}, \"21650\": {\"frequency\": 1, \"value\": 21650}, \"349351\": {\"frequency\": 1, \"value\": 349351}, \"87213\": {\"frequency\": 1, \"value\": 87213}, \"54450\": {\"frequency\": 8, \"value\": 54450}, \"38912\": {\"frequency\": 1, \"value\": 38912}, \"52769\": {\"frequency\": 1, \"value\": 52769}, \"21712\": {\"frequency\": 1, \"value\": 21712}, \"21738\": {\"frequency\": 1, \"value\": 21738}, \"21755\": {\"frequency\": 1, \"value\": 21755}, \"3626\": {\"frequency\": 1, \"value\": 3626}, \"21780\": {\"frequency\": 9, \"value\": 21780}, \"21781\": {\"frequency\": 3, \"value\": 21781}, \"54557\": {\"frequency\": 1, \"value\": 54557}, \"36400\": {\"frequency\": 1, \"value\": 36400}, \"21794\": {\"frequency\": 1, \"value\": 21794}, \"21806\": {\"frequency\": 1, \"value\": 21806}, \"21810\": {\"frequency\": 1, \"value\": 21810}, \"21834\": {\"frequency\": 1, \"value\": 21834}, \"218472\": {\"frequency\": 1, \"value\": 218472}, \"21883\": {\"frequency\": 2, \"value\": 21883}, \"21890\": {\"frequency\": 1, \"value\": 21890}, \"21907\": {\"frequency\": 1, \"value\": 21907}, \"21929\": {\"frequency\": 1, \"value\": 21929}, \"21937\": {\"frequency\": 1, \"value\": 21937}, \"87497\": {\"frequency\": 1, \"value\": 87497}, \"21980\": {\"frequency\": 1, \"value\": 21980}, \"22000\": {\"frequency\": 6, \"value\": 22000}, \"9132\": {\"frequency\": 2, \"value\": 9132}, \"36445\": {\"frequency\": 1, \"value\": 36445}, \"22072\": {\"frequency\": 1, \"value\": 22072}, \"54846\": {\"frequency\": 1, \"value\": 54846}, \"22081\": {\"frequency\": 2, \"value\": 22081}, \"22089\": {\"frequency\": 1, \"value\": 22089}, \"22100\": {\"frequency\": 3, \"value\": 22100}, \"22111\": {\"frequency\": 1, \"value\": 22111}, \"22144\": {\"frequency\": 1, \"value\": 22144}, \"36478\": {\"frequency\": 1, \"value\": 36478}, \"22267\": {\"frequency\": 1, \"value\": 22267}, \"22326\": {\"frequency\": 2, \"value\": 22326}, \"22334\": {\"frequency\": 1, \"value\": 22334}, \"120661\": {\"frequency\": 1, \"value\": 120661}, \"22370\": {\"frequency\": 1, \"value\": 22370}, \"22410\": {\"frequency\": 1, \"value\": 22410}, \"87991\": {\"frequency\": 2, \"value\": 87991}, \"22482\": {\"frequency\": 1, \"value\": 22482}, \"22486\": {\"frequency\": 1, \"value\": 22486}, \"22489\": {\"frequency\": 1, \"value\": 22489}, \"219106\": {\"frequency\": 2, \"value\": 219106}, \"22500\": {\"frequency\": 2, \"value\": 22500}, \"22518\": {\"frequency\": 1, \"value\": 22518}, \"22529\": {\"frequency\": 1, \"value\": 22529}, \"22547\": {\"frequency\": 1, \"value\": 22547}, \"55321\": {\"frequency\": 3, \"value\": 55321}, \"22594\": {\"frequency\": 1, \"value\": 22594}, \"55387\": {\"frequency\": 1, \"value\": 55387}, \"22651\": {\"frequency\": 2, \"value\": 22651}, \"22703\": {\"frequency\": 2, \"value\": 22703}, \"88327\": {\"frequency\": 1, \"value\": 88327}, \"22798\": {\"frequency\": 1, \"value\": 22798}, \"22814\": {\"frequency\": 1, \"value\": 22814}, \"22860\": {\"frequency\": 1, \"value\": 22860}, \"22863\": {\"frequency\": 1, \"value\": 22863}, \"47502\": {\"frequency\": 1, \"value\": 47502}, \"383328\": {\"frequency\": 2, \"value\": 383328}, \"88426\": {\"frequency\": 3, \"value\": 88426}, \"36583\": {\"frequency\": 1, \"value\": 36583}, \"3817\": {\"frequency\": 2, \"value\": 3817}, \"219542\": {\"frequency\": 3, \"value\": 219542}, \"107593\": {\"frequency\": 1, \"value\": 107593}, \"23000\": {\"frequency\": 2, \"value\": 23000}, \"23085\": {\"frequency\": 1, \"value\": 23085}, \"42077\": {\"frequency\": 1, \"value\": 42077}, \"55867\": {\"frequency\": 1, \"value\": 55867}, \"23100\": {\"frequency\": 2, \"value\": 23100}, \"23103\": {\"frequency\": 1, \"value\": 23103}, \"23160\": {\"frequency\": 1, \"value\": 23160}, \"533610\": {\"frequency\": 1, \"value\": 533610}, \"3866\": {\"frequency\": 1, \"value\": 3866}, \"23200\": {\"frequency\": 1, \"value\": 23200}, \"23321\": {\"frequency\": 1, \"value\": 23321}, \"23361\": {\"frequency\": 1, \"value\": 23361}, \"219978\": {\"frequency\": 4, \"value\": 219978}, \"88909\": {\"frequency\": 1, \"value\": 88909}, \"23400\": {\"frequency\": 3, \"value\": 23400}, \"56192\": {\"frequency\": 4, \"value\": 56192}, \"23488\": {\"frequency\": 1, \"value\": 23488}, \"23522\": {\"frequency\": 4, \"value\": 23522}, \"6240\": {\"frequency\": 16, \"value\": 6240}, \"23568\": {\"frequency\": 1, \"value\": 23568}, \"23625\": {\"frequency\": 1, \"value\": 23625}, \"14864\": {\"frequency\": 1, \"value\": 14864}, \"23669\": {\"frequency\": 1, \"value\": 23669}, \"23680\": {\"frequency\": 1, \"value\": 23680}, \"220308\": {\"frequency\": 1, \"value\": 220308}, \"23716\": {\"frequency\": 1, \"value\": 23716}, \"23723\": {\"frequency\": 1, \"value\": 23723}, \"122038\": {\"frequency\": 1, \"value\": 122038}, \"89298\": {\"frequency\": 4, \"value\": 89298}, \"23781\": {\"frequency\": 1, \"value\": 23781}, \"23809\": {\"frequency\": 1, \"value\": 23809}, \"9432\": {\"frequency\": 1, \"value\": 9432}, \"56628\": {\"frequency\": 3, \"value\": 56628}, \"23870\": {\"frequency\": 1, \"value\": 23870}, \"23885\": {\"frequency\": 1, \"value\": 23885}, \"23899\": {\"frequency\": 1, \"value\": 23899}, \"23954\": {\"frequency\": 1, \"value\": 23954}, \"23985\": {\"frequency\": 1, \"value\": 23985}, \"23994\": {\"frequency\": 1, \"value\": 23994}, \"24000\": {\"frequency\": 1, \"value\": 24000}, \"155073\": {\"frequency\": 1, \"value\": 155073}, \"155130\": {\"frequency\": 1, \"value\": 155130}, \"24069\": {\"frequency\": 1, \"value\": 24069}, \"24074\": {\"frequency\": 1, \"value\": 24074}, \"24085\": {\"frequency\": 1, \"value\": 24085}, \"843309\": {\"frequency\": 1, \"value\": 843309}, \"24123\": {\"frequency\": 1, \"value\": 24123}, \"24166\": {\"frequency\": 1, \"value\": 24166}, \"24186\": {\"frequency\": 1, \"value\": 24186}, \"57000\": {\"frequency\": 1, \"value\": 57000}, \"57050\": {\"frequency\": 1, \"value\": 57050}, \"57063\": {\"frequency\": 6, \"value\": 57063}, \"24318\": {\"frequency\": 1, \"value\": 24318}, \"36817\": {\"frequency\": 1, \"value\": 36817}, \"39000\": {\"frequency\": 2, \"value\": 39000}, \"4079\": {\"frequency\": 2, \"value\": 4079}, \"24500\": {\"frequency\": 1, \"value\": 24500}, \"24501\": {\"frequency\": 1, \"value\": 24501}, \"9548\": {\"frequency\": 2, \"value\": 9548}, \"57346\": {\"frequency\": 1, \"value\": 57346}, \"57381\": {\"frequency\": 1, \"value\": 57381}, \"90169\": {\"frequency\": 2, \"value\": 90169}, \"24663\": {\"frequency\": 1, \"value\": 24663}, \"221284\": {\"frequency\": 1, \"value\": 221284}, \"24684\": {\"frequency\": 2, \"value\": 24684}, \"24691\": {\"frequency\": 1, \"value\": 24691}, \"24700\": {\"frequency\": 2, \"value\": 24700}, \"57499\": {\"frequency\": 7, \"value\": 57499}, \"57514\": {\"frequency\": 1, \"value\": 57514}, \"24750\": {\"frequency\": 3, \"value\": 24750}, \"24755\": {\"frequency\": 1, \"value\": 24755}, \"24759\": {\"frequency\": 1, \"value\": 24759}, \"24773\": {\"frequency\": 1, \"value\": 24773}, \"36900\": {\"frequency\": 2, \"value\": 36900}, \"24800\": {\"frequency\": 1, \"value\": 24800}, \"57587\": {\"frequency\": 1, \"value\": 57587}, \"24825\": {\"frequency\": 1, \"value\": 24825}, \"24829\": {\"frequency\": 2, \"value\": 24829}, \"24920\": {\"frequency\": 1, \"value\": 24920}, \"24931\": {\"frequency\": 1, \"value\": 24931}, \"24969\": {\"frequency\": 1, \"value\": 24969}, \"57745\": {\"frequency\": 1, \"value\": 57745}, \"25000\": {\"frequency\": 2, \"value\": 25000}, \"25002\": {\"frequency\": 1, \"value\": 25002}, \"36947\": {\"frequency\": 1, \"value\": 36947}, \"25150\": {\"frequency\": 1, \"value\": 25150}, \"25175\": {\"frequency\": 1, \"value\": 25175}, \"25211\": {\"frequency\": 1, \"value\": 25211}, \"57990\": {\"frequency\": 1, \"value\": 57990}, \"36974\": {\"frequency\": 1, \"value\": 36974}, \"42436\": {\"frequency\": 1, \"value\": 42436}, \"25245\": {\"frequency\": 1, \"value\": 25245}, \"25341\": {\"frequency\": 1, \"value\": 25341}, \"37000\": {\"frequency\": 1, \"value\": 37000}, \"123710\": {\"frequency\": 2, \"value\": 123710}, \"25470\": {\"frequency\": 1, \"value\": 25470}, \"25500\": {\"frequency\": 2, \"value\": 25500}, \"222156\": {\"frequency\": 2, \"value\": 222156}, \"58341\": {\"frequency\": 1, \"value\": 58341}, \"25600\": {\"frequency\": 2, \"value\": 25600}, \"25641\": {\"frequency\": 1, \"value\": 25641}, \"189486\": {\"frequency\": 3, \"value\": 189486}, \"25661\": {\"frequency\": 1, \"value\": 25661}, \"25697\": {\"frequency\": 1, \"value\": 25697}, \"25700\": {\"frequency\": 1, \"value\": 25700}, \"25714\": {\"frequency\": 1, \"value\": 25714}, \"25732\": {\"frequency\": 1, \"value\": 25732}, \"37058\": {\"frequency\": 1, \"value\": 37058}, \"25752\": {\"frequency\": 1, \"value\": 25752}, \"25800\": {\"frequency\": 1, \"value\": 25800}, \"25870\": {\"frequency\": 1, \"value\": 25870}, \"156988\": {\"frequency\": 1, \"value\": 156988}, \"91476\": {\"frequency\": 2, \"value\": 91476}, \"58712\": {\"frequency\": 1, \"value\": 58712}, \"25958\": {\"frequency\": 1, \"value\": 25958}, \"26000\": {\"frequency\": 2, \"value\": 26000}, \"320917\": {\"frequency\": 1, \"value\": 320917}, \"189852\": {\"frequency\": 1, \"value\": 189852}, \"26036\": {\"frequency\": 1, \"value\": 26036}, \"26040\": {\"frequency\": 1, \"value\": 26040}, \"26051\": {\"frequency\": 1, \"value\": 26051}, \"26055\": {\"frequency\": 1, \"value\": 26055}, \"41636\": {\"frequency\": 1, \"value\": 41636}, \"42580\": {\"frequency\": 1, \"value\": 42580}, \"26114\": {\"frequency\": 1, \"value\": 26114}, \"91681\": {\"frequency\": 1, \"value\": 91681}, \"59058\": {\"frequency\": 1, \"value\": 59058}, \"26300\": {\"frequency\": 1, \"value\": 26300}, \"26326\": {\"frequency\": 1, \"value\": 26326}, \"26337\": {\"frequency\": 1, \"value\": 26337}, \"26359\": {\"frequency\": 1, \"value\": 26359}, \"501376\": {\"frequency\": 1, \"value\": 501376}, \"91911\": {\"frequency\": 2, \"value\": 91911}, \"26460\": {\"frequency\": 1, \"value\": 26460}, \"59241\": {\"frequency\": 1, \"value\": 59241}, \"59242\": {\"frequency\": 1, \"value\": 59242}, \"26487\": {\"frequency\": 1, \"value\": 26487}, \"26500\": {\"frequency\": 2, \"value\": 26500}, \"190357\": {\"frequency\": 1, \"value\": 190357}, \"223377\": {\"frequency\": 1, \"value\": 223377}, \"26784\": {\"frequency\": 1, \"value\": 26784}, \"157875\": {\"frequency\": 1, \"value\": 157875}, \"92347\": {\"frequency\": 2, \"value\": 92347}, \"59586\": {\"frequency\": 1, \"value\": 59586}, \"223462\": {\"frequency\": 3, \"value\": 223462}, \"223463\": {\"frequency\": 1, \"value\": 223463}, \"26862\": {\"frequency\": 1, \"value\": 26862}, \"59677\": {\"frequency\": 4, \"value\": 59677}, \"37264\": {\"frequency\": 1, \"value\": 37264}, \"26989\": {\"frequency\": 1, \"value\": 26989}, \"27003\": {\"frequency\": 1, \"value\": 27003}, \"27007\": {\"frequency\": 3, \"value\": 27007}, \"27042\": {\"frequency\": 1, \"value\": 27042}, \"27072\": {\"frequency\": 1, \"value\": 27072}, \"27215\": {\"frequency\": 1, \"value\": 27215}, \"387684\": {\"frequency\": 1, \"value\": 387684}, \"27260\": {\"frequency\": 1, \"value\": 27260}, \"27311\": {\"frequency\": 1, \"value\": 27311}, \"60112\": {\"frequency\": 1, \"value\": 60112}, \"60123\": {\"frequency\": 1, \"value\": 60123}, \"191228\": {\"frequency\": 1, \"value\": 191228}, \"42800\": {\"frequency\": 1, \"value\": 42800}, \"27427\": {\"frequency\": 1, \"value\": 27427}, \"27441\": {\"frequency\": 2, \"value\": 27441}, \"158558\": {\"frequency\": 2, \"value\": 158558}, \"27540\": {\"frequency\": 1, \"value\": 27540}, \"37363\": {\"frequency\": 1, \"value\": 37363}, \"27586\": {\"frequency\": 1, \"value\": 27586}, \"27589\": {\"frequency\": 2, \"value\": 27589}, \"27591\": {\"frequency\": 1, \"value\": 27591}, \"60392\": {\"frequency\": 1, \"value\": 60392}, \"27631\": {\"frequency\": 1, \"value\": 27631}, \"93218\": {\"frequency\": 2, \"value\": 93218}, \"60467\": {\"frequency\": 1, \"value\": 60467}, \"27702\": {\"frequency\": 1, \"value\": 27702}, \"224334\": {\"frequency\": 1, \"value\": 224334}, \"60548\": {\"frequency\": 3, \"value\": 60548}, \"27820\": {\"frequency\": 1, \"value\": 27820}, \"224442\": {\"frequency\": 2, \"value\": 224442}, \"27951\": {\"frequency\": 1, \"value\": 27951}, \"60720\": {\"frequency\": 1, \"value\": 60720}, \"37431\": {\"frequency\": 1, \"value\": 37431}, \"28000\": {\"frequency\": 3, \"value\": 28000}, \"28005\": {\"frequency\": 1, \"value\": 28005}, \"28008\": {\"frequency\": 2, \"value\": 28008}, \"28014\": {\"frequency\": 1, \"value\": 28014}, \"28025\": {\"frequency\": 1, \"value\": 28025}, \"28037\": {\"frequency\": 1, \"value\": 28037}, \"28040\": {\"frequency\": 1, \"value\": 28040}, \"28046\": {\"frequency\": 1, \"value\": 28046}, \"28052\": {\"frequency\": 1, \"value\": 28052}, \"60840\": {\"frequency\": 1, \"value\": 60840}, \"28078\": {\"frequency\": 1, \"value\": 28078}, \"7482\": {\"frequency\": 5, \"value\": 7482}, \"28176\": {\"frequency\": 1, \"value\": 28176}, \"28185\": {\"frequency\": 2, \"value\": 28185}, \"108464\": {\"frequency\": 3, \"value\": 108464}, \"60984\": {\"frequency\": 4, \"value\": 60984}, \"28243\": {\"frequency\": 1, \"value\": 28243}, \"28254\": {\"frequency\": 1, \"value\": 28254}, \"21100\": {\"frequency\": 1, \"value\": 21100}, \"28300\": {\"frequency\": 2, \"value\": 28300}, \"28405\": {\"frequency\": 1, \"value\": 28405}, \"126759\": {\"frequency\": 1, \"value\": 126759}, \"239580\": {\"frequency\": 1, \"value\": 239580}, \"257875\": {\"frequency\": 2, \"value\": 257875}, \"28516\": {\"frequency\": 1, \"value\": 28516}, \"28531\": {\"frequency\": 1, \"value\": 28531}, \"28535\": {\"frequency\": 1, \"value\": 28535}, \"28563\": {\"frequency\": 1, \"value\": 28563}, \"28600\": {\"frequency\": 2, \"value\": 28600}, \"10230\": {\"frequency\": 5, \"value\": 10230}, \"61419\": {\"frequency\": 5, \"value\": 61419}, \"389126\": {\"frequency\": 1, \"value\": 389126}, \"28703\": {\"frequency\": 2, \"value\": 28703}, \"28717\": {\"frequency\": 1, \"value\": 28717}, \"28718\": {\"frequency\": 1, \"value\": 28718}, \"28750\": {\"frequency\": 2, \"value\": 28750}, \"94300\": {\"frequency\": 1, \"value\": 94300}, \"159865\": {\"frequency\": 3, \"value\": 159865}, \"290980\": {\"frequency\": 1, \"value\": 290980}, \"94525\": {\"frequency\": 4, \"value\": 94525}, \"206910\": {\"frequency\": 2, \"value\": 206910}, \"29078\": {\"frequency\": 1, \"value\": 29078}, \"29111\": {\"frequency\": 1, \"value\": 29111}, \"43088\": {\"frequency\": 1, \"value\": 43088}, \"29163\": {\"frequency\": 2, \"value\": 29163}, \"29170\": {\"frequency\": 1, \"value\": 29170}, \"43091\": {\"frequency\": 1, \"value\": 43091}, \"29224\": {\"frequency\": 1, \"value\": 29224}, \"29242\": {\"frequency\": 1, \"value\": 29242}, \"4874\": {\"frequency\": 2, \"value\": 4874}, \"29308\": {\"frequency\": 1, \"value\": 29308}, \"94855\": {\"frequency\": 1, \"value\": 94855}, \"29347\": {\"frequency\": 1, \"value\": 29347}, \"10355\": {\"frequency\": 1, \"value\": 10355}, \"94960\": {\"frequency\": 2, \"value\": 94960}, \"62290\": {\"frequency\": 3, \"value\": 62290}, \"62310\": {\"frequency\": 1, \"value\": 62310}, \"62365\": {\"frequency\": 1, \"value\": 62365}, \"174240\": {\"frequency\": 2, \"value\": 174240}, \"29735\": {\"frequency\": 1, \"value\": 29735}, \"95396\": {\"frequency\": 2, \"value\": 95396}, \"62726\": {\"frequency\": 2, \"value\": 62726}, \"29970\": {\"frequency\": 1, \"value\": 29970}, \"29982\": {\"frequency\": 1, \"value\": 29982}, \"30007\": {\"frequency\": 1, \"value\": 30007}, \"30083\": {\"frequency\": 1, \"value\": 30083}, \"292288\": {\"frequency\": 1, \"value\": 292288}, \"5031\": {\"frequency\": 1, \"value\": 5031}, \"128502\": {\"frequency\": 2, \"value\": 128502}, \"63118\": {\"frequency\": 1, \"value\": 63118}, \"30409\": {\"frequency\": 1, \"value\": 30409}, \"33747\": {\"frequency\": 1, \"value\": 33747}, \"194278\": {\"frequency\": 1, \"value\": 194278}, \"30456\": {\"frequency\": 2, \"value\": 30456}, \"30476\": {\"frequency\": 1, \"value\": 30476}, \"30500\": {\"frequency\": 1, \"value\": 30500}, \"30570\": {\"frequency\": 1, \"value\": 30570}, \"30605\": {\"frequency\": 1, \"value\": 30605}, \"423838\": {\"frequency\": 1, \"value\": 423838}, \"128937\": {\"frequency\": 1, \"value\": 128937}, \"50123\": {\"frequency\": 1, \"value\": 50123}, \"30736\": {\"frequency\": 1, \"value\": 30736}, \"26977\": {\"frequency\": 1, \"value\": 26977}, \"63597\": {\"frequency\": 2, \"value\": 63597}, \"161913\": {\"frequency\": 1, \"value\": 161913}, \"30869\": {\"frequency\": 1, \"value\": 30869}, \"30886\": {\"frequency\": 1, \"value\": 30886}, \"5157\": {\"frequency\": 1, \"value\": 5157}, \"96574\": {\"frequency\": 1, \"value\": 96574}, \"96703\": {\"frequency\": 1, \"value\": 96703}, \"31200\": {\"frequency\": 1, \"value\": 31200}, \"63991\": {\"frequency\": 1, \"value\": 63991}, \"31238\": {\"frequency\": 1, \"value\": 31238}, \"64033\": {\"frequency\": 2, \"value\": 64033}, \"37982\": {\"frequency\": 1, \"value\": 37982}, \"31299\": {\"frequency\": 1, \"value\": 31299}, \"64073\": {\"frequency\": 1, \"value\": 64073}, \"31400\": {\"frequency\": 1, \"value\": 31400}, \"31465\": {\"frequency\": 1, \"value\": 31465}, \"31491\": {\"frequency\": 1, \"value\": 31491}, \"31510\": {\"frequency\": 1, \"value\": 31510}, \"70800\": {\"frequency\": 1, \"value\": 70800}, \"97138\": {\"frequency\": 2, \"value\": 97138}, \"228254\": {\"frequency\": 1, \"value\": 228254}, \"31675\": {\"frequency\": 1, \"value\": 31675}, \"64469\": {\"frequency\": 1, \"value\": 64469}, \"31796\": {\"frequency\": 1, \"value\": 31796}, \"31798\": {\"frequency\": 1, \"value\": 31798}, \"31838\": {\"frequency\": 1, \"value\": 31838}, \"31850\": {\"frequency\": 1, \"value\": 31850}, \"130244\": {\"frequency\": 1, \"value\": 130244}, \"982278\": {\"frequency\": 1, \"value\": 982278}, \"32010\": {\"frequency\": 1, \"value\": 32010}, \"114562\": {\"frequency\": 1, \"value\": 114562}, \"392475\": {\"frequency\": 1, \"value\": 392475}, \"32033\": {\"frequency\": 1, \"value\": 32033}, \"97574\": {\"frequency\": 1, \"value\": 97574}, \"32044\": {\"frequency\": 1, \"value\": 32044}, \"10807\": {\"frequency\": 1, \"value\": 10807}, \"32093\": {\"frequency\": 1, \"value\": 32093}, \"32109\": {\"frequency\": 2, \"value\": 32109}, \"64904\": {\"frequency\": 1, \"value\": 64904}, \"32137\": {\"frequency\": 1, \"value\": 32137}, \"32175\": {\"frequency\": 1, \"value\": 32175}, \"196020\": {\"frequency\": 1, \"value\": 196020}, \"32214\": {\"frequency\": 1, \"value\": 32214}, \"327135\": {\"frequency\": 1, \"value\": 327135}, \"32234\": {\"frequency\": 1, \"value\": 32234}, \"65005\": {\"frequency\": 1, \"value\": 65005}, \"32239\": {\"frequency\": 1, \"value\": 32239}, \"32251\": {\"frequency\": 1, \"value\": 32251}, \"32336\": {\"frequency\": 1, \"value\": 32336}, \"130680\": {\"frequency\": 2, \"value\": 130680}, \"32379\": {\"frequency\": 1, \"value\": 32379}, \"32450\": {\"frequency\": 1, \"value\": 32450}, \"5412\": {\"frequency\": 2, \"value\": 5412}, \"10879\": {\"frequency\": 1, \"value\": 10879}, \"360241\": {\"frequency\": 1, \"value\": 360241}, \"65340\": {\"frequency\": 6, \"value\": 65340}, \"32633\": {\"frequency\": 1, \"value\": 32633}, \"262018\": {\"frequency\": 1, \"value\": 262018}, \"32660\": {\"frequency\": 1, \"value\": 32660}, \"32666\": {\"frequency\": 1, \"value\": 32666}, \"32670\": {\"frequency\": 2, \"value\": 32670}, \"32700\": {\"frequency\": 3, \"value\": 32700}, \"32710\": {\"frequency\": 1, \"value\": 32710}, \"982998\": {\"frequency\": 1, \"value\": 982998}, \"32757\": {\"frequency\": 1, \"value\": 32757}}, \"mean\": 15106.967565816867}}, \"selected_variable\": {\"name\": [\"<SFrame>\"], \"descriptives\": {\"rows\": 21613, \"columns\": 6}, \"view_component\": \"Summary\", \"view_file\": \"sframe\", \"view_params\": {\"y\": null, \"x\": null, \"columns\": [\"bedrooms\", \"bathrooms\", \"sqft_living\", \"sqft_lot\", \"floors\", \"zipcode\"], \"view\": null}, \"view_components\": [\"Summary\", \"Table\", \"Bar Chart\", \"BoxWhisker Plot\", \"Line Chart\", \"Scatter Plot\", \"Heat Map\", \"Plots\"], \"type\": \"SFrame\", \"columns\": [{\"dtype\": \"str\", \"name\": \"bedrooms\"}, {\"dtype\": \"str\", \"name\": \"bathrooms\"}, {\"dtype\": \"int\", \"name\": \"sqft_living\"}, {\"dtype\": \"int\", \"name\": \"sqft_lot\"}, {\"dtype\": \"str\", \"name\": \"floors\"}, {\"dtype\": \"str\", \"name\": \"zipcode\"}], \"column_identifiers\": [\"bathrooms\", \"bedrooms\", \"zipcode\", \"sqft_living\", \"floors\", \"sqft_lot\"]}, \"columns\": [{\"dtype\": \"str\", \"name\": \"bedrooms\"}, {\"dtype\": \"str\", \"name\": \"bathrooms\"}, {\"dtype\": \"int\", \"name\": \"sqft_living\"}, {\"dtype\": \"int\", \"name\": \"sqft_lot\"}, {\"dtype\": \"str\", \"name\": \"floors\"}, {\"dtype\": \"str\", \"name\": \"zipcode\"}]}, e);\n",
       "                });\n",
       "            })();\n",
       "        "
      ]
     },
     "metadata": {},
     "output_type": "display_data"
    }
   ],
   "source": [
    "graphlab.canvas.set_target('ipynb')\n",
    "sales[my_features].show()"
   ]
  },
  {
   "cell_type": "code",
   "execution_count": 27,
   "metadata": {
    "collapsed": false
   },
   "outputs": [
    {
     "name": "stdout",
     "output_type": "stream",
     "text": [
      "PROGRESS: Creating a validation set from 5 percent of training data. This may take a while.\n",
      "          You can set ``validation_set=None`` to disable validation tracking.\n",
      "\n",
      "PROGRESS: Linear regression:\n",
      "PROGRESS: --------------------------------------------------------\n",
      "PROGRESS: Number of examples          : 16571\n",
      "PROGRESS: Number of features          : 6\n",
      "PROGRESS: Number of unpacked features : 6\n",
      "PROGRESS: Number of coefficients    : 115\n",
      "PROGRESS: Starting Newton Method\n",
      "PROGRESS: --------------------------------------------------------\n",
      "PROGRESS: +-----------+----------+--------------+--------------------+----------------------+---------------+-----------------+\n",
      "PROGRESS: | Iteration | Passes   | Elapsed Time | Training-max_error | Validation-max_error | Training-rmse | Validation-rmse |\n",
      "PROGRESS: +-----------+----------+--------------+--------------------+----------------------+---------------+-----------------+\n",
      "PROGRESS: | 1         | 2        | 0.031253     | 3734994.950223     | 1356509.782861       | 182631.744819 | 167816.454349   |\n",
      "PROGRESS: +-----------+----------+--------------+--------------------+----------------------+---------------+-----------------+\n"
     ]
    }
   ],
   "source": [
    "my_features_model = graphlab.linear_regression.create(train_data, target='price',features = my_features)"
   ]
  },
  {
   "cell_type": "code",
   "execution_count": 23,
   "metadata": {
    "collapsed": false
   },
   "outputs": [
    {
     "name": "stdout",
     "output_type": "stream",
     "text": [
      "['bedrooms', 'bathrooms', 'sqft_living', 'sqft_lot', 'floors', 'zipcode']\n"
     ]
    }
   ],
   "source": [
    "print my_features"
   ]
  },
  {
   "cell_type": "code",
   "execution_count": 28,
   "metadata": {
    "collapsed": false
   },
   "outputs": [
    {
     "name": "stdout",
     "output_type": "stream",
     "text": [
      "{'max_error': 4144118.1903942847, 'rmse': 255198.24294020032}\n",
      "{'max_error': 3515840.5970519977, 'rmse': 180028.60436539922}\n"
     ]
    }
   ],
   "source": [
    "print sqft_model.evaluate(test_data)\n",
    "print my_features_model.evaluate(test_data)"
   ]
  },
  {
   "cell_type": "code",
   "execution_count": 30,
   "metadata": {
    "collapsed": false
   },
   "outputs": [],
   "source": [
    "house1 = sales[sales['id'] == '5309101200']"
   ]
  },
  {
   "cell_type": "code",
   "execution_count": 31,
   "metadata": {
    "collapsed": false
   },
   "outputs": [
    {
     "data": {
      "text/html": [
       "<div style=\"max-height:1000px;max-width:1500px;overflow:auto;\"><table frame=\"box\" rules=\"cols\">\n",
       "    <tr>\n",
       "        <th style=\"padding-left: 1em; padding-right: 1em; text-align: center\">id</th>\n",
       "        <th style=\"padding-left: 1em; padding-right: 1em; text-align: center\">date</th>\n",
       "        <th style=\"padding-left: 1em; padding-right: 1em; text-align: center\">price</th>\n",
       "        <th style=\"padding-left: 1em; padding-right: 1em; text-align: center\">bedrooms</th>\n",
       "        <th style=\"padding-left: 1em; padding-right: 1em; text-align: center\">bathrooms</th>\n",
       "        <th style=\"padding-left: 1em; padding-right: 1em; text-align: center\">sqft_living</th>\n",
       "        <th style=\"padding-left: 1em; padding-right: 1em; text-align: center\">sqft_lot</th>\n",
       "        <th style=\"padding-left: 1em; padding-right: 1em; text-align: center\">floors</th>\n",
       "        <th style=\"padding-left: 1em; padding-right: 1em; text-align: center\">waterfront</th>\n",
       "    </tr>\n",
       "    <tr>\n",
       "        <td style=\"padding-left: 1em; padding-right: 1em; text-align: center; vertical-align: top\">5309101200</td>\n",
       "        <td style=\"padding-left: 1em; padding-right: 1em; text-align: center; vertical-align: top\">2014-06-05 00:00:00+00:00</td>\n",
       "        <td style=\"padding-left: 1em; padding-right: 1em; text-align: center; vertical-align: top\">620000</td>\n",
       "        <td style=\"padding-left: 1em; padding-right: 1em; text-align: center; vertical-align: top\">4</td>\n",
       "        <td style=\"padding-left: 1em; padding-right: 1em; text-align: center; vertical-align: top\">2.25</td>\n",
       "        <td style=\"padding-left: 1em; padding-right: 1em; text-align: center; vertical-align: top\">2400</td>\n",
       "        <td style=\"padding-left: 1em; padding-right: 1em; text-align: center; vertical-align: top\">5350</td>\n",
       "        <td style=\"padding-left: 1em; padding-right: 1em; text-align: center; vertical-align: top\">1.5</td>\n",
       "        <td style=\"padding-left: 1em; padding-right: 1em; text-align: center; vertical-align: top\">0</td>\n",
       "    </tr>\n",
       "</table>\n",
       "<table frame=\"box\" rules=\"cols\">\n",
       "    <tr>\n",
       "        <th style=\"padding-left: 1em; padding-right: 1em; text-align: center\">view</th>\n",
       "        <th style=\"padding-left: 1em; padding-right: 1em; text-align: center\">condition</th>\n",
       "        <th style=\"padding-left: 1em; padding-right: 1em; text-align: center\">grade</th>\n",
       "        <th style=\"padding-left: 1em; padding-right: 1em; text-align: center\">sqft_above</th>\n",
       "        <th style=\"padding-left: 1em; padding-right: 1em; text-align: center\">sqft_basement</th>\n",
       "        <th style=\"padding-left: 1em; padding-right: 1em; text-align: center\">yr_built</th>\n",
       "        <th style=\"padding-left: 1em; padding-right: 1em; text-align: center\">yr_renovated</th>\n",
       "        <th style=\"padding-left: 1em; padding-right: 1em; text-align: center\">zipcode</th>\n",
       "        <th style=\"padding-left: 1em; padding-right: 1em; text-align: center\">lat</th>\n",
       "    </tr>\n",
       "    <tr>\n",
       "        <td style=\"padding-left: 1em; padding-right: 1em; text-align: center; vertical-align: top\">0</td>\n",
       "        <td style=\"padding-left: 1em; padding-right: 1em; text-align: center; vertical-align: top\">4</td>\n",
       "        <td style=\"padding-left: 1em; padding-right: 1em; text-align: center; vertical-align: top\">7</td>\n",
       "        <td style=\"padding-left: 1em; padding-right: 1em; text-align: center; vertical-align: top\">1460</td>\n",
       "        <td style=\"padding-left: 1em; padding-right: 1em; text-align: center; vertical-align: top\">940</td>\n",
       "        <td style=\"padding-left: 1em; padding-right: 1em; text-align: center; vertical-align: top\">1929</td>\n",
       "        <td style=\"padding-left: 1em; padding-right: 1em; text-align: center; vertical-align: top\">0</td>\n",
       "        <td style=\"padding-left: 1em; padding-right: 1em; text-align: center; vertical-align: top\">98117</td>\n",
       "        <td style=\"padding-left: 1em; padding-right: 1em; text-align: center; vertical-align: top\">47.67632376</td>\n",
       "    </tr>\n",
       "</table>\n",
       "<table frame=\"box\" rules=\"cols\">\n",
       "    <tr>\n",
       "        <th style=\"padding-left: 1em; padding-right: 1em; text-align: center\">long</th>\n",
       "        <th style=\"padding-left: 1em; padding-right: 1em; text-align: center\">sqft_living15</th>\n",
       "        <th style=\"padding-left: 1em; padding-right: 1em; text-align: center\">sqft_lot15</th>\n",
       "    </tr>\n",
       "    <tr>\n",
       "        <td style=\"padding-left: 1em; padding-right: 1em; text-align: center; vertical-align: top\">-122.37010126</td>\n",
       "        <td style=\"padding-left: 1em; padding-right: 1em; text-align: center; vertical-align: top\">1250.0</td>\n",
       "        <td style=\"padding-left: 1em; padding-right: 1em; text-align: center; vertical-align: top\">4880.0</td>\n",
       "    </tr>\n",
       "</table>\n",
       "[? rows x 21 columns]<br/>Note: Only the head of the SFrame is printed. This SFrame is lazily evaluated.<br/>You can use len(sf) to force materialization.\n",
       "</div>"
      ],
      "text/plain": [
       "Columns:\n",
       "\tid\tstr\n",
       "\tdate\tdatetime\n",
       "\tprice\tint\n",
       "\tbedrooms\tstr\n",
       "\tbathrooms\tstr\n",
       "\tsqft_living\tint\n",
       "\tsqft_lot\tint\n",
       "\tfloors\tstr\n",
       "\twaterfront\tint\n",
       "\tview\tint\n",
       "\tcondition\tint\n",
       "\tgrade\tint\n",
       "\tsqft_above\tint\n",
       "\tsqft_basement\tint\n",
       "\tyr_built\tint\n",
       "\tyr_renovated\tint\n",
       "\tzipcode\tstr\n",
       "\tlat\tfloat\n",
       "\tlong\tfloat\n",
       "\tsqft_living15\tfloat\n",
       "\tsqft_lot15\tfloat\n",
       "\n",
       "Rows: Unknown\n",
       "\n",
       "Data:\n",
       "+------------+---------------------------+--------+----------+-----------+-------------+\n",
       "|     id     |            date           | price  | bedrooms | bathrooms | sqft_living |\n",
       "+------------+---------------------------+--------+----------+-----------+-------------+\n",
       "| 5309101200 | 2014-06-05 00:00:00+00:00 | 620000 |    4     |    2.25   |     2400    |\n",
       "+------------+---------------------------+--------+----------+-----------+-------------+\n",
       "+----------+--------+------------+------+-----------+-------+------------+---------------+\n",
       "| sqft_lot | floors | waterfront | view | condition | grade | sqft_above | sqft_basement |\n",
       "+----------+--------+------------+------+-----------+-------+------------+---------------+\n",
       "|   5350   |  1.5   |     0      |  0   |     4     |   7   |    1460    |      940      |\n",
       "+----------+--------+------------+------+-----------+-------+------------+---------------+\n",
       "+----------+--------------+---------+-------------+---------------+---------------+-----+\n",
       "| yr_built | yr_renovated | zipcode |     lat     |      long     | sqft_living15 | ... |\n",
       "+----------+--------------+---------+-------------+---------------+---------------+-----+\n",
       "|   1929   |      0       |  98117  | 47.67632376 | -122.37010126 |     1250.0    | ... |\n",
       "+----------+--------------+---------+-------------+---------------+---------------+-----+\n",
       "[? rows x 21 columns]\n",
       "Note: Only the head of the SFrame is printed. This SFrame is lazily evaluated.\n",
       "You can use len(sf) to force materialization."
      ]
     },
     "execution_count": 31,
     "metadata": {},
     "output_type": "execute_result"
    }
   ],
   "source": [
    "house1"
   ]
  },
  {
   "cell_type": "code",
   "execution_count": 32,
   "metadata": {
    "collapsed": false
   },
   "outputs": [
    {
     "name": "stdout",
     "output_type": "stream",
     "text": [
      "[620000L, ... ]\n"
     ]
    }
   ],
   "source": [
    "print house1['price']"
   ]
  },
  {
   "cell_type": "code",
   "execution_count": 33,
   "metadata": {
    "collapsed": false
   },
   "outputs": [
    {
     "name": "stdout",
     "output_type": "stream",
     "text": [
      "[629114.3716704547]\n"
     ]
    }
   ],
   "source": [
    "print sqft_model.predict(house1)"
   ]
  },
  {
   "cell_type": "code",
   "execution_count": 34,
   "metadata": {
    "collapsed": false
   },
   "outputs": [
    {
     "name": "stdout",
     "output_type": "stream",
     "text": [
      "[722899.6877923921]\n"
     ]
    }
   ],
   "source": [
    "print my_features_model.predict(house1)"
   ]
  },
  {
   "cell_type": "code",
   "execution_count": 35,
   "metadata": {
    "collapsed": true
   },
   "outputs": [],
   "source": [
    "bill_gates = {'bedrooms':[8], \n",
    "              'bathrooms':[25], \n",
    "              'sqft_living':[50000], \n",
    "              'sqft_lot':[225000],\n",
    "              'floors':[4], \n",
    "              'zipcode':['98039'], \n",
    "              'condition':[10], \n",
    "              'grade':[10],\n",
    "              'waterfront':[1],\n",
    "              'view':[4],\n",
    "              'sqft_above':[37500],\n",
    "              'sqft_basement':[12500],\n",
    "              'yr_built':[1994],\n",
    "              'yr_renovated':[2010],\n",
    "              'lat':[47.627606],\n",
    "              'long':[-122.242054],\n",
    "              'sqft_living15':[5000],\n",
    "              'sqft_lot15':[40000]}"
   ]
  },
  {
   "cell_type": "code",
   "execution_count": 36,
   "metadata": {
    "collapsed": false
   },
   "outputs": [
    {
     "name": "stdout",
     "output_type": "stream",
     "text": [
      "[13806561.786776345]\n"
     ]
    }
   ],
   "source": [
    "print my_features_model.predict(graphlab.SFrame(bill_gates))"
   ]
  },
  {
   "cell_type": "markdown",
   "metadata": {
    "collapsed": true
   },
   "source": [
    "# Part 2 - Fire up with Pandas and sklearn"
   ]
  },
  {
   "cell_type": "code",
   "execution_count": 26,
   "metadata": {
    "collapsed": true
   },
   "outputs": [],
   "source": [
    "import os\n",
    "import numpy as np\n",
    "import math\n",
    "import pandas as pd\n",
    "import matplotlib.pyplot as plt\n",
    "import seaborn as sns\n",
    "from sklearn.cross_validation import train_test_split\n",
    "from sklearn.metrics import mean_squared_error\n",
    "from sklearn.metrics import explained_variance_score\n",
    "from sklearn.metrics import mean_absolute_error\n",
    "from sklearn.metrics import median_absolute_error\n",
    "from sklearn import linear_model\n",
    "\n",
    "%matplotlib inline\n",
    "os.chdir('C:\\Users\\suh0902\\Desktop\\CP\\dataset')"
   ]
  },
  {
   "cell_type": "markdown",
   "metadata": {},
   "source": [
    "# Load some house sales data\n",
    "\n"
   ]
  },
  {
   "cell_type": "code",
   "execution_count": 27,
   "metadata": {
    "collapsed": true
   },
   "outputs": [],
   "source": [
    "sales = pd.read_csv('home_data.csv')"
   ]
  },
  {
   "cell_type": "code",
   "execution_count": 28,
   "metadata": {
    "collapsed": false
   },
   "outputs": [
    {
     "data": {
      "text/html": [
       "<div>\n",
       "<table border=\"1\" class=\"dataframe\">\n",
       "  <thead>\n",
       "    <tr style=\"text-align: right;\">\n",
       "      <th></th>\n",
       "      <th>id</th>\n",
       "      <th>date</th>\n",
       "      <th>price</th>\n",
       "      <th>bedrooms</th>\n",
       "      <th>bathrooms</th>\n",
       "      <th>sqft_living</th>\n",
       "      <th>sqft_lot</th>\n",
       "      <th>floors</th>\n",
       "      <th>waterfront</th>\n",
       "      <th>view</th>\n",
       "      <th>...</th>\n",
       "      <th>grade</th>\n",
       "      <th>sqft_above</th>\n",
       "      <th>sqft_basement</th>\n",
       "      <th>yr_built</th>\n",
       "      <th>yr_renovated</th>\n",
       "      <th>zipcode</th>\n",
       "      <th>lat</th>\n",
       "      <th>long</th>\n",
       "      <th>sqft_living15</th>\n",
       "      <th>sqft_lot15</th>\n",
       "    </tr>\n",
       "  </thead>\n",
       "  <tbody>\n",
       "    <tr>\n",
       "      <th>0</th>\n",
       "      <td>7129300520</td>\n",
       "      <td>20141013T000000</td>\n",
       "      <td>221900</td>\n",
       "      <td>3</td>\n",
       "      <td>1.00</td>\n",
       "      <td>1180</td>\n",
       "      <td>5650</td>\n",
       "      <td>1.0</td>\n",
       "      <td>0</td>\n",
       "      <td>0</td>\n",
       "      <td>...</td>\n",
       "      <td>7</td>\n",
       "      <td>1180</td>\n",
       "      <td>0</td>\n",
       "      <td>1955</td>\n",
       "      <td>0</td>\n",
       "      <td>98178</td>\n",
       "      <td>47.5112</td>\n",
       "      <td>-122.257</td>\n",
       "      <td>1340</td>\n",
       "      <td>5650</td>\n",
       "    </tr>\n",
       "    <tr>\n",
       "      <th>1</th>\n",
       "      <td>6414100192</td>\n",
       "      <td>20141209T000000</td>\n",
       "      <td>538000</td>\n",
       "      <td>3</td>\n",
       "      <td>2.25</td>\n",
       "      <td>2570</td>\n",
       "      <td>7242</td>\n",
       "      <td>2.0</td>\n",
       "      <td>0</td>\n",
       "      <td>0</td>\n",
       "      <td>...</td>\n",
       "      <td>7</td>\n",
       "      <td>2170</td>\n",
       "      <td>400</td>\n",
       "      <td>1951</td>\n",
       "      <td>1991</td>\n",
       "      <td>98125</td>\n",
       "      <td>47.7210</td>\n",
       "      <td>-122.319</td>\n",
       "      <td>1690</td>\n",
       "      <td>7639</td>\n",
       "    </tr>\n",
       "    <tr>\n",
       "      <th>2</th>\n",
       "      <td>5631500400</td>\n",
       "      <td>20150225T000000</td>\n",
       "      <td>180000</td>\n",
       "      <td>2</td>\n",
       "      <td>1.00</td>\n",
       "      <td>770</td>\n",
       "      <td>10000</td>\n",
       "      <td>1.0</td>\n",
       "      <td>0</td>\n",
       "      <td>0</td>\n",
       "      <td>...</td>\n",
       "      <td>6</td>\n",
       "      <td>770</td>\n",
       "      <td>0</td>\n",
       "      <td>1933</td>\n",
       "      <td>0</td>\n",
       "      <td>98028</td>\n",
       "      <td>47.7379</td>\n",
       "      <td>-122.233</td>\n",
       "      <td>2720</td>\n",
       "      <td>8062</td>\n",
       "    </tr>\n",
       "    <tr>\n",
       "      <th>3</th>\n",
       "      <td>2487200875</td>\n",
       "      <td>20141209T000000</td>\n",
       "      <td>604000</td>\n",
       "      <td>4</td>\n",
       "      <td>3.00</td>\n",
       "      <td>1960</td>\n",
       "      <td>5000</td>\n",
       "      <td>1.0</td>\n",
       "      <td>0</td>\n",
       "      <td>0</td>\n",
       "      <td>...</td>\n",
       "      <td>7</td>\n",
       "      <td>1050</td>\n",
       "      <td>910</td>\n",
       "      <td>1965</td>\n",
       "      <td>0</td>\n",
       "      <td>98136</td>\n",
       "      <td>47.5208</td>\n",
       "      <td>-122.393</td>\n",
       "      <td>1360</td>\n",
       "      <td>5000</td>\n",
       "    </tr>\n",
       "    <tr>\n",
       "      <th>4</th>\n",
       "      <td>1954400510</td>\n",
       "      <td>20150218T000000</td>\n",
       "      <td>510000</td>\n",
       "      <td>3</td>\n",
       "      <td>2.00</td>\n",
       "      <td>1680</td>\n",
       "      <td>8080</td>\n",
       "      <td>1.0</td>\n",
       "      <td>0</td>\n",
       "      <td>0</td>\n",
       "      <td>...</td>\n",
       "      <td>8</td>\n",
       "      <td>1680</td>\n",
       "      <td>0</td>\n",
       "      <td>1987</td>\n",
       "      <td>0</td>\n",
       "      <td>98074</td>\n",
       "      <td>47.6168</td>\n",
       "      <td>-122.045</td>\n",
       "      <td>1800</td>\n",
       "      <td>7503</td>\n",
       "    </tr>\n",
       "    <tr>\n",
       "      <th>5</th>\n",
       "      <td>7237550310</td>\n",
       "      <td>20140512T000000</td>\n",
       "      <td>1225000</td>\n",
       "      <td>4</td>\n",
       "      <td>4.50</td>\n",
       "      <td>5420</td>\n",
       "      <td>101930</td>\n",
       "      <td>1.0</td>\n",
       "      <td>0</td>\n",
       "      <td>0</td>\n",
       "      <td>...</td>\n",
       "      <td>11</td>\n",
       "      <td>3890</td>\n",
       "      <td>1530</td>\n",
       "      <td>2001</td>\n",
       "      <td>0</td>\n",
       "      <td>98053</td>\n",
       "      <td>47.6561</td>\n",
       "      <td>-122.005</td>\n",
       "      <td>4760</td>\n",
       "      <td>101930</td>\n",
       "    </tr>\n",
       "    <tr>\n",
       "      <th>6</th>\n",
       "      <td>1321400060</td>\n",
       "      <td>20140627T000000</td>\n",
       "      <td>257500</td>\n",
       "      <td>3</td>\n",
       "      <td>2.25</td>\n",
       "      <td>1715</td>\n",
       "      <td>6819</td>\n",
       "      <td>2.0</td>\n",
       "      <td>0</td>\n",
       "      <td>0</td>\n",
       "      <td>...</td>\n",
       "      <td>7</td>\n",
       "      <td>1715</td>\n",
       "      <td>0</td>\n",
       "      <td>1995</td>\n",
       "      <td>0</td>\n",
       "      <td>98003</td>\n",
       "      <td>47.3097</td>\n",
       "      <td>-122.327</td>\n",
       "      <td>2238</td>\n",
       "      <td>6819</td>\n",
       "    </tr>\n",
       "    <tr>\n",
       "      <th>7</th>\n",
       "      <td>2008000270</td>\n",
       "      <td>20150115T000000</td>\n",
       "      <td>291850</td>\n",
       "      <td>3</td>\n",
       "      <td>1.50</td>\n",
       "      <td>1060</td>\n",
       "      <td>9711</td>\n",
       "      <td>1.0</td>\n",
       "      <td>0</td>\n",
       "      <td>0</td>\n",
       "      <td>...</td>\n",
       "      <td>7</td>\n",
       "      <td>1060</td>\n",
       "      <td>0</td>\n",
       "      <td>1963</td>\n",
       "      <td>0</td>\n",
       "      <td>98198</td>\n",
       "      <td>47.4095</td>\n",
       "      <td>-122.315</td>\n",
       "      <td>1650</td>\n",
       "      <td>9711</td>\n",
       "    </tr>\n",
       "    <tr>\n",
       "      <th>8</th>\n",
       "      <td>2414600126</td>\n",
       "      <td>20150415T000000</td>\n",
       "      <td>229500</td>\n",
       "      <td>3</td>\n",
       "      <td>1.00</td>\n",
       "      <td>1780</td>\n",
       "      <td>7470</td>\n",
       "      <td>1.0</td>\n",
       "      <td>0</td>\n",
       "      <td>0</td>\n",
       "      <td>...</td>\n",
       "      <td>7</td>\n",
       "      <td>1050</td>\n",
       "      <td>730</td>\n",
       "      <td>1960</td>\n",
       "      <td>0</td>\n",
       "      <td>98146</td>\n",
       "      <td>47.5123</td>\n",
       "      <td>-122.337</td>\n",
       "      <td>1780</td>\n",
       "      <td>8113</td>\n",
       "    </tr>\n",
       "    <tr>\n",
       "      <th>9</th>\n",
       "      <td>3793500160</td>\n",
       "      <td>20150312T000000</td>\n",
       "      <td>323000</td>\n",
       "      <td>3</td>\n",
       "      <td>2.50</td>\n",
       "      <td>1890</td>\n",
       "      <td>6560</td>\n",
       "      <td>2.0</td>\n",
       "      <td>0</td>\n",
       "      <td>0</td>\n",
       "      <td>...</td>\n",
       "      <td>7</td>\n",
       "      <td>1890</td>\n",
       "      <td>0</td>\n",
       "      <td>2003</td>\n",
       "      <td>0</td>\n",
       "      <td>98038</td>\n",
       "      <td>47.3684</td>\n",
       "      <td>-122.031</td>\n",
       "      <td>2390</td>\n",
       "      <td>7570</td>\n",
       "    </tr>\n",
       "    <tr>\n",
       "      <th>10</th>\n",
       "      <td>1736800520</td>\n",
       "      <td>20150403T000000</td>\n",
       "      <td>662500</td>\n",
       "      <td>3</td>\n",
       "      <td>2.50</td>\n",
       "      <td>3560</td>\n",
       "      <td>9796</td>\n",
       "      <td>1.0</td>\n",
       "      <td>0</td>\n",
       "      <td>0</td>\n",
       "      <td>...</td>\n",
       "      <td>8</td>\n",
       "      <td>1860</td>\n",
       "      <td>1700</td>\n",
       "      <td>1965</td>\n",
       "      <td>0</td>\n",
       "      <td>98007</td>\n",
       "      <td>47.6007</td>\n",
       "      <td>-122.145</td>\n",
       "      <td>2210</td>\n",
       "      <td>8925</td>\n",
       "    </tr>\n",
       "    <tr>\n",
       "      <th>11</th>\n",
       "      <td>9212900260</td>\n",
       "      <td>20140527T000000</td>\n",
       "      <td>468000</td>\n",
       "      <td>2</td>\n",
       "      <td>1.00</td>\n",
       "      <td>1160</td>\n",
       "      <td>6000</td>\n",
       "      <td>1.0</td>\n",
       "      <td>0</td>\n",
       "      <td>0</td>\n",
       "      <td>...</td>\n",
       "      <td>7</td>\n",
       "      <td>860</td>\n",
       "      <td>300</td>\n",
       "      <td>1942</td>\n",
       "      <td>0</td>\n",
       "      <td>98115</td>\n",
       "      <td>47.6900</td>\n",
       "      <td>-122.292</td>\n",
       "      <td>1330</td>\n",
       "      <td>6000</td>\n",
       "    </tr>\n",
       "    <tr>\n",
       "      <th>12</th>\n",
       "      <td>114101516</td>\n",
       "      <td>20140528T000000</td>\n",
       "      <td>310000</td>\n",
       "      <td>3</td>\n",
       "      <td>1.00</td>\n",
       "      <td>1430</td>\n",
       "      <td>19901</td>\n",
       "      <td>1.5</td>\n",
       "      <td>0</td>\n",
       "      <td>0</td>\n",
       "      <td>...</td>\n",
       "      <td>7</td>\n",
       "      <td>1430</td>\n",
       "      <td>0</td>\n",
       "      <td>1927</td>\n",
       "      <td>0</td>\n",
       "      <td>98028</td>\n",
       "      <td>47.7558</td>\n",
       "      <td>-122.229</td>\n",
       "      <td>1780</td>\n",
       "      <td>12697</td>\n",
       "    </tr>\n",
       "    <tr>\n",
       "      <th>13</th>\n",
       "      <td>6054650070</td>\n",
       "      <td>20141007T000000</td>\n",
       "      <td>400000</td>\n",
       "      <td>3</td>\n",
       "      <td>1.75</td>\n",
       "      <td>1370</td>\n",
       "      <td>9680</td>\n",
       "      <td>1.0</td>\n",
       "      <td>0</td>\n",
       "      <td>0</td>\n",
       "      <td>...</td>\n",
       "      <td>7</td>\n",
       "      <td>1370</td>\n",
       "      <td>0</td>\n",
       "      <td>1977</td>\n",
       "      <td>0</td>\n",
       "      <td>98074</td>\n",
       "      <td>47.6127</td>\n",
       "      <td>-122.045</td>\n",
       "      <td>1370</td>\n",
       "      <td>10208</td>\n",
       "    </tr>\n",
       "    <tr>\n",
       "      <th>14</th>\n",
       "      <td>1175000570</td>\n",
       "      <td>20150312T000000</td>\n",
       "      <td>530000</td>\n",
       "      <td>5</td>\n",
       "      <td>2.00</td>\n",
       "      <td>1810</td>\n",
       "      <td>4850</td>\n",
       "      <td>1.5</td>\n",
       "      <td>0</td>\n",
       "      <td>0</td>\n",
       "      <td>...</td>\n",
       "      <td>7</td>\n",
       "      <td>1810</td>\n",
       "      <td>0</td>\n",
       "      <td>1900</td>\n",
       "      <td>0</td>\n",
       "      <td>98107</td>\n",
       "      <td>47.6700</td>\n",
       "      <td>-122.394</td>\n",
       "      <td>1360</td>\n",
       "      <td>4850</td>\n",
       "    </tr>\n",
       "    <tr>\n",
       "      <th>15</th>\n",
       "      <td>9297300055</td>\n",
       "      <td>20150124T000000</td>\n",
       "      <td>650000</td>\n",
       "      <td>4</td>\n",
       "      <td>3.00</td>\n",
       "      <td>2950</td>\n",
       "      <td>5000</td>\n",
       "      <td>2.0</td>\n",
       "      <td>0</td>\n",
       "      <td>3</td>\n",
       "      <td>...</td>\n",
       "      <td>9</td>\n",
       "      <td>1980</td>\n",
       "      <td>970</td>\n",
       "      <td>1979</td>\n",
       "      <td>0</td>\n",
       "      <td>98126</td>\n",
       "      <td>47.5714</td>\n",
       "      <td>-122.375</td>\n",
       "      <td>2140</td>\n",
       "      <td>4000</td>\n",
       "    </tr>\n",
       "    <tr>\n",
       "      <th>16</th>\n",
       "      <td>1875500060</td>\n",
       "      <td>20140731T000000</td>\n",
       "      <td>395000</td>\n",
       "      <td>3</td>\n",
       "      <td>2.00</td>\n",
       "      <td>1890</td>\n",
       "      <td>14040</td>\n",
       "      <td>2.0</td>\n",
       "      <td>0</td>\n",
       "      <td>0</td>\n",
       "      <td>...</td>\n",
       "      <td>7</td>\n",
       "      <td>1890</td>\n",
       "      <td>0</td>\n",
       "      <td>1994</td>\n",
       "      <td>0</td>\n",
       "      <td>98019</td>\n",
       "      <td>47.7277</td>\n",
       "      <td>-121.962</td>\n",
       "      <td>1890</td>\n",
       "      <td>14018</td>\n",
       "    </tr>\n",
       "    <tr>\n",
       "      <th>17</th>\n",
       "      <td>6865200140</td>\n",
       "      <td>20140529T000000</td>\n",
       "      <td>485000</td>\n",
       "      <td>4</td>\n",
       "      <td>1.00</td>\n",
       "      <td>1600</td>\n",
       "      <td>4300</td>\n",
       "      <td>1.5</td>\n",
       "      <td>0</td>\n",
       "      <td>0</td>\n",
       "      <td>...</td>\n",
       "      <td>7</td>\n",
       "      <td>1600</td>\n",
       "      <td>0</td>\n",
       "      <td>1916</td>\n",
       "      <td>0</td>\n",
       "      <td>98103</td>\n",
       "      <td>47.6648</td>\n",
       "      <td>-122.343</td>\n",
       "      <td>1610</td>\n",
       "      <td>4300</td>\n",
       "    </tr>\n",
       "    <tr>\n",
       "      <th>18</th>\n",
       "      <td>16000397</td>\n",
       "      <td>20141205T000000</td>\n",
       "      <td>189000</td>\n",
       "      <td>2</td>\n",
       "      <td>1.00</td>\n",
       "      <td>1200</td>\n",
       "      <td>9850</td>\n",
       "      <td>1.0</td>\n",
       "      <td>0</td>\n",
       "      <td>0</td>\n",
       "      <td>...</td>\n",
       "      <td>7</td>\n",
       "      <td>1200</td>\n",
       "      <td>0</td>\n",
       "      <td>1921</td>\n",
       "      <td>0</td>\n",
       "      <td>98002</td>\n",
       "      <td>47.3089</td>\n",
       "      <td>-122.210</td>\n",
       "      <td>1060</td>\n",
       "      <td>5095</td>\n",
       "    </tr>\n",
       "    <tr>\n",
       "      <th>19</th>\n",
       "      <td>7983200060</td>\n",
       "      <td>20150424T000000</td>\n",
       "      <td>230000</td>\n",
       "      <td>3</td>\n",
       "      <td>1.00</td>\n",
       "      <td>1250</td>\n",
       "      <td>9774</td>\n",
       "      <td>1.0</td>\n",
       "      <td>0</td>\n",
       "      <td>0</td>\n",
       "      <td>...</td>\n",
       "      <td>7</td>\n",
       "      <td>1250</td>\n",
       "      <td>0</td>\n",
       "      <td>1969</td>\n",
       "      <td>0</td>\n",
       "      <td>98003</td>\n",
       "      <td>47.3343</td>\n",
       "      <td>-122.306</td>\n",
       "      <td>1280</td>\n",
       "      <td>8850</td>\n",
       "    </tr>\n",
       "    <tr>\n",
       "      <th>20</th>\n",
       "      <td>6300500875</td>\n",
       "      <td>20140514T000000</td>\n",
       "      <td>385000</td>\n",
       "      <td>4</td>\n",
       "      <td>1.75</td>\n",
       "      <td>1620</td>\n",
       "      <td>4980</td>\n",
       "      <td>1.0</td>\n",
       "      <td>0</td>\n",
       "      <td>0</td>\n",
       "      <td>...</td>\n",
       "      <td>7</td>\n",
       "      <td>860</td>\n",
       "      <td>760</td>\n",
       "      <td>1947</td>\n",
       "      <td>0</td>\n",
       "      <td>98133</td>\n",
       "      <td>47.7025</td>\n",
       "      <td>-122.341</td>\n",
       "      <td>1400</td>\n",
       "      <td>4980</td>\n",
       "    </tr>\n",
       "    <tr>\n",
       "      <th>21</th>\n",
       "      <td>2524049179</td>\n",
       "      <td>20140826T000000</td>\n",
       "      <td>2000000</td>\n",
       "      <td>3</td>\n",
       "      <td>2.75</td>\n",
       "      <td>3050</td>\n",
       "      <td>44867</td>\n",
       "      <td>1.0</td>\n",
       "      <td>0</td>\n",
       "      <td>4</td>\n",
       "      <td>...</td>\n",
       "      <td>9</td>\n",
       "      <td>2330</td>\n",
       "      <td>720</td>\n",
       "      <td>1968</td>\n",
       "      <td>0</td>\n",
       "      <td>98040</td>\n",
       "      <td>47.5316</td>\n",
       "      <td>-122.233</td>\n",
       "      <td>4110</td>\n",
       "      <td>20336</td>\n",
       "    </tr>\n",
       "    <tr>\n",
       "      <th>22</th>\n",
       "      <td>7137970340</td>\n",
       "      <td>20140703T000000</td>\n",
       "      <td>285000</td>\n",
       "      <td>5</td>\n",
       "      <td>2.50</td>\n",
       "      <td>2270</td>\n",
       "      <td>6300</td>\n",
       "      <td>2.0</td>\n",
       "      <td>0</td>\n",
       "      <td>0</td>\n",
       "      <td>...</td>\n",
       "      <td>8</td>\n",
       "      <td>2270</td>\n",
       "      <td>0</td>\n",
       "      <td>1995</td>\n",
       "      <td>0</td>\n",
       "      <td>98092</td>\n",
       "      <td>47.3266</td>\n",
       "      <td>-122.169</td>\n",
       "      <td>2240</td>\n",
       "      <td>7005</td>\n",
       "    </tr>\n",
       "    <tr>\n",
       "      <th>23</th>\n",
       "      <td>8091400200</td>\n",
       "      <td>20140516T000000</td>\n",
       "      <td>252700</td>\n",
       "      <td>2</td>\n",
       "      <td>1.50</td>\n",
       "      <td>1070</td>\n",
       "      <td>9643</td>\n",
       "      <td>1.0</td>\n",
       "      <td>0</td>\n",
       "      <td>0</td>\n",
       "      <td>...</td>\n",
       "      <td>7</td>\n",
       "      <td>1070</td>\n",
       "      <td>0</td>\n",
       "      <td>1985</td>\n",
       "      <td>0</td>\n",
       "      <td>98030</td>\n",
       "      <td>47.3533</td>\n",
       "      <td>-122.166</td>\n",
       "      <td>1220</td>\n",
       "      <td>8386</td>\n",
       "    </tr>\n",
       "    <tr>\n",
       "      <th>24</th>\n",
       "      <td>3814700200</td>\n",
       "      <td>20141120T000000</td>\n",
       "      <td>329000</td>\n",
       "      <td>3</td>\n",
       "      <td>2.25</td>\n",
       "      <td>2450</td>\n",
       "      <td>6500</td>\n",
       "      <td>2.0</td>\n",
       "      <td>0</td>\n",
       "      <td>0</td>\n",
       "      <td>...</td>\n",
       "      <td>8</td>\n",
       "      <td>2450</td>\n",
       "      <td>0</td>\n",
       "      <td>1985</td>\n",
       "      <td>0</td>\n",
       "      <td>98030</td>\n",
       "      <td>47.3739</td>\n",
       "      <td>-122.172</td>\n",
       "      <td>2200</td>\n",
       "      <td>6865</td>\n",
       "    </tr>\n",
       "    <tr>\n",
       "      <th>25</th>\n",
       "      <td>1202000200</td>\n",
       "      <td>20141103T000000</td>\n",
       "      <td>233000</td>\n",
       "      <td>3</td>\n",
       "      <td>2.00</td>\n",
       "      <td>1710</td>\n",
       "      <td>4697</td>\n",
       "      <td>1.5</td>\n",
       "      <td>0</td>\n",
       "      <td>0</td>\n",
       "      <td>...</td>\n",
       "      <td>6</td>\n",
       "      <td>1710</td>\n",
       "      <td>0</td>\n",
       "      <td>1941</td>\n",
       "      <td>0</td>\n",
       "      <td>98002</td>\n",
       "      <td>47.3048</td>\n",
       "      <td>-122.218</td>\n",
       "      <td>1030</td>\n",
       "      <td>4705</td>\n",
       "    </tr>\n",
       "    <tr>\n",
       "      <th>26</th>\n",
       "      <td>1794500383</td>\n",
       "      <td>20140626T000000</td>\n",
       "      <td>937000</td>\n",
       "      <td>3</td>\n",
       "      <td>1.75</td>\n",
       "      <td>2450</td>\n",
       "      <td>2691</td>\n",
       "      <td>2.0</td>\n",
       "      <td>0</td>\n",
       "      <td>0</td>\n",
       "      <td>...</td>\n",
       "      <td>8</td>\n",
       "      <td>1750</td>\n",
       "      <td>700</td>\n",
       "      <td>1915</td>\n",
       "      <td>0</td>\n",
       "      <td>98119</td>\n",
       "      <td>47.6386</td>\n",
       "      <td>-122.360</td>\n",
       "      <td>1760</td>\n",
       "      <td>3573</td>\n",
       "    </tr>\n",
       "    <tr>\n",
       "      <th>27</th>\n",
       "      <td>3303700376</td>\n",
       "      <td>20141201T000000</td>\n",
       "      <td>667000</td>\n",
       "      <td>3</td>\n",
       "      <td>1.00</td>\n",
       "      <td>1400</td>\n",
       "      <td>1581</td>\n",
       "      <td>1.5</td>\n",
       "      <td>0</td>\n",
       "      <td>0</td>\n",
       "      <td>...</td>\n",
       "      <td>8</td>\n",
       "      <td>1400</td>\n",
       "      <td>0</td>\n",
       "      <td>1909</td>\n",
       "      <td>0</td>\n",
       "      <td>98112</td>\n",
       "      <td>47.6221</td>\n",
       "      <td>-122.314</td>\n",
       "      <td>1860</td>\n",
       "      <td>3861</td>\n",
       "    </tr>\n",
       "    <tr>\n",
       "      <th>28</th>\n",
       "      <td>5101402488</td>\n",
       "      <td>20140624T000000</td>\n",
       "      <td>438000</td>\n",
       "      <td>3</td>\n",
       "      <td>1.75</td>\n",
       "      <td>1520</td>\n",
       "      <td>6380</td>\n",
       "      <td>1.0</td>\n",
       "      <td>0</td>\n",
       "      <td>0</td>\n",
       "      <td>...</td>\n",
       "      <td>7</td>\n",
       "      <td>790</td>\n",
       "      <td>730</td>\n",
       "      <td>1948</td>\n",
       "      <td>0</td>\n",
       "      <td>98115</td>\n",
       "      <td>47.6950</td>\n",
       "      <td>-122.304</td>\n",
       "      <td>1520</td>\n",
       "      <td>6235</td>\n",
       "    </tr>\n",
       "    <tr>\n",
       "      <th>29</th>\n",
       "      <td>1873100390</td>\n",
       "      <td>20150302T000000</td>\n",
       "      <td>719000</td>\n",
       "      <td>4</td>\n",
       "      <td>2.50</td>\n",
       "      <td>2570</td>\n",
       "      <td>7173</td>\n",
       "      <td>2.0</td>\n",
       "      <td>0</td>\n",
       "      <td>0</td>\n",
       "      <td>...</td>\n",
       "      <td>8</td>\n",
       "      <td>2570</td>\n",
       "      <td>0</td>\n",
       "      <td>2005</td>\n",
       "      <td>0</td>\n",
       "      <td>98052</td>\n",
       "      <td>47.7073</td>\n",
       "      <td>-122.110</td>\n",
       "      <td>2630</td>\n",
       "      <td>6026</td>\n",
       "    </tr>\n",
       "    <tr>\n",
       "      <th>...</th>\n",
       "      <td>...</td>\n",
       "      <td>...</td>\n",
       "      <td>...</td>\n",
       "      <td>...</td>\n",
       "      <td>...</td>\n",
       "      <td>...</td>\n",
       "      <td>...</td>\n",
       "      <td>...</td>\n",
       "      <td>...</td>\n",
       "      <td>...</td>\n",
       "      <td>...</td>\n",
       "      <td>...</td>\n",
       "      <td>...</td>\n",
       "      <td>...</td>\n",
       "      <td>...</td>\n",
       "      <td>...</td>\n",
       "      <td>...</td>\n",
       "      <td>...</td>\n",
       "      <td>...</td>\n",
       "      <td>...</td>\n",
       "      <td>...</td>\n",
       "    </tr>\n",
       "    <tr>\n",
       "      <th>21583</th>\n",
       "      <td>2025049203</td>\n",
       "      <td>20140610T000000</td>\n",
       "      <td>399950</td>\n",
       "      <td>2</td>\n",
       "      <td>1.00</td>\n",
       "      <td>710</td>\n",
       "      <td>1157</td>\n",
       "      <td>2.0</td>\n",
       "      <td>0</td>\n",
       "      <td>0</td>\n",
       "      <td>...</td>\n",
       "      <td>7</td>\n",
       "      <td>710</td>\n",
       "      <td>0</td>\n",
       "      <td>1943</td>\n",
       "      <td>0</td>\n",
       "      <td>98102</td>\n",
       "      <td>47.6413</td>\n",
       "      <td>-122.329</td>\n",
       "      <td>1370</td>\n",
       "      <td>1173</td>\n",
       "    </tr>\n",
       "    <tr>\n",
       "      <th>21584</th>\n",
       "      <td>952006823</td>\n",
       "      <td>20141202T000000</td>\n",
       "      <td>380000</td>\n",
       "      <td>3</td>\n",
       "      <td>2.50</td>\n",
       "      <td>1260</td>\n",
       "      <td>900</td>\n",
       "      <td>2.0</td>\n",
       "      <td>0</td>\n",
       "      <td>0</td>\n",
       "      <td>...</td>\n",
       "      <td>7</td>\n",
       "      <td>940</td>\n",
       "      <td>320</td>\n",
       "      <td>2007</td>\n",
       "      <td>0</td>\n",
       "      <td>98116</td>\n",
       "      <td>47.5621</td>\n",
       "      <td>-122.384</td>\n",
       "      <td>1310</td>\n",
       "      <td>1415</td>\n",
       "    </tr>\n",
       "    <tr>\n",
       "      <th>21585</th>\n",
       "      <td>3832050760</td>\n",
       "      <td>20140828T000000</td>\n",
       "      <td>270000</td>\n",
       "      <td>3</td>\n",
       "      <td>2.50</td>\n",
       "      <td>1870</td>\n",
       "      <td>5000</td>\n",
       "      <td>2.0</td>\n",
       "      <td>0</td>\n",
       "      <td>0</td>\n",
       "      <td>...</td>\n",
       "      <td>7</td>\n",
       "      <td>1870</td>\n",
       "      <td>0</td>\n",
       "      <td>2009</td>\n",
       "      <td>0</td>\n",
       "      <td>98042</td>\n",
       "      <td>47.3339</td>\n",
       "      <td>-122.055</td>\n",
       "      <td>2170</td>\n",
       "      <td>5399</td>\n",
       "    </tr>\n",
       "    <tr>\n",
       "      <th>21586</th>\n",
       "      <td>2767604724</td>\n",
       "      <td>20141015T000000</td>\n",
       "      <td>505000</td>\n",
       "      <td>2</td>\n",
       "      <td>2.50</td>\n",
       "      <td>1430</td>\n",
       "      <td>1201</td>\n",
       "      <td>3.0</td>\n",
       "      <td>0</td>\n",
       "      <td>0</td>\n",
       "      <td>...</td>\n",
       "      <td>8</td>\n",
       "      <td>1430</td>\n",
       "      <td>0</td>\n",
       "      <td>2009</td>\n",
       "      <td>0</td>\n",
       "      <td>98107</td>\n",
       "      <td>47.6707</td>\n",
       "      <td>-122.381</td>\n",
       "      <td>1430</td>\n",
       "      <td>1249</td>\n",
       "    </tr>\n",
       "    <tr>\n",
       "      <th>21587</th>\n",
       "      <td>6632300207</td>\n",
       "      <td>20150305T000000</td>\n",
       "      <td>385000</td>\n",
       "      <td>3</td>\n",
       "      <td>2.50</td>\n",
       "      <td>1520</td>\n",
       "      <td>1488</td>\n",
       "      <td>3.0</td>\n",
       "      <td>0</td>\n",
       "      <td>0</td>\n",
       "      <td>...</td>\n",
       "      <td>8</td>\n",
       "      <td>1520</td>\n",
       "      <td>0</td>\n",
       "      <td>2006</td>\n",
       "      <td>0</td>\n",
       "      <td>98125</td>\n",
       "      <td>47.7337</td>\n",
       "      <td>-122.309</td>\n",
       "      <td>1520</td>\n",
       "      <td>1497</td>\n",
       "    </tr>\n",
       "    <tr>\n",
       "      <th>21588</th>\n",
       "      <td>2767600688</td>\n",
       "      <td>20141113T000000</td>\n",
       "      <td>414500</td>\n",
       "      <td>2</td>\n",
       "      <td>1.50</td>\n",
       "      <td>1210</td>\n",
       "      <td>1278</td>\n",
       "      <td>2.0</td>\n",
       "      <td>0</td>\n",
       "      <td>0</td>\n",
       "      <td>...</td>\n",
       "      <td>8</td>\n",
       "      <td>1020</td>\n",
       "      <td>190</td>\n",
       "      <td>2007</td>\n",
       "      <td>0</td>\n",
       "      <td>98117</td>\n",
       "      <td>47.6756</td>\n",
       "      <td>-122.375</td>\n",
       "      <td>1210</td>\n",
       "      <td>1118</td>\n",
       "    </tr>\n",
       "    <tr>\n",
       "      <th>21589</th>\n",
       "      <td>7570050450</td>\n",
       "      <td>20140910T000000</td>\n",
       "      <td>347500</td>\n",
       "      <td>3</td>\n",
       "      <td>2.50</td>\n",
       "      <td>2540</td>\n",
       "      <td>4760</td>\n",
       "      <td>2.0</td>\n",
       "      <td>0</td>\n",
       "      <td>0</td>\n",
       "      <td>...</td>\n",
       "      <td>8</td>\n",
       "      <td>2540</td>\n",
       "      <td>0</td>\n",
       "      <td>2010</td>\n",
       "      <td>0</td>\n",
       "      <td>98038</td>\n",
       "      <td>47.3452</td>\n",
       "      <td>-122.022</td>\n",
       "      <td>2540</td>\n",
       "      <td>4571</td>\n",
       "    </tr>\n",
       "    <tr>\n",
       "      <th>21590</th>\n",
       "      <td>7430200100</td>\n",
       "      <td>20140514T000000</td>\n",
       "      <td>1222500</td>\n",
       "      <td>4</td>\n",
       "      <td>3.50</td>\n",
       "      <td>4910</td>\n",
       "      <td>9444</td>\n",
       "      <td>1.5</td>\n",
       "      <td>0</td>\n",
       "      <td>0</td>\n",
       "      <td>...</td>\n",
       "      <td>11</td>\n",
       "      <td>3110</td>\n",
       "      <td>1800</td>\n",
       "      <td>2007</td>\n",
       "      <td>0</td>\n",
       "      <td>98074</td>\n",
       "      <td>47.6502</td>\n",
       "      <td>-122.066</td>\n",
       "      <td>4560</td>\n",
       "      <td>11063</td>\n",
       "    </tr>\n",
       "    <tr>\n",
       "      <th>21591</th>\n",
       "      <td>4140940150</td>\n",
       "      <td>20141002T000000</td>\n",
       "      <td>572000</td>\n",
       "      <td>4</td>\n",
       "      <td>2.75</td>\n",
       "      <td>2770</td>\n",
       "      <td>3852</td>\n",
       "      <td>2.0</td>\n",
       "      <td>0</td>\n",
       "      <td>0</td>\n",
       "      <td>...</td>\n",
       "      <td>8</td>\n",
       "      <td>2770</td>\n",
       "      <td>0</td>\n",
       "      <td>2014</td>\n",
       "      <td>0</td>\n",
       "      <td>98178</td>\n",
       "      <td>47.5001</td>\n",
       "      <td>-122.232</td>\n",
       "      <td>1810</td>\n",
       "      <td>5641</td>\n",
       "    </tr>\n",
       "    <tr>\n",
       "      <th>21592</th>\n",
       "      <td>1931300412</td>\n",
       "      <td>20150416T000000</td>\n",
       "      <td>475000</td>\n",
       "      <td>3</td>\n",
       "      <td>2.25</td>\n",
       "      <td>1190</td>\n",
       "      <td>1200</td>\n",
       "      <td>3.0</td>\n",
       "      <td>0</td>\n",
       "      <td>0</td>\n",
       "      <td>...</td>\n",
       "      <td>8</td>\n",
       "      <td>1190</td>\n",
       "      <td>0</td>\n",
       "      <td>2008</td>\n",
       "      <td>0</td>\n",
       "      <td>98103</td>\n",
       "      <td>47.6542</td>\n",
       "      <td>-122.346</td>\n",
       "      <td>1180</td>\n",
       "      <td>1224</td>\n",
       "    </tr>\n",
       "    <tr>\n",
       "      <th>21593</th>\n",
       "      <td>8672200110</td>\n",
       "      <td>20150317T000000</td>\n",
       "      <td>1088000</td>\n",
       "      <td>5</td>\n",
       "      <td>3.75</td>\n",
       "      <td>4170</td>\n",
       "      <td>8142</td>\n",
       "      <td>2.0</td>\n",
       "      <td>0</td>\n",
       "      <td>2</td>\n",
       "      <td>...</td>\n",
       "      <td>10</td>\n",
       "      <td>4170</td>\n",
       "      <td>0</td>\n",
       "      <td>2006</td>\n",
       "      <td>0</td>\n",
       "      <td>98056</td>\n",
       "      <td>47.5354</td>\n",
       "      <td>-122.181</td>\n",
       "      <td>3030</td>\n",
       "      <td>7980</td>\n",
       "    </tr>\n",
       "    <tr>\n",
       "      <th>21594</th>\n",
       "      <td>5087900040</td>\n",
       "      <td>20141017T000000</td>\n",
       "      <td>350000</td>\n",
       "      <td>4</td>\n",
       "      <td>2.75</td>\n",
       "      <td>2500</td>\n",
       "      <td>5995</td>\n",
       "      <td>2.0</td>\n",
       "      <td>0</td>\n",
       "      <td>0</td>\n",
       "      <td>...</td>\n",
       "      <td>8</td>\n",
       "      <td>2500</td>\n",
       "      <td>0</td>\n",
       "      <td>2008</td>\n",
       "      <td>0</td>\n",
       "      <td>98042</td>\n",
       "      <td>47.3749</td>\n",
       "      <td>-122.107</td>\n",
       "      <td>2530</td>\n",
       "      <td>5988</td>\n",
       "    </tr>\n",
       "    <tr>\n",
       "      <th>21595</th>\n",
       "      <td>1972201967</td>\n",
       "      <td>20141031T000000</td>\n",
       "      <td>520000</td>\n",
       "      <td>2</td>\n",
       "      <td>2.25</td>\n",
       "      <td>1530</td>\n",
       "      <td>981</td>\n",
       "      <td>3.0</td>\n",
       "      <td>0</td>\n",
       "      <td>0</td>\n",
       "      <td>...</td>\n",
       "      <td>8</td>\n",
       "      <td>1480</td>\n",
       "      <td>50</td>\n",
       "      <td>2006</td>\n",
       "      <td>0</td>\n",
       "      <td>98103</td>\n",
       "      <td>47.6533</td>\n",
       "      <td>-122.346</td>\n",
       "      <td>1530</td>\n",
       "      <td>1282</td>\n",
       "    </tr>\n",
       "    <tr>\n",
       "      <th>21596</th>\n",
       "      <td>7502800100</td>\n",
       "      <td>20140813T000000</td>\n",
       "      <td>679950</td>\n",
       "      <td>5</td>\n",
       "      <td>2.75</td>\n",
       "      <td>3600</td>\n",
       "      <td>9437</td>\n",
       "      <td>2.0</td>\n",
       "      <td>0</td>\n",
       "      <td>0</td>\n",
       "      <td>...</td>\n",
       "      <td>9</td>\n",
       "      <td>3600</td>\n",
       "      <td>0</td>\n",
       "      <td>2014</td>\n",
       "      <td>0</td>\n",
       "      <td>98059</td>\n",
       "      <td>47.4822</td>\n",
       "      <td>-122.131</td>\n",
       "      <td>3550</td>\n",
       "      <td>9421</td>\n",
       "    </tr>\n",
       "    <tr>\n",
       "      <th>21597</th>\n",
       "      <td>191100405</td>\n",
       "      <td>20150421T000000</td>\n",
       "      <td>1575000</td>\n",
       "      <td>4</td>\n",
       "      <td>3.25</td>\n",
       "      <td>3410</td>\n",
       "      <td>10125</td>\n",
       "      <td>2.0</td>\n",
       "      <td>0</td>\n",
       "      <td>0</td>\n",
       "      <td>...</td>\n",
       "      <td>10</td>\n",
       "      <td>3410</td>\n",
       "      <td>0</td>\n",
       "      <td>2007</td>\n",
       "      <td>0</td>\n",
       "      <td>98040</td>\n",
       "      <td>47.5653</td>\n",
       "      <td>-122.223</td>\n",
       "      <td>2290</td>\n",
       "      <td>10125</td>\n",
       "    </tr>\n",
       "    <tr>\n",
       "      <th>21598</th>\n",
       "      <td>8956200760</td>\n",
       "      <td>20141013T000000</td>\n",
       "      <td>541800</td>\n",
       "      <td>4</td>\n",
       "      <td>2.50</td>\n",
       "      <td>3118</td>\n",
       "      <td>7866</td>\n",
       "      <td>2.0</td>\n",
       "      <td>0</td>\n",
       "      <td>2</td>\n",
       "      <td>...</td>\n",
       "      <td>9</td>\n",
       "      <td>3118</td>\n",
       "      <td>0</td>\n",
       "      <td>2014</td>\n",
       "      <td>0</td>\n",
       "      <td>98001</td>\n",
       "      <td>47.2931</td>\n",
       "      <td>-122.264</td>\n",
       "      <td>2673</td>\n",
       "      <td>6500</td>\n",
       "    </tr>\n",
       "    <tr>\n",
       "      <th>21599</th>\n",
       "      <td>7202300110</td>\n",
       "      <td>20140915T000000</td>\n",
       "      <td>810000</td>\n",
       "      <td>4</td>\n",
       "      <td>3.00</td>\n",
       "      <td>3990</td>\n",
       "      <td>7838</td>\n",
       "      <td>2.0</td>\n",
       "      <td>0</td>\n",
       "      <td>0</td>\n",
       "      <td>...</td>\n",
       "      <td>9</td>\n",
       "      <td>3990</td>\n",
       "      <td>0</td>\n",
       "      <td>2003</td>\n",
       "      <td>0</td>\n",
       "      <td>98053</td>\n",
       "      <td>47.6857</td>\n",
       "      <td>-122.046</td>\n",
       "      <td>3370</td>\n",
       "      <td>6814</td>\n",
       "    </tr>\n",
       "    <tr>\n",
       "      <th>21600</th>\n",
       "      <td>249000205</td>\n",
       "      <td>20141015T000000</td>\n",
       "      <td>1537000</td>\n",
       "      <td>5</td>\n",
       "      <td>3.75</td>\n",
       "      <td>4470</td>\n",
       "      <td>8088</td>\n",
       "      <td>2.0</td>\n",
       "      <td>0</td>\n",
       "      <td>0</td>\n",
       "      <td>...</td>\n",
       "      <td>11</td>\n",
       "      <td>4470</td>\n",
       "      <td>0</td>\n",
       "      <td>2008</td>\n",
       "      <td>0</td>\n",
       "      <td>98004</td>\n",
       "      <td>47.6321</td>\n",
       "      <td>-122.200</td>\n",
       "      <td>2780</td>\n",
       "      <td>8964</td>\n",
       "    </tr>\n",
       "    <tr>\n",
       "      <th>21601</th>\n",
       "      <td>5100403806</td>\n",
       "      <td>20150407T000000</td>\n",
       "      <td>467000</td>\n",
       "      <td>3</td>\n",
       "      <td>2.50</td>\n",
       "      <td>1425</td>\n",
       "      <td>1179</td>\n",
       "      <td>3.0</td>\n",
       "      <td>0</td>\n",
       "      <td>0</td>\n",
       "      <td>...</td>\n",
       "      <td>8</td>\n",
       "      <td>1425</td>\n",
       "      <td>0</td>\n",
       "      <td>2008</td>\n",
       "      <td>0</td>\n",
       "      <td>98125</td>\n",
       "      <td>47.6963</td>\n",
       "      <td>-122.318</td>\n",
       "      <td>1285</td>\n",
       "      <td>1253</td>\n",
       "    </tr>\n",
       "    <tr>\n",
       "      <th>21602</th>\n",
       "      <td>844000965</td>\n",
       "      <td>20140626T000000</td>\n",
       "      <td>224000</td>\n",
       "      <td>3</td>\n",
       "      <td>1.75</td>\n",
       "      <td>1500</td>\n",
       "      <td>11968</td>\n",
       "      <td>1.0</td>\n",
       "      <td>0</td>\n",
       "      <td>0</td>\n",
       "      <td>...</td>\n",
       "      <td>6</td>\n",
       "      <td>1500</td>\n",
       "      <td>0</td>\n",
       "      <td>2014</td>\n",
       "      <td>0</td>\n",
       "      <td>98010</td>\n",
       "      <td>47.3095</td>\n",
       "      <td>-122.002</td>\n",
       "      <td>1320</td>\n",
       "      <td>11303</td>\n",
       "    </tr>\n",
       "    <tr>\n",
       "      <th>21603</th>\n",
       "      <td>7852140040</td>\n",
       "      <td>20140825T000000</td>\n",
       "      <td>507250</td>\n",
       "      <td>3</td>\n",
       "      <td>2.50</td>\n",
       "      <td>2270</td>\n",
       "      <td>5536</td>\n",
       "      <td>2.0</td>\n",
       "      <td>0</td>\n",
       "      <td>0</td>\n",
       "      <td>...</td>\n",
       "      <td>8</td>\n",
       "      <td>2270</td>\n",
       "      <td>0</td>\n",
       "      <td>2003</td>\n",
       "      <td>0</td>\n",
       "      <td>98065</td>\n",
       "      <td>47.5389</td>\n",
       "      <td>-121.881</td>\n",
       "      <td>2270</td>\n",
       "      <td>5731</td>\n",
       "    </tr>\n",
       "    <tr>\n",
       "      <th>21604</th>\n",
       "      <td>9834201367</td>\n",
       "      <td>20150126T000000</td>\n",
       "      <td>429000</td>\n",
       "      <td>3</td>\n",
       "      <td>2.00</td>\n",
       "      <td>1490</td>\n",
       "      <td>1126</td>\n",
       "      <td>3.0</td>\n",
       "      <td>0</td>\n",
       "      <td>0</td>\n",
       "      <td>...</td>\n",
       "      <td>8</td>\n",
       "      <td>1490</td>\n",
       "      <td>0</td>\n",
       "      <td>2014</td>\n",
       "      <td>0</td>\n",
       "      <td>98144</td>\n",
       "      <td>47.5699</td>\n",
       "      <td>-122.288</td>\n",
       "      <td>1400</td>\n",
       "      <td>1230</td>\n",
       "    </tr>\n",
       "    <tr>\n",
       "      <th>21605</th>\n",
       "      <td>3448900210</td>\n",
       "      <td>20141014T000000</td>\n",
       "      <td>610685</td>\n",
       "      <td>4</td>\n",
       "      <td>2.50</td>\n",
       "      <td>2520</td>\n",
       "      <td>6023</td>\n",
       "      <td>2.0</td>\n",
       "      <td>0</td>\n",
       "      <td>0</td>\n",
       "      <td>...</td>\n",
       "      <td>9</td>\n",
       "      <td>2520</td>\n",
       "      <td>0</td>\n",
       "      <td>2014</td>\n",
       "      <td>0</td>\n",
       "      <td>98056</td>\n",
       "      <td>47.5137</td>\n",
       "      <td>-122.167</td>\n",
       "      <td>2520</td>\n",
       "      <td>6023</td>\n",
       "    </tr>\n",
       "    <tr>\n",
       "      <th>21606</th>\n",
       "      <td>7936000429</td>\n",
       "      <td>20150326T000000</td>\n",
       "      <td>1007500</td>\n",
       "      <td>4</td>\n",
       "      <td>3.50</td>\n",
       "      <td>3510</td>\n",
       "      <td>7200</td>\n",
       "      <td>2.0</td>\n",
       "      <td>0</td>\n",
       "      <td>0</td>\n",
       "      <td>...</td>\n",
       "      <td>9</td>\n",
       "      <td>2600</td>\n",
       "      <td>910</td>\n",
       "      <td>2009</td>\n",
       "      <td>0</td>\n",
       "      <td>98136</td>\n",
       "      <td>47.5537</td>\n",
       "      <td>-122.398</td>\n",
       "      <td>2050</td>\n",
       "      <td>6200</td>\n",
       "    </tr>\n",
       "    <tr>\n",
       "      <th>21607</th>\n",
       "      <td>2997800021</td>\n",
       "      <td>20150219T000000</td>\n",
       "      <td>475000</td>\n",
       "      <td>3</td>\n",
       "      <td>2.50</td>\n",
       "      <td>1310</td>\n",
       "      <td>1294</td>\n",
       "      <td>2.0</td>\n",
       "      <td>0</td>\n",
       "      <td>0</td>\n",
       "      <td>...</td>\n",
       "      <td>8</td>\n",
       "      <td>1180</td>\n",
       "      <td>130</td>\n",
       "      <td>2008</td>\n",
       "      <td>0</td>\n",
       "      <td>98116</td>\n",
       "      <td>47.5773</td>\n",
       "      <td>-122.409</td>\n",
       "      <td>1330</td>\n",
       "      <td>1265</td>\n",
       "    </tr>\n",
       "    <tr>\n",
       "      <th>21608</th>\n",
       "      <td>263000018</td>\n",
       "      <td>20140521T000000</td>\n",
       "      <td>360000</td>\n",
       "      <td>3</td>\n",
       "      <td>2.50</td>\n",
       "      <td>1530</td>\n",
       "      <td>1131</td>\n",
       "      <td>3.0</td>\n",
       "      <td>0</td>\n",
       "      <td>0</td>\n",
       "      <td>...</td>\n",
       "      <td>8</td>\n",
       "      <td>1530</td>\n",
       "      <td>0</td>\n",
       "      <td>2009</td>\n",
       "      <td>0</td>\n",
       "      <td>98103</td>\n",
       "      <td>47.6993</td>\n",
       "      <td>-122.346</td>\n",
       "      <td>1530</td>\n",
       "      <td>1509</td>\n",
       "    </tr>\n",
       "    <tr>\n",
       "      <th>21609</th>\n",
       "      <td>6600060120</td>\n",
       "      <td>20150223T000000</td>\n",
       "      <td>400000</td>\n",
       "      <td>4</td>\n",
       "      <td>2.50</td>\n",
       "      <td>2310</td>\n",
       "      <td>5813</td>\n",
       "      <td>2.0</td>\n",
       "      <td>0</td>\n",
       "      <td>0</td>\n",
       "      <td>...</td>\n",
       "      <td>8</td>\n",
       "      <td>2310</td>\n",
       "      <td>0</td>\n",
       "      <td>2014</td>\n",
       "      <td>0</td>\n",
       "      <td>98146</td>\n",
       "      <td>47.5107</td>\n",
       "      <td>-122.362</td>\n",
       "      <td>1830</td>\n",
       "      <td>7200</td>\n",
       "    </tr>\n",
       "    <tr>\n",
       "      <th>21610</th>\n",
       "      <td>1523300141</td>\n",
       "      <td>20140623T000000</td>\n",
       "      <td>402101</td>\n",
       "      <td>2</td>\n",
       "      <td>0.75</td>\n",
       "      <td>1020</td>\n",
       "      <td>1350</td>\n",
       "      <td>2.0</td>\n",
       "      <td>0</td>\n",
       "      <td>0</td>\n",
       "      <td>...</td>\n",
       "      <td>7</td>\n",
       "      <td>1020</td>\n",
       "      <td>0</td>\n",
       "      <td>2009</td>\n",
       "      <td>0</td>\n",
       "      <td>98144</td>\n",
       "      <td>47.5944</td>\n",
       "      <td>-122.299</td>\n",
       "      <td>1020</td>\n",
       "      <td>2007</td>\n",
       "    </tr>\n",
       "    <tr>\n",
       "      <th>21611</th>\n",
       "      <td>291310100</td>\n",
       "      <td>20150116T000000</td>\n",
       "      <td>400000</td>\n",
       "      <td>3</td>\n",
       "      <td>2.50</td>\n",
       "      <td>1600</td>\n",
       "      <td>2388</td>\n",
       "      <td>2.0</td>\n",
       "      <td>0</td>\n",
       "      <td>0</td>\n",
       "      <td>...</td>\n",
       "      <td>8</td>\n",
       "      <td>1600</td>\n",
       "      <td>0</td>\n",
       "      <td>2004</td>\n",
       "      <td>0</td>\n",
       "      <td>98027</td>\n",
       "      <td>47.5345</td>\n",
       "      <td>-122.069</td>\n",
       "      <td>1410</td>\n",
       "      <td>1287</td>\n",
       "    </tr>\n",
       "    <tr>\n",
       "      <th>21612</th>\n",
       "      <td>1523300157</td>\n",
       "      <td>20141015T000000</td>\n",
       "      <td>325000</td>\n",
       "      <td>2</td>\n",
       "      <td>0.75</td>\n",
       "      <td>1020</td>\n",
       "      <td>1076</td>\n",
       "      <td>2.0</td>\n",
       "      <td>0</td>\n",
       "      <td>0</td>\n",
       "      <td>...</td>\n",
       "      <td>7</td>\n",
       "      <td>1020</td>\n",
       "      <td>0</td>\n",
       "      <td>2008</td>\n",
       "      <td>0</td>\n",
       "      <td>98144</td>\n",
       "      <td>47.5941</td>\n",
       "      <td>-122.299</td>\n",
       "      <td>1020</td>\n",
       "      <td>1357</td>\n",
       "    </tr>\n",
       "  </tbody>\n",
       "</table>\n",
       "<p>21613 rows × 21 columns</p>\n",
       "</div>"
      ],
      "text/plain": [
       "               id             date    price  bedrooms  bathrooms  sqft_living  \\\n",
       "0      7129300520  20141013T000000   221900         3       1.00         1180   \n",
       "1      6414100192  20141209T000000   538000         3       2.25         2570   \n",
       "2      5631500400  20150225T000000   180000         2       1.00          770   \n",
       "3      2487200875  20141209T000000   604000         4       3.00         1960   \n",
       "4      1954400510  20150218T000000   510000         3       2.00         1680   \n",
       "5      7237550310  20140512T000000  1225000         4       4.50         5420   \n",
       "6      1321400060  20140627T000000   257500         3       2.25         1715   \n",
       "7      2008000270  20150115T000000   291850         3       1.50         1060   \n",
       "8      2414600126  20150415T000000   229500         3       1.00         1780   \n",
       "9      3793500160  20150312T000000   323000         3       2.50         1890   \n",
       "10     1736800520  20150403T000000   662500         3       2.50         3560   \n",
       "11     9212900260  20140527T000000   468000         2       1.00         1160   \n",
       "12      114101516  20140528T000000   310000         3       1.00         1430   \n",
       "13     6054650070  20141007T000000   400000         3       1.75         1370   \n",
       "14     1175000570  20150312T000000   530000         5       2.00         1810   \n",
       "15     9297300055  20150124T000000   650000         4       3.00         2950   \n",
       "16     1875500060  20140731T000000   395000         3       2.00         1890   \n",
       "17     6865200140  20140529T000000   485000         4       1.00         1600   \n",
       "18       16000397  20141205T000000   189000         2       1.00         1200   \n",
       "19     7983200060  20150424T000000   230000         3       1.00         1250   \n",
       "20     6300500875  20140514T000000   385000         4       1.75         1620   \n",
       "21     2524049179  20140826T000000  2000000         3       2.75         3050   \n",
       "22     7137970340  20140703T000000   285000         5       2.50         2270   \n",
       "23     8091400200  20140516T000000   252700         2       1.50         1070   \n",
       "24     3814700200  20141120T000000   329000         3       2.25         2450   \n",
       "25     1202000200  20141103T000000   233000         3       2.00         1710   \n",
       "26     1794500383  20140626T000000   937000         3       1.75         2450   \n",
       "27     3303700376  20141201T000000   667000         3       1.00         1400   \n",
       "28     5101402488  20140624T000000   438000         3       1.75         1520   \n",
       "29     1873100390  20150302T000000   719000         4       2.50         2570   \n",
       "...           ...              ...      ...       ...        ...          ...   \n",
       "21583  2025049203  20140610T000000   399950         2       1.00          710   \n",
       "21584   952006823  20141202T000000   380000         3       2.50         1260   \n",
       "21585  3832050760  20140828T000000   270000         3       2.50         1870   \n",
       "21586  2767604724  20141015T000000   505000         2       2.50         1430   \n",
       "21587  6632300207  20150305T000000   385000         3       2.50         1520   \n",
       "21588  2767600688  20141113T000000   414500         2       1.50         1210   \n",
       "21589  7570050450  20140910T000000   347500         3       2.50         2540   \n",
       "21590  7430200100  20140514T000000  1222500         4       3.50         4910   \n",
       "21591  4140940150  20141002T000000   572000         4       2.75         2770   \n",
       "21592  1931300412  20150416T000000   475000         3       2.25         1190   \n",
       "21593  8672200110  20150317T000000  1088000         5       3.75         4170   \n",
       "21594  5087900040  20141017T000000   350000         4       2.75         2500   \n",
       "21595  1972201967  20141031T000000   520000         2       2.25         1530   \n",
       "21596  7502800100  20140813T000000   679950         5       2.75         3600   \n",
       "21597   191100405  20150421T000000  1575000         4       3.25         3410   \n",
       "21598  8956200760  20141013T000000   541800         4       2.50         3118   \n",
       "21599  7202300110  20140915T000000   810000         4       3.00         3990   \n",
       "21600   249000205  20141015T000000  1537000         5       3.75         4470   \n",
       "21601  5100403806  20150407T000000   467000         3       2.50         1425   \n",
       "21602   844000965  20140626T000000   224000         3       1.75         1500   \n",
       "21603  7852140040  20140825T000000   507250         3       2.50         2270   \n",
       "21604  9834201367  20150126T000000   429000         3       2.00         1490   \n",
       "21605  3448900210  20141014T000000   610685         4       2.50         2520   \n",
       "21606  7936000429  20150326T000000  1007500         4       3.50         3510   \n",
       "21607  2997800021  20150219T000000   475000         3       2.50         1310   \n",
       "21608   263000018  20140521T000000   360000         3       2.50         1530   \n",
       "21609  6600060120  20150223T000000   400000         4       2.50         2310   \n",
       "21610  1523300141  20140623T000000   402101         2       0.75         1020   \n",
       "21611   291310100  20150116T000000   400000         3       2.50         1600   \n",
       "21612  1523300157  20141015T000000   325000         2       0.75         1020   \n",
       "\n",
       "       sqft_lot  floors  waterfront  view     ...      grade  sqft_above  \\\n",
       "0          5650     1.0           0     0     ...          7        1180   \n",
       "1          7242     2.0           0     0     ...          7        2170   \n",
       "2         10000     1.0           0     0     ...          6         770   \n",
       "3          5000     1.0           0     0     ...          7        1050   \n",
       "4          8080     1.0           0     0     ...          8        1680   \n",
       "5        101930     1.0           0     0     ...         11        3890   \n",
       "6          6819     2.0           0     0     ...          7        1715   \n",
       "7          9711     1.0           0     0     ...          7        1060   \n",
       "8          7470     1.0           0     0     ...          7        1050   \n",
       "9          6560     2.0           0     0     ...          7        1890   \n",
       "10         9796     1.0           0     0     ...          8        1860   \n",
       "11         6000     1.0           0     0     ...          7         860   \n",
       "12        19901     1.5           0     0     ...          7        1430   \n",
       "13         9680     1.0           0     0     ...          7        1370   \n",
       "14         4850     1.5           0     0     ...          7        1810   \n",
       "15         5000     2.0           0     3     ...          9        1980   \n",
       "16        14040     2.0           0     0     ...          7        1890   \n",
       "17         4300     1.5           0     0     ...          7        1600   \n",
       "18         9850     1.0           0     0     ...          7        1200   \n",
       "19         9774     1.0           0     0     ...          7        1250   \n",
       "20         4980     1.0           0     0     ...          7         860   \n",
       "21        44867     1.0           0     4     ...          9        2330   \n",
       "22         6300     2.0           0     0     ...          8        2270   \n",
       "23         9643     1.0           0     0     ...          7        1070   \n",
       "24         6500     2.0           0     0     ...          8        2450   \n",
       "25         4697     1.5           0     0     ...          6        1710   \n",
       "26         2691     2.0           0     0     ...          8        1750   \n",
       "27         1581     1.5           0     0     ...          8        1400   \n",
       "28         6380     1.0           0     0     ...          7         790   \n",
       "29         7173     2.0           0     0     ...          8        2570   \n",
       "...         ...     ...         ...   ...     ...        ...         ...   \n",
       "21583      1157     2.0           0     0     ...          7         710   \n",
       "21584       900     2.0           0     0     ...          7         940   \n",
       "21585      5000     2.0           0     0     ...          7        1870   \n",
       "21586      1201     3.0           0     0     ...          8        1430   \n",
       "21587      1488     3.0           0     0     ...          8        1520   \n",
       "21588      1278     2.0           0     0     ...          8        1020   \n",
       "21589      4760     2.0           0     0     ...          8        2540   \n",
       "21590      9444     1.5           0     0     ...         11        3110   \n",
       "21591      3852     2.0           0     0     ...          8        2770   \n",
       "21592      1200     3.0           0     0     ...          8        1190   \n",
       "21593      8142     2.0           0     2     ...         10        4170   \n",
       "21594      5995     2.0           0     0     ...          8        2500   \n",
       "21595       981     3.0           0     0     ...          8        1480   \n",
       "21596      9437     2.0           0     0     ...          9        3600   \n",
       "21597     10125     2.0           0     0     ...         10        3410   \n",
       "21598      7866     2.0           0     2     ...          9        3118   \n",
       "21599      7838     2.0           0     0     ...          9        3990   \n",
       "21600      8088     2.0           0     0     ...         11        4470   \n",
       "21601      1179     3.0           0     0     ...          8        1425   \n",
       "21602     11968     1.0           0     0     ...          6        1500   \n",
       "21603      5536     2.0           0     0     ...          8        2270   \n",
       "21604      1126     3.0           0     0     ...          8        1490   \n",
       "21605      6023     2.0           0     0     ...          9        2520   \n",
       "21606      7200     2.0           0     0     ...          9        2600   \n",
       "21607      1294     2.0           0     0     ...          8        1180   \n",
       "21608      1131     3.0           0     0     ...          8        1530   \n",
       "21609      5813     2.0           0     0     ...          8        2310   \n",
       "21610      1350     2.0           0     0     ...          7        1020   \n",
       "21611      2388     2.0           0     0     ...          8        1600   \n",
       "21612      1076     2.0           0     0     ...          7        1020   \n",
       "\n",
       "       sqft_basement  yr_built  yr_renovated  zipcode      lat     long  \\\n",
       "0                  0      1955             0    98178  47.5112 -122.257   \n",
       "1                400      1951          1991    98125  47.7210 -122.319   \n",
       "2                  0      1933             0    98028  47.7379 -122.233   \n",
       "3                910      1965             0    98136  47.5208 -122.393   \n",
       "4                  0      1987             0    98074  47.6168 -122.045   \n",
       "5               1530      2001             0    98053  47.6561 -122.005   \n",
       "6                  0      1995             0    98003  47.3097 -122.327   \n",
       "7                  0      1963             0    98198  47.4095 -122.315   \n",
       "8                730      1960             0    98146  47.5123 -122.337   \n",
       "9                  0      2003             0    98038  47.3684 -122.031   \n",
       "10              1700      1965             0    98007  47.6007 -122.145   \n",
       "11               300      1942             0    98115  47.6900 -122.292   \n",
       "12                 0      1927             0    98028  47.7558 -122.229   \n",
       "13                 0      1977             0    98074  47.6127 -122.045   \n",
       "14                 0      1900             0    98107  47.6700 -122.394   \n",
       "15               970      1979             0    98126  47.5714 -122.375   \n",
       "16                 0      1994             0    98019  47.7277 -121.962   \n",
       "17                 0      1916             0    98103  47.6648 -122.343   \n",
       "18                 0      1921             0    98002  47.3089 -122.210   \n",
       "19                 0      1969             0    98003  47.3343 -122.306   \n",
       "20               760      1947             0    98133  47.7025 -122.341   \n",
       "21               720      1968             0    98040  47.5316 -122.233   \n",
       "22                 0      1995             0    98092  47.3266 -122.169   \n",
       "23                 0      1985             0    98030  47.3533 -122.166   \n",
       "24                 0      1985             0    98030  47.3739 -122.172   \n",
       "25                 0      1941             0    98002  47.3048 -122.218   \n",
       "26               700      1915             0    98119  47.6386 -122.360   \n",
       "27                 0      1909             0    98112  47.6221 -122.314   \n",
       "28               730      1948             0    98115  47.6950 -122.304   \n",
       "29                 0      2005             0    98052  47.7073 -122.110   \n",
       "...              ...       ...           ...      ...      ...      ...   \n",
       "21583              0      1943             0    98102  47.6413 -122.329   \n",
       "21584            320      2007             0    98116  47.5621 -122.384   \n",
       "21585              0      2009             0    98042  47.3339 -122.055   \n",
       "21586              0      2009             0    98107  47.6707 -122.381   \n",
       "21587              0      2006             0    98125  47.7337 -122.309   \n",
       "21588            190      2007             0    98117  47.6756 -122.375   \n",
       "21589              0      2010             0    98038  47.3452 -122.022   \n",
       "21590           1800      2007             0    98074  47.6502 -122.066   \n",
       "21591              0      2014             0    98178  47.5001 -122.232   \n",
       "21592              0      2008             0    98103  47.6542 -122.346   \n",
       "21593              0      2006             0    98056  47.5354 -122.181   \n",
       "21594              0      2008             0    98042  47.3749 -122.107   \n",
       "21595             50      2006             0    98103  47.6533 -122.346   \n",
       "21596              0      2014             0    98059  47.4822 -122.131   \n",
       "21597              0      2007             0    98040  47.5653 -122.223   \n",
       "21598              0      2014             0    98001  47.2931 -122.264   \n",
       "21599              0      2003             0    98053  47.6857 -122.046   \n",
       "21600              0      2008             0    98004  47.6321 -122.200   \n",
       "21601              0      2008             0    98125  47.6963 -122.318   \n",
       "21602              0      2014             0    98010  47.3095 -122.002   \n",
       "21603              0      2003             0    98065  47.5389 -121.881   \n",
       "21604              0      2014             0    98144  47.5699 -122.288   \n",
       "21605              0      2014             0    98056  47.5137 -122.167   \n",
       "21606            910      2009             0    98136  47.5537 -122.398   \n",
       "21607            130      2008             0    98116  47.5773 -122.409   \n",
       "21608              0      2009             0    98103  47.6993 -122.346   \n",
       "21609              0      2014             0    98146  47.5107 -122.362   \n",
       "21610              0      2009             0    98144  47.5944 -122.299   \n",
       "21611              0      2004             0    98027  47.5345 -122.069   \n",
       "21612              0      2008             0    98144  47.5941 -122.299   \n",
       "\n",
       "       sqft_living15  sqft_lot15  \n",
       "0               1340        5650  \n",
       "1               1690        7639  \n",
       "2               2720        8062  \n",
       "3               1360        5000  \n",
       "4               1800        7503  \n",
       "5               4760      101930  \n",
       "6               2238        6819  \n",
       "7               1650        9711  \n",
       "8               1780        8113  \n",
       "9               2390        7570  \n",
       "10              2210        8925  \n",
       "11              1330        6000  \n",
       "12              1780       12697  \n",
       "13              1370       10208  \n",
       "14              1360        4850  \n",
       "15              2140        4000  \n",
       "16              1890       14018  \n",
       "17              1610        4300  \n",
       "18              1060        5095  \n",
       "19              1280        8850  \n",
       "20              1400        4980  \n",
       "21              4110       20336  \n",
       "22              2240        7005  \n",
       "23              1220        8386  \n",
       "24              2200        6865  \n",
       "25              1030        4705  \n",
       "26              1760        3573  \n",
       "27              1860        3861  \n",
       "28              1520        6235  \n",
       "29              2630        6026  \n",
       "...              ...         ...  \n",
       "21583           1370        1173  \n",
       "21584           1310        1415  \n",
       "21585           2170        5399  \n",
       "21586           1430        1249  \n",
       "21587           1520        1497  \n",
       "21588           1210        1118  \n",
       "21589           2540        4571  \n",
       "21590           4560       11063  \n",
       "21591           1810        5641  \n",
       "21592           1180        1224  \n",
       "21593           3030        7980  \n",
       "21594           2530        5988  \n",
       "21595           1530        1282  \n",
       "21596           3550        9421  \n",
       "21597           2290       10125  \n",
       "21598           2673        6500  \n",
       "21599           3370        6814  \n",
       "21600           2780        8964  \n",
       "21601           1285        1253  \n",
       "21602           1320       11303  \n",
       "21603           2270        5731  \n",
       "21604           1400        1230  \n",
       "21605           2520        6023  \n",
       "21606           2050        6200  \n",
       "21607           1330        1265  \n",
       "21608           1530        1509  \n",
       "21609           1830        7200  \n",
       "21610           1020        2007  \n",
       "21611           1410        1287  \n",
       "21612           1020        1357  \n",
       "\n",
       "[21613 rows x 21 columns]"
      ]
     },
     "execution_count": 28,
     "metadata": {},
     "output_type": "execute_result"
    }
   ],
   "source": [
    "sales"
   ]
  },
  {
   "cell_type": "markdown",
   "metadata": {},
   "source": [
    "# Exploratory Analysis with a simple regression model and some visualization"
   ]
  },
  {
   "cell_type": "code",
   "execution_count": 20,
   "metadata": {
    "collapsed": false
   },
   "outputs": [
    {
     "data": {
      "text/plain": [
       "21613"
      ]
     },
     "execution_count": 20,
     "metadata": {},
     "output_type": "execute_result"
    }
   ],
   "source": [
    "len(sales)"
   ]
  },
  {
   "cell_type": "code",
   "execution_count": 21,
   "metadata": {
    "collapsed": false
   },
   "outputs": [],
   "source": [
    "train_data = sales.sample(frac=0.8)"
   ]
  },
  {
   "cell_type": "code",
   "execution_count": 22,
   "metadata": {
    "collapsed": false
   },
   "outputs": [
    {
     "data": {
      "text/plain": [
       "17290"
      ]
     },
     "execution_count": 22,
     "metadata": {},
     "output_type": "execute_result"
    }
   ],
   "source": [
    "len(train_data) "
   ]
  },
  {
   "cell_type": "code",
   "execution_count": 23,
   "metadata": {
    "collapsed": true
   },
   "outputs": [],
   "source": [
    "test_data, train_data = train_test_split(sales, test_size=0.8, random_state=42)"
   ]
  },
  {
   "cell_type": "code",
   "execution_count": 24,
   "metadata": {
    "collapsed": false
   },
   "outputs": [
    {
     "data": {
      "text/plain": [
       "17291"
      ]
     },
     "execution_count": 24,
     "metadata": {},
     "output_type": "execute_result"
    }
   ],
   "source": [
    "len(train_data)"
   ]
  },
  {
   "cell_type": "code",
   "execution_count": 25,
   "metadata": {
    "collapsed": false
   },
   "outputs": [
    {
     "data": {
      "text/plain": [
       "4322"
      ]
     },
     "execution_count": 25,
     "metadata": {},
     "output_type": "execute_result"
    }
   ],
   "source": [
    "len(test_data)"
   ]
  },
  {
   "cell_type": "code",
   "execution_count": 29,
   "metadata": {
    "collapsed": false
   },
   "outputs": [
    {
     "data": {
      "text/plain": [
       "<matplotlib.axes._subplots.AxesSubplot at 0x1adaa588>"
      ]
     },
     "execution_count": 29,
     "metadata": {},
     "output_type": "execute_result"
    },
    {
     "data": {
      "image/png": "[encoded data removed]",
      "text/plain": [
       "<matplotlib.figure.Figure at 0x3b97a20>"
      ]
     },
     "metadata": {},
     "output_type": "display_data"
    }
   ],
   "source": [
    "sns.regplot(x=\"sqft_living\", y=\"price\", data=sales)"
   ]
  },
  {
   "cell_type": "code",
   "execution_count": 30,
   "metadata": {
    "collapsed": true
   },
   "outputs": [],
   "source": [
    "regr_one_feature = linear_model.LinearRegression()"
   ]
  },
  {
   "cell_type": "code",
   "execution_count": 31,
   "metadata": {
    "collapsed": true
   },
   "outputs": [],
   "source": [
    "train_data_features = train_data[\"sqft_living\"].values"
   ]
  },
  {
   "cell_type": "code",
   "execution_count": 32,
   "metadata": {
    "collapsed": false
   },
   "outputs": [
    {
     "data": {
      "text/plain": [
       "array([2070, 2900, 3770, ..., 1900, 1330, 2830], dtype=int64)"
      ]
     },
     "execution_count": 32,
     "metadata": {},
     "output_type": "execute_result"
    }
   ],
   "source": [
    "train_data_features"
   ]
  },
  {
   "cell_type": "code",
   "execution_count": 33,
   "metadata": {
    "collapsed": true
   },
   "outputs": [],
   "source": [
    "train_data_targets = train_data[\"price\"].values"
   ]
  },
  {
   "cell_type": "code",
   "execution_count": 34,
   "metadata": {
    "collapsed": false
   },
   "outputs": [
    {
     "data": {
      "text/plain": [
       "(17291L,)"
      ]
     },
     "execution_count": 34,
     "metadata": {},
     "output_type": "execute_result"
    }
   ],
   "source": [
    "train_data.sqft_living.shape"
   ]
  },
  {
   "cell_type": "code",
   "execution_count": 35,
   "metadata": {
    "collapsed": true
   },
   "outputs": [],
   "source": [
    "training_data_features = np.array([train_data.sqft_living]).T"
   ]
  },
  {
   "cell_type": "code",
   "execution_count": 36,
   "metadata": {
    "collapsed": false
   },
   "outputs": [
    {
     "data": {
      "text/plain": [
       "(17291L, 1L)"
      ]
     },
     "execution_count": 36,
     "metadata": {},
     "output_type": "execute_result"
    }
   ],
   "source": [
    "training_data_features.shape"
   ]
  },
  {
   "cell_type": "code",
   "execution_count": 37,
   "metadata": {
    "collapsed": true
   },
   "outputs": [],
   "source": [
    "training_data_targets = np.array([train_data.price]).T"
   ]
  },
  {
   "cell_type": "code",
   "execution_count": 38,
   "metadata": {
    "collapsed": false
   },
   "outputs": [
    {
     "data": {
      "text/plain": [
       "LinearRegression(copy_X=True, fit_intercept=True, n_jobs=1, normalize=False)"
      ]
     },
     "execution_count": 38,
     "metadata": {},
     "output_type": "execute_result"
    }
   ],
   "source": [
    "regr_one_feature.fit(training_data_features, training_data_targets)"
   ]
  },
  {
   "cell_type": "code",
   "execution_count": 39,
   "metadata": {
    "collapsed": false
   },
   "outputs": [
    {
     "data": {
      "text/plain": [
       "array([[ 285.46625209]])"
      ]
     },
     "execution_count": 39,
     "metadata": {},
     "output_type": "execute_result"
    }
   ],
   "source": [
    "regr_one_feature.coef_"
   ]
  },
  {
   "cell_type": "code",
   "execution_count": 40,
   "metadata": {
    "collapsed": true
   },
   "outputs": [],
   "source": [
    "test_data_features = np.array([test_data.sqft_living]).T\n",
    "test_data_targets = np.array([test_data.price]).T"
   ]
  },
  {
   "cell_type": "code",
   "execution_count": 41,
   "metadata": {
    "collapsed": false
   },
   "outputs": [
    {
     "data": {
      "text/plain": [
       "0.48194026314776217"
      ]
     },
     "execution_count": 41,
     "metadata": {},
     "output_type": "execute_result"
    }
   ],
   "source": [
    "regr_one_feature.score(test_data_features, test_data_targets)"
   ]
  },
  {
   "cell_type": "code",
   "execution_count": 42,
   "metadata": {
    "collapsed": false
   },
   "outputs": [
    {
     "data": {
      "text/plain": [
       "537485.24132346141"
      ]
     },
     "execution_count": 42,
     "metadata": {},
     "output_type": "execute_result"
    }
   ],
   "source": [
    "test_data_targets.mean()"
   ]
  },
  {
   "cell_type": "code",
   "execution_count": 43,
   "metadata": {
    "collapsed": false
   },
   "outputs": [
    {
     "data": {
      "text/plain": [
       "245633.80127667196"
      ]
     },
     "execution_count": 43,
     "metadata": {},
     "output_type": "execute_result"
    }
   ],
   "source": [
    "math.sqrt(np.mean((regr_one_feature.predict(test_data_features) - test_data_targets) ** 2))"
   ]
  },
  {
   "cell_type": "code",
   "execution_count": 46,
   "metadata": {
    "collapsed": false
   },
   "outputs": [
    {
     "data": {
      "text/plain": [
       "60335964329.627571"
      ]
     },
     "execution_count": 46,
     "metadata": {},
     "output_type": "execute_result"
    }
   ],
   "source": [
    "mean_squared_error(test_data_targets, regr_one_feature.predict(test_data_features))"
   ]
  },
  {
   "cell_type": "code",
   "execution_count": 47,
   "metadata": {
    "collapsed": false
   },
   "outputs": [
    {
     "data": {
      "text/plain": [
       "0.48194814033845246"
      ]
     },
     "execution_count": 47,
     "metadata": {},
     "output_type": "execute_result"
    }
   ],
   "source": [
    "explained_variance_score(test_data_targets, regr_one_feature.predict(test_data_features))"
   ]
  },
  {
   "cell_type": "code",
   "execution_count": 48,
   "metadata": {
    "collapsed": false
   },
   "outputs": [
    {
     "data": {
      "text/plain": [
       "174470.84809298237"
      ]
     },
     "execution_count": 48,
     "metadata": {},
     "output_type": "execute_result"
    }
   ],
   "source": [
    "mean_absolute_error(test_data_targets, regr_one_feature.predict(test_data_features))"
   ]
  },
  {
   "cell_type": "code",
   "execution_count": 49,
   "metadata": {
    "collapsed": false
   },
   "outputs": [
    {
     "data": {
      "text/plain": [
       "131779.3383160228"
      ]
     },
     "execution_count": 49,
     "metadata": {},
     "output_type": "execute_result"
    }
   ],
   "source": [
    "median_absolute_error(test_data_targets, regr_one_feature.predict(test_data_features))"
   ]
  },
  {
   "cell_type": "code",
   "execution_count": 51,
   "metadata": {
    "collapsed": false
   },
   "outputs": [
    {
     "data": {
      "text/plain": [
       "[<matplotlib.lines.Line2D at 0x1f1ab748>]"
      ]
     },
     "execution_count": 51,
     "metadata": {},
     "output_type": "execute_result"
    },
    {
     "data": {
      "image/png": "[encoded data removed]",
      "text/plain": [
       "<matplotlib.figure.Figure at 0x1f366fd0>"
      ]
     },
     "metadata": {},
     "output_type": "display_data"
    }
   ],
   "source": [
    "plt.scatter(test_data_features, test_data_targets, color='black')\n",
    "plt.plot(test_data_features, regr_one_feature.predict(test_data_features), color='blue', linewidth=3)"
   ]
  },
  {
   "cell_type": "code",
   "execution_count": 54,
   "metadata": {
    "collapsed": false
   },
   "outputs": [
    {
     "data": {
      "text/plain": [
       "array([  4.00000000e+00,   2.25000000e+00,   2.07000000e+03,\n",
       "         8.89300000e+03,   2.00000000e+00,   9.80580000e+04])"
      ]
     },
     "execution_count": 54,
     "metadata": {},
     "output_type": "execute_result"
    }
   ],
   "source": [
    "training_data_many_features = train_data[['bedrooms', 'bathrooms', 'sqft_living', 'sqft_lot', 'floors', 'zipcode']].values\n",
    "training_data_many_features[0]\n"
   ]
  },
  {
   "cell_type": "code",
   "execution_count": 55,
   "metadata": {
    "collapsed": false
   },
   "outputs": [
    {
     "data": {
      "text/plain": [
       "(17291L, 6L)"
      ]
     },
     "execution_count": 55,
     "metadata": {},
     "output_type": "execute_result"
    }
   ],
   "source": [
    "training_data_many_features.shape"
   ]
  },
  {
   "cell_type": "code",
   "execution_count": 56,
   "metadata": {
    "collapsed": false
   },
   "outputs": [
    {
     "data": {
      "image/png": "[encoded data removed]",
      "text/plain": [
       "<matplotlib.figure.Figure at 0x1f807e48>"
      ]
     },
     "metadata": {},
     "output_type": "display_data"
    }
   ],
   "source": [
    "plot = sns.boxplot(x=\"zipcode\", y=\"price\", data=sales)"
   ]
  },
  {
   "cell_type": "code",
   "execution_count": 57,
   "metadata": {
    "collapsed": false
   },
   "outputs": [
    {
     "data": {
      "text/plain": [
       "LinearRegression(copy_X=True, fit_intercept=True, n_jobs=1, normalize=False)"
      ]
     },
     "execution_count": 57,
     "metadata": {},
     "output_type": "execute_result"
    }
   ],
   "source": [
    "regr_many_features = linear_model.LinearRegression()\n",
    "regr_many_features.fit(training_data_many_features, training_data_targets)"
   ]
  },
  {
   "cell_type": "code",
   "execution_count": 58,
   "metadata": {
    "collapsed": true
   },
   "outputs": [],
   "source": [
    "test_data_many_features = test_data[['bedrooms', 'bathrooms', 'sqft_living', 'sqft_lot', 'floors', 'zipcode']].values"
   ]
  },
  {
   "cell_type": "code",
   "execution_count": 59,
   "metadata": {
    "collapsed": false
   },
   "outputs": [
    {
     "data": {
      "text/plain": [
       "57734871610.535263"
      ]
     },
     "execution_count": 59,
     "metadata": {},
     "output_type": "execute_result"
    }
   ],
   "source": [
    "mean_squared_error(test_data_targets, regr_many_features.predict(test_data_many_features))"
   ]
  },
  {
   "cell_type": "code",
   "execution_count": 60,
   "metadata": {
    "collapsed": false
   },
   "outputs": [
    {
     "data": {
      "text/plain": [
       "0.50427726742404655"
      ]
     },
     "execution_count": 60,
     "metadata": {},
     "output_type": "execute_result"
    }
   ],
   "source": [
    "explained_variance_score(test_data_targets, regr_many_features.predict(test_data_many_features))"
   ]
  },
  {
   "cell_type": "code",
   "execution_count": 61,
   "metadata": {
    "collapsed": false
   },
   "outputs": [
    {
     "data": {
      "text/plain": [
       "167971.64893497786"
      ]
     },
     "execution_count": 61,
     "metadata": {},
     "output_type": "execute_result"
    }
   ],
   "source": [
    "mean_absolute_error(test_data_targets, regr_many_features.predict(test_data_many_features))"
   ]
  },
  {
   "cell_type": "code",
   "execution_count": 62,
   "metadata": {
    "collapsed": false
   },
   "outputs": [
    {
     "data": {
      "text/plain": [
       "123288.06139751896"
      ]
     },
     "execution_count": 62,
     "metadata": {},
     "output_type": "execute_result"
    }
   ],
   "source": [
    "median_absolute_error(test_data_targets, regr_many_features.predict(test_data_many_features))"
   ]
  },
  {
   "cell_type": "code",
   "execution_count": 63,
   "metadata": {
    "collapsed": true
   },
   "outputs": [],
   "source": [
    "house1 = sales.loc[sales['id'] == 5309101200]"
   ]
  },
  {
   "cell_type": "code",
   "execution_count": 64,
   "metadata": {
    "collapsed": false
   },
   "outputs": [
    {
     "data": {
      "text/html": [
       "<div>\n",
       "<table border=\"1\" class=\"dataframe\">\n",
       "  <thead>\n",
       "    <tr style=\"text-align: right;\">\n",
       "      <th></th>\n",
       "      <th>id</th>\n",
       "      <th>date</th>\n",
       "      <th>price</th>\n",
       "      <th>bedrooms</th>\n",
       "      <th>bathrooms</th>\n",
       "      <th>sqft_living</th>\n",
       "      <th>sqft_lot</th>\n",
       "      <th>floors</th>\n",
       "      <th>waterfront</th>\n",
       "      <th>view</th>\n",
       "      <th>...</th>\n",
       "      <th>grade</th>\n",
       "      <th>sqft_above</th>\n",
       "      <th>sqft_basement</th>\n",
       "      <th>yr_built</th>\n",
       "      <th>yr_renovated</th>\n",
       "      <th>zipcode</th>\n",
       "      <th>lat</th>\n",
       "      <th>long</th>\n",
       "      <th>sqft_living15</th>\n",
       "      <th>sqft_lot15</th>\n",
       "    </tr>\n",
       "  </thead>\n",
       "  <tbody>\n",
       "    <tr>\n",
       "      <th>1054</th>\n",
       "      <td>5309101200</td>\n",
       "      <td>20140605T000000</td>\n",
       "      <td>620000</td>\n",
       "      <td>4</td>\n",
       "      <td>2.25</td>\n",
       "      <td>2400</td>\n",
       "      <td>5350</td>\n",
       "      <td>1.5</td>\n",
       "      <td>0</td>\n",
       "      <td>0</td>\n",
       "      <td>...</td>\n",
       "      <td>7</td>\n",
       "      <td>1460</td>\n",
       "      <td>940</td>\n",
       "      <td>1929</td>\n",
       "      <td>0</td>\n",
       "      <td>98117</td>\n",
       "      <td>47.6763</td>\n",
       "      <td>-122.37</td>\n",
       "      <td>1250</td>\n",
       "      <td>4880</td>\n",
       "    </tr>\n",
       "  </tbody>\n",
       "</table>\n",
       "<p>1 rows × 21 columns</p>\n",
       "</div>"
      ],
      "text/plain": [
       "              id             date   price  bedrooms  bathrooms  sqft_living  \\\n",
       "1054  5309101200  20140605T000000  620000         4       2.25         2400   \n",
       "\n",
       "      sqft_lot  floors  waterfront  view     ...      grade  sqft_above  \\\n",
       "1054      5350     1.5           0     0     ...          7        1460   \n",
       "\n",
       "      sqft_basement  yr_built  yr_renovated  zipcode      lat    long  \\\n",
       "1054            940      1929             0    98117  47.6763 -122.37   \n",
       "\n",
       "      sqft_living15  sqft_lot15  \n",
       "1054           1250        4880  \n",
       "\n",
       "[1 rows x 21 columns]"
      ]
     },
     "execution_count": 64,
     "metadata": {},
     "output_type": "execute_result"
    }
   ],
   "source": [
    "house1"
   ]
  },
  {
   "cell_type": "code",
   "execution_count": 65,
   "metadata": {
    "collapsed": true
   },
   "outputs": [],
   "source": [
    "house1_one_feature = house1[['sqft_living']].values\n",
    "house1_many_features = house1[['bedrooms', 'bathrooms', 'sqft_living', 'sqft_lot', 'floors', 'zipcode']].values"
   ]
  },
  {
   "cell_type": "code",
   "execution_count": 66,
   "metadata": {
    "collapsed": false
   },
   "outputs": [
    {
     "name": "stdout",
     "output_type": "stream",
     "text": [
      "[620000]\n"
     ]
    }
   ],
   "source": [
    "print house1.price.values"
   ]
  },
  {
   "cell_type": "code",
   "execution_count": 67,
   "metadata": {
    "collapsed": false
   },
   "outputs": [
    {
     "data": {
      "text/plain": [
       "array([[ 631657.50189038]])"
      ]
     },
     "execution_count": 67,
     "metadata": {},
     "output_type": "execute_result"
    }
   ],
   "source": [
    "regr_one_feature.predict(house1_one_feature)"
   ]
  },
  {
   "cell_type": "code",
   "execution_count": 68,
   "metadata": {
    "collapsed": false
   },
   "outputs": [
    {
     "data": {
      "text/plain": [
       "array([[ 634705.31641817]])"
      ]
     },
     "execution_count": 68,
     "metadata": {},
     "output_type": "execute_result"
    }
   ],
   "source": [
    "regr_many_features.predict(house1_many_features)"
   ]
  },
  {
   "cell_type": "code",
   "execution_count": 69,
   "metadata": {
    "collapsed": true
   },
   "outputs": [],
   "source": [
    "bill_gates = {'bedrooms':[8], \n",
    "              'bathrooms':[25], \n",
    "              'sqft_living':[50000], \n",
    "              'sqft_lot':[225000],\n",
    "              'floors':[4], \n",
    "              'zipcode':['98039'], \n",
    "              'condition':[10], \n",
    "              'grade':[10],\n",
    "              'waterfront':[1],\n",
    "              'view':[4],\n",
    "              'sqft_above':[37500],\n",
    "              'sqft_basement':[12500],\n",
    "              'yr_built':[1994],\n",
    "              'yr_renovated':[2010],\n",
    "              'lat':[47.627606],\n",
    "              'long':[-122.242054],\n",
    "              'sqft_living15':[5000],\n",
    "              'sqft_lot15':[40000]}"
   ]
  },
  {
   "cell_type": "code",
   "execution_count": 74,
   "metadata": {
    "collapsed": true
   },
   "outputs": [],
   "source": [
    "house2 = pandas.DataFrame(data=bill_gates)"
   ]
  },
  {
   "cell_type": "code",
   "execution_count": 75,
   "metadata": {
    "collapsed": false
   },
   "outputs": [],
   "source": [
    "house2_many_features = house2[['bedrooms', 'bathrooms', 'sqft_living', 'sqft_lot', 'floors', 'zipcode']].values"
   ]
  },
  {
   "cell_type": "code",
   "execution_count": 77,
   "metadata": {
    "collapsed": false
   },
   "outputs": [
    {
     "data": {
      "text/plain": [
       "array([[ 15861206.91985303]])"
      ]
     },
     "execution_count": 77,
     "metadata": {},
     "output_type": "execute_result"
    }
   ],
   "source": [
    "regr_many_features.predict(house2_many_features)"
   ]
  },
  {
   "cell_type": "code",
   "execution_count": 78,
   "metadata": {
    "collapsed": false
   },
   "outputs": [
    {
     "data": {
      "text/plain": [
       "u'C:\\\\Users\\\\suh0902\\\\Desktop\\\\CP\\\\dataset'"
      ]
     },
     "execution_count": 78,
     "metadata": {},
     "output_type": "execute_result"
    }
   ],
   "source": [
    "pwd\n"
   ]
  },
  {
   "cell_type": "code",
   "execution_count": null,
   "metadata": {
    "collapsed": true
   },
   "outputs": [],
   "source": []
  }
 ],
 "metadata": {
  "kernelspec": {
   "display_name": "Python 2",
   "language": "python",
   "name": "python2"
  },
  "language_info": {
   "codemirror_mode": {
    "name": "ipython",
    "version": 2
   },
   "file_extension": ".py",
   "mimetype": "text/x-python",
   "name": "python",
   "nbconvert_exporter": "python",
   "pygments_lexer": "ipython2",
   "version": "2.7.10"
  }
 },
 "nbformat": 4,
 "nbformat_minor": 0
}
